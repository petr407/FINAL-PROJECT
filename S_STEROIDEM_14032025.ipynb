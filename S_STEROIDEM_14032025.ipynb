{
 "cells": [
  {
   "cell_type": "code",
   "execution_count": 1,
   "id": "e2f85d1e-2300-436c-bc97-c1808d2edccd",
   "metadata": {
    "colab": {
     "base_uri": "https://localhost:8080/"
    },
    "id": "e2f85d1e-2300-436c-bc97-c1808d2edccd",
    "outputId": "0f0a1c51-31c4-4bd5-d8b0-e9a5b8386504"
   },
   "outputs": [
    {
     "name": "stdout",
     "output_type": "stream",
     "text": [
      "Requirement already satisfied: deepface in c:\\users\\zitao\\anaconda3\\lib\\site-packages (0.0.93)\n",
      "Requirement already satisfied: requests>=2.27.1 in c:\\users\\zitao\\anaconda3\\lib\\site-packages (from deepface) (2.32.3)\n",
      "Requirement already satisfied: numpy>=1.14.0 in c:\\users\\zitao\\anaconda3\\lib\\site-packages (from deepface) (1.26.4)\n",
      "Requirement already satisfied: pandas>=0.23.4 in c:\\users\\zitao\\anaconda3\\lib\\site-packages (from deepface) (2.2.2)\n",
      "Requirement already satisfied: gdown>=3.10.1 in c:\\users\\zitao\\anaconda3\\lib\\site-packages (from deepface) (5.2.0)\n",
      "Requirement already satisfied: tqdm>=4.30.0 in c:\\users\\zitao\\anaconda3\\lib\\site-packages (from deepface) (4.66.5)\n",
      "Requirement already satisfied: Pillow>=5.2.0 in c:\\users\\zitao\\anaconda3\\lib\\site-packages (from deepface) (10.4.0)\n",
      "Requirement already satisfied: opencv-python>=4.5.5.64 in c:\\users\\zitao\\anaconda3\\lib\\site-packages (from deepface) (4.11.0.86)\n",
      "Requirement already satisfied: tensorflow>=1.9.0 in c:\\users\\zitao\\anaconda3\\lib\\site-packages (from deepface) (2.18.0)\n",
      "Requirement already satisfied: keras>=2.2.0 in c:\\users\\zitao\\anaconda3\\lib\\site-packages (from deepface) (3.8.0)\n",
      "Requirement already satisfied: Flask>=1.1.2 in c:\\users\\zitao\\anaconda3\\lib\\site-packages (from deepface) (3.0.3)\n",
      "Requirement already satisfied: flask-cors>=4.0.1 in c:\\users\\zitao\\anaconda3\\lib\\site-packages (from deepface) (5.0.1)\n",
      "Requirement already satisfied: mtcnn>=0.1.0 in c:\\users\\zitao\\anaconda3\\lib\\site-packages (from deepface) (1.0.0)\n",
      "Requirement already satisfied: retina-face>=0.0.1 in c:\\users\\zitao\\anaconda3\\lib\\site-packages (from deepface) (0.0.17)\n",
      "Requirement already satisfied: fire>=0.4.0 in c:\\users\\zitao\\anaconda3\\lib\\site-packages (from deepface) (0.7.0)\n",
      "Requirement already satisfied: gunicorn>=20.1.0 in c:\\users\\zitao\\anaconda3\\lib\\site-packages (from deepface) (23.0.0)\n",
      "Requirement already satisfied: termcolor in c:\\users\\zitao\\anaconda3\\lib\\site-packages (from fire>=0.4.0->deepface) (2.5.0)\n",
      "Requirement already satisfied: Werkzeug>=3.0.0 in c:\\users\\zitao\\anaconda3\\lib\\site-packages (from Flask>=1.1.2->deepface) (3.0.3)\n",
      "Requirement already satisfied: Jinja2>=3.1.2 in c:\\users\\zitao\\anaconda3\\lib\\site-packages (from Flask>=1.1.2->deepface) (3.1.4)\n",
      "Requirement already satisfied: itsdangerous>=2.1.2 in c:\\users\\zitao\\anaconda3\\lib\\site-packages (from Flask>=1.1.2->deepface) (2.2.0)\n",
      "Requirement already satisfied: click>=8.1.3 in c:\\users\\zitao\\anaconda3\\lib\\site-packages (from Flask>=1.1.2->deepface) (8.1.7)\n",
      "Requirement already satisfied: blinker>=1.6.2 in c:\\users\\zitao\\anaconda3\\lib\\site-packages (from Flask>=1.1.2->deepface) (1.6.2)\n",
      "Requirement already satisfied: beautifulsoup4 in c:\\users\\zitao\\anaconda3\\lib\\site-packages (from gdown>=3.10.1->deepface) (4.12.3)\n",
      "Requirement already satisfied: filelock in c:\\users\\zitao\\anaconda3\\lib\\site-packages (from gdown>=3.10.1->deepface) (3.13.1)\n",
      "Requirement already satisfied: packaging in c:\\users\\zitao\\anaconda3\\lib\\site-packages (from gunicorn>=20.1.0->deepface) (24.1)\n",
      "Requirement already satisfied: absl-py in c:\\users\\zitao\\anaconda3\\lib\\site-packages (from keras>=2.2.0->deepface) (2.1.0)\n",
      "Requirement already satisfied: rich in c:\\users\\zitao\\anaconda3\\lib\\site-packages (from keras>=2.2.0->deepface) (13.7.1)\n",
      "Requirement already satisfied: namex in c:\\users\\zitao\\anaconda3\\lib\\site-packages (from keras>=2.2.0->deepface) (0.0.8)\n",
      "Requirement already satisfied: h5py in c:\\users\\zitao\\anaconda3\\lib\\site-packages (from keras>=2.2.0->deepface) (3.11.0)\n",
      "Requirement already satisfied: optree in c:\\users\\zitao\\anaconda3\\lib\\site-packages (from keras>=2.2.0->deepface) (0.14.0)\n",
      "Requirement already satisfied: ml-dtypes in c:\\users\\zitao\\anaconda3\\lib\\site-packages (from keras>=2.2.0->deepface) (0.4.1)\n",
      "Requirement already satisfied: joblib>=1.4.2 in c:\\users\\zitao\\anaconda3\\lib\\site-packages (from mtcnn>=0.1.0->deepface) (1.4.2)\n",
      "Requirement already satisfied: lz4>=4.3.3 in c:\\users\\zitao\\anaconda3\\lib\\site-packages (from mtcnn>=0.1.0->deepface) (4.4.3)\n",
      "Requirement already satisfied: python-dateutil>=2.8.2 in c:\\users\\zitao\\anaconda3\\lib\\site-packages (from pandas>=0.23.4->deepface) (2.9.0.post0)\n",
      "Requirement already satisfied: pytz>=2020.1 in c:\\users\\zitao\\anaconda3\\lib\\site-packages (from pandas>=0.23.4->deepface) (2024.1)\n",
      "Requirement already satisfied: tzdata>=2022.7 in c:\\users\\zitao\\anaconda3\\lib\\site-packages (from pandas>=0.23.4->deepface) (2023.3)\n",
      "Requirement already satisfied: charset-normalizer<4,>=2 in c:\\users\\zitao\\anaconda3\\lib\\site-packages (from requests>=2.27.1->deepface) (3.3.2)\n",
      "Requirement already satisfied: idna<4,>=2.5 in c:\\users\\zitao\\anaconda3\\lib\\site-packages (from requests>=2.27.1->deepface) (3.7)\n",
      "Requirement already satisfied: urllib3<3,>=1.21.1 in c:\\users\\zitao\\anaconda3\\lib\\site-packages (from requests>=2.27.1->deepface) (2.2.3)\n",
      "Requirement already satisfied: certifi>=2017.4.17 in c:\\users\\zitao\\anaconda3\\lib\\site-packages (from requests>=2.27.1->deepface) (2025.1.31)\n",
      "Requirement already satisfied: tensorflow-intel==2.18.0 in c:\\users\\zitao\\anaconda3\\lib\\site-packages (from tensorflow>=1.9.0->deepface) (2.18.0)\n",
      "Requirement already satisfied: astunparse>=1.6.0 in c:\\users\\zitao\\anaconda3\\lib\\site-packages (from tensorflow-intel==2.18.0->tensorflow>=1.9.0->deepface) (1.6.3)\n",
      "Requirement already satisfied: flatbuffers>=24.3.25 in c:\\users\\zitao\\anaconda3\\lib\\site-packages (from tensorflow-intel==2.18.0->tensorflow>=1.9.0->deepface) (25.2.10)\n",
      "Requirement already satisfied: gast!=0.5.0,!=0.5.1,!=0.5.2,>=0.2.1 in c:\\users\\zitao\\anaconda3\\lib\\site-packages (from tensorflow-intel==2.18.0->tensorflow>=1.9.0->deepface) (0.6.0)\n",
      "Requirement already satisfied: google-pasta>=0.1.1 in c:\\users\\zitao\\anaconda3\\lib\\site-packages (from tensorflow-intel==2.18.0->tensorflow>=1.9.0->deepface) (0.2.0)\n",
      "Requirement already satisfied: libclang>=13.0.0 in c:\\users\\zitao\\anaconda3\\lib\\site-packages (from tensorflow-intel==2.18.0->tensorflow>=1.9.0->deepface) (18.1.1)\n",
      "Requirement already satisfied: opt-einsum>=2.3.2 in c:\\users\\zitao\\anaconda3\\lib\\site-packages (from tensorflow-intel==2.18.0->tensorflow>=1.9.0->deepface) (3.4.0)\n",
      "Requirement already satisfied: protobuf!=4.21.0,!=4.21.1,!=4.21.2,!=4.21.3,!=4.21.4,!=4.21.5,<6.0.0dev,>=3.20.3 in c:\\users\\zitao\\anaconda3\\lib\\site-packages (from tensorflow-intel==2.18.0->tensorflow>=1.9.0->deepface) (4.25.3)\n",
      "Requirement already satisfied: setuptools in c:\\users\\zitao\\anaconda3\\lib\\site-packages (from tensorflow-intel==2.18.0->tensorflow>=1.9.0->deepface) (75.1.0)\n",
      "Requirement already satisfied: six>=1.12.0 in c:\\users\\zitao\\anaconda3\\lib\\site-packages (from tensorflow-intel==2.18.0->tensorflow>=1.9.0->deepface) (1.16.0)\n",
      "Requirement already satisfied: typing-extensions>=3.6.6 in c:\\users\\zitao\\anaconda3\\lib\\site-packages (from tensorflow-intel==2.18.0->tensorflow>=1.9.0->deepface) (4.11.0)\n",
      "Requirement already satisfied: wrapt>=1.11.0 in c:\\users\\zitao\\anaconda3\\lib\\site-packages (from tensorflow-intel==2.18.0->tensorflow>=1.9.0->deepface) (1.14.1)\n",
      "Requirement already satisfied: grpcio<2.0,>=1.24.3 in c:\\users\\zitao\\anaconda3\\lib\\site-packages (from tensorflow-intel==2.18.0->tensorflow>=1.9.0->deepface) (1.70.0)\n",
      "Requirement already satisfied: tensorboard<2.19,>=2.18 in c:\\users\\zitao\\anaconda3\\lib\\site-packages (from tensorflow-intel==2.18.0->tensorflow>=1.9.0->deepface) (2.18.0)\n",
      "Requirement already satisfied: colorama in c:\\users\\zitao\\anaconda3\\lib\\site-packages (from tqdm>=4.30.0->deepface) (0.4.6)\n",
      "Requirement already satisfied: MarkupSafe>=2.0 in c:\\users\\zitao\\anaconda3\\lib\\site-packages (from Jinja2>=3.1.2->Flask>=1.1.2->deepface) (2.1.3)\n",
      "Requirement already satisfied: soupsieve>1.2 in c:\\users\\zitao\\anaconda3\\lib\\site-packages (from beautifulsoup4->gdown>=3.10.1->deepface) (2.5)\n",
      "Requirement already satisfied: PySocks!=1.5.7,>=1.5.6 in c:\\users\\zitao\\anaconda3\\lib\\site-packages (from requests[socks]->gdown>=3.10.1->deepface) (1.7.1)\n",
      "Requirement already satisfied: markdown-it-py>=2.2.0 in c:\\users\\zitao\\anaconda3\\lib\\site-packages (from rich->keras>=2.2.0->deepface) (2.2.0)\n",
      "Requirement already satisfied: pygments<3.0.0,>=2.13.0 in c:\\users\\zitao\\anaconda3\\lib\\site-packages (from rich->keras>=2.2.0->deepface) (2.15.1)\n",
      "Requirement already satisfied: wheel<1.0,>=0.23.0 in c:\\users\\zitao\\anaconda3\\lib\\site-packages (from astunparse>=1.6.0->tensorflow-intel==2.18.0->tensorflow>=1.9.0->deepface) (0.44.0)\n",
      "Requirement already satisfied: mdurl~=0.1 in c:\\users\\zitao\\anaconda3\\lib\\site-packages (from markdown-it-py>=2.2.0->rich->keras>=2.2.0->deepface) (0.1.0)\n",
      "Requirement already satisfied: markdown>=2.6.8 in c:\\users\\zitao\\anaconda3\\lib\\site-packages (from tensorboard<2.19,>=2.18->tensorflow-intel==2.18.0->tensorflow>=1.9.0->deepface) (3.4.1)\n",
      "Requirement already satisfied: tensorboard-data-server<0.8.0,>=0.7.0 in c:\\users\\zitao\\anaconda3\\lib\\site-packages (from tensorboard<2.19,>=2.18->tensorflow-intel==2.18.0->tensorflow>=1.9.0->deepface) (0.7.2)\n",
      "Note: you may need to restart the kernel to use updated packages.\n"
     ]
    }
   ],
   "source": [
    "pip install deepface"
   ]
  },
  {
   "cell_type": "code",
   "execution_count": 2,
   "id": "5f6bb675-6506-4176-8a45-89c0fd263120",
   "metadata": {
    "id": "5f6bb675-6506-4176-8a45-89c0fd263120"
   },
   "outputs": [],
   "source": [
    "##  DeepFace je open-source knihovna pro rozpoznávání obličejů pomocí hlubokého učení. Umožňuje snadné použití předtrénovaných modelů pro analýzu tváří, včetně.\n",
    "## Odhad pohlaví a věku, Rozpoznání obličeje (identifikace osoby), Analýza emocí (šťastný, smutný, naštvaný atd.)"
   ]
  },
  {
   "cell_type": "code",
   "execution_count": 3,
   "id": "e290ac10-c45f-4205-a7f0-2c0d5f419924",
   "metadata": {
    "colab": {
     "base_uri": "https://localhost:8080/"
    },
    "id": "e290ac10-c45f-4205-a7f0-2c0d5f419924",
    "outputId": "6efbbc0a-196a-4ae7-9db3-2f6309fa594d"
   },
   "outputs": [
    {
     "name": "stdout",
     "output_type": "stream",
     "text": [
      "Requirement already satisfied: tf-keras in c:\\users\\zitao\\anaconda3\\lib\\site-packages (2.18.0)\n",
      "Requirement already satisfied: tensorflow<2.19,>=2.18 in c:\\users\\zitao\\anaconda3\\lib\\site-packages (from tf-keras) (2.18.0)\n",
      "Requirement already satisfied: tensorflow-intel==2.18.0 in c:\\users\\zitao\\anaconda3\\lib\\site-packages (from tensorflow<2.19,>=2.18->tf-keras) (2.18.0)\n",
      "Requirement already satisfied: absl-py>=1.0.0 in c:\\users\\zitao\\anaconda3\\lib\\site-packages (from tensorflow-intel==2.18.0->tensorflow<2.19,>=2.18->tf-keras) (2.1.0)\n",
      "Requirement already satisfied: astunparse>=1.6.0 in c:\\users\\zitao\\anaconda3\\lib\\site-packages (from tensorflow-intel==2.18.0->tensorflow<2.19,>=2.18->tf-keras) (1.6.3)\n",
      "Requirement already satisfied: flatbuffers>=24.3.25 in c:\\users\\zitao\\anaconda3\\lib\\site-packages (from tensorflow-intel==2.18.0->tensorflow<2.19,>=2.18->tf-keras) (25.2.10)\n",
      "Requirement already satisfied: gast!=0.5.0,!=0.5.1,!=0.5.2,>=0.2.1 in c:\\users\\zitao\\anaconda3\\lib\\site-packages (from tensorflow-intel==2.18.0->tensorflow<2.19,>=2.18->tf-keras) (0.6.0)\n",
      "Requirement already satisfied: google-pasta>=0.1.1 in c:\\users\\zitao\\anaconda3\\lib\\site-packages (from tensorflow-intel==2.18.0->tensorflow<2.19,>=2.18->tf-keras) (0.2.0)\n",
      "Requirement already satisfied: libclang>=13.0.0 in c:\\users\\zitao\\anaconda3\\lib\\site-packages (from tensorflow-intel==2.18.0->tensorflow<2.19,>=2.18->tf-keras) (18.1.1)\n",
      "Requirement already satisfied: opt-einsum>=2.3.2 in c:\\users\\zitao\\anaconda3\\lib\\site-packages (from tensorflow-intel==2.18.0->tensorflow<2.19,>=2.18->tf-keras) (3.4.0)\n",
      "Requirement already satisfied: packaging in c:\\users\\zitao\\anaconda3\\lib\\site-packages (from tensorflow-intel==2.18.0->tensorflow<2.19,>=2.18->tf-keras) (24.1)\n",
      "Requirement already satisfied: protobuf!=4.21.0,!=4.21.1,!=4.21.2,!=4.21.3,!=4.21.4,!=4.21.5,<6.0.0dev,>=3.20.3 in c:\\users\\zitao\\anaconda3\\lib\\site-packages (from tensorflow-intel==2.18.0->tensorflow<2.19,>=2.18->tf-keras) (4.25.3)\n",
      "Requirement already satisfied: requests<3,>=2.21.0 in c:\\users\\zitao\\anaconda3\\lib\\site-packages (from tensorflow-intel==2.18.0->tensorflow<2.19,>=2.18->tf-keras) (2.32.3)\n",
      "Requirement already satisfied: setuptools in c:\\users\\zitao\\anaconda3\\lib\\site-packages (from tensorflow-intel==2.18.0->tensorflow<2.19,>=2.18->tf-keras) (75.1.0)\n",
      "Requirement already satisfied: six>=1.12.0 in c:\\users\\zitao\\anaconda3\\lib\\site-packages (from tensorflow-intel==2.18.0->tensorflow<2.19,>=2.18->tf-keras) (1.16.0)\n",
      "Requirement already satisfied: termcolor>=1.1.0 in c:\\users\\zitao\\anaconda3\\lib\\site-packages (from tensorflow-intel==2.18.0->tensorflow<2.19,>=2.18->tf-keras) (2.5.0)\n",
      "Requirement already satisfied: typing-extensions>=3.6.6 in c:\\users\\zitao\\anaconda3\\lib\\site-packages (from tensorflow-intel==2.18.0->tensorflow<2.19,>=2.18->tf-keras) (4.11.0)\n",
      "Requirement already satisfied: wrapt>=1.11.0 in c:\\users\\zitao\\anaconda3\\lib\\site-packages (from tensorflow-intel==2.18.0->tensorflow<2.19,>=2.18->tf-keras) (1.14.1)\n",
      "Requirement already satisfied: grpcio<2.0,>=1.24.3 in c:\\users\\zitao\\anaconda3\\lib\\site-packages (from tensorflow-intel==2.18.0->tensorflow<2.19,>=2.18->tf-keras) (1.70.0)\n",
      "Requirement already satisfied: tensorboard<2.19,>=2.18 in c:\\users\\zitao\\anaconda3\\lib\\site-packages (from tensorflow-intel==2.18.0->tensorflow<2.19,>=2.18->tf-keras) (2.18.0)\n",
      "Requirement already satisfied: keras>=3.5.0 in c:\\users\\zitao\\anaconda3\\lib\\site-packages (from tensorflow-intel==2.18.0->tensorflow<2.19,>=2.18->tf-keras) (3.8.0)\n",
      "Requirement already satisfied: numpy<2.1.0,>=1.26.0 in c:\\users\\zitao\\anaconda3\\lib\\site-packages (from tensorflow-intel==2.18.0->tensorflow<2.19,>=2.18->tf-keras) (1.26.4)\n",
      "Requirement already satisfied: h5py>=3.11.0 in c:\\users\\zitao\\anaconda3\\lib\\site-packages (from tensorflow-intel==2.18.0->tensorflow<2.19,>=2.18->tf-keras) (3.11.0)\n",
      "Requirement already satisfied: ml-dtypes<0.5.0,>=0.4.0 in c:\\users\\zitao\\anaconda3\\lib\\site-packages (from tensorflow-intel==2.18.0->tensorflow<2.19,>=2.18->tf-keras) (0.4.1)\n",
      "Requirement already satisfied: wheel<1.0,>=0.23.0 in c:\\users\\zitao\\anaconda3\\lib\\site-packages (from astunparse>=1.6.0->tensorflow-intel==2.18.0->tensorflow<2.19,>=2.18->tf-keras) (0.44.0)\n",
      "Requirement already satisfied: rich in c:\\users\\zitao\\anaconda3\\lib\\site-packages (from keras>=3.5.0->tensorflow-intel==2.18.0->tensorflow<2.19,>=2.18->tf-keras) (13.7.1)\n",
      "Requirement already satisfied: namex in c:\\users\\zitao\\anaconda3\\lib\\site-packages (from keras>=3.5.0->tensorflow-intel==2.18.0->tensorflow<2.19,>=2.18->tf-keras) (0.0.8)\n",
      "Requirement already satisfied: optree in c:\\users\\zitao\\anaconda3\\lib\\site-packages (from keras>=3.5.0->tensorflow-intel==2.18.0->tensorflow<2.19,>=2.18->tf-keras) (0.14.0)\n",
      "Requirement already satisfied: charset-normalizer<4,>=2 in c:\\users\\zitao\\anaconda3\\lib\\site-packages (from requests<3,>=2.21.0->tensorflow-intel==2.18.0->tensorflow<2.19,>=2.18->tf-keras) (3.3.2)\n",
      "Requirement already satisfied: idna<4,>=2.5 in c:\\users\\zitao\\anaconda3\\lib\\site-packages (from requests<3,>=2.21.0->tensorflow-intel==2.18.0->tensorflow<2.19,>=2.18->tf-keras) (3.7)\n",
      "Requirement already satisfied: urllib3<3,>=1.21.1 in c:\\users\\zitao\\anaconda3\\lib\\site-packages (from requests<3,>=2.21.0->tensorflow-intel==2.18.0->tensorflow<2.19,>=2.18->tf-keras) (2.2.3)\n",
      "Requirement already satisfied: certifi>=2017.4.17 in c:\\users\\zitao\\anaconda3\\lib\\site-packages (from requests<3,>=2.21.0->tensorflow-intel==2.18.0->tensorflow<2.19,>=2.18->tf-keras) (2025.1.31)\n",
      "Requirement already satisfied: markdown>=2.6.8 in c:\\users\\zitao\\anaconda3\\lib\\site-packages (from tensorboard<2.19,>=2.18->tensorflow-intel==2.18.0->tensorflow<2.19,>=2.18->tf-keras) (3.4.1)\n",
      "Requirement already satisfied: tensorboard-data-server<0.8.0,>=0.7.0 in c:\\users\\zitao\\anaconda3\\lib\\site-packages (from tensorboard<2.19,>=2.18->tensorflow-intel==2.18.0->tensorflow<2.19,>=2.18->tf-keras) (0.7.2)\n",
      "Requirement already satisfied: werkzeug>=1.0.1 in c:\\users\\zitao\\anaconda3\\lib\\site-packages (from tensorboard<2.19,>=2.18->tensorflow-intel==2.18.0->tensorflow<2.19,>=2.18->tf-keras) (3.0.3)\n",
      "Requirement already satisfied: MarkupSafe>=2.1.1 in c:\\users\\zitao\\anaconda3\\lib\\site-packages (from werkzeug>=1.0.1->tensorboard<2.19,>=2.18->tensorflow-intel==2.18.0->tensorflow<2.19,>=2.18->tf-keras) (2.1.3)\n",
      "Requirement already satisfied: markdown-it-py>=2.2.0 in c:\\users\\zitao\\anaconda3\\lib\\site-packages (from rich->keras>=3.5.0->tensorflow-intel==2.18.0->tensorflow<2.19,>=2.18->tf-keras) (2.2.0)\n",
      "Requirement already satisfied: pygments<3.0.0,>=2.13.0 in c:\\users\\zitao\\anaconda3\\lib\\site-packages (from rich->keras>=3.5.0->tensorflow-intel==2.18.0->tensorflow<2.19,>=2.18->tf-keras) (2.15.1)\n",
      "Requirement already satisfied: mdurl~=0.1 in c:\\users\\zitao\\anaconda3\\lib\\site-packages (from markdown-it-py>=2.2.0->rich->keras>=3.5.0->tensorflow-intel==2.18.0->tensorflow<2.19,>=2.18->tf-keras) (0.1.0)\n",
      "Note: you may need to restart the kernel to use updated packages.\n"
     ]
    }
   ],
   "source": [
    "pip install tf-keras"
   ]
  },
  {
   "cell_type": "code",
   "execution_count": 4,
   "id": "30fd4e71-4e71-482f-a1de-fce9d4e96549",
   "metadata": {
    "id": "30fd4e71-4e71-482f-a1de-fce9d4e96549"
   },
   "outputs": [
    {
     "name": "stdout",
     "output_type": "stream",
     "text": [
      "WARNING:tensorflow:From C:\\Users\\zitao\\anaconda3\\Lib\\site-packages\\tf_keras\\src\\losses.py:2976: The name tf.losses.sparse_softmax_cross_entropy is deprecated. Please use tf.compat.v1.losses.sparse_softmax_cross_entropy instead.\n",
      "\n"
     ]
    }
   ],
   "source": [
    "import pandas as pd\n",
    "import numpy as np\n",
    "import matplotlib.pyplot as plt\n",
    "import cv2\n",
    "from deepface import DeepFace\n",
    "import os"
   ]
  },
  {
   "cell_type": "markdown",
   "id": "XVr1EA8rjLNJ",
   "metadata": {
    "id": "XVr1EA8rjLNJ"
   },
   "source": [
    "Krok číslo 1.\n",
    " - definice cesty k adresáří s emocemi path =\n",
    " C:\\Users\\zitao\\Documents\\PETR\\DATA SCIENCE\\EMOCE\\train\n",
    "\n",
    " - definice cesty k adresáři s konkrétními emocemi\n",
    "\n",
    " - definice cesty ke kontrétnimu souboru/fotce\n",
    " - pokud výsledek analýzy emoce z fotky nebude odpovídat názvu složky \"emoce\" zapiš název souboru, který právě zkoumáne, zapiš do seznamu nevhodných souborů ( fotku, kterou nechceme)\n",
    " - Opakuj pro každý soubor v dané složce -->"
   ]
  },
  {
   "cell_type": "code",
   "execution_count": null,
   "id": "twOXmB5yuc0Q",
   "metadata": {
    "id": "twOXmB5yuc0Q"
   },
   "outputs": [],
   "source": []
  },
  {
   "cell_type": "markdown",
   "id": "19c298f4-e48f-44da-bb83-884086ae57b9",
   "metadata": {
    "id": "19c298f4-e48f-44da-bb83-884086ae57b9"
   },
   "source": [
    "## Zobrazení obrázku z cesty adresáře"
   ]
  },
  {
   "cell_type": "code",
   "execution_count": 5,
   "id": "TofI2Qjmo3kd",
   "metadata": {
    "id": "TofI2Qjmo3kd"
   },
   "outputs": [],
   "source": [
    "path = r\"C:\\Users\\zitao\\Documents\\PETR\\DATA_SCIENCE\\EMOCE\""
   ]
  },
  {
   "cell_type": "code",
   "execution_count": 6,
   "id": "xNJhbA3TxCGC",
   "metadata": {
    "colab": {
     "base_uri": "https://localhost:8080/",
     "height": 158
    },
    "id": "xNJhbA3TxCGC",
    "outputId": "e1761377-b16f-4430-e7a1-c1b456f23f93"
   },
   "outputs": [
    {
     "data": {
      "text/plain": [
       "['angry', 'disgust', 'fear', 'happy', 'neutral', 'sad', 'surprise']"
      ]
     },
     "execution_count": 6,
     "metadata": {},
     "output_type": "execute_result"
    }
   ],
   "source": [
    "fotky_emoce = os.listdir(f\"{path}/train\")\n",
    "fotky_emoce"
   ]
  },
  {
   "cell_type": "code",
   "execution_count": 7,
   "id": "bce67967-8273-47a6-9765-8f8c9bd308df",
   "metadata": {},
   "outputs": [
    {
     "name": "stdout",
     "output_type": "stream",
     "text": [
      "C:\\Users\\zitao\\Documents\\PETR\\DATA_SCIENCE\\EMOCE/train/angry angry\n",
      "C:\\Users\\zitao\\Documents\\PETR\\DATA_SCIENCE\\EMOCE/train/disgust disgust\n",
      "C:\\Users\\zitao\\Documents\\PETR\\DATA_SCIENCE\\EMOCE/train/fear fear\n",
      "C:\\Users\\zitao\\Documents\\PETR\\DATA_SCIENCE\\EMOCE/train/happy happy\n",
      "C:\\Users\\zitao\\Documents\\PETR\\DATA_SCIENCE\\EMOCE/train/neutral neutral\n",
      "C:\\Users\\zitao\\Documents\\PETR\\DATA_SCIENCE\\EMOCE/train/sad sad\n",
      "C:\\Users\\zitao\\Documents\\PETR\\DATA_SCIENCE\\EMOCE/train/surprise surprise\n"
     ]
    }
   ],
   "source": [
    "for i in range (0,len(fotky_emoce)): \n",
    "    nazev_slozky = fotky_emoce [i]\n",
    "    ## seznam_souboru = os.listdir(f\"{path}/train/{nazev_slozky}\")\n",
    "    cesta_k_emocim = (f\"{path}/train/{nazev_slozky}\")\n",
    "    print(cesta_k_emocim, nazev_slozky)"
   ]
  },
  {
   "cell_type": "code",
   "execution_count": null,
   "id": "7b1f1f1e-be4a-40c1-afca-2925a73c6359",
   "metadata": {},
   "outputs": [],
   "source": []
  },
  {
   "cell_type": "markdown",
   "id": "6c434c8d-40bc-45b2-b513-78bd3a559d78",
   "metadata": {
    "id": "6c434c8d-40bc-45b2-b513-78bd3a559d78"
   },
   "source": [
    "## Analýza obrázku"
   ]
  },
  {
   "cell_type": "code",
   "execution_count": 10,
   "id": "56d36f46-254f-42d1-a54f-eca1d71b69c5",
   "metadata": {},
   "outputs": [],
   "source": [
    "## definice seznamu obrázků\n",
    "seznam_obrazku = []\n",
    "počet = 0\n",
    "obrazek_analyza = \"\""
   ]
  },
  {
   "cell_type": "code",
   "execution_count": 12,
   "id": "5e587f3c-6293-4494-9c01-131e8cfa1b13",
   "metadata": {},
   "outputs": [],
   "source": [
    "obrazek_analyza = cv2.imread(f\"{cesta_k_emocim}/Training_50998630.jpg\") # načítam obrazek"
   ]
  },
  {
   "cell_type": "code",
   "execution_count": 13,
   "id": "247d5fb2-687e-4b55-9224-0d339cfb356e",
   "metadata": {},
   "outputs": [
    {
     "ename": "TypeError",
     "evalue": "Image data of dtype object cannot be converted to float",
     "output_type": "error",
     "traceback": [
      "\u001b[1;31m---------------------------------------------------------------------------\u001b[0m",
      "\u001b[1;31mTypeError\u001b[0m                                 Traceback (most recent call last)",
      "Cell \u001b[1;32mIn[13], line 1\u001b[0m\n\u001b[1;32m----> 1\u001b[0m plt\u001b[38;5;241m.\u001b[39mimshow(obrazek_analyza)\n",
      "File \u001b[1;32m~\\anaconda3\\Lib\\site-packages\\matplotlib\\pyplot.py:3562\u001b[0m, in \u001b[0;36mimshow\u001b[1;34m(X, cmap, norm, aspect, interpolation, alpha, vmin, vmax, origin, extent, interpolation_stage, filternorm, filterrad, resample, url, data, **kwargs)\u001b[0m\n\u001b[0;32m   3541\u001b[0m \u001b[38;5;129m@_copy_docstring_and_deprecators\u001b[39m(Axes\u001b[38;5;241m.\u001b[39mimshow)\n\u001b[0;32m   3542\u001b[0m \u001b[38;5;28;01mdef\u001b[39;00m \u001b[38;5;21mimshow\u001b[39m(\n\u001b[0;32m   3543\u001b[0m     X: ArrayLike \u001b[38;5;241m|\u001b[39m PIL\u001b[38;5;241m.\u001b[39mImage\u001b[38;5;241m.\u001b[39mImage,\n\u001b[1;32m   (...)\u001b[0m\n\u001b[0;32m   3560\u001b[0m     \u001b[38;5;241m*\u001b[39m\u001b[38;5;241m*\u001b[39mkwargs,\n\u001b[0;32m   3561\u001b[0m ) \u001b[38;5;241m-\u001b[39m\u001b[38;5;241m>\u001b[39m AxesImage:\n\u001b[1;32m-> 3562\u001b[0m     __ret \u001b[38;5;241m=\u001b[39m gca()\u001b[38;5;241m.\u001b[39mimshow(\n\u001b[0;32m   3563\u001b[0m         X,\n\u001b[0;32m   3564\u001b[0m         cmap\u001b[38;5;241m=\u001b[39mcmap,\n\u001b[0;32m   3565\u001b[0m         norm\u001b[38;5;241m=\u001b[39mnorm,\n\u001b[0;32m   3566\u001b[0m         aspect\u001b[38;5;241m=\u001b[39maspect,\n\u001b[0;32m   3567\u001b[0m         interpolation\u001b[38;5;241m=\u001b[39minterpolation,\n\u001b[0;32m   3568\u001b[0m         alpha\u001b[38;5;241m=\u001b[39malpha,\n\u001b[0;32m   3569\u001b[0m         vmin\u001b[38;5;241m=\u001b[39mvmin,\n\u001b[0;32m   3570\u001b[0m         vmax\u001b[38;5;241m=\u001b[39mvmax,\n\u001b[0;32m   3571\u001b[0m         origin\u001b[38;5;241m=\u001b[39morigin,\n\u001b[0;32m   3572\u001b[0m         extent\u001b[38;5;241m=\u001b[39mextent,\n\u001b[0;32m   3573\u001b[0m         interpolation_stage\u001b[38;5;241m=\u001b[39minterpolation_stage,\n\u001b[0;32m   3574\u001b[0m         filternorm\u001b[38;5;241m=\u001b[39mfilternorm,\n\u001b[0;32m   3575\u001b[0m         filterrad\u001b[38;5;241m=\u001b[39mfilterrad,\n\u001b[0;32m   3576\u001b[0m         resample\u001b[38;5;241m=\u001b[39mresample,\n\u001b[0;32m   3577\u001b[0m         url\u001b[38;5;241m=\u001b[39murl,\n\u001b[0;32m   3578\u001b[0m         \u001b[38;5;241m*\u001b[39m\u001b[38;5;241m*\u001b[39m({\u001b[38;5;124m\"\u001b[39m\u001b[38;5;124mdata\u001b[39m\u001b[38;5;124m\"\u001b[39m: data} \u001b[38;5;28;01mif\u001b[39;00m data \u001b[38;5;129;01mis\u001b[39;00m \u001b[38;5;129;01mnot\u001b[39;00m \u001b[38;5;28;01mNone\u001b[39;00m \u001b[38;5;28;01melse\u001b[39;00m {}),\n\u001b[0;32m   3579\u001b[0m         \u001b[38;5;241m*\u001b[39m\u001b[38;5;241m*\u001b[39mkwargs,\n\u001b[0;32m   3580\u001b[0m     )\n\u001b[0;32m   3581\u001b[0m     sci(__ret)\n\u001b[0;32m   3582\u001b[0m     \u001b[38;5;28;01mreturn\u001b[39;00m __ret\n",
      "File \u001b[1;32m~\\anaconda3\\Lib\\site-packages\\matplotlib\\__init__.py:1473\u001b[0m, in \u001b[0;36m_preprocess_data.<locals>.inner\u001b[1;34m(ax, data, *args, **kwargs)\u001b[0m\n\u001b[0;32m   1470\u001b[0m \u001b[38;5;129m@functools\u001b[39m\u001b[38;5;241m.\u001b[39mwraps(func)\n\u001b[0;32m   1471\u001b[0m \u001b[38;5;28;01mdef\u001b[39;00m \u001b[38;5;21minner\u001b[39m(ax, \u001b[38;5;241m*\u001b[39margs, data\u001b[38;5;241m=\u001b[39m\u001b[38;5;28;01mNone\u001b[39;00m, \u001b[38;5;241m*\u001b[39m\u001b[38;5;241m*\u001b[39mkwargs):\n\u001b[0;32m   1472\u001b[0m     \u001b[38;5;28;01mif\u001b[39;00m data \u001b[38;5;129;01mis\u001b[39;00m \u001b[38;5;28;01mNone\u001b[39;00m:\n\u001b[1;32m-> 1473\u001b[0m         \u001b[38;5;28;01mreturn\u001b[39;00m func(\n\u001b[0;32m   1474\u001b[0m             ax,\n\u001b[0;32m   1475\u001b[0m             \u001b[38;5;241m*\u001b[39m\u001b[38;5;28mmap\u001b[39m(sanitize_sequence, args),\n\u001b[0;32m   1476\u001b[0m             \u001b[38;5;241m*\u001b[39m\u001b[38;5;241m*\u001b[39m{k: sanitize_sequence(v) \u001b[38;5;28;01mfor\u001b[39;00m k, v \u001b[38;5;129;01min\u001b[39;00m kwargs\u001b[38;5;241m.\u001b[39mitems()})\n\u001b[0;32m   1478\u001b[0m     bound \u001b[38;5;241m=\u001b[39m new_sig\u001b[38;5;241m.\u001b[39mbind(ax, \u001b[38;5;241m*\u001b[39margs, \u001b[38;5;241m*\u001b[39m\u001b[38;5;241m*\u001b[39mkwargs)\n\u001b[0;32m   1479\u001b[0m     auto_label \u001b[38;5;241m=\u001b[39m (bound\u001b[38;5;241m.\u001b[39marguments\u001b[38;5;241m.\u001b[39mget(label_namer)\n\u001b[0;32m   1480\u001b[0m                   \u001b[38;5;129;01mor\u001b[39;00m bound\u001b[38;5;241m.\u001b[39mkwargs\u001b[38;5;241m.\u001b[39mget(label_namer))\n",
      "File \u001b[1;32m~\\anaconda3\\Lib\\site-packages\\matplotlib\\axes\\_axes.py:5895\u001b[0m, in \u001b[0;36mAxes.imshow\u001b[1;34m(self, X, cmap, norm, aspect, interpolation, alpha, vmin, vmax, origin, extent, interpolation_stage, filternorm, filterrad, resample, url, **kwargs)\u001b[0m\n\u001b[0;32m   5892\u001b[0m \u001b[38;5;28;01mif\u001b[39;00m aspect \u001b[38;5;129;01mis\u001b[39;00m \u001b[38;5;129;01mnot\u001b[39;00m \u001b[38;5;28;01mNone\u001b[39;00m:\n\u001b[0;32m   5893\u001b[0m     \u001b[38;5;28mself\u001b[39m\u001b[38;5;241m.\u001b[39mset_aspect(aspect)\n\u001b[1;32m-> 5895\u001b[0m im\u001b[38;5;241m.\u001b[39mset_data(X)\n\u001b[0;32m   5896\u001b[0m im\u001b[38;5;241m.\u001b[39mset_alpha(alpha)\n\u001b[0;32m   5897\u001b[0m \u001b[38;5;28;01mif\u001b[39;00m im\u001b[38;5;241m.\u001b[39mget_clip_path() \u001b[38;5;129;01mis\u001b[39;00m \u001b[38;5;28;01mNone\u001b[39;00m:\n\u001b[0;32m   5898\u001b[0m     \u001b[38;5;66;03m# image does not already have clipping set, clip to Axes patch\u001b[39;00m\n",
      "File \u001b[1;32m~\\anaconda3\\Lib\\site-packages\\matplotlib\\image.py:729\u001b[0m, in \u001b[0;36m_ImageBase.set_data\u001b[1;34m(self, A)\u001b[0m\n\u001b[0;32m    727\u001b[0m \u001b[38;5;28;01mif\u001b[39;00m \u001b[38;5;28misinstance\u001b[39m(A, PIL\u001b[38;5;241m.\u001b[39mImage\u001b[38;5;241m.\u001b[39mImage):\n\u001b[0;32m    728\u001b[0m     A \u001b[38;5;241m=\u001b[39m pil_to_array(A)  \u001b[38;5;66;03m# Needed e.g. to apply png palette.\u001b[39;00m\n\u001b[1;32m--> 729\u001b[0m \u001b[38;5;28mself\u001b[39m\u001b[38;5;241m.\u001b[39m_A \u001b[38;5;241m=\u001b[39m \u001b[38;5;28mself\u001b[39m\u001b[38;5;241m.\u001b[39m_normalize_image_array(A)\n\u001b[0;32m    730\u001b[0m \u001b[38;5;28mself\u001b[39m\u001b[38;5;241m.\u001b[39m_imcache \u001b[38;5;241m=\u001b[39m \u001b[38;5;28;01mNone\u001b[39;00m\n\u001b[0;32m    731\u001b[0m \u001b[38;5;28mself\u001b[39m\u001b[38;5;241m.\u001b[39mstale \u001b[38;5;241m=\u001b[39m \u001b[38;5;28;01mTrue\u001b[39;00m\n",
      "File \u001b[1;32m~\\anaconda3\\Lib\\site-packages\\matplotlib\\image.py:692\u001b[0m, in \u001b[0;36m_ImageBase._normalize_image_array\u001b[1;34m(A)\u001b[0m\n\u001b[0;32m    690\u001b[0m A \u001b[38;5;241m=\u001b[39m cbook\u001b[38;5;241m.\u001b[39msafe_masked_invalid(A, copy\u001b[38;5;241m=\u001b[39m\u001b[38;5;28;01mTrue\u001b[39;00m)\n\u001b[0;32m    691\u001b[0m \u001b[38;5;28;01mif\u001b[39;00m A\u001b[38;5;241m.\u001b[39mdtype \u001b[38;5;241m!=\u001b[39m np\u001b[38;5;241m.\u001b[39muint8 \u001b[38;5;129;01mand\u001b[39;00m \u001b[38;5;129;01mnot\u001b[39;00m np\u001b[38;5;241m.\u001b[39mcan_cast(A\u001b[38;5;241m.\u001b[39mdtype, \u001b[38;5;28mfloat\u001b[39m, \u001b[38;5;124m\"\u001b[39m\u001b[38;5;124msame_kind\u001b[39m\u001b[38;5;124m\"\u001b[39m):\n\u001b[1;32m--> 692\u001b[0m     \u001b[38;5;28;01mraise\u001b[39;00m \u001b[38;5;167;01mTypeError\u001b[39;00m(\u001b[38;5;124mf\u001b[39m\u001b[38;5;124m\"\u001b[39m\u001b[38;5;124mImage data of dtype \u001b[39m\u001b[38;5;132;01m{\u001b[39;00mA\u001b[38;5;241m.\u001b[39mdtype\u001b[38;5;132;01m}\u001b[39;00m\u001b[38;5;124m cannot be \u001b[39m\u001b[38;5;124m\"\u001b[39m\n\u001b[0;32m    693\u001b[0m                     \u001b[38;5;124mf\u001b[39m\u001b[38;5;124m\"\u001b[39m\u001b[38;5;124mconverted to float\u001b[39m\u001b[38;5;124m\"\u001b[39m)\n\u001b[0;32m    694\u001b[0m \u001b[38;5;28;01mif\u001b[39;00m A\u001b[38;5;241m.\u001b[39mndim \u001b[38;5;241m==\u001b[39m \u001b[38;5;241m3\u001b[39m \u001b[38;5;129;01mand\u001b[39;00m A\u001b[38;5;241m.\u001b[39mshape[\u001b[38;5;241m-\u001b[39m\u001b[38;5;241m1\u001b[39m] \u001b[38;5;241m==\u001b[39m \u001b[38;5;241m1\u001b[39m:\n\u001b[0;32m    695\u001b[0m     A \u001b[38;5;241m=\u001b[39m A\u001b[38;5;241m.\u001b[39msqueeze(\u001b[38;5;241m-\u001b[39m\u001b[38;5;241m1\u001b[39m)  \u001b[38;5;66;03m# If just (M, N, 1), assume scalar and apply colormap.\u001b[39;00m\n",
      "\u001b[1;31mTypeError\u001b[0m: Image data of dtype object cannot be converted to float"
     ]
    },
    {
     "data": {
      "image/png": "[encoded data removed]",
      "text/plain": [
       "<Figure size 640x480 with 1 Axes>"
      ]
     },
     "metadata": {},
     "output_type": "display_data"
    }
   ],
   "source": [
    "plt.imshow(obrazek_analyza)"
   ]
  },
  {
   "cell_type": "code",
   "execution_count": null,
   "id": "83d3b55d-e789-42d9-a86e-e932f91b31ed",
   "metadata": {},
   "outputs": [],
   "source": [
    "prediction_analyza = DeepFace.analyze(obrazek_analyza, enforce_detection=False)   ##  FALSE  říká DeepFace, jak má reagovat, pokud na obrázku nenajde obličej."
   ]
  },
  {
   "cell_type": "code",
   "execution_count": null,
   "id": "39912568-2b9a-4c56-b6fe-44594779c38d",
   "metadata": {},
   "outputs": [],
   "source": [
    "prediction_analyza"
   ]
  },
  {
   "cell_type": "code",
   "execution_count": null,
   "id": "cef91309-72db-471a-987a-b2d81b0a9bcd",
   "metadata": {},
   "outputs": [],
   "source": [
    "emoce =  prediction_analyza[0]['dominant_emotion'], prediction_analyza[0]['dominant_race'], prediction_analyza[0]['dominant_gender']\n",
    "emoce"
   ]
  },
  {
   "cell_type": "code",
   "execution_count": null,
   "id": "eebaa334-6153-4610-8162-61730bc47c75",
   "metadata": {},
   "outputs": [],
   "source": [
    "plt.imshow(obrazek_analyza)"
   ]
  },
  {
   "cell_type": "code",
   "execution_count": 14,
   "id": "93ed9d5b-edf4-479e-a10b-be064955b16c",
   "metadata": {},
   "outputs": [],
   "source": [
    "seznam_fotek_NOK = []\n",
    "seznam_fotek_OK = []\n",
    "chybny_soubor = []"
   ]
  },
  {
   "cell_type": "code",
   "execution_count": 15,
   "id": "2f1105f9-4f1d-43df-98aa-55c539931584",
   "metadata": {},
   "outputs": [],
   "source": [
    "# for obrazek1 in os.listdir(cesta_angry):  \n",
    "#     cesta_obrazku = os.path.join(cesta_angry, obrazek1)  \n",
    "#     obrazek2 = cv2.imread(cesta_obrazku)  \n",
    "\n",
    "#     if obrazek2 is None:\n",
    "#         print(f\"Chyba: Obrázek {obrazek1} se nepodařilo načíst.\")\n",
    "#         chybny_soubor.append(obrazek1)  # Uložit název souboru, ne None\n",
    "#         continue  \n",
    "\n",
    "#     try:\n",
    "#         prediction = DeepFace.analyze(obrazek2, actions=['emotion'], enforce_detection=False)\n",
    "#         emoce = prediction[0]['dominant_emotion']\n",
    "\n",
    "#         if emoce == 'angry':\n",
    "#             seznam_fotek_OK.append(cesta_obrazku)\n",
    "#         else:\n",
    "#             seznam_fotek_NOK.append(cesta_obrazku)\n",
    "\n",
    "#     except ValueError as e:\n",
    "#         ## print(f\"Chyba: DeepFace nemohl analyzovat {cesta_obrazku} – {e}\")\n",
    "#         chybny_soubor.append(cesta_obrazku)  # Uložit problematický soubor\n",
    "#     except Exception as e:\n",
    "#        ## print(f\"Neočekávaná chyba u {cesta_obrazku}: {e}\")\n",
    "#         chybny_soubor.append(cesta_obrazku)  # Uložit problematický soubor\n"
   ]
  },
  {
   "cell_type": "code",
   "execution_count": null,
   "id": "4fe503bf-58e1-48a3-b054-8c92e7e62873",
   "metadata": {},
   "outputs": [],
   "source": []
  },
  {
   "cell_type": "code",
   "execution_count": null,
   "id": "bbd8e967-f312-4906-b44b-185cdbc9ad14",
   "metadata": {},
   "outputs": [],
   "source": [
    "## len(seznam_fotek_OK)   ## zobrazí všechny fotky, které vyjadřují \"nahněvanou\"  emoci"
   ]
  },
  {
   "cell_type": "code",
   "execution_count": null,
   "id": "73e24eb2-b49a-49a7-a9b9-b5781a002ed6",
   "metadata": {},
   "outputs": [],
   "source": [
    "## print(seznam_fotek_OK)"
   ]
  },
  {
   "cell_type": "code",
   "execution_count": null,
   "id": "837246a1-df42-4096-94ba-e2b858920bdf",
   "metadata": {},
   "outputs": [],
   "source": [
    "## len(seznam_fotek_NOK)"
   ]
  },
  {
   "cell_type": "code",
   "execution_count": null,
   "id": "b7e92f02-b10c-41c2-8441-8925c94cc4a8",
   "metadata": {},
   "outputs": [],
   "source": [
    "## print(seznam_fotek_NOK)"
   ]
  },
  {
   "cell_type": "code",
   "execution_count": null,
   "id": "0226aaa0-8543-4ee6-be1d-a2beb3da766d",
   "metadata": {},
   "outputs": [],
   "source": [
    "## len(chybny_soubor)"
   ]
  },
  {
   "cell_type": "code",
   "execution_count": null,
   "id": "b282a320-0902-47b7-afd0-6f2297881695",
   "metadata": {},
   "outputs": [],
   "source": [
    "## print(chybny_soubor)"
   ]
  },
  {
   "cell_type": "code",
   "execution_count": 16,
   "id": "ad0195f4-ef8e-4657-a0fe-fb3de5cae7b1",
   "metadata": {},
   "outputs": [],
   "source": [
    "for i in range (0,len(fotky_emoce)-5): \n",
    "    nazev_slozky = fotky_emoce [i]\n",
    "    ## seznam_souboru = os.listdir(f\"{path}/train/{nazev_slozky}\")\n",
    "    cesta_k_emocim = (f\"{path}/train/{nazev_slozky}\")\n",
    "    for obrazek1 in os.listdir(cesta_k_emocim):  \n",
    "        cesta_obrazku = os.path.join(cesta_k_emocim, obrazek1)  \n",
    "        obrazek2 = cv2.imread(cesta_obrazku)  \n",
    "    \n",
    "        if obrazek2 is None:\n",
    "            ## print(f\"Chyba: Obrázek {obrazek1} se nepodařilo načíst.\")\n",
    "            chybny_soubor.append(obrazek1)  # Uložit název souboru, ne None\n",
    "            continue  \n",
    "    \n",
    "        try:\n",
    "            prediction = DeepFace.analyze(obrazek2, actions=['emotion'], enforce_detection=False)\n",
    "            emoce = prediction[0]['dominant_emotion']\n",
    "    \n",
    "            if emoce == (nazev_slozky):\n",
    "                seznam_fotek_OK.append(cesta_obrazku)\n",
    "            else:\n",
    "                seznam_fotek_NOK.append(cesta_obrazku)\n",
    "    \n",
    "        except ValueError as e:\n",
    "            ## print(f\"Chyba: DeepFace nemohl analyzovat {cesta_obrazku} – {e}\")\n",
    "            chybny_soubor.append(cesta_obrazku)  # Uložit problematický soubor\n",
    "        except Exception as e:\n",
    "           ## print(f\"Neočekávaná chyba u {cesta_obrazku}: {e}\")\n",
    "            chybny_soubor.append(cesta_obrazku)  # Uložit problematický soubor"
   ]
  },
  {
   "cell_type": "code",
   "execution_count": 17,
   "id": "c923c379-4cdc-4c1a-adad-73f223cd9a40",
   "metadata": {},
   "outputs": [
    {
     "data": {
      "text/plain": [
       "3013"
      ]
     },
     "execution_count": 17,
     "metadata": {},
     "output_type": "execute_result"
    }
   ],
   "source": [
    "len(seznam_fotek_OK)   ## zobrazí všechny fotky, které vyjadřují \"nahněvanou\"  emoci"
   ]
  },
  {
   "cell_type": "code",
   "execution_count": 18,
   "id": "f79447d5-5b24-4bda-b288-b805acfeed60",
   "metadata": {},
   "outputs": [
    {
     "data": {
      "text/plain": [
       "1417"
      ]
     },
     "execution_count": 18,
     "metadata": {},
     "output_type": "execute_result"
    }
   ],
   "source": [
    "len(seznam_fotek_NOK)"
   ]
  },
  {
   "cell_type": "code",
   "execution_count": 19,
   "id": "5959cd82-db0a-4561-a170-961eadbc3802",
   "metadata": {},
   "outputs": [
    {
     "data": {
      "text/plain": [
       "0"
      ]
     },
     "execution_count": 19,
     "metadata": {},
     "output_type": "execute_result"
    }
   ],
   "source": [
    "len(chybny_soubor)"
   ]
  },
  {
   "cell_type": "code",
   "execution_count": 20,
   "id": "60777980-0c63-42b0-ad97-249779f4caa8",
   "metadata": {},
   "outputs": [
    {
     "data": {
      "text/plain": [
       "[]"
      ]
     },
     "execution_count": 20,
     "metadata": {},
     "output_type": "execute_result"
    }
   ],
   "source": [
    "[soubor for soubor in seznam_fotek_OK if soubor == \"Training_63156802.jpg\"]"
   ]
  },
  {
   "cell_type": "code",
   "execution_count": null,
   "id": "149cf370-74fb-44c2-8571-67403a0688ba",
   "metadata": {},
   "outputs": [],
   "source": [
    "##print(seznam_fotek_NOK)"
   ]
  },
  {
   "cell_type": "code",
   "execution_count": null,
   "id": "ea43c124-98e8-41fa-a750-9854e0dc4800",
   "metadata": {},
   "outputs": [],
   "source": [
    "## chybny_soubor"
   ]
  },
  {
   "cell_type": "code",
   "execution_count": null,
   "id": "021b39b8-40ed-453f-93df-68c52e1583f1",
   "metadata": {},
   "outputs": [],
   "source": [
    "obrazek1"
   ]
  },
  {
   "cell_type": "code",
   "execution_count": null,
   "id": "05cc3738-6a1d-4dfc-a639-3465cfedfc07",
   "metadata": {},
   "outputs": [],
   "source": [
    "cesta_obrazku"
   ]
  },
  {
   "cell_type": "code",
   "execution_count": null,
   "id": "319dd7a2-b4e6-42aa-8f6c-efed8816dba8",
   "metadata": {},
   "outputs": [],
   "source": []
  },
  {
   "cell_type": "code",
   "execution_count": null,
   "id": "fcf42ba9-2e6b-4435-9054-98e46ef9f201",
   "metadata": {},
   "outputs": [],
   "source": [
    "print(emoce)"
   ]
  },
  {
   "cell_type": "code",
   "execution_count": null,
   "id": "7b361cb9-a68c-4593-884e-2039df2a16b3",
   "metadata": {},
   "outputs": [],
   "source": [
    "cesta_angry"
   ]
  },
  {
   "cell_type": "code",
   "execution_count": null,
   "id": "05f11eca-0606-4986-a0b0-29a8e781b65a",
   "metadata": {},
   "outputs": [],
   "source": []
  },
  {
   "cell_type": "code",
   "execution_count": null,
   "id": "0cd066ba-6d3a-447c-8c0c-77aa950beb30",
   "metadata": {},
   "outputs": [],
   "source": []
  },
  {
   "cell_type": "code",
   "execution_count": null,
   "id": "80cfcc73-2d40-4d68-8424-4c324b6504ae",
   "metadata": {},
   "outputs": [],
   "source": [
    "emoce = prediction[0]['dominant_emotion'],prediction[0]['dominant_race'],prediction[0]['dominant_gender']\n",
    "emoce"
   ]
  },
  {
   "cell_type": "code",
   "execution_count": null,
   "id": "a6da34cd-aa0a-4538-bfe3-212fd816b40e",
   "metadata": {
    "id": "a6da34cd-aa0a-4538-bfe3-212fd816b40e"
   },
   "outputs": [],
   "source": [
    "plt.imshow(obrazek)"
   ]
  },
  {
   "cell_type": "markdown",
   "id": "f28b03ae-8aa0-4aef-9b73-55f39d19bbde",
   "metadata": {
    "id": "f28b03ae-8aa0-4aef-9b73-55f39d19bbde"
   },
   "source": [
    "## Výsledky analýzy"
   ]
  },
  {
   "cell_type": "code",
   "execution_count": null,
   "id": "bbee6c4b-ab24-40cc-b795-3c3bcb31e530",
   "metadata": {
    "id": "bbee6c4b-ab24-40cc-b795-3c3bcb31e530",
    "outputId": "8a82f3b9-d52b-4eb7-d95e-1f0b4771b747"
   },
   "outputs": [],
   "source": [
    "prediction"
   ]
  },
  {
   "cell_type": "markdown",
   "id": "a6b1900c-4cdb-44ba-a293-1ad90085d63c",
   "metadata": {
    "id": "a6b1900c-4cdb-44ba-a293-1ad90085d63c"
   },
   "source": [
    "##  Určení emocí z obrázku"
   ]
  },
  {
   "cell_type": "code",
   "execution_count": null,
   "id": "29712cc8-eb9e-4f77-b014-14b102a75b7a",
   "metadata": {
    "id": "29712cc8-eb9e-4f77-b014-14b102a75b7a"
   },
   "outputs": [],
   "source": [
    "predictions = [{prediction[0]['dominant_emotion'],prediction[0]['dominant_gender'],prediction[0]['dominant_race']}]"
   ]
  },
  {
   "cell_type": "code",
   "execution_count": null,
   "id": "201b1b71-e7ad-4317-9cdd-51cb0239cdda",
   "metadata": {
    "id": "201b1b71-e7ad-4317-9cdd-51cb0239cdda",
    "outputId": "2ab958fc-0cd0-4ee9-a0c1-48142a44cc9f"
   },
   "outputs": [],
   "source": [
    "predictions"
   ]
  },
  {
   "cell_type": "code",
   "execution_count": null,
   "id": "d3bb19d7-a2dc-46f4-bcfc-b8b1b41ff791",
   "metadata": {
    "id": "d3bb19d7-a2dc-46f4-bcfc-b8b1b41ff791"
   },
   "outputs": [],
   "source": [
    "oblicej = cv2.CascadeClassifier(cv2.data.haarcascades + 'haarcascade_frontalface_default.xml')\n",
    "usmev = cv2.CascadeClassifier(cv2.data.haarcascades + 'haarcascade_smile.xml')\n",
    "bryle = cv2.CascadeClassifier(cv2.data.haarcascades + 'haarcascade_eye_tree_eyeglasses.xml')\n",
    "\n",
    "cernobily = cv2.cvtColor(obrazek, cv2.COLOR_BGR2GRAY)"
   ]
  },
  {
   "cell_type": "markdown",
   "id": "5f8a45df-ea8c-4a13-a0df-87e81fa72f54",
   "metadata": {
    "id": "5f8a45df-ea8c-4a13-a0df-87e81fa72f54"
   },
   "source": [
    "## Vyhledavaní obličeje na obrázku a označení čtvercem"
   ]
  },
  {
   "cell_type": "markdown",
   "id": "92dd1793-d406-401e-880d-d3921a6c55de",
   "metadata": {
    "id": "92dd1793-d406-401e-880d-d3921a6c55de"
   },
   "source": [
    "# Zobrazení obrázku v černobílém formátu"
   ]
  },
  {
   "cell_type": "code",
   "execution_count": null,
   "id": "b9d2fac3-ef35-429e-a498-4c8e1974d3d3",
   "metadata": {
    "id": "b9d2fac3-ef35-429e-a498-4c8e1974d3d3",
    "outputId": "d595305b-8d98-47de-ea81-bed46e051de2"
   },
   "outputs": [],
   "source": [
    "plt.imshow(cernobily, cmap='gray')"
   ]
  },
  {
   "cell_type": "code",
   "execution_count": null,
   "id": "e080c12f-6658-4dd4-a038-bb1555ee6f08",
   "metadata": {
    "id": "e080c12f-6658-4dd4-a038-bb1555ee6f08"
   },
   "outputs": [],
   "source": []
  },
  {
   "cell_type": "markdown",
   "id": "d983a841-aaea-4ac0-baf8-773e80052906",
   "metadata": {
    "id": "d983a841-aaea-4ac0-baf8-773e80052906"
   },
   "source": [
    "## Vyhledavame obličej a oramujeme"
   ]
  },
  {
   "cell_type": "code",
   "execution_count": null,
   "id": "6a6d0056-b4dd-4473-bfa3-2f74b12ca098",
   "metadata": {
    "id": "6a6d0056-b4dd-4473-bfa3-2f74b12ca098"
   },
   "outputs": [],
   "source": []
  },
  {
   "cell_type": "code",
   "execution_count": null,
   "id": "5ab34d61-dae7-439a-bd56-6fd57d4cc474",
   "metadata": {
    "id": "5ab34d61-dae7-439a-bd56-6fd57d4cc474"
   },
   "outputs": [],
   "source": [
    "face = oblicej.detectMultiScale(cernobily, 1.1, 4)\n",
    "\n",
    "# scaleFactor=1.3: Určuje, jak moc se velikost obrázku zmenšuje při každém kroku. Nižší hodnota znamená přesnější, ale pomalejší detekci.\n",
    "# minNeighbors=6: Kolik překrytí musí mít detekce, aby byl výsledek považován za platný. Vyšší číslo = méně falešných poplachů, ale může vynechat slabě detekované obličeje.\n",
    "\n",
    "# Kreslime rameček kolem tváře\n",
    "for (x, y, w, h) in face:\n",
    "    cv2.rectangle(obrazek, (x, y), (x+w, y+h), (255, 0, 0), 2)\n",
    "\n",
    "# # Kreslime rameček kolem usměvu\n",
    "oblast_obliceje = cernobily[y:y+h, x:x+w]\n",
    "## usmevy = usmev.detectMultiScale(oblast_obliceje, scaleFactor=1.2, minNeighbors=6)\n",
    "smile = usmev.detectMultiScale(oblast_obliceje, 1.8, 8)\n",
    "\n",
    "for (sx, sy, sw, sh) in smile:\n",
    "    cv2.rectangle(obrazek, (x+sx, y+sy), (x+sx+sw, y+sy+sh), (0, 255, 0), 2)\n",
    "\n",
    "# ## Kreslime rameček kolem brylí\n",
    "glasses = bryle.detectMultiScale(oblast_obliceje, 1.1, 4)\n",
    "for (sgx, sgy, sgw, sgh) in glasses:\n",
    "   cv2.rectangle(obrazek, (x+sgx, y+sgy), (x+sgx+sgw, y+sgy+sgh), (0, 0, 255), 2)\n",
    "\n"
   ]
  },
  {
   "cell_type": "code",
   "execution_count": null,
   "id": "aaea133f-49cb-473a-b303-9461753bfacc",
   "metadata": {
    "id": "aaea133f-49cb-473a-b303-9461753bfacc",
    "outputId": "5aa1d650-6b2e-490c-d54f-64c953dc4d88"
   },
   "outputs": [],
   "source": [
    "plt.imshow(obrazek)"
   ]
  },
  {
   "cell_type": "code",
   "execution_count": null,
   "id": "7afa1c2b-d340-4606-a53c-9046762350a0",
   "metadata": {
    "id": "7afa1c2b-d340-4606-a53c-9046762350a0"
   },
   "outputs": [],
   "source": []
  },
  {
   "cell_type": "markdown",
   "id": "4b004384-a91e-4054-ae80-2494bb643ecf",
   "metadata": {
    "id": "4b004384-a91e-4054-ae80-2494bb643ecf"
   },
   "source": [
    "## Nadpis emoce"
   ]
  },
  {
   "cell_type": "code",
   "execution_count": null,
   "id": "40f66afb-bd30-4624-8fce-b46a3f2161ab",
   "metadata": {
    "id": "40f66afb-bd30-4624-8fce-b46a3f2161ab",
    "outputId": "11dc6856-2e04-4e89-c261-6de39c63cf3e"
   },
   "outputs": [],
   "source": [
    "obrazek.shape[2]"
   ]
  },
  {
   "cell_type": "code",
   "execution_count": null,
   "id": "469a10bd-7efb-4955-b808-26ea46f272bb",
   "metadata": {
    "id": "469a10bd-7efb-4955-b808-26ea46f272bb",
    "outputId": "b32f4a2a-7bf8-4425-a995-357adc70acfb"
   },
   "outputs": [],
   "source": [
    "font = cv2.FONT_ITALIC\n",
    "cv2.putText(obrazek, prediction[0]['dominant_emotion'], (obrazek.shape[1] - 250, 25), font, 1, (255, 0, 0), 2, cv2.LINE_4)\n",
    "plt.imshow(obrazek)"
   ]
  },
  {
   "cell_type": "code",
   "execution_count": null,
   "id": "c902f53e-f52f-4e6e-88b9-23a6fefc134e",
   "metadata": {
    "id": "c902f53e-f52f-4e6e-88b9-23a6fefc134e"
   },
   "outputs": [],
   "source": []
  },
  {
   "cell_type": "code",
   "execution_count": null,
   "id": "be1de3a4-892e-41af-ac8b-2ddc979df102",
   "metadata": {
    "id": "be1de3a4-892e-41af-ac8b-2ddc979df102"
   },
   "outputs": [],
   "source": []
  }
 ],
 "metadata": {
  "colab": {
   "provenance": []
  },
  "kernelspec": {
   "display_name": "Python 3 (ipykernel)",
   "language": "python",
   "name": "python3"
  },
  "language_info": {
   "codemirror_mode": {
    "name": "ipython",
    "version": 3
   },
   "file_extension": ".py",
   "mimetype": "text/x-python",
   "name": "python",
   "nbconvert_exporter": "python",
   "pygments_lexer": "ipython3",
   "version": "3.12.7"
  }
 },
 "nbformat": 4,
 "nbformat_minor": 5
}
