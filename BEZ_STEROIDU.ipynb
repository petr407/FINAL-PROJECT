{
 "cells": [
  {
   "cell_type": "code",
   "execution_count": 20,
   "id": "e2f85d1e-2300-436c-bc97-c1808d2edccd",
   "metadata": {
    "colab": {
     "base_uri": "https://localhost:8080/"
    },
    "id": "e2f85d1e-2300-436c-bc97-c1808d2edccd",
    "outputId": "0f0a1c51-31c4-4bd5-d8b0-e9a5b8386504"
   },
   "outputs": [
    {
     "name": "stdout",
     "output_type": "stream",
     "text": [
      "Requirement already satisfied: deepface in c:\\users\\zitao\\anaconda3\\lib\\site-packages (0.0.93)Note: you may need to restart the kernel to use updated packages.\n",
      "\n",
      "Requirement already satisfied: requests>=2.27.1 in c:\\users\\zitao\\anaconda3\\lib\\site-packages (from deepface) (2.32.3)\n",
      "Requirement already satisfied: numpy>=1.14.0 in c:\\users\\zitao\\anaconda3\\lib\\site-packages (from deepface) (1.26.4)\n",
      "Requirement already satisfied: pandas>=0.23.4 in c:\\users\\zitao\\anaconda3\\lib\\site-packages (from deepface) (2.2.2)\n",
      "Requirement already satisfied: gdown>=3.10.1 in c:\\users\\zitao\\anaconda3\\lib\\site-packages (from deepface) (5.2.0)\n",
      "Requirement already satisfied: tqdm>=4.30.0 in c:\\users\\zitao\\anaconda3\\lib\\site-packages (from deepface) (4.66.5)\n",
      "Requirement already satisfied: Pillow>=5.2.0 in c:\\users\\zitao\\anaconda3\\lib\\site-packages (from deepface) (10.4.0)\n",
      "Requirement already satisfied: opencv-python>=4.5.5.64 in c:\\users\\zitao\\anaconda3\\lib\\site-packages (from deepface) (4.11.0.86)\n",
      "Requirement already satisfied: tensorflow>=1.9.0 in c:\\users\\zitao\\anaconda3\\lib\\site-packages (from deepface) (2.18.0)\n",
      "Requirement already satisfied: keras>=2.2.0 in c:\\users\\zitao\\anaconda3\\lib\\site-packages (from deepface) (3.8.0)\n",
      "Requirement already satisfied: Flask>=1.1.2 in c:\\users\\zitao\\anaconda3\\lib\\site-packages (from deepface) (3.0.3)\n",
      "Requirement already satisfied: flask-cors>=4.0.1 in c:\\users\\zitao\\anaconda3\\lib\\site-packages (from deepface) (5.0.1)\n",
      "Requirement already satisfied: mtcnn>=0.1.0 in c:\\users\\zitao\\anaconda3\\lib\\site-packages (from deepface) (1.0.0)\n",
      "Requirement already satisfied: retina-face>=0.0.1 in c:\\users\\zitao\\anaconda3\\lib\\site-packages (from deepface) (0.0.17)\n",
      "Requirement already satisfied: fire>=0.4.0 in c:\\users\\zitao\\anaconda3\\lib\\site-packages (from deepface) (0.7.0)\n",
      "Requirement already satisfied: gunicorn>=20.1.0 in c:\\users\\zitao\\anaconda3\\lib\\site-packages (from deepface) (23.0.0)\n",
      "Requirement already satisfied: termcolor in c:\\users\\zitao\\anaconda3\\lib\\site-packages (from fire>=0.4.0->deepface) (2.5.0)\n",
      "Requirement already satisfied: Werkzeug>=3.0.0 in c:\\users\\zitao\\anaconda3\\lib\\site-packages (from Flask>=1.1.2->deepface) (3.0.3)\n",
      "Requirement already satisfied: Jinja2>=3.1.2 in c:\\users\\zitao\\anaconda3\\lib\\site-packages (from Flask>=1.1.2->deepface) (3.1.4)\n",
      "Requirement already satisfied: itsdangerous>=2.1.2 in c:\\users\\zitao\\anaconda3\\lib\\site-packages (from Flask>=1.1.2->deepface) (2.2.0)\n",
      "Requirement already satisfied: click>=8.1.3 in c:\\users\\zitao\\anaconda3\\lib\\site-packages (from Flask>=1.1.2->deepface) (8.1.7)\n",
      "Requirement already satisfied: blinker>=1.6.2 in c:\\users\\zitao\\anaconda3\\lib\\site-packages (from Flask>=1.1.2->deepface) (1.6.2)\n",
      "Requirement already satisfied: beautifulsoup4 in c:\\users\\zitao\\anaconda3\\lib\\site-packages (from gdown>=3.10.1->deepface) (4.12.3)\n",
      "Requirement already satisfied: filelock in c:\\users\\zitao\\anaconda3\\lib\\site-packages (from gdown>=3.10.1->deepface) (3.13.1)\n",
      "Requirement already satisfied: packaging in c:\\users\\zitao\\anaconda3\\lib\\site-packages (from gunicorn>=20.1.0->deepface) (24.1)\n",
      "Requirement already satisfied: absl-py in c:\\users\\zitao\\anaconda3\\lib\\site-packages (from keras>=2.2.0->deepface) (2.1.0)\n",
      "Requirement already satisfied: rich in c:\\users\\zitao\\anaconda3\\lib\\site-packages (from keras>=2.2.0->deepface) (13.7.1)\n",
      "Requirement already satisfied: namex in c:\\users\\zitao\\anaconda3\\lib\\site-packages (from keras>=2.2.0->deepface) (0.0.8)\n",
      "Requirement already satisfied: h5py in c:\\users\\zitao\\anaconda3\\lib\\site-packages (from keras>=2.2.0->deepface) (3.11.0)\n",
      "Requirement already satisfied: optree in c:\\users\\zitao\\anaconda3\\lib\\site-packages (from keras>=2.2.0->deepface) (0.14.0)\n",
      "Requirement already satisfied: ml-dtypes in c:\\users\\zitao\\anaconda3\\lib\\site-packages (from keras>=2.2.0->deepface) (0.4.1)\n",
      "Requirement already satisfied: joblib>=1.4.2 in c:\\users\\zitao\\anaconda3\\lib\\site-packages (from mtcnn>=0.1.0->deepface) (1.4.2)\n",
      "Requirement already satisfied: lz4>=4.3.3 in c:\\users\\zitao\\anaconda3\\lib\\site-packages (from mtcnn>=0.1.0->deepface) (4.4.3)\n",
      "Requirement already satisfied: python-dateutil>=2.8.2 in c:\\users\\zitao\\anaconda3\\lib\\site-packages (from pandas>=0.23.4->deepface) (2.9.0.post0)\n",
      "Requirement already satisfied: pytz>=2020.1 in c:\\users\\zitao\\anaconda3\\lib\\site-packages (from pandas>=0.23.4->deepface) (2024.1)\n",
      "Requirement already satisfied: tzdata>=2022.7 in c:\\users\\zitao\\anaconda3\\lib\\site-packages (from pandas>=0.23.4->deepface) (2023.3)\n",
      "Requirement already satisfied: charset-normalizer<4,>=2 in c:\\users\\zitao\\anaconda3\\lib\\site-packages (from requests>=2.27.1->deepface) (3.3.2)\n",
      "Requirement already satisfied: idna<4,>=2.5 in c:\\users\\zitao\\anaconda3\\lib\\site-packages (from requests>=2.27.1->deepface) (3.7)\n",
      "Requirement already satisfied: urllib3<3,>=1.21.1 in c:\\users\\zitao\\anaconda3\\lib\\site-packages (from requests>=2.27.1->deepface) (2.2.3)\n",
      "Requirement already satisfied: certifi>=2017.4.17 in c:\\users\\zitao\\anaconda3\\lib\\site-packages (from requests>=2.27.1->deepface) (2025.1.31)\n",
      "Requirement already satisfied: tensorflow-intel==2.18.0 in c:\\users\\zitao\\anaconda3\\lib\\site-packages (from tensorflow>=1.9.0->deepface) (2.18.0)\n",
      "Requirement already satisfied: astunparse>=1.6.0 in c:\\users\\zitao\\anaconda3\\lib\\site-packages (from tensorflow-intel==2.18.0->tensorflow>=1.9.0->deepface) (1.6.3)\n",
      "Requirement already satisfied: flatbuffers>=24.3.25 in c:\\users\\zitao\\anaconda3\\lib\\site-packages (from tensorflow-intel==2.18.0->tensorflow>=1.9.0->deepface) (25.2.10)\n",
      "Requirement already satisfied: gast!=0.5.0,!=0.5.1,!=0.5.2,>=0.2.1 in c:\\users\\zitao\\anaconda3\\lib\\site-packages (from tensorflow-intel==2.18.0->tensorflow>=1.9.0->deepface) (0.6.0)\n",
      "Requirement already satisfied: google-pasta>=0.1.1 in c:\\users\\zitao\\anaconda3\\lib\\site-packages (from tensorflow-intel==2.18.0->tensorflow>=1.9.0->deepface) (0.2.0)\n",
      "Requirement already satisfied: libclang>=13.0.0 in c:\\users\\zitao\\anaconda3\\lib\\site-packages (from tensorflow-intel==2.18.0->tensorflow>=1.9.0->deepface) (18.1.1)\n",
      "Requirement already satisfied: opt-einsum>=2.3.2 in c:\\users\\zitao\\anaconda3\\lib\\site-packages (from tensorflow-intel==2.18.0->tensorflow>=1.9.0->deepface) (3.4.0)\n",
      "Requirement already satisfied: protobuf!=4.21.0,!=4.21.1,!=4.21.2,!=4.21.3,!=4.21.4,!=4.21.5,<6.0.0dev,>=3.20.3 in c:\\users\\zitao\\anaconda3\\lib\\site-packages (from tensorflow-intel==2.18.0->tensorflow>=1.9.0->deepface) (4.25.3)\n",
      "Requirement already satisfied: setuptools in c:\\users\\zitao\\anaconda3\\lib\\site-packages (from tensorflow-intel==2.18.0->tensorflow>=1.9.0->deepface) (75.1.0)\n",
      "Requirement already satisfied: six>=1.12.0 in c:\\users\\zitao\\anaconda3\\lib\\site-packages (from tensorflow-intel==2.18.0->tensorflow>=1.9.0->deepface) (1.16.0)\n",
      "Requirement already satisfied: typing-extensions>=3.6.6 in c:\\users\\zitao\\anaconda3\\lib\\site-packages (from tensorflow-intel==2.18.0->tensorflow>=1.9.0->deepface) (4.11.0)\n",
      "Requirement already satisfied: wrapt>=1.11.0 in c:\\users\\zitao\\anaconda3\\lib\\site-packages (from tensorflow-intel==2.18.0->tensorflow>=1.9.0->deepface) (1.14.1)\n",
      "Requirement already satisfied: grpcio<2.0,>=1.24.3 in c:\\users\\zitao\\anaconda3\\lib\\site-packages (from tensorflow-intel==2.18.0->tensorflow>=1.9.0->deepface) (1.70.0)\n",
      "Requirement already satisfied: tensorboard<2.19,>=2.18 in c:\\users\\zitao\\anaconda3\\lib\\site-packages (from tensorflow-intel==2.18.0->tensorflow>=1.9.0->deepface) (2.18.0)\n",
      "Requirement already satisfied: colorama in c:\\users\\zitao\\anaconda3\\lib\\site-packages (from tqdm>=4.30.0->deepface) (0.4.6)\n",
      "Requirement already satisfied: MarkupSafe>=2.0 in c:\\users\\zitao\\anaconda3\\lib\\site-packages (from Jinja2>=3.1.2->Flask>=1.1.2->deepface) (2.1.3)\n",
      "Requirement already satisfied: soupsieve>1.2 in c:\\users\\zitao\\anaconda3\\lib\\site-packages (from beautifulsoup4->gdown>=3.10.1->deepface) (2.5)\n",
      "Requirement already satisfied: PySocks!=1.5.7,>=1.5.6 in c:\\users\\zitao\\anaconda3\\lib\\site-packages (from requests[socks]->gdown>=3.10.1->deepface) (1.7.1)\n",
      "Requirement already satisfied: markdown-it-py>=2.2.0 in c:\\users\\zitao\\anaconda3\\lib\\site-packages (from rich->keras>=2.2.0->deepface) (2.2.0)\n",
      "Requirement already satisfied: pygments<3.0.0,>=2.13.0 in c:\\users\\zitao\\anaconda3\\lib\\site-packages (from rich->keras>=2.2.0->deepface) (2.15.1)\n",
      "Requirement already satisfied: wheel<1.0,>=0.23.0 in c:\\users\\zitao\\anaconda3\\lib\\site-packages (from astunparse>=1.6.0->tensorflow-intel==2.18.0->tensorflow>=1.9.0->deepface) (0.44.0)\n",
      "Requirement already satisfied: mdurl~=0.1 in c:\\users\\zitao\\anaconda3\\lib\\site-packages (from markdown-it-py>=2.2.0->rich->keras>=2.2.0->deepface) (0.1.0)\n",
      "Requirement already satisfied: markdown>=2.6.8 in c:\\users\\zitao\\anaconda3\\lib\\site-packages (from tensorboard<2.19,>=2.18->tensorflow-intel==2.18.0->tensorflow>=1.9.0->deepface) (3.4.1)\n",
      "Requirement already satisfied: tensorboard-data-server<0.8.0,>=0.7.0 in c:\\users\\zitao\\anaconda3\\lib\\site-packages (from tensorboard<2.19,>=2.18->tensorflow-intel==2.18.0->tensorflow>=1.9.0->deepface) (0.7.2)\n"
     ]
    }
   ],
   "source": [
    "pip install deepface"
   ]
  },
  {
   "cell_type": "code",
   "execution_count": 21,
   "id": "5f6bb675-6506-4176-8a45-89c0fd263120",
   "metadata": {
    "id": "5f6bb675-6506-4176-8a45-89c0fd263120"
   },
   "outputs": [],
   "source": [
    "##  DeepFace je open-source knihovna pro rozpoznávání obličejů pomocí hlubokého učení. Umožňuje snadné použití předtrénovaných modelů pro analýzu tváří, včetně.\n",
    "## Odhad pohlaví a věku, Rozpoznání obličeje (identifikace osoby), Analýza emocí (šťastný, smutný, naštvaný atd.)"
   ]
  },
  {
   "cell_type": "code",
   "execution_count": 23,
   "id": "e290ac10-c45f-4205-a7f0-2c0d5f419924",
   "metadata": {
    "colab": {
     "base_uri": "https://localhost:8080/"
    },
    "id": "e290ac10-c45f-4205-a7f0-2c0d5f419924",
    "outputId": "6efbbc0a-196a-4ae7-9db3-2f6309fa594d"
   },
   "outputs": [
    {
     "name": "stdout",
     "output_type": "stream",
     "text": [
      "Requirement already satisfied: tf-keras in c:\\users\\zitao\\anaconda3\\lib\\site-packages (2.18.0)\n",
      "Requirement already satisfied: tensorflow<2.19,>=2.18 in c:\\users\\zitao\\anaconda3\\lib\\site-packages (from tf-keras) (2.18.0)\n",
      "Requirement already satisfied: tensorflow-intel==2.18.0 in c:\\users\\zitao\\anaconda3\\lib\\site-packages (from tensorflow<2.19,>=2.18->tf-keras) (2.18.0)\n",
      "Requirement already satisfied: absl-py>=1.0.0 in c:\\users\\zitao\\anaconda3\\lib\\site-packages (from tensorflow-intel==2.18.0->tensorflow<2.19,>=2.18->tf-keras) (2.1.0)\n",
      "Requirement already satisfied: astunparse>=1.6.0 in c:\\users\\zitao\\anaconda3\\lib\\site-packages (from tensorflow-intel==2.18.0->tensorflow<2.19,>=2.18->tf-keras) (1.6.3)\n",
      "Requirement already satisfied: flatbuffers>=24.3.25 in c:\\users\\zitao\\anaconda3\\lib\\site-packages (from tensorflow-intel==2.18.0->tensorflow<2.19,>=2.18->tf-keras) (25.2.10)\n",
      "Requirement already satisfied: gast!=0.5.0,!=0.5.1,!=0.5.2,>=0.2.1 in c:\\users\\zitao\\anaconda3\\lib\\site-packages (from tensorflow-intel==2.18.0->tensorflow<2.19,>=2.18->tf-keras) (0.6.0)\n",
      "Requirement already satisfied: google-pasta>=0.1.1 in c:\\users\\zitao\\anaconda3\\lib\\site-packages (from tensorflow-intel==2.18.0->tensorflow<2.19,>=2.18->tf-keras) (0.2.0)\n",
      "Requirement already satisfied: libclang>=13.0.0 in c:\\users\\zitao\\anaconda3\\lib\\site-packages (from tensorflow-intel==2.18.0->tensorflow<2.19,>=2.18->tf-keras) (18.1.1)\n",
      "Requirement already satisfied: opt-einsum>=2.3.2 in c:\\users\\zitao\\anaconda3\\lib\\site-packages (from tensorflow-intel==2.18.0->tensorflow<2.19,>=2.18->tf-keras) (3.4.0)\n",
      "Requirement already satisfied: packaging in c:\\users\\zitao\\anaconda3\\lib\\site-packages (from tensorflow-intel==2.18.0->tensorflow<2.19,>=2.18->tf-keras) (24.1)\n",
      "Requirement already satisfied: protobuf!=4.21.0,!=4.21.1,!=4.21.2,!=4.21.3,!=4.21.4,!=4.21.5,<6.0.0dev,>=3.20.3 in c:\\users\\zitao\\anaconda3\\lib\\site-packages (from tensorflow-intel==2.18.0->tensorflow<2.19,>=2.18->tf-keras) (4.25.3)\n",
      "Requirement already satisfied: requests<3,>=2.21.0 in c:\\users\\zitao\\anaconda3\\lib\\site-packages (from tensorflow-intel==2.18.0->tensorflow<2.19,>=2.18->tf-keras) (2.32.3)\n",
      "Requirement already satisfied: setuptools in c:\\users\\zitao\\anaconda3\\lib\\site-packages (from tensorflow-intel==2.18.0->tensorflow<2.19,>=2.18->tf-keras) (75.1.0)\n",
      "Requirement already satisfied: six>=1.12.0 in c:\\users\\zitao\\anaconda3\\lib\\site-packages (from tensorflow-intel==2.18.0->tensorflow<2.19,>=2.18->tf-keras) (1.16.0)\n",
      "Requirement already satisfied: termcolor>=1.1.0 in c:\\users\\zitao\\anaconda3\\lib\\site-packages (from tensorflow-intel==2.18.0->tensorflow<2.19,>=2.18->tf-keras) (2.5.0)\n",
      "Requirement already satisfied: typing-extensions>=3.6.6 in c:\\users\\zitao\\anaconda3\\lib\\site-packages (from tensorflow-intel==2.18.0->tensorflow<2.19,>=2.18->tf-keras) (4.11.0)\n",
      "Requirement already satisfied: wrapt>=1.11.0 in c:\\users\\zitao\\anaconda3\\lib\\site-packages (from tensorflow-intel==2.18.0->tensorflow<2.19,>=2.18->tf-keras) (1.14.1)\n",
      "Requirement already satisfied: grpcio<2.0,>=1.24.3 in c:\\users\\zitao\\anaconda3\\lib\\site-packages (from tensorflow-intel==2.18.0->tensorflow<2.19,>=2.18->tf-keras) (1.70.0)\n",
      "Requirement already satisfied: tensorboard<2.19,>=2.18 in c:\\users\\zitao\\anaconda3\\lib\\site-packages (from tensorflow-intel==2.18.0->tensorflow<2.19,>=2.18->tf-keras) (2.18.0)\n",
      "Requirement already satisfied: keras>=3.5.0 in c:\\users\\zitao\\anaconda3\\lib\\site-packages (from tensorflow-intel==2.18.0->tensorflow<2.19,>=2.18->tf-keras) (3.8.0)\n",
      "Requirement already satisfied: numpy<2.1.0,>=1.26.0 in c:\\users\\zitao\\anaconda3\\lib\\site-packages (from tensorflow-intel==2.18.0->tensorflow<2.19,>=2.18->tf-keras) (1.26.4)\n",
      "Requirement already satisfied: h5py>=3.11.0 in c:\\users\\zitao\\anaconda3\\lib\\site-packages (from tensorflow-intel==2.18.0->tensorflow<2.19,>=2.18->tf-keras) (3.11.0)\n",
      "Requirement already satisfied: ml-dtypes<0.5.0,>=0.4.0 in c:\\users\\zitao\\anaconda3\\lib\\site-packages (from tensorflow-intel==2.18.0->tensorflow<2.19,>=2.18->tf-keras) (0.4.1)\n",
      "Requirement already satisfied: wheel<1.0,>=0.23.0 in c:\\users\\zitao\\anaconda3\\lib\\site-packages (from astunparse>=1.6.0->tensorflow-intel==2.18.0->tensorflow<2.19,>=2.18->tf-keras) (0.44.0)\n",
      "Requirement already satisfied: rich in c:\\users\\zitao\\anaconda3\\lib\\site-packages (from keras>=3.5.0->tensorflow-intel==2.18.0->tensorflow<2.19,>=2.18->tf-keras) (13.7.1)\n",
      "Requirement already satisfied: namex in c:\\users\\zitao\\anaconda3\\lib\\site-packages (from keras>=3.5.0->tensorflow-intel==2.18.0->tensorflow<2.19,>=2.18->tf-keras) (0.0.8)\n",
      "Requirement already satisfied: optree in c:\\users\\zitao\\anaconda3\\lib\\site-packages (from keras>=3.5.0->tensorflow-intel==2.18.0->tensorflow<2.19,>=2.18->tf-keras) (0.14.0)\n",
      "Requirement already satisfied: charset-normalizer<4,>=2 in c:\\users\\zitao\\anaconda3\\lib\\site-packages (from requests<3,>=2.21.0->tensorflow-intel==2.18.0->tensorflow<2.19,>=2.18->tf-keras) (3.3.2)\n",
      "Requirement already satisfied: idna<4,>=2.5 in c:\\users\\zitao\\anaconda3\\lib\\site-packages (from requests<3,>=2.21.0->tensorflow-intel==2.18.0->tensorflow<2.19,>=2.18->tf-keras) (3.7)\n",
      "Requirement already satisfied: urllib3<3,>=1.21.1 in c:\\users\\zitao\\anaconda3\\lib\\site-packages (from requests<3,>=2.21.0->tensorflow-intel==2.18.0->tensorflow<2.19,>=2.18->tf-keras) (2.2.3)\n",
      "Requirement already satisfied: certifi>=2017.4.17 in c:\\users\\zitao\\anaconda3\\lib\\site-packages (from requests<3,>=2.21.0->tensorflow-intel==2.18.0->tensorflow<2.19,>=2.18->tf-keras) (2025.1.31)\n",
      "Requirement already satisfied: markdown>=2.6.8 in c:\\users\\zitao\\anaconda3\\lib\\site-packages (from tensorboard<2.19,>=2.18->tensorflow-intel==2.18.0->tensorflow<2.19,>=2.18->tf-keras) (3.4.1)\n",
      "Requirement already satisfied: tensorboard-data-server<0.8.0,>=0.7.0 in c:\\users\\zitao\\anaconda3\\lib\\site-packages (from tensorboard<2.19,>=2.18->tensorflow-intel==2.18.0->tensorflow<2.19,>=2.18->tf-keras) (0.7.2)\n",
      "Requirement already satisfied: werkzeug>=1.0.1 in c:\\users\\zitao\\anaconda3\\lib\\site-packages (from tensorboard<2.19,>=2.18->tensorflow-intel==2.18.0->tensorflow<2.19,>=2.18->tf-keras) (3.0.3)\n",
      "Requirement already satisfied: MarkupSafe>=2.1.1 in c:\\users\\zitao\\anaconda3\\lib\\site-packages (from werkzeug>=1.0.1->tensorboard<2.19,>=2.18->tensorflow-intel==2.18.0->tensorflow<2.19,>=2.18->tf-keras) (2.1.3)\n",
      "Requirement already satisfied: markdown-it-py>=2.2.0 in c:\\users\\zitao\\anaconda3\\lib\\site-packages (from rich->keras>=3.5.0->tensorflow-intel==2.18.0->tensorflow<2.19,>=2.18->tf-keras) (2.2.0)\n",
      "Requirement already satisfied: pygments<3.0.0,>=2.13.0 in c:\\users\\zitao\\anaconda3\\lib\\site-packages (from rich->keras>=3.5.0->tensorflow-intel==2.18.0->tensorflow<2.19,>=2.18->tf-keras) (2.15.1)\n",
      "Requirement already satisfied: mdurl~=0.1 in c:\\users\\zitao\\anaconda3\\lib\\site-packages (from markdown-it-py>=2.2.0->rich->keras>=3.5.0->tensorflow-intel==2.18.0->tensorflow<2.19,>=2.18->tf-keras) (0.1.0)\n",
      "Note: you may need to restart the kernel to use updated packages.\n"
     ]
    }
   ],
   "source": [
    "pip install tf-keras"
   ]
  },
  {
   "cell_type": "code",
   "execution_count": 141,
   "id": "30fd4e71-4e71-482f-a1de-fce9d4e96549",
   "metadata": {
    "id": "30fd4e71-4e71-482f-a1de-fce9d4e96549"
   },
   "outputs": [],
   "source": [
    "import pandas as pd\n",
    "import numpy as np\n",
    "import matplotlib.pyplot as plt\n",
    "import cv2\n",
    "from deepface import DeepFace\n",
    "import os"
   ]
  },
  {
   "cell_type": "code",
   "execution_count": 142,
   "id": "d2bffd30-9c8d-40f6-ab5c-d16d5699e2b6",
   "metadata": {
    "id": "d2bffd30-9c8d-40f6-ab5c-d16d5699e2b6"
   },
   "outputs": [],
   "source": [
    "obrazek = cv2.imread('Training_94973918.jpg') # načítam obrazek\n",
    "## obrazek = obrazek.resize(512, 420)\n",
    "## obrazek = cv2.imread('Training_10120469.jpg') # načítam obrazek\n",
    "## obrazek = cv2.cvtColor(obrazek, cv2.COLOR_GRAY2RGB)  # konverze barev z BlueGreenRed na RedGreenB\n",
    "## obrazek"
   ]
  },
  {
   "cell_type": "code",
   "execution_count": 143,
   "id": "926e2c94-d01f-4037-a223-27a3a1e60b7d",
   "metadata": {},
   "outputs": [],
   "source": [
    "##  Zjištění kolik kanálu má fotka.\n",
    "\n",
    "# obrazek = cv2.imread('Training_10120469.jpg')  # Načtení obrázku\n",
    "\n",
    "# if obrazek is None:\n",
    "#     print(\"Chyba: Obrázek se nepodařilo načíst.\")\n",
    "# else:\n",
    "#     print(f\"Rozměry obrázku: {obrazek.shape}\")  # Výstup: (výška, šířka, kanály)\n",
    "\n",
    "#     if len(obrazek.shape) == 2:  # Černobílý obrázek\n",
    "#          obrazek = cv2.cvtColor(obrazek, cv2.COLOR_GRAY2RGB)\n",
    "#     elif obrazek.shape[2] == 3:  # Již barevný obrázek\n",
    "#          print(\"Obrázek je již RGB/BGR, konverze není nutná.\")\n",
    "#     else:\n",
    "#          print(\"Neočekávaný formát obrázku.\")"
   ]
  },
  {
   "cell_type": "code",
   "execution_count": 144,
   "id": "b17c4337-70e9-489e-a5b2-2b6e1083335c",
   "metadata": {},
   "outputs": [
    {
     "data": {
      "text/plain": [
       "<matplotlib.image.AxesImage at 0x27019c5aa80>"
      ]
     },
     "execution_count": 144,
     "metadata": {},
     "output_type": "execute_result"
    },
    {
     "data": {
      "image/png": "[encoded data removed]",
      "text/plain": [
       "<Figure size 640x480 with 1 Axes>"
      ]
     },
     "metadata": {},
     "output_type": "display_data"
    }
   ],
   "source": [
    "## plt.imshow(obrazek, cmap='gray')\n",
    "plt.imshow(obrazek)"
   ]
  },
  {
   "cell_type": "code",
   "execution_count": null,
   "id": "1e2f69a5-22a4-4de6-8b46-6b158cf235a4",
   "metadata": {},
   "outputs": [],
   "source": []
  },
  {
   "cell_type": "code",
   "execution_count": null,
   "id": "5a8b0395-3d4c-426a-aa65-ad1e8e5ed9dc",
   "metadata": {
    "id": "5a8b0395-3d4c-426a-aa65-ad1e8e5ed9dc"
   },
   "outputs": [],
   "source": []
  },
  {
   "cell_type": "markdown",
   "id": "XVr1EA8rjLNJ",
   "metadata": {
    "id": "XVr1EA8rjLNJ"
   },
   "source": [
    "Krok číslo 1.\n",
    " - definice cesty k adresáří s emocemi path =\n",
    " C:\\Users\\zitao\\Documents\\PETR\\DATA SCIENCE\\EMOCE\\train\n",
    "\n",
    " - definice cesty k adresáři s konkrétními emocemi\n",
    "\n",
    " - definice cesty ke kontrétnimu souboru/fotce\n",
    " - pokud výsledek analýzy emoce z fotky nebude odpovídat názvu složky \"emoce\" zapiš název souboru, který právě zkoumáne, zapiš do seznamu nevhodných souborů ( fotku, kterou nechceme)\n",
    " - Opakuj pro každý soubor v dané složce -->"
   ]
  },
  {
   "cell_type": "code",
   "execution_count": null,
   "id": "twOXmB5yuc0Q",
   "metadata": {
    "id": "twOXmB5yuc0Q"
   },
   "outputs": [],
   "source": []
  },
  {
   "cell_type": "markdown",
   "id": "19c298f4-e48f-44da-bb83-884086ae57b9",
   "metadata": {
    "id": "19c298f4-e48f-44da-bb83-884086ae57b9"
   },
   "source": [
    "## Zobrazení obrázku na plotu"
   ]
  },
  {
   "cell_type": "code",
   "execution_count": 146,
   "id": "TofI2Qjmo3kd",
   "metadata": {
    "id": "TofI2Qjmo3kd"
   },
   "outputs": [],
   "source": [
    "path = r\"C:\\Users\\zitao\\Documents\\PETR\\DATA_SCIENCE\\EMOCE\""
   ]
  },
  {
   "cell_type": "markdown",
   "id": "1kKd2-JyrLPB",
   "metadata": {
    "id": "1kKd2-JyrLPB"
   },
   "source": []
  },
  {
   "cell_type": "code",
   "execution_count": 27,
   "id": "xNJhbA3TxCGC",
   "metadata": {
    "colab": {
     "base_uri": "https://localhost:8080/",
     "height": 158
    },
    "id": "xNJhbA3TxCGC",
    "outputId": "e1761377-b16f-4430-e7a1-c1b456f23f93"
   },
   "outputs": [
    {
     "data": {
      "text/plain": [
       "['angry',\n",
       " 'angry_mimo',\n",
       " 'disgust',\n",
       " 'fear',\n",
       " 'happy',\n",
       " 'neutral',\n",
       " 'sad',\n",
       " 'surprise']"
      ]
     },
     "execution_count": 27,
     "metadata": {},
     "output_type": "execute_result"
    }
   ],
   "source": [
    "fotky_emoce = os.listdir(f\"{path}/train\")\n",
    "fotky_emoce"
   ]
  },
  {
   "cell_type": "code",
   "execution_count": 28,
   "id": "0rzklFpvnwfu",
   "metadata": {
    "id": "0rzklFpvnwfu"
   },
   "outputs": [
    {
     "data": {
      "text/plain": [
       "8"
      ]
     },
     "execution_count": 28,
     "metadata": {},
     "output_type": "execute_result"
    }
   ],
   "source": [
    "len(fotky_emoce)"
   ]
  },
  {
   "cell_type": "code",
   "execution_count": 29,
   "id": "db03e791-02ec-45f1-acef-19f803ded7a3",
   "metadata": {},
   "outputs": [],
   "source": [
    "nazev_složky = fotky_emoce [0]"
   ]
  },
  {
   "cell_type": "code",
   "execution_count": 30,
   "id": "be5e5792-a29a-462d-a48c-d2ae57c23c19",
   "metadata": {
    "id": "be5e5792-a29a-462d-a48c-d2ae57c23c19",
    "outputId": "ebb83d9d-0f03-429f-db9f-c2984ccf7c41"
   },
   "outputs": [],
   "source": [
    "## plt.imshow(obrazek)\n",
    "## plt.show()"
   ]
  },
  {
   "cell_type": "code",
   "execution_count": 73,
   "id": "71b538fa-681b-43e7-b69e-dff4a2475a7f",
   "metadata": {
    "id": "71b538fa-681b-43e7-b69e-dff4a2475a7f"
   },
   "outputs": [],
   "source": [
    "seznam_souboru = os.listdir(f\"{path}/train/{nazev_složky}\")"
   ]
  },
  {
   "cell_type": "code",
   "execution_count": 74,
   "id": "f58902bd-853a-4e93-82ad-14cb0c3f1b35",
   "metadata": {},
   "outputs": [],
   "source": [
    "cesta_angry = (f\"{path}/train/{nazev_složky}\")"
   ]
  },
  {
   "cell_type": "code",
   "execution_count": 75,
   "id": "11746499-c99e-4b65-8ec2-18353c9499cb",
   "metadata": {},
   "outputs": [
    {
     "data": {
      "text/plain": [
       "'C:\\\\Users\\\\zitao\\\\Documents\\\\PETR\\\\DATA_SCIENCE\\\\EMOCE/train/angry'"
      ]
     },
     "execution_count": 75,
     "metadata": {},
     "output_type": "execute_result"
    }
   ],
   "source": [
    "cesta_angry"
   ]
  },
  {
   "cell_type": "code",
   "execution_count": 76,
   "id": "6c9663f1-1475-48a0-bd4a-fa0f3541382d",
   "metadata": {},
   "outputs": [
    {
     "data": {
      "text/plain": [
       "60"
      ]
     },
     "execution_count": 76,
     "metadata": {},
     "output_type": "execute_result"
    }
   ],
   "source": [
    "len(cesta_angry)"
   ]
  },
  {
   "cell_type": "markdown",
   "id": "6c434c8d-40bc-45b2-b513-78bd3a559d78",
   "metadata": {
    "id": "6c434c8d-40bc-45b2-b513-78bd3a559d78"
   },
   "source": [
    "## Analýza obrázku"
   ]
  },
  {
   "cell_type": "code",
   "execution_count": 165,
   "id": "56d36f46-254f-42d1-a54f-eca1d71b69c5",
   "metadata": {},
   "outputs": [],
   "source": [
    "## definice seznamu obrázků\n",
    "seznam_obrazku = []"
   ]
  },
  {
   "cell_type": "code",
   "execution_count": 166,
   "id": "7309a7a1-f5f7-4836-a753-7e57ccab83eb",
   "metadata": {},
   "outputs": [],
   "source": [
    "počet = 0\n",
    "obrazek_analyza = \"\""
   ]
  },
  {
   "cell_type": "code",
   "execution_count": 167,
   "id": "5e587f3c-6293-4494-9c01-131e8cfa1b13",
   "metadata": {},
   "outputs": [],
   "source": [
    "obrazek_analyza = cv2.imread(f\"{cesta_angry}/Training_94973918.jpg\") # načítam obrazek\n",
    "## obrazek = cv2.cvtColor(obrazek, cv2.COLOR_GRAY2BGR)  # konverze barev z BlueGreenRed na RedGreenB\n",
    "## prediction = DeepFace.analyze(obrazek,  actions = ['emotion'])"
   ]
  },
  {
   "cell_type": "code",
   "execution_count": 168,
   "id": "247d5fb2-687e-4b55-9224-0d339cfb356e",
   "metadata": {},
   "outputs": [
    {
     "data": {
      "text/plain": [
       "<matplotlib.image.AxesImage at 0x27019f9e4e0>"
      ]
     },
     "execution_count": 168,
     "metadata": {},
     "output_type": "execute_result"
    },
    {
     "data": {
      "image/png": "[encoded data removed]",
      "text/plain": [
       "<Figure size 640x480 with 1 Axes>"
      ]
     },
     "metadata": {},
     "output_type": "display_data"
    }
   ],
   "source": [
    "plt.imshow(obrazek_analyza)"
   ]
  },
  {
   "cell_type": "code",
   "execution_count": 173,
   "id": "83d3b55d-e789-42d9-a86e-e932f91b31ed",
   "metadata": {},
   "outputs": [
    {
     "name": "stderr",
     "output_type": "stream",
     "text": [
      "Action: race: 100%|██████████| 4/4 [00:15<00:00,  3.96s/it]  \n"
     ]
    }
   ],
   "source": [
    " prediction_analyza = DeepFace.analyze(obrazek_analyza, enforce_detection=False)"
   ]
  },
  {
   "cell_type": "code",
   "execution_count": 174,
   "id": "39912568-2b9a-4c56-b6fe-44594779c38d",
   "metadata": {},
   "outputs": [
    {
     "data": {
      "text/plain": [
       "[{'emotion': {'angry': 99.1403044294948,\n",
       "   'disgust': 1.0102687446591701e-09,\n",
       "   'fear': 1.2578935503601103e-05,\n",
       "   'happy': 1.9632406691434825e-07,\n",
       "   'sad': 0.4974305036746855,\n",
       "   'surprise': 2.844626523846375e-05,\n",
       "   'neutral': 0.3622286288391198},\n",
       "  'dominant_emotion': 'angry',\n",
       "  'region': {'x': 0,\n",
       "   'y': 0,\n",
       "   'w': 47,\n",
       "   'h': 47,\n",
       "   'left_eye': None,\n",
       "   'right_eye': None},\n",
       "  'face_confidence': 0,\n",
       "  'age': 35,\n",
       "  'gender': {'Woman': 0.008875964704202488, 'Man': 99.99111890792847},\n",
       "  'dominant_gender': 'Man',\n",
       "  'race': {'asian': 99.93545413017273,\n",
       "   'indian': 0.023023773974273354,\n",
       "   'black': 0.014961551642045379,\n",
       "   'white': 0.01480064820498228,\n",
       "   'middle eastern': 0.00042622341425158083,\n",
       "   'latino hispanic': 0.011333989823469892},\n",
       "  'dominant_race': 'asian'}]"
      ]
     },
     "execution_count": 174,
     "metadata": {},
     "output_type": "execute_result"
    }
   ],
   "source": [
    "prediction_analyza"
   ]
  },
  {
   "cell_type": "code",
   "execution_count": 177,
   "id": "cef91309-72db-471a-987a-b2d81b0a9bcd",
   "metadata": {},
   "outputs": [
    {
     "data": {
      "text/plain": [
       "('angry', 'asian', 'Man')"
      ]
     },
     "execution_count": 177,
     "metadata": {},
     "output_type": "execute_result"
    }
   ],
   "source": [
    "emoce =  prediction_analyza[0]['dominant_emotion'], prediction_analyza[0]['dominant_race'], prediction_analyza[0]['dominant_gender']\n",
    "emoce"
   ]
  },
  {
   "cell_type": "code",
   "execution_count": 178,
   "id": "eebaa334-6153-4610-8162-61730bc47c75",
   "metadata": {},
   "outputs": [
    {
     "data": {
      "text/plain": [
       "<matplotlib.image.AxesImage at 0x27019e240b0>"
      ]
     },
     "execution_count": 178,
     "metadata": {},
     "output_type": "execute_result"
    },
    {
     "data": {
      "image/png": "[encoded data removed]",
      "text/plain": [
       "<Figure size 640x480 with 1 Axes>"
      ]
     },
     "metadata": {},
     "output_type": "display_data"
    }
   ],
   "source": [
    "plt.imshow(obrazek_analyza)"
   ]
  },
  {
   "cell_type": "code",
   "execution_count": 162,
   "id": "93ed9d5b-edf4-479e-a10b-be064955b16c",
   "metadata": {},
   "outputs": [],
   "source": [
    "seznam_fotek_NOK = []\n",
    "seznam_fotek_OK = []\n",
    "chybny_soubor = []"
   ]
  },
  {
   "cell_type": "code",
   "execution_count": 163,
   "id": "2f1105f9-4f1d-43df-98aa-55c539931584",
   "metadata": {},
   "outputs": [
    {
     "name": "stdout",
     "output_type": "stream",
     "text": [
      "Chyba: DeepFace nemohl analyzovat C:\\Users\\zitao\\Documents\\PETR\\DATA_SCIENCE\\EMOCE/train/angry\\Training_10131352.jpg – Face could not be detected in numpy array.Please confirm that the picture is a face photo or consider to set enforce_detection param to False.\n",
      "Chyba: DeepFace nemohl analyzovat C:\\Users\\zitao\\Documents\\PETR\\DATA_SCIENCE\\EMOCE/train/angry\\Training_10161559.jpg – Face could not be detected in numpy array.Please confirm that the picture is a face photo or consider to set enforce_detection param to False.\n",
      "Chyba: DeepFace nemohl analyzovat C:\\Users\\zitao\\Documents\\PETR\\DATA_SCIENCE\\EMOCE/train/angry\\Training_1021836.jpg – Face could not be detected in numpy array.Please confirm that the picture is a face photo or consider to set enforce_detection param to False.\n",
      "Chyba: DeepFace nemohl analyzovat C:\\Users\\zitao\\Documents\\PETR\\DATA_SCIENCE\\EMOCE/train/angry\\Training_10290703.jpg – Face could not be detected in numpy array.Please confirm that the picture is a face photo or consider to set enforce_detection param to False.\n",
      "Chyba: DeepFace nemohl analyzovat C:\\Users\\zitao\\Documents\\PETR\\DATA_SCIENCE\\EMOCE/train/angry\\Training_10316849.jpg – Face could not be detected in numpy array.Please confirm that the picture is a face photo or consider to set enforce_detection param to False.\n",
      "Chyba: DeepFace nemohl analyzovat C:\\Users\\zitao\\Documents\\PETR\\DATA_SCIENCE\\EMOCE/train/angry\\Training_10333072.jpg – Face could not be detected in numpy array.Please confirm that the picture is a face photo or consider to set enforce_detection param to False.\n",
      "Chyba: DeepFace nemohl analyzovat C:\\Users\\zitao\\Documents\\PETR\\DATA_SCIENCE\\EMOCE/train/angry\\Training_10595751.jpg – Face could not be detected in numpy array.Please confirm that the picture is a face photo or consider to set enforce_detection param to False.\n",
      "Chyba: DeepFace nemohl analyzovat C:\\Users\\zitao\\Documents\\PETR\\DATA_SCIENCE\\EMOCE/train/angry\\Training_10851653.jpg – Face could not be detected in numpy array.Please confirm that the picture is a face photo or consider to set enforce_detection param to False.\n",
      "Chyba: DeepFace nemohl analyzovat C:\\Users\\zitao\\Documents\\PETR\\DATA_SCIENCE\\EMOCE/train/angry\\Training_10899258.jpg – Face could not be detected in numpy array.Please confirm that the picture is a face photo or consider to set enforce_detection param to False.\n",
      "Chyba: DeepFace nemohl analyzovat C:\\Users\\zitao\\Documents\\PETR\\DATA_SCIENCE\\EMOCE/train/angry\\Training_11102431.jpg – Face could not be detected in numpy array.Please confirm that the picture is a face photo or consider to set enforce_detection param to False.\n",
      "Chyba: DeepFace nemohl analyzovat C:\\Users\\zitao\\Documents\\PETR\\DATA_SCIENCE\\EMOCE/train/angry\\Training_11185740.jpg – Face could not be detected in numpy array.Please confirm that the picture is a face photo or consider to set enforce_detection param to False.\n",
      "Chyba: DeepFace nemohl analyzovat C:\\Users\\zitao\\Documents\\PETR\\DATA_SCIENCE\\EMOCE/train/angry\\Training_1120923.jpg – Face could not be detected in numpy array.Please confirm that the picture is a face photo or consider to set enforce_detection param to False.\n",
      "Chyba: DeepFace nemohl analyzovat C:\\Users\\zitao\\Documents\\PETR\\DATA_SCIENCE\\EMOCE/train/angry\\Training_11262281.jpg – Face could not be detected in numpy array.Please confirm that the picture is a face photo or consider to set enforce_detection param to False.\n",
      "Chyba: DeepFace nemohl analyzovat C:\\Users\\zitao\\Documents\\PETR\\DATA_SCIENCE\\EMOCE/train/angry\\Training_11275727.jpg – Face could not be detected in numpy array.Please confirm that the picture is a face photo or consider to set enforce_detection param to False.\n",
      "Chyba: DeepFace nemohl analyzovat C:\\Users\\zitao\\Documents\\PETR\\DATA_SCIENCE\\EMOCE/train/angry\\Training_11330391.jpg – Face could not be detected in numpy array.Please confirm that the picture is a face photo or consider to set enforce_detection param to False.\n",
      "Chyba: DeepFace nemohl analyzovat C:\\Users\\zitao\\Documents\\PETR\\DATA_SCIENCE\\EMOCE/train/angry\\Training_1133567.jpg – Face could not be detected in numpy array.Please confirm that the picture is a face photo or consider to set enforce_detection param to False.\n",
      "Chyba: DeepFace nemohl analyzovat C:\\Users\\zitao\\Documents\\PETR\\DATA_SCIENCE\\EMOCE/train/angry\\Training_11393282.jpg – Face could not be detected in numpy array.Please confirm that the picture is a face photo or consider to set enforce_detection param to False.\n",
      "Chyba: DeepFace nemohl analyzovat C:\\Users\\zitao\\Documents\\PETR\\DATA_SCIENCE\\EMOCE/train/angry\\Training_11533347.jpg – Face could not be detected in numpy array.Please confirm that the picture is a face photo or consider to set enforce_detection param to False.\n",
      "Chyba: DeepFace nemohl analyzovat C:\\Users\\zitao\\Documents\\PETR\\DATA_SCIENCE\\EMOCE/train/angry\\Training_11566408.jpg – Face could not be detected in numpy array.Please confirm that the picture is a face photo or consider to set enforce_detection param to False.\n",
      "Chyba: DeepFace nemohl analyzovat C:\\Users\\zitao\\Documents\\PETR\\DATA_SCIENCE\\EMOCE/train/angry\\Training_11579481.jpg – Face could not be detected in numpy array.Please confirm that the picture is a face photo or consider to set enforce_detection param to False.\n",
      "Chyba: DeepFace nemohl analyzovat C:\\Users\\zitao\\Documents\\PETR\\DATA_SCIENCE\\EMOCE/train/angry\\Training_11596465.jpg – Face could not be detected in numpy array.Please confirm that the picture is a face photo or consider to set enforce_detection param to False.\n",
      "Chyba: DeepFace nemohl analyzovat C:\\Users\\zitao\\Documents\\PETR\\DATA_SCIENCE\\EMOCE/train/angry\\Training_11666027.jpg – Face could not be detected in numpy array.Please confirm that the picture is a face photo or consider to set enforce_detection param to False.\n",
      "Chyba: DeepFace nemohl analyzovat C:\\Users\\zitao\\Documents\\PETR\\DATA_SCIENCE\\EMOCE/train/angry\\Training_11666709.jpg – Face could not be detected in numpy array.Please confirm that the picture is a face photo or consider to set enforce_detection param to False.\n",
      "Chyba: DeepFace nemohl analyzovat C:\\Users\\zitao\\Documents\\PETR\\DATA_SCIENCE\\EMOCE/train/angry\\Training_11745938.jpg – Face could not be detected in numpy array.Please confirm that the picture is a face photo or consider to set enforce_detection param to False.\n",
      "Chyba: DeepFace nemohl analyzovat C:\\Users\\zitao\\Documents\\PETR\\DATA_SCIENCE\\EMOCE/train/angry\\Training_11769417.jpg – Face could not be detected in numpy array.Please confirm that the picture is a face photo or consider to set enforce_detection param to False.\n",
      "Chyba: DeepFace nemohl analyzovat C:\\Users\\zitao\\Documents\\PETR\\DATA_SCIENCE\\EMOCE/train/angry\\Training_1184435.jpg – Face could not be detected in numpy array.Please confirm that the picture is a face photo or consider to set enforce_detection param to False.\n",
      "Chyba: DeepFace nemohl analyzovat C:\\Users\\zitao\\Documents\\PETR\\DATA_SCIENCE\\EMOCE/train/angry\\Training_11917747.jpg – Face could not be detected in numpy array.Please confirm that the picture is a face photo or consider to set enforce_detection param to False.\n",
      "Chyba: DeepFace nemohl analyzovat C:\\Users\\zitao\\Documents\\PETR\\DATA_SCIENCE\\EMOCE/train/angry\\Training_11954904.jpg – Face could not be detected in numpy array.Please confirm that the picture is a face photo or consider to set enforce_detection param to False.\n",
      "Chyba: DeepFace nemohl analyzovat C:\\Users\\zitao\\Documents\\PETR\\DATA_SCIENCE\\EMOCE/train/angry\\Training_11983206.jpg – Face could not be detected in numpy array.Please confirm that the picture is a face photo or consider to set enforce_detection param to False.\n",
      "Chyba: DeepFace nemohl analyzovat C:\\Users\\zitao\\Documents\\PETR\\DATA_SCIENCE\\EMOCE/train/angry\\Training_12006812.jpg – Face could not be detected in numpy array.Please confirm that the picture is a face photo or consider to set enforce_detection param to False.\n",
      "Chyba: DeepFace nemohl analyzovat C:\\Users\\zitao\\Documents\\PETR\\DATA_SCIENCE\\EMOCE/train/angry\\Training_12017013.jpg – Face could not be detected in numpy array.Please confirm that the picture is a face photo or consider to set enforce_detection param to False.\n",
      "Chyba: DeepFace nemohl analyzovat C:\\Users\\zitao\\Documents\\PETR\\DATA_SCIENCE\\EMOCE/train/angry\\Training_12037449.jpg – Face could not be detected in numpy array.Please confirm that the picture is a face photo or consider to set enforce_detection param to False.\n",
      "Chyba: DeepFace nemohl analyzovat C:\\Users\\zitao\\Documents\\PETR\\DATA_SCIENCE\\EMOCE/train/angry\\Training_12045034.jpg – Face could not be detected in numpy array.Please confirm that the picture is a face photo or consider to set enforce_detection param to False.\n",
      "Chyba: DeepFace nemohl analyzovat C:\\Users\\zitao\\Documents\\PETR\\DATA_SCIENCE\\EMOCE/train/angry\\Training_12075336.jpg – Face could not be detected in numpy array.Please confirm that the picture is a face photo or consider to set enforce_detection param to False.\n",
      "Chyba: DeepFace nemohl analyzovat C:\\Users\\zitao\\Documents\\PETR\\DATA_SCIENCE\\EMOCE/train/angry\\Training_12148960.jpg – Face could not be detected in numpy array.Please confirm that the picture is a face photo or consider to set enforce_detection param to False.\n",
      "Chyba: DeepFace nemohl analyzovat C:\\Users\\zitao\\Documents\\PETR\\DATA_SCIENCE\\EMOCE/train/angry\\Training_12168970.jpg – Face could not be detected in numpy array.Please confirm that the picture is a face photo or consider to set enforce_detection param to False.\n",
      "Chyba: DeepFace nemohl analyzovat C:\\Users\\zitao\\Documents\\PETR\\DATA_SCIENCE\\EMOCE/train/angry\\Training_12250673.jpg – Face could not be detected in numpy array.Please confirm that the picture is a face photo or consider to set enforce_detection param to False.\n",
      "Chyba: DeepFace nemohl analyzovat C:\\Users\\zitao\\Documents\\PETR\\DATA_SCIENCE\\EMOCE/train/angry\\Training_12295489.jpg – Face could not be detected in numpy array.Please confirm that the picture is a face photo or consider to set enforce_detection param to False.\n",
      "Chyba: DeepFace nemohl analyzovat C:\\Users\\zitao\\Documents\\PETR\\DATA_SCIENCE\\EMOCE/train/angry\\Training_12383687.jpg – Face could not be detected in numpy array.Please confirm that the picture is a face photo or consider to set enforce_detection param to False.\n",
      "Chyba: DeepFace nemohl analyzovat C:\\Users\\zitao\\Documents\\PETR\\DATA_SCIENCE\\EMOCE/train/angry\\Training_12565431.jpg – Face could not be detected in numpy array.Please confirm that the picture is a face photo or consider to set enforce_detection param to False.\n",
      "Chyba: DeepFace nemohl analyzovat C:\\Users\\zitao\\Documents\\PETR\\DATA_SCIENCE\\EMOCE/train/angry\\Training_12661221.jpg – Face could not be detected in numpy array.Please confirm that the picture is a face photo or consider to set enforce_detection param to False.\n",
      "Chyba: DeepFace nemohl analyzovat C:\\Users\\zitao\\Documents\\PETR\\DATA_SCIENCE\\EMOCE/train/angry\\Training_12675274.jpg – Face could not be detected in numpy array.Please confirm that the picture is a face photo or consider to set enforce_detection param to False.\n",
      "Chyba: DeepFace nemohl analyzovat C:\\Users\\zitao\\Documents\\PETR\\DATA_SCIENCE\\EMOCE/train/angry\\Training_12974019.jpg – Face could not be detected in numpy array.Please confirm that the picture is a face photo or consider to set enforce_detection param to False.\n",
      "Chyba: DeepFace nemohl analyzovat C:\\Users\\zitao\\Documents\\PETR\\DATA_SCIENCE\\EMOCE/train/angry\\Training_13039915.jpg – Face could not be detected in numpy array.Please confirm that the picture is a face photo or consider to set enforce_detection param to False.\n",
      "Chyba: DeepFace nemohl analyzovat C:\\Users\\zitao\\Documents\\PETR\\DATA_SCIENCE\\EMOCE/train/angry\\Training_13043913.jpg – Face could not be detected in numpy array.Please confirm that the picture is a face photo or consider to set enforce_detection param to False.\n",
      "Chyba: DeepFace nemohl analyzovat C:\\Users\\zitao\\Documents\\PETR\\DATA_SCIENCE\\EMOCE/train/angry\\Training_13202061.jpg – Face could not be detected in numpy array.Please confirm that the picture is a face photo or consider to set enforce_detection param to False.\n",
      "Chyba: DeepFace nemohl analyzovat C:\\Users\\zitao\\Documents\\PETR\\DATA_SCIENCE\\EMOCE/train/angry\\Training_13221971.jpg – Face could not be detected in numpy array.Please confirm that the picture is a face photo or consider to set enforce_detection param to False.\n",
      "Chyba: DeepFace nemohl analyzovat C:\\Users\\zitao\\Documents\\PETR\\DATA_SCIENCE\\EMOCE/train/angry\\Training_13282534.jpg – Face could not be detected in numpy array.Please confirm that the picture is a face photo or consider to set enforce_detection param to False.\n",
      "Chyba: DeepFace nemohl analyzovat C:\\Users\\zitao\\Documents\\PETR\\DATA_SCIENCE\\EMOCE/train/angry\\Training_13325591.jpg – Face could not be detected in numpy array.Please confirm that the picture is a face photo or consider to set enforce_detection param to False.\n",
      "Chyba: DeepFace nemohl analyzovat C:\\Users\\zitao\\Documents\\PETR\\DATA_SCIENCE\\EMOCE/train/angry\\Training_13521344.jpg – Face could not be detected in numpy array.Please confirm that the picture is a face photo or consider to set enforce_detection param to False.\n",
      "Chyba: DeepFace nemohl analyzovat C:\\Users\\zitao\\Documents\\PETR\\DATA_SCIENCE\\EMOCE/train/angry\\Training_13607820.jpg – Face could not be detected in numpy array.Please confirm that the picture is a face photo or consider to set enforce_detection param to False.\n",
      "Chyba: DeepFace nemohl analyzovat C:\\Users\\zitao\\Documents\\PETR\\DATA_SCIENCE\\EMOCE/train/angry\\Training_13644751.jpg – Face could not be detected in numpy array.Please confirm that the picture is a face photo or consider to set enforce_detection param to False.\n",
      "Chyba: DeepFace nemohl analyzovat C:\\Users\\zitao\\Documents\\PETR\\DATA_SCIENCE\\EMOCE/train/angry\\Training_13659242.jpg – Face could not be detected in numpy array.Please confirm that the picture is a face photo or consider to set enforce_detection param to False.\n",
      "Chyba: DeepFace nemohl analyzovat C:\\Users\\zitao\\Documents\\PETR\\DATA_SCIENCE\\EMOCE/train/angry\\Training_13689420.jpg – Face could not be detected in numpy array.Please confirm that the picture is a face photo or consider to set enforce_detection param to False.\n",
      "Chyba: DeepFace nemohl analyzovat C:\\Users\\zitao\\Documents\\PETR\\DATA_SCIENCE\\EMOCE/train/angry\\Training_13772540.jpg – Face could not be detected in numpy array.Please confirm that the picture is a face photo or consider to set enforce_detection param to False.\n",
      "Chyba: DeepFace nemohl analyzovat C:\\Users\\zitao\\Documents\\PETR\\DATA_SCIENCE\\EMOCE/train/angry\\Training_13790669.jpg – Face could not be detected in numpy array.Please confirm that the picture is a face photo or consider to set enforce_detection param to False.\n",
      "Chyba: DeepFace nemohl analyzovat C:\\Users\\zitao\\Documents\\PETR\\DATA_SCIENCE\\EMOCE/train/angry\\Training_13852029.jpg – Face could not be detected in numpy array.Please confirm that the picture is a face photo or consider to set enforce_detection param to False.\n",
      "Chyba: DeepFace nemohl analyzovat C:\\Users\\zitao\\Documents\\PETR\\DATA_SCIENCE\\EMOCE/train/angry\\Training_13874420.jpg – Face could not be detected in numpy array.Please confirm that the picture is a face photo or consider to set enforce_detection param to False.\n",
      "Chyba: DeepFace nemohl analyzovat C:\\Users\\zitao\\Documents\\PETR\\DATA_SCIENCE\\EMOCE/train/angry\\Training_13917123.jpg – Face could not be detected in numpy array.Please confirm that the picture is a face photo or consider to set enforce_detection param to False.\n",
      "Chyba: DeepFace nemohl analyzovat C:\\Users\\zitao\\Documents\\PETR\\DATA_SCIENCE\\EMOCE/train/angry\\Training_13919685.jpg – Face could not be detected in numpy array.Please confirm that the picture is a face photo or consider to set enforce_detection param to False.\n",
      "Chyba: DeepFace nemohl analyzovat C:\\Users\\zitao\\Documents\\PETR\\DATA_SCIENCE\\EMOCE/train/angry\\Training_13976691.jpg – Face could not be detected in numpy array.Please confirm that the picture is a face photo or consider to set enforce_detection param to False.\n",
      "Chyba: DeepFace nemohl analyzovat C:\\Users\\zitao\\Documents\\PETR\\DATA_SCIENCE\\EMOCE/train/angry\\Training_14051560.jpg – Face could not be detected in numpy array.Please confirm that the picture is a face photo or consider to set enforce_detection param to False.\n",
      "Chyba: DeepFace nemohl analyzovat C:\\Users\\zitao\\Documents\\PETR\\DATA_SCIENCE\\EMOCE/train/angry\\Training_14054767.jpg – Face could not be detected in numpy array.Please confirm that the picture is a face photo or consider to set enforce_detection param to False.\n",
      "Chyba: DeepFace nemohl analyzovat C:\\Users\\zitao\\Documents\\PETR\\DATA_SCIENCE\\EMOCE/train/angry\\Training_14110796.jpg – Face could not be detected in numpy array.Please confirm that the picture is a face photo or consider to set enforce_detection param to False.\n",
      "Chyba: DeepFace nemohl analyzovat C:\\Users\\zitao\\Documents\\PETR\\DATA_SCIENCE\\EMOCE/train/angry\\Training_14118986.jpg – Face could not be detected in numpy array.Please confirm that the picture is a face photo or consider to set enforce_detection param to False.\n",
      "Chyba: DeepFace nemohl analyzovat C:\\Users\\zitao\\Documents\\PETR\\DATA_SCIENCE\\EMOCE/train/angry\\Training_14119944.jpg – Face could not be detected in numpy array.Please confirm that the picture is a face photo or consider to set enforce_detection param to False.\n",
      "Chyba: DeepFace nemohl analyzovat C:\\Users\\zitao\\Documents\\PETR\\DATA_SCIENCE\\EMOCE/train/angry\\Training_14169607.jpg – Face could not be detected in numpy array.Please confirm that the picture is a face photo or consider to set enforce_detection param to False.\n",
      "Chyba: DeepFace nemohl analyzovat C:\\Users\\zitao\\Documents\\PETR\\DATA_SCIENCE\\EMOCE/train/angry\\Training_143373.jpg – Face could not be detected in numpy array.Please confirm that the picture is a face photo or consider to set enforce_detection param to False.\n",
      "Chyba: DeepFace nemohl analyzovat C:\\Users\\zitao\\Documents\\PETR\\DATA_SCIENCE\\EMOCE/train/angry\\Training_14342315.jpg – Face could not be detected in numpy array.Please confirm that the picture is a face photo or consider to set enforce_detection param to False.\n",
      "Chyba: DeepFace nemohl analyzovat C:\\Users\\zitao\\Documents\\PETR\\DATA_SCIENCE\\EMOCE/train/angry\\Training_14399797.jpg – Face could not be detected in numpy array.Please confirm that the picture is a face photo or consider to set enforce_detection param to False.\n",
      "Chyba: DeepFace nemohl analyzovat C:\\Users\\zitao\\Documents\\PETR\\DATA_SCIENCE\\EMOCE/train/angry\\Training_14417147.jpg – Face could not be detected in numpy array.Please confirm that the picture is a face photo or consider to set enforce_detection param to False.\n",
      "Chyba: DeepFace nemohl analyzovat C:\\Users\\zitao\\Documents\\PETR\\DATA_SCIENCE\\EMOCE/train/angry\\Training_14503064.jpg – Face could not be detected in numpy array.Please confirm that the picture is a face photo or consider to set enforce_detection param to False.\n",
      "Chyba: DeepFace nemohl analyzovat C:\\Users\\zitao\\Documents\\PETR\\DATA_SCIENCE\\EMOCE/train/angry\\Training_14566179.jpg – Face could not be detected in numpy array.Please confirm that the picture is a face photo or consider to set enforce_detection param to False.\n",
      "Chyba: DeepFace nemohl analyzovat C:\\Users\\zitao\\Documents\\PETR\\DATA_SCIENCE\\EMOCE/train/angry\\Training_14588902.jpg – Face could not be detected in numpy array.Please confirm that the picture is a face photo or consider to set enforce_detection param to False.\n",
      "Chyba: DeepFace nemohl analyzovat C:\\Users\\zitao\\Documents\\PETR\\DATA_SCIENCE\\EMOCE/train/angry\\Training_14690040.jpg – Face could not be detected in numpy array.Please confirm that the picture is a face photo or consider to set enforce_detection param to False.\n",
      "Chyba: DeepFace nemohl analyzovat C:\\Users\\zitao\\Documents\\PETR\\DATA_SCIENCE\\EMOCE/train/angry\\Training_14820944.jpg – Face could not be detected in numpy array.Please confirm that the picture is a face photo or consider to set enforce_detection param to False.\n",
      "Chyba: DeepFace nemohl analyzovat C:\\Users\\zitao\\Documents\\PETR\\DATA_SCIENCE\\EMOCE/train/angry\\Training_14823194.jpg – Face could not be detected in numpy array.Please confirm that the picture is a face photo or consider to set enforce_detection param to False.\n",
      "Chyba: DeepFace nemohl analyzovat C:\\Users\\zitao\\Documents\\PETR\\DATA_SCIENCE\\EMOCE/train/angry\\Training_14830141.jpg – Face could not be detected in numpy array.Please confirm that the picture is a face photo or consider to set enforce_detection param to False.\n",
      "Chyba: DeepFace nemohl analyzovat C:\\Users\\zitao\\Documents\\PETR\\DATA_SCIENCE\\EMOCE/train/angry\\Training_14954004.jpg – Face could not be detected in numpy array.Please confirm that the picture is a face photo or consider to set enforce_detection param to False.\n",
      "Chyba: DeepFace nemohl analyzovat C:\\Users\\zitao\\Documents\\PETR\\DATA_SCIENCE\\EMOCE/train/angry\\Training_1500617.jpg – Face could not be detected in numpy array.Please confirm that the picture is a face photo or consider to set enforce_detection param to False.\n",
      "Chyba: DeepFace nemohl analyzovat C:\\Users\\zitao\\Documents\\PETR\\DATA_SCIENCE\\EMOCE/train/angry\\Training_15127879.jpg – Face could not be detected in numpy array.Please confirm that the picture is a face photo or consider to set enforce_detection param to False.\n",
      "Chyba: DeepFace nemohl analyzovat C:\\Users\\zitao\\Documents\\PETR\\DATA_SCIENCE\\EMOCE/train/angry\\Training_15150679.jpg – Face could not be detected in numpy array.Please confirm that the picture is a face photo or consider to set enforce_detection param to False.\n",
      "Chyba: DeepFace nemohl analyzovat C:\\Users\\zitao\\Documents\\PETR\\DATA_SCIENCE\\EMOCE/train/angry\\Training_15197146.jpg – Face could not be detected in numpy array.Please confirm that the picture is a face photo or consider to set enforce_detection param to False.\n",
      "Chyba: DeepFace nemohl analyzovat C:\\Users\\zitao\\Documents\\PETR\\DATA_SCIENCE\\EMOCE/train/angry\\Training_15272626.jpg – Face could not be detected in numpy array.Please confirm that the picture is a face photo or consider to set enforce_detection param to False.\n",
      "Chyba: DeepFace nemohl analyzovat C:\\Users\\zitao\\Documents\\PETR\\DATA_SCIENCE\\EMOCE/train/angry\\Training_15311033.jpg – Face could not be detected in numpy array.Please confirm that the picture is a face photo or consider to set enforce_detection param to False.\n",
      "Chyba: DeepFace nemohl analyzovat C:\\Users\\zitao\\Documents\\PETR\\DATA_SCIENCE\\EMOCE/train/angry\\Training_15337964.jpg – Face could not be detected in numpy array.Please confirm that the picture is a face photo or consider to set enforce_detection param to False.\n",
      "Chyba: DeepFace nemohl analyzovat C:\\Users\\zitao\\Documents\\PETR\\DATA_SCIENCE\\EMOCE/train/angry\\Training_15343190.jpg – Face could not be detected in numpy array.Please confirm that the picture is a face photo or consider to set enforce_detection param to False.\n",
      "Chyba: DeepFace nemohl analyzovat C:\\Users\\zitao\\Documents\\PETR\\DATA_SCIENCE\\EMOCE/train/angry\\Training_15351749.jpg – Face could not be detected in numpy array.Please confirm that the picture is a face photo or consider to set enforce_detection param to False.\n",
      "Chyba: DeepFace nemohl analyzovat C:\\Users\\zitao\\Documents\\PETR\\DATA_SCIENCE\\EMOCE/train/angry\\Training_15466417.jpg – Face could not be detected in numpy array.Please confirm that the picture is a face photo or consider to set enforce_detection param to False.\n",
      "Chyba: DeepFace nemohl analyzovat C:\\Users\\zitao\\Documents\\PETR\\DATA_SCIENCE\\EMOCE/train/angry\\Training_15469459.jpg – Face could not be detected in numpy array.Please confirm that the picture is a face photo or consider to set enforce_detection param to False.\n",
      "Chyba: DeepFace nemohl analyzovat C:\\Users\\zitao\\Documents\\PETR\\DATA_SCIENCE\\EMOCE/train/angry\\Training_15483013.jpg – Face could not be detected in numpy array.Please confirm that the picture is a face photo or consider to set enforce_detection param to False.\n",
      "Chyba: DeepFace nemohl analyzovat C:\\Users\\zitao\\Documents\\PETR\\DATA_SCIENCE\\EMOCE/train/angry\\Training_15496677.jpg – Face could not be detected in numpy array.Please confirm that the picture is a face photo or consider to set enforce_detection param to False.\n",
      "Chyba: DeepFace nemohl analyzovat C:\\Users\\zitao\\Documents\\PETR\\DATA_SCIENCE\\EMOCE/train/angry\\Training_15498699.jpg – Face could not be detected in numpy array.Please confirm that the picture is a face photo or consider to set enforce_detection param to False.\n",
      "Chyba: DeepFace nemohl analyzovat C:\\Users\\zitao\\Documents\\PETR\\DATA_SCIENCE\\EMOCE/train/angry\\Training_15651444.jpg – Face could not be detected in numpy array.Please confirm that the picture is a face photo or consider to set enforce_detection param to False.\n",
      "Chyba: DeepFace nemohl analyzovat C:\\Users\\zitao\\Documents\\PETR\\DATA_SCIENCE\\EMOCE/train/angry\\Training_15693625.jpg – Face could not be detected in numpy array.Please confirm that the picture is a face photo or consider to set enforce_detection param to False.\n",
      "Chyba: DeepFace nemohl analyzovat C:\\Users\\zitao\\Documents\\PETR\\DATA_SCIENCE\\EMOCE/train/angry\\Training_15729526.jpg – Face could not be detected in numpy array.Please confirm that the picture is a face photo or consider to set enforce_detection param to False.\n",
      "Chyba: DeepFace nemohl analyzovat C:\\Users\\zitao\\Documents\\PETR\\DATA_SCIENCE\\EMOCE/train/angry\\Training_15794224.jpg – Face could not be detected in numpy array.Please confirm that the picture is a face photo or consider to set enforce_detection param to False.\n",
      "Chyba: DeepFace nemohl analyzovat C:\\Users\\zitao\\Documents\\PETR\\DATA_SCIENCE\\EMOCE/train/angry\\Training_15799535.jpg – Face could not be detected in numpy array.Please confirm that the picture is a face photo or consider to set enforce_detection param to False.\n",
      "Chyba: DeepFace nemohl analyzovat C:\\Users\\zitao\\Documents\\PETR\\DATA_SCIENCE\\EMOCE/train/angry\\Training_15812721.jpg – Face could not be detected in numpy array.Please confirm that the picture is a face photo or consider to set enforce_detection param to False.\n",
      "Chyba: DeepFace nemohl analyzovat C:\\Users\\zitao\\Documents\\PETR\\DATA_SCIENCE\\EMOCE/train/angry\\Training_16024594.jpg – Face could not be detected in numpy array.Please confirm that the picture is a face photo or consider to set enforce_detection param to False.\n",
      "Chyba: DeepFace nemohl analyzovat C:\\Users\\zitao\\Documents\\PETR\\DATA_SCIENCE\\EMOCE/train/angry\\Training_16084063.jpg – Face could not be detected in numpy array.Please confirm that the picture is a face photo or consider to set enforce_detection param to False.\n",
      "Chyba: DeepFace nemohl analyzovat C:\\Users\\zitao\\Documents\\PETR\\DATA_SCIENCE\\EMOCE/train/angry\\Training_16124846.jpg – Face could not be detected in numpy array.Please confirm that the picture is a face photo or consider to set enforce_detection param to False.\n",
      "Chyba: DeepFace nemohl analyzovat C:\\Users\\zitao\\Documents\\PETR\\DATA_SCIENCE\\EMOCE/train/angry\\Training_16211575.jpg – Face could not be detected in numpy array.Please confirm that the picture is a face photo or consider to set enforce_detection param to False.\n",
      "Chyba: DeepFace nemohl analyzovat C:\\Users\\zitao\\Documents\\PETR\\DATA_SCIENCE\\EMOCE/train/angry\\Training_16232328.jpg – Face could not be detected in numpy array.Please confirm that the picture is a face photo or consider to set enforce_detection param to False.\n",
      "Chyba: DeepFace nemohl analyzovat C:\\Users\\zitao\\Documents\\PETR\\DATA_SCIENCE\\EMOCE/train/angry\\Training_16259740.jpg – Face could not be detected in numpy array.Please confirm that the picture is a face photo or consider to set enforce_detection param to False.\n",
      "Chyba: DeepFace nemohl analyzovat C:\\Users\\zitao\\Documents\\PETR\\DATA_SCIENCE\\EMOCE/train/angry\\Training_16288109.jpg – Face could not be detected in numpy array.Please confirm that the picture is a face photo or consider to set enforce_detection param to False.\n",
      "Chyba: DeepFace nemohl analyzovat C:\\Users\\zitao\\Documents\\PETR\\DATA_SCIENCE\\EMOCE/train/angry\\Training_16305966.jpg – Face could not be detected in numpy array.Please confirm that the picture is a face photo or consider to set enforce_detection param to False.\n",
      "Chyba: DeepFace nemohl analyzovat C:\\Users\\zitao\\Documents\\PETR\\DATA_SCIENCE\\EMOCE/train/angry\\Training_16492100.jpg – Face could not be detected in numpy array.Please confirm that the picture is a face photo or consider to set enforce_detection param to False.\n",
      "Chyba: DeepFace nemohl analyzovat C:\\Users\\zitao\\Documents\\PETR\\DATA_SCIENCE\\EMOCE/train/angry\\Training_16538275.jpg – Face could not be detected in numpy array.Please confirm that the picture is a face photo or consider to set enforce_detection param to False.\n",
      "Chyba: DeepFace nemohl analyzovat C:\\Users\\zitao\\Documents\\PETR\\DATA_SCIENCE\\EMOCE/train/angry\\Training_16559108.jpg – Face could not be detected in numpy array.Please confirm that the picture is a face photo or consider to set enforce_detection param to False.\n",
      "Chyba: DeepFace nemohl analyzovat C:\\Users\\zitao\\Documents\\PETR\\DATA_SCIENCE\\EMOCE/train/angry\\Training_16591786.jpg – Face could not be detected in numpy array.Please confirm that the picture is a face photo or consider to set enforce_detection param to False.\n",
      "Chyba: DeepFace nemohl analyzovat C:\\Users\\zitao\\Documents\\PETR\\DATA_SCIENCE\\EMOCE/train/angry\\Training_16636429.jpg – Face could not be detected in numpy array.Please confirm that the picture is a face photo or consider to set enforce_detection param to False.\n",
      "Chyba: DeepFace nemohl analyzovat C:\\Users\\zitao\\Documents\\PETR\\DATA_SCIENCE\\EMOCE/train/angry\\Training_16695193.jpg – Face could not be detected in numpy array.Please confirm that the picture is a face photo or consider to set enforce_detection param to False.\n",
      "Chyba: DeepFace nemohl analyzovat C:\\Users\\zitao\\Documents\\PETR\\DATA_SCIENCE\\EMOCE/train/angry\\Training_16728602.jpg – Face could not be detected in numpy array.Please confirm that the picture is a face photo or consider to set enforce_detection param to False.\n",
      "Chyba: DeepFace nemohl analyzovat C:\\Users\\zitao\\Documents\\PETR\\DATA_SCIENCE\\EMOCE/train/angry\\Training_1677103.jpg – Face could not be detected in numpy array.Please confirm that the picture is a face photo or consider to set enforce_detection param to False.\n",
      "Chyba: DeepFace nemohl analyzovat C:\\Users\\zitao\\Documents\\PETR\\DATA_SCIENCE\\EMOCE/train/angry\\Training_16824041.jpg – Face could not be detected in numpy array.Please confirm that the picture is a face photo or consider to set enforce_detection param to False.\n",
      "Chyba: DeepFace nemohl analyzovat C:\\Users\\zitao\\Documents\\PETR\\DATA_SCIENCE\\EMOCE/train/angry\\Training_16830053.jpg – Face could not be detected in numpy array.Please confirm that the picture is a face photo or consider to set enforce_detection param to False.\n",
      "Chyba: DeepFace nemohl analyzovat C:\\Users\\zitao\\Documents\\PETR\\DATA_SCIENCE\\EMOCE/train/angry\\Training_16844918.jpg – Face could not be detected in numpy array.Please confirm that the picture is a face photo or consider to set enforce_detection param to False.\n",
      "Chyba: DeepFace nemohl analyzovat C:\\Users\\zitao\\Documents\\PETR\\DATA_SCIENCE\\EMOCE/train/angry\\Training_16971260.jpg – Face could not be detected in numpy array.Please confirm that the picture is a face photo or consider to set enforce_detection param to False.\n",
      "Chyba: DeepFace nemohl analyzovat C:\\Users\\zitao\\Documents\\PETR\\DATA_SCIENCE\\EMOCE/train/angry\\Training_17067471.jpg – Face could not be detected in numpy array.Please confirm that the picture is a face photo or consider to set enforce_detection param to False.\n",
      "Chyba: DeepFace nemohl analyzovat C:\\Users\\zitao\\Documents\\PETR\\DATA_SCIENCE\\EMOCE/train/angry\\Training_17114283.jpg – Face could not be detected in numpy array.Please confirm that the picture is a face photo or consider to set enforce_detection param to False.\n",
      "Chyba: DeepFace nemohl analyzovat C:\\Users\\zitao\\Documents\\PETR\\DATA_SCIENCE\\EMOCE/train/angry\\Training_17188430.jpg – Face could not be detected in numpy array.Please confirm that the picture is a face photo or consider to set enforce_detection param to False.\n",
      "Chyba: DeepFace nemohl analyzovat C:\\Users\\zitao\\Documents\\PETR\\DATA_SCIENCE\\EMOCE/train/angry\\Training_17201713.jpg – Face could not be detected in numpy array.Please confirm that the picture is a face photo or consider to set enforce_detection param to False.\n",
      "Chyba: DeepFace nemohl analyzovat C:\\Users\\zitao\\Documents\\PETR\\DATA_SCIENCE\\EMOCE/train/angry\\Training_17207698.jpg – Face could not be detected in numpy array.Please confirm that the picture is a face photo or consider to set enforce_detection param to False.\n",
      "Chyba: DeepFace nemohl analyzovat C:\\Users\\zitao\\Documents\\PETR\\DATA_SCIENCE\\EMOCE/train/angry\\Training_17244297.jpg – Face could not be detected in numpy array.Please confirm that the picture is a face photo or consider to set enforce_detection param to False.\n",
      "Chyba: DeepFace nemohl analyzovat C:\\Users\\zitao\\Documents\\PETR\\DATA_SCIENCE\\EMOCE/train/angry\\Training_17316378.jpg – Face could not be detected in numpy array.Please confirm that the picture is a face photo or consider to set enforce_detection param to False.\n",
      "Chyba: DeepFace nemohl analyzovat C:\\Users\\zitao\\Documents\\PETR\\DATA_SCIENCE\\EMOCE/train/angry\\Training_17399121.jpg – Face could not be detected in numpy array.Please confirm that the picture is a face photo or consider to set enforce_detection param to False.\n",
      "Chyba: DeepFace nemohl analyzovat C:\\Users\\zitao\\Documents\\PETR\\DATA_SCIENCE\\EMOCE/train/angry\\Training_17510075.jpg – Face could not be detected in numpy array.Please confirm that the picture is a face photo or consider to set enforce_detection param to False.\n",
      "Chyba: DeepFace nemohl analyzovat C:\\Users\\zitao\\Documents\\PETR\\DATA_SCIENCE\\EMOCE/train/angry\\Training_175233.jpg – Face could not be detected in numpy array.Please confirm that the picture is a face photo or consider to set enforce_detection param to False.\n",
      "Chyba: DeepFace nemohl analyzovat C:\\Users\\zitao\\Documents\\PETR\\DATA_SCIENCE\\EMOCE/train/angry\\Training_17561724.jpg – Face could not be detected in numpy array.Please confirm that the picture is a face photo or consider to set enforce_detection param to False.\n",
      "Chyba: DeepFace nemohl analyzovat C:\\Users\\zitao\\Documents\\PETR\\DATA_SCIENCE\\EMOCE/train/angry\\Training_17588102.jpg – Face could not be detected in numpy array.Please confirm that the picture is a face photo or consider to set enforce_detection param to False.\n",
      "Chyba: DeepFace nemohl analyzovat C:\\Users\\zitao\\Documents\\PETR\\DATA_SCIENCE\\EMOCE/train/angry\\Training_17690552.jpg – Face could not be detected in numpy array.Please confirm that the picture is a face photo or consider to set enforce_detection param to False.\n",
      "Chyba: DeepFace nemohl analyzovat C:\\Users\\zitao\\Documents\\PETR\\DATA_SCIENCE\\EMOCE/train/angry\\Training_17702322.jpg – Face could not be detected in numpy array.Please confirm that the picture is a face photo or consider to set enforce_detection param to False.\n",
      "Chyba: DeepFace nemohl analyzovat C:\\Users\\zitao\\Documents\\PETR\\DATA_SCIENCE\\EMOCE/train/angry\\Training_17825044.jpg – Face could not be detected in numpy array.Please confirm that the picture is a face photo or consider to set enforce_detection param to False.\n",
      "Chyba: DeepFace nemohl analyzovat C:\\Users\\zitao\\Documents\\PETR\\DATA_SCIENCE\\EMOCE/train/angry\\Training_17871635.jpg – Face could not be detected in numpy array.Please confirm that the picture is a face photo or consider to set enforce_detection param to False.\n",
      "Chyba: DeepFace nemohl analyzovat C:\\Users\\zitao\\Documents\\PETR\\DATA_SCIENCE\\EMOCE/train/angry\\Training_17902383.jpg – Face could not be detected in numpy array.Please confirm that the picture is a face photo or consider to set enforce_detection param to False.\n",
      "Chyba: DeepFace nemohl analyzovat C:\\Users\\zitao\\Documents\\PETR\\DATA_SCIENCE\\EMOCE/train/angry\\Training_17907423.jpg – Face could not be detected in numpy array.Please confirm that the picture is a face photo or consider to set enforce_detection param to False.\n",
      "Chyba: DeepFace nemohl analyzovat C:\\Users\\zitao\\Documents\\PETR\\DATA_SCIENCE\\EMOCE/train/angry\\Training_1791860.jpg – Face could not be detected in numpy array.Please confirm that the picture is a face photo or consider to set enforce_detection param to False.\n",
      "Chyba: DeepFace nemohl analyzovat C:\\Users\\zitao\\Documents\\PETR\\DATA_SCIENCE\\EMOCE/train/angry\\Training_17977606.jpg – Face could not be detected in numpy array.Please confirm that the picture is a face photo or consider to set enforce_detection param to False.\n",
      "Chyba: DeepFace nemohl analyzovat C:\\Users\\zitao\\Documents\\PETR\\DATA_SCIENCE\\EMOCE/train/angry\\Training_18174853.jpg – Face could not be detected in numpy array.Please confirm that the picture is a face photo or consider to set enforce_detection param to False.\n",
      "Chyba: DeepFace nemohl analyzovat C:\\Users\\zitao\\Documents\\PETR\\DATA_SCIENCE\\EMOCE/train/angry\\Training_18200194.jpg – Face could not be detected in numpy array.Please confirm that the picture is a face photo or consider to set enforce_detection param to False.\n",
      "Chyba: DeepFace nemohl analyzovat C:\\Users\\zitao\\Documents\\PETR\\DATA_SCIENCE\\EMOCE/train/angry\\Training_18424991.jpg – Face could not be detected in numpy array.Please confirm that the picture is a face photo or consider to set enforce_detection param to False.\n",
      "Chyba: DeepFace nemohl analyzovat C:\\Users\\zitao\\Documents\\PETR\\DATA_SCIENCE\\EMOCE/train/angry\\Training_18615787.jpg – Face could not be detected in numpy array.Please confirm that the picture is a face photo or consider to set enforce_detection param to False.\n",
      "Chyba: DeepFace nemohl analyzovat C:\\Users\\zitao\\Documents\\PETR\\DATA_SCIENCE\\EMOCE/train/angry\\Training_18649259.jpg – Face could not be detected in numpy array.Please confirm that the picture is a face photo or consider to set enforce_detection param to False.\n",
      "Chyba: DeepFace nemohl analyzovat C:\\Users\\zitao\\Documents\\PETR\\DATA_SCIENCE\\EMOCE/train/angry\\Training_18714040.jpg – Face could not be detected in numpy array.Please confirm that the picture is a face photo or consider to set enforce_detection param to False.\n",
      "Chyba: DeepFace nemohl analyzovat C:\\Users\\zitao\\Documents\\PETR\\DATA_SCIENCE\\EMOCE/train/angry\\Training_18766042.jpg – Face could not be detected in numpy array.Please confirm that the picture is a face photo or consider to set enforce_detection param to False.\n",
      "Chyba: DeepFace nemohl analyzovat C:\\Users\\zitao\\Documents\\PETR\\DATA_SCIENCE\\EMOCE/train/angry\\Training_18775545.jpg – Face could not be detected in numpy array.Please confirm that the picture is a face photo or consider to set enforce_detection param to False.\n",
      "Chyba: DeepFace nemohl analyzovat C:\\Users\\zitao\\Documents\\PETR\\DATA_SCIENCE\\EMOCE/train/angry\\Training_18806679.jpg – Face could not be detected in numpy array.Please confirm that the picture is a face photo or consider to set enforce_detection param to False.\n",
      "Chyba: DeepFace nemohl analyzovat C:\\Users\\zitao\\Documents\\PETR\\DATA_SCIENCE\\EMOCE/train/angry\\Training_18818880.jpg – Face could not be detected in numpy array.Please confirm that the picture is a face photo or consider to set enforce_detection param to False.\n",
      "Chyba: DeepFace nemohl analyzovat C:\\Users\\zitao\\Documents\\PETR\\DATA_SCIENCE\\EMOCE/train/angry\\Training_18829072.jpg – Face could not be detected in numpy array.Please confirm that the picture is a face photo or consider to set enforce_detection param to False.\n",
      "Chyba: DeepFace nemohl analyzovat C:\\Users\\zitao\\Documents\\PETR\\DATA_SCIENCE\\EMOCE/train/angry\\Training_18833065.jpg – Face could not be detected in numpy array.Please confirm that the picture is a face photo or consider to set enforce_detection param to False.\n",
      "Chyba: DeepFace nemohl analyzovat C:\\Users\\zitao\\Documents\\PETR\\DATA_SCIENCE\\EMOCE/train/angry\\Training_18873605.jpg – Face could not be detected in numpy array.Please confirm that the picture is a face photo or consider to set enforce_detection param to False.\n",
      "Chyba: DeepFace nemohl analyzovat C:\\Users\\zitao\\Documents\\PETR\\DATA_SCIENCE\\EMOCE/train/angry\\Training_18888080.jpg – Face could not be detected in numpy array.Please confirm that the picture is a face photo or consider to set enforce_detection param to False.\n",
      "Chyba: DeepFace nemohl analyzovat C:\\Users\\zitao\\Documents\\PETR\\DATA_SCIENCE\\EMOCE/train/angry\\Training_19103814.jpg – Face could not be detected in numpy array.Please confirm that the picture is a face photo or consider to set enforce_detection param to False.\n",
      "Chyba: DeepFace nemohl analyzovat C:\\Users\\zitao\\Documents\\PETR\\DATA_SCIENCE\\EMOCE/train/angry\\Training_19104128.jpg – Face could not be detected in numpy array.Please confirm that the picture is a face photo or consider to set enforce_detection param to False.\n",
      "Chyba: DeepFace nemohl analyzovat C:\\Users\\zitao\\Documents\\PETR\\DATA_SCIENCE\\EMOCE/train/angry\\Training_19153111.jpg – Face could not be detected in numpy array.Please confirm that the picture is a face photo or consider to set enforce_detection param to False.\n",
      "Chyba: DeepFace nemohl analyzovat C:\\Users\\zitao\\Documents\\PETR\\DATA_SCIENCE\\EMOCE/train/angry\\Training_19226789.jpg – Face could not be detected in numpy array.Please confirm that the picture is a face photo or consider to set enforce_detection param to False.\n",
      "Chyba: DeepFace nemohl analyzovat C:\\Users\\zitao\\Documents\\PETR\\DATA_SCIENCE\\EMOCE/train/angry\\Training_1924056.jpg – Face could not be detected in numpy array.Please confirm that the picture is a face photo or consider to set enforce_detection param to False.\n",
      "Chyba: DeepFace nemohl analyzovat C:\\Users\\zitao\\Documents\\PETR\\DATA_SCIENCE\\EMOCE/train/angry\\Training_19259158.jpg – Face could not be detected in numpy array.Please confirm that the picture is a face photo or consider to set enforce_detection param to False.\n",
      "Chyba: DeepFace nemohl analyzovat C:\\Users\\zitao\\Documents\\PETR\\DATA_SCIENCE\\EMOCE/train/angry\\Training_19280895.jpg – Face could not be detected in numpy array.Please confirm that the picture is a face photo or consider to set enforce_detection param to False.\n",
      "Chyba: DeepFace nemohl analyzovat C:\\Users\\zitao\\Documents\\PETR\\DATA_SCIENCE\\EMOCE/train/angry\\Training_19295001.jpg – Face could not be detected in numpy array.Please confirm that the picture is a face photo or consider to set enforce_detection param to False.\n",
      "Chyba: DeepFace nemohl analyzovat C:\\Users\\zitao\\Documents\\PETR\\DATA_SCIENCE\\EMOCE/train/angry\\Training_19316238.jpg – Face could not be detected in numpy array.Please confirm that the picture is a face photo or consider to set enforce_detection param to False.\n",
      "Chyba: DeepFace nemohl analyzovat C:\\Users\\zitao\\Documents\\PETR\\DATA_SCIENCE\\EMOCE/train/angry\\Training_1934096.jpg – Face could not be detected in numpy array.Please confirm that the picture is a face photo or consider to set enforce_detection param to False.\n",
      "Chyba: DeepFace nemohl analyzovat C:\\Users\\zitao\\Documents\\PETR\\DATA_SCIENCE\\EMOCE/train/angry\\Training_19345091.jpg – Face could not be detected in numpy array.Please confirm that the picture is a face photo or consider to set enforce_detection param to False.\n",
      "Chyba: DeepFace nemohl analyzovat C:\\Users\\zitao\\Documents\\PETR\\DATA_SCIENCE\\EMOCE/train/angry\\Training_19370670.jpg – Face could not be detected in numpy array.Please confirm that the picture is a face photo or consider to set enforce_detection param to False.\n",
      "Chyba: DeepFace nemohl analyzovat C:\\Users\\zitao\\Documents\\PETR\\DATA_SCIENCE\\EMOCE/train/angry\\Training_19401825.jpg – Face could not be detected in numpy array.Please confirm that the picture is a face photo or consider to set enforce_detection param to False.\n",
      "Chyba: DeepFace nemohl analyzovat C:\\Users\\zitao\\Documents\\PETR\\DATA_SCIENCE\\EMOCE/train/angry\\Training_1942570.jpg – Face could not be detected in numpy array.Please confirm that the picture is a face photo or consider to set enforce_detection param to False.\n",
      "Chyba: DeepFace nemohl analyzovat C:\\Users\\zitao\\Documents\\PETR\\DATA_SCIENCE\\EMOCE/train/angry\\Training_19429243.jpg – Face could not be detected in numpy array.Please confirm that the picture is a face photo or consider to set enforce_detection param to False.\n",
      "Chyba: DeepFace nemohl analyzovat C:\\Users\\zitao\\Documents\\PETR\\DATA_SCIENCE\\EMOCE/train/angry\\Training_19436967.jpg – Face could not be detected in numpy array.Please confirm that the picture is a face photo or consider to set enforce_detection param to False.\n",
      "Chyba: DeepFace nemohl analyzovat C:\\Users\\zitao\\Documents\\PETR\\DATA_SCIENCE\\EMOCE/train/angry\\Training_19573652.jpg – Face could not be detected in numpy array.Please confirm that the picture is a face photo or consider to set enforce_detection param to False.\n",
      "Chyba: DeepFace nemohl analyzovat C:\\Users\\zitao\\Documents\\PETR\\DATA_SCIENCE\\EMOCE/train/angry\\Training_19578975.jpg – Face could not be detected in numpy array.Please confirm that the picture is a face photo or consider to set enforce_detection param to False.\n",
      "Chyba: DeepFace nemohl analyzovat C:\\Users\\zitao\\Documents\\PETR\\DATA_SCIENCE\\EMOCE/train/angry\\Training_19595003.jpg – Face could not be detected in numpy array.Please confirm that the picture is a face photo or consider to set enforce_detection param to False.\n",
      "Chyba: DeepFace nemohl analyzovat C:\\Users\\zitao\\Documents\\PETR\\DATA_SCIENCE\\EMOCE/train/angry\\Training_19605770.jpg – Face could not be detected in numpy array.Please confirm that the picture is a face photo or consider to set enforce_detection param to False.\n",
      "Chyba: DeepFace nemohl analyzovat C:\\Users\\zitao\\Documents\\PETR\\DATA_SCIENCE\\EMOCE/train/angry\\Training_19633287.jpg – Face could not be detected in numpy array.Please confirm that the picture is a face photo or consider to set enforce_detection param to False.\n",
      "Chyba: DeepFace nemohl analyzovat C:\\Users\\zitao\\Documents\\PETR\\DATA_SCIENCE\\EMOCE/train/angry\\Training_19726930.jpg – Face could not be detected in numpy array.Please confirm that the picture is a face photo or consider to set enforce_detection param to False.\n",
      "Chyba: DeepFace nemohl analyzovat C:\\Users\\zitao\\Documents\\PETR\\DATA_SCIENCE\\EMOCE/train/angry\\Training_19879369.jpg – Face could not be detected in numpy array.Please confirm that the picture is a face photo or consider to set enforce_detection param to False.\n",
      "Chyba: DeepFace nemohl analyzovat C:\\Users\\zitao\\Documents\\PETR\\DATA_SCIENCE\\EMOCE/train/angry\\Training_20030076.jpg – Face could not be detected in numpy array.Please confirm that the picture is a face photo or consider to set enforce_detection param to False.\n",
      "Chyba: DeepFace nemohl analyzovat C:\\Users\\zitao\\Documents\\PETR\\DATA_SCIENCE\\EMOCE/train/angry\\Training_20262264.jpg – Face could not be detected in numpy array.Please confirm that the picture is a face photo or consider to set enforce_detection param to False.\n",
      "Chyba: DeepFace nemohl analyzovat C:\\Users\\zitao\\Documents\\PETR\\DATA_SCIENCE\\EMOCE/train/angry\\Training_20272265.jpg – Face could not be detected in numpy array.Please confirm that the picture is a face photo or consider to set enforce_detection param to False.\n",
      "Chyba: DeepFace nemohl analyzovat C:\\Users\\zitao\\Documents\\PETR\\DATA_SCIENCE\\EMOCE/train/angry\\Training_20325245.jpg – Face could not be detected in numpy array.Please confirm that the picture is a face photo or consider to set enforce_detection param to False.\n",
      "Chyba: DeepFace nemohl analyzovat C:\\Users\\zitao\\Documents\\PETR\\DATA_SCIENCE\\EMOCE/train/angry\\Training_20326127.jpg – Face could not be detected in numpy array.Please confirm that the picture is a face photo or consider to set enforce_detection param to False.\n",
      "Chyba: DeepFace nemohl analyzovat C:\\Users\\zitao\\Documents\\PETR\\DATA_SCIENCE\\EMOCE/train/angry\\Training_20376505.jpg – Face could not be detected in numpy array.Please confirm that the picture is a face photo or consider to set enforce_detection param to False.\n",
      "Chyba: DeepFace nemohl analyzovat C:\\Users\\zitao\\Documents\\PETR\\DATA_SCIENCE\\EMOCE/train/angry\\Training_20398356.jpg – Face could not be detected in numpy array.Please confirm that the picture is a face photo or consider to set enforce_detection param to False.\n",
      "Chyba: DeepFace nemohl analyzovat C:\\Users\\zitao\\Documents\\PETR\\DATA_SCIENCE\\EMOCE/train/angry\\Training_20436888.jpg – Face could not be detected in numpy array.Please confirm that the picture is a face photo or consider to set enforce_detection param to False.\n",
      "Chyba: DeepFace nemohl analyzovat C:\\Users\\zitao\\Documents\\PETR\\DATA_SCIENCE\\EMOCE/train/angry\\Training_20556787.jpg – Face could not be detected in numpy array.Please confirm that the picture is a face photo or consider to set enforce_detection param to False.\n",
      "Chyba: DeepFace nemohl analyzovat C:\\Users\\zitao\\Documents\\PETR\\DATA_SCIENCE\\EMOCE/train/angry\\Training_20614593.jpg – Face could not be detected in numpy array.Please confirm that the picture is a face photo or consider to set enforce_detection param to False.\n",
      "Chyba: DeepFace nemohl analyzovat C:\\Users\\zitao\\Documents\\PETR\\DATA_SCIENCE\\EMOCE/train/angry\\Training_20628939.jpg – Face could not be detected in numpy array.Please confirm that the picture is a face photo or consider to set enforce_detection param to False.\n",
      "Chyba: DeepFace nemohl analyzovat C:\\Users\\zitao\\Documents\\PETR\\DATA_SCIENCE\\EMOCE/train/angry\\Training_20643666.jpg – Face could not be detected in numpy array.Please confirm that the picture is a face photo or consider to set enforce_detection param to False.\n",
      "Chyba: DeepFace nemohl analyzovat C:\\Users\\zitao\\Documents\\PETR\\DATA_SCIENCE\\EMOCE/train/angry\\Training_20666200.jpg – Face could not be detected in numpy array.Please confirm that the picture is a face photo or consider to set enforce_detection param to False.\n",
      "Chyba: DeepFace nemohl analyzovat C:\\Users\\zitao\\Documents\\PETR\\DATA_SCIENCE\\EMOCE/train/angry\\Training_20682032.jpg – Face could not be detected in numpy array.Please confirm that the picture is a face photo or consider to set enforce_detection param to False.\n",
      "Chyba: DeepFace nemohl analyzovat C:\\Users\\zitao\\Documents\\PETR\\DATA_SCIENCE\\EMOCE/train/angry\\Training_20688095.jpg – Face could not be detected in numpy array.Please confirm that the picture is a face photo or consider to set enforce_detection param to False.\n",
      "Chyba: DeepFace nemohl analyzovat C:\\Users\\zitao\\Documents\\PETR\\DATA_SCIENCE\\EMOCE/train/angry\\Training_21096846.jpg – Face could not be detected in numpy array.Please confirm that the picture is a face photo or consider to set enforce_detection param to False.\n",
      "Chyba: DeepFace nemohl analyzovat C:\\Users\\zitao\\Documents\\PETR\\DATA_SCIENCE\\EMOCE/train/angry\\Training_21111744.jpg – Face could not be detected in numpy array.Please confirm that the picture is a face photo or consider to set enforce_detection param to False.\n",
      "Chyba: DeepFace nemohl analyzovat C:\\Users\\zitao\\Documents\\PETR\\DATA_SCIENCE\\EMOCE/train/angry\\Training_21134448.jpg – Face could not be detected in numpy array.Please confirm that the picture is a face photo or consider to set enforce_detection param to False.\n",
      "Chyba: DeepFace nemohl analyzovat C:\\Users\\zitao\\Documents\\PETR\\DATA_SCIENCE\\EMOCE/train/angry\\Training_21220561.jpg – Face could not be detected in numpy array.Please confirm that the picture is a face photo or consider to set enforce_detection param to False.\n",
      "Chyba: DeepFace nemohl analyzovat C:\\Users\\zitao\\Documents\\PETR\\DATA_SCIENCE\\EMOCE/train/angry\\Training_2126195.jpg – Face could not be detected in numpy array.Please confirm that the picture is a face photo or consider to set enforce_detection param to False.\n",
      "Chyba: DeepFace nemohl analyzovat C:\\Users\\zitao\\Documents\\PETR\\DATA_SCIENCE\\EMOCE/train/angry\\Training_21398238.jpg – Face could not be detected in numpy array.Please confirm that the picture is a face photo or consider to set enforce_detection param to False.\n",
      "Chyba: DeepFace nemohl analyzovat C:\\Users\\zitao\\Documents\\PETR\\DATA_SCIENCE\\EMOCE/train/angry\\Training_21429456.jpg – Face could not be detected in numpy array.Please confirm that the picture is a face photo or consider to set enforce_detection param to False.\n",
      "Chyba: DeepFace nemohl analyzovat C:\\Users\\zitao\\Documents\\PETR\\DATA_SCIENCE\\EMOCE/train/angry\\Training_21562334.jpg – Face could not be detected in numpy array.Please confirm that the picture is a face photo or consider to set enforce_detection param to False.\n",
      "Chyba: DeepFace nemohl analyzovat C:\\Users\\zitao\\Documents\\PETR\\DATA_SCIENCE\\EMOCE/train/angry\\Training_21574245.jpg – Face could not be detected in numpy array.Please confirm that the picture is a face photo or consider to set enforce_detection param to False.\n",
      "Chyba: DeepFace nemohl analyzovat C:\\Users\\zitao\\Documents\\PETR\\DATA_SCIENCE\\EMOCE/train/angry\\Training_21575060.jpg – Face could not be detected in numpy array.Please confirm that the picture is a face photo or consider to set enforce_detection param to False.\n",
      "Chyba: DeepFace nemohl analyzovat C:\\Users\\zitao\\Documents\\PETR\\DATA_SCIENCE\\EMOCE/train/angry\\Training_21576940.jpg – Face could not be detected in numpy array.Please confirm that the picture is a face photo or consider to set enforce_detection param to False.\n",
      "Chyba: DeepFace nemohl analyzovat C:\\Users\\zitao\\Documents\\PETR\\DATA_SCIENCE\\EMOCE/train/angry\\Training_21623038.jpg – Face could not be detected in numpy array.Please confirm that the picture is a face photo or consider to set enforce_detection param to False.\n",
      "Chyba: DeepFace nemohl analyzovat C:\\Users\\zitao\\Documents\\PETR\\DATA_SCIENCE\\EMOCE/train/angry\\Training_21706252.jpg – Face could not be detected in numpy array.Please confirm that the picture is a face photo or consider to set enforce_detection param to False.\n",
      "Chyba: DeepFace nemohl analyzovat C:\\Users\\zitao\\Documents\\PETR\\DATA_SCIENCE\\EMOCE/train/angry\\Training_21731792.jpg – Face could not be detected in numpy array.Please confirm that the picture is a face photo or consider to set enforce_detection param to False.\n",
      "Chyba: DeepFace nemohl analyzovat C:\\Users\\zitao\\Documents\\PETR\\DATA_SCIENCE\\EMOCE/train/angry\\Training_21745537.jpg – Face could not be detected in numpy array.Please confirm that the picture is a face photo or consider to set enforce_detection param to False.\n",
      "Chyba: DeepFace nemohl analyzovat C:\\Users\\zitao\\Documents\\PETR\\DATA_SCIENCE\\EMOCE/train/angry\\Training_21797426.jpg – Face could not be detected in numpy array.Please confirm that the picture is a face photo or consider to set enforce_detection param to False.\n",
      "Chyba: DeepFace nemohl analyzovat C:\\Users\\zitao\\Documents\\PETR\\DATA_SCIENCE\\EMOCE/train/angry\\Training_2185049.jpg – Face could not be detected in numpy array.Please confirm that the picture is a face photo or consider to set enforce_detection param to False.\n",
      "Chyba: DeepFace nemohl analyzovat C:\\Users\\zitao\\Documents\\PETR\\DATA_SCIENCE\\EMOCE/train/angry\\Training_21945057.jpg – Face could not be detected in numpy array.Please confirm that the picture is a face photo or consider to set enforce_detection param to False.\n",
      "Chyba: DeepFace nemohl analyzovat C:\\Users\\zitao\\Documents\\PETR\\DATA_SCIENCE\\EMOCE/train/angry\\Training_21996602.jpg – Face could not be detected in numpy array.Please confirm that the picture is a face photo or consider to set enforce_detection param to False.\n",
      "Chyba: DeepFace nemohl analyzovat C:\\Users\\zitao\\Documents\\PETR\\DATA_SCIENCE\\EMOCE/train/angry\\Training_22225769.jpg – Face could not be detected in numpy array.Please confirm that the picture is a face photo or consider to set enforce_detection param to False.\n",
      "Chyba: DeepFace nemohl analyzovat C:\\Users\\zitao\\Documents\\PETR\\DATA_SCIENCE\\EMOCE/train/angry\\Training_22269387.jpg – Face could not be detected in numpy array.Please confirm that the picture is a face photo or consider to set enforce_detection param to False.\n",
      "Chyba: DeepFace nemohl analyzovat C:\\Users\\zitao\\Documents\\PETR\\DATA_SCIENCE\\EMOCE/train/angry\\Training_22394449.jpg – Face could not be detected in numpy array.Please confirm that the picture is a face photo or consider to set enforce_detection param to False.\n",
      "Chyba: DeepFace nemohl analyzovat C:\\Users\\zitao\\Documents\\PETR\\DATA_SCIENCE\\EMOCE/train/angry\\Training_22407840.jpg – Face could not be detected in numpy array.Please confirm that the picture is a face photo or consider to set enforce_detection param to False.\n",
      "Chyba: DeepFace nemohl analyzovat C:\\Users\\zitao\\Documents\\PETR\\DATA_SCIENCE\\EMOCE/train/angry\\Training_22417394.jpg – Face could not be detected in numpy array.Please confirm that the picture is a face photo or consider to set enforce_detection param to False.\n",
      "Chyba: DeepFace nemohl analyzovat C:\\Users\\zitao\\Documents\\PETR\\DATA_SCIENCE\\EMOCE/train/angry\\Training_22484444.jpg – Face could not be detected in numpy array.Please confirm that the picture is a face photo or consider to set enforce_detection param to False.\n",
      "Chyba: DeepFace nemohl analyzovat C:\\Users\\zitao\\Documents\\PETR\\DATA_SCIENCE\\EMOCE/train/angry\\Training_22547261.jpg – Face could not be detected in numpy array.Please confirm that the picture is a face photo or consider to set enforce_detection param to False.\n",
      "Chyba: DeepFace nemohl analyzovat C:\\Users\\zitao\\Documents\\PETR\\DATA_SCIENCE\\EMOCE/train/angry\\Training_22571639.jpg – Face could not be detected in numpy array.Please confirm that the picture is a face photo or consider to set enforce_detection param to False.\n",
      "Chyba: DeepFace nemohl analyzovat C:\\Users\\zitao\\Documents\\PETR\\DATA_SCIENCE\\EMOCE/train/angry\\Training_2261453.jpg – Face could not be detected in numpy array.Please confirm that the picture is a face photo or consider to set enforce_detection param to False.\n",
      "Chyba: DeepFace nemohl analyzovat C:\\Users\\zitao\\Documents\\PETR\\DATA_SCIENCE\\EMOCE/train/angry\\Training_22662478.jpg – Face could not be detected in numpy array.Please confirm that the picture is a face photo or consider to set enforce_detection param to False.\n",
      "Chyba: DeepFace nemohl analyzovat C:\\Users\\zitao\\Documents\\PETR\\DATA_SCIENCE\\EMOCE/train/angry\\Training_22753838.jpg – Face could not be detected in numpy array.Please confirm that the picture is a face photo or consider to set enforce_detection param to False.\n",
      "Chyba: DeepFace nemohl analyzovat C:\\Users\\zitao\\Documents\\PETR\\DATA_SCIENCE\\EMOCE/train/angry\\Training_22786311.jpg – Face could not be detected in numpy array.Please confirm that the picture is a face photo or consider to set enforce_detection param to False.\n",
      "Chyba: DeepFace nemohl analyzovat C:\\Users\\zitao\\Documents\\PETR\\DATA_SCIENCE\\EMOCE/train/angry\\Training_22890433.jpg – Face could not be detected in numpy array.Please confirm that the picture is a face photo or consider to set enforce_detection param to False.\n",
      "Chyba: DeepFace nemohl analyzovat C:\\Users\\zitao\\Documents\\PETR\\DATA_SCIENCE\\EMOCE/train/angry\\Training_22892509.jpg – Face could not be detected in numpy array.Please confirm that the picture is a face photo or consider to set enforce_detection param to False.\n",
      "Chyba: DeepFace nemohl analyzovat C:\\Users\\zitao\\Documents\\PETR\\DATA_SCIENCE\\EMOCE/train/angry\\Training_23143124.jpg – Face could not be detected in numpy array.Please confirm that the picture is a face photo or consider to set enforce_detection param to False.\n",
      "Chyba: DeepFace nemohl analyzovat C:\\Users\\zitao\\Documents\\PETR\\DATA_SCIENCE\\EMOCE/train/angry\\Training_23166676.jpg – Face could not be detected in numpy array.Please confirm that the picture is a face photo or consider to set enforce_detection param to False.\n",
      "Chyba: DeepFace nemohl analyzovat C:\\Users\\zitao\\Documents\\PETR\\DATA_SCIENCE\\EMOCE/train/angry\\Training_23194876.jpg – Face could not be detected in numpy array.Please confirm that the picture is a face photo or consider to set enforce_detection param to False.\n",
      "Chyba: DeepFace nemohl analyzovat C:\\Users\\zitao\\Documents\\PETR\\DATA_SCIENCE\\EMOCE/train/angry\\Training_2323777.jpg – Face could not be detected in numpy array.Please confirm that the picture is a face photo or consider to set enforce_detection param to False.\n",
      "Chyba: DeepFace nemohl analyzovat C:\\Users\\zitao\\Documents\\PETR\\DATA_SCIENCE\\EMOCE/train/angry\\Training_23240301.jpg – Face could not be detected in numpy array.Please confirm that the picture is a face photo or consider to set enforce_detection param to False.\n",
      "Chyba: DeepFace nemohl analyzovat C:\\Users\\zitao\\Documents\\PETR\\DATA_SCIENCE\\EMOCE/train/angry\\Training_23242376.jpg – Face could not be detected in numpy array.Please confirm that the picture is a face photo or consider to set enforce_detection param to False.\n",
      "Chyba: DeepFace nemohl analyzovat C:\\Users\\zitao\\Documents\\PETR\\DATA_SCIENCE\\EMOCE/train/angry\\Training_23380555.jpg – Face could not be detected in numpy array.Please confirm that the picture is a face photo or consider to set enforce_detection param to False.\n",
      "Chyba: DeepFace nemohl analyzovat C:\\Users\\zitao\\Documents\\PETR\\DATA_SCIENCE\\EMOCE/train/angry\\Training_233976.jpg – Face could not be detected in numpy array.Please confirm that the picture is a face photo or consider to set enforce_detection param to False.\n",
      "Chyba: DeepFace nemohl analyzovat C:\\Users\\zitao\\Documents\\PETR\\DATA_SCIENCE\\EMOCE/train/angry\\Training_23447931.jpg – Face could not be detected in numpy array.Please confirm that the picture is a face photo or consider to set enforce_detection param to False.\n",
      "Chyba: DeepFace nemohl analyzovat C:\\Users\\zitao\\Documents\\PETR\\DATA_SCIENCE\\EMOCE/train/angry\\Training_23487884.jpg – Face could not be detected in numpy array.Please confirm that the picture is a face photo or consider to set enforce_detection param to False.\n",
      "Chyba: DeepFace nemohl analyzovat C:\\Users\\zitao\\Documents\\PETR\\DATA_SCIENCE\\EMOCE/train/angry\\Training_23539303.jpg – Face could not be detected in numpy array.Please confirm that the picture is a face photo or consider to set enforce_detection param to False.\n",
      "Chyba: DeepFace nemohl analyzovat C:\\Users\\zitao\\Documents\\PETR\\DATA_SCIENCE\\EMOCE/train/angry\\Training_23633484.jpg – Face could not be detected in numpy array.Please confirm that the picture is a face photo or consider to set enforce_detection param to False.\n",
      "Chyba: DeepFace nemohl analyzovat C:\\Users\\zitao\\Documents\\PETR\\DATA_SCIENCE\\EMOCE/train/angry\\Training_23736738.jpg – Face could not be detected in numpy array.Please confirm that the picture is a face photo or consider to set enforce_detection param to False.\n",
      "Chyba: DeepFace nemohl analyzovat C:\\Users\\zitao\\Documents\\PETR\\DATA_SCIENCE\\EMOCE/train/angry\\Training_2374009.jpg – Face could not be detected in numpy array.Please confirm that the picture is a face photo or consider to set enforce_detection param to False.\n",
      "Chyba: DeepFace nemohl analyzovat C:\\Users\\zitao\\Documents\\PETR\\DATA_SCIENCE\\EMOCE/train/angry\\Training_23781912.jpg – Face could not be detected in numpy array.Please confirm that the picture is a face photo or consider to set enforce_detection param to False.\n",
      "Chyba: DeepFace nemohl analyzovat C:\\Users\\zitao\\Documents\\PETR\\DATA_SCIENCE\\EMOCE/train/angry\\Training_23785053.jpg – Face could not be detected in numpy array.Please confirm that the picture is a face photo or consider to set enforce_detection param to False.\n",
      "Chyba: DeepFace nemohl analyzovat C:\\Users\\zitao\\Documents\\PETR\\DATA_SCIENCE\\EMOCE/train/angry\\Training_23853526.jpg – Face could not be detected in numpy array.Please confirm that the picture is a face photo or consider to set enforce_detection param to False.\n",
      "Chyba: DeepFace nemohl analyzovat C:\\Users\\zitao\\Documents\\PETR\\DATA_SCIENCE\\EMOCE/train/angry\\Training_2395249.jpg – Face could not be detected in numpy array.Please confirm that the picture is a face photo or consider to set enforce_detection param to False.\n",
      "Chyba: DeepFace nemohl analyzovat C:\\Users\\zitao\\Documents\\PETR\\DATA_SCIENCE\\EMOCE/train/angry\\Training_24035711.jpg – Face could not be detected in numpy array.Please confirm that the picture is a face photo or consider to set enforce_detection param to False.\n",
      "Chyba: DeepFace nemohl analyzovat C:\\Users\\zitao\\Documents\\PETR\\DATA_SCIENCE\\EMOCE/train/angry\\Training_24044171.jpg – Face could not be detected in numpy array.Please confirm that the picture is a face photo or consider to set enforce_detection param to False.\n",
      "Chyba: DeepFace nemohl analyzovat C:\\Users\\zitao\\Documents\\PETR\\DATA_SCIENCE\\EMOCE/train/angry\\Training_24210427.jpg – Face could not be detected in numpy array.Please confirm that the picture is a face photo or consider to set enforce_detection param to False.\n",
      "Chyba: DeepFace nemohl analyzovat C:\\Users\\zitao\\Documents\\PETR\\DATA_SCIENCE\\EMOCE/train/angry\\Training_24212027.jpg – Face could not be detected in numpy array.Please confirm that the picture is a face photo or consider to set enforce_detection param to False.\n",
      "Chyba: DeepFace nemohl analyzovat C:\\Users\\zitao\\Documents\\PETR\\DATA_SCIENCE\\EMOCE/train/angry\\Training_24218021.jpg – Face could not be detected in numpy array.Please confirm that the picture is a face photo or consider to set enforce_detection param to False.\n",
      "Chyba: DeepFace nemohl analyzovat C:\\Users\\zitao\\Documents\\PETR\\DATA_SCIENCE\\EMOCE/train/angry\\Training_24236148.jpg – Face could not be detected in numpy array.Please confirm that the picture is a face photo or consider to set enforce_detection param to False.\n",
      "Chyba: DeepFace nemohl analyzovat C:\\Users\\zitao\\Documents\\PETR\\DATA_SCIENCE\\EMOCE/train/angry\\Training_24409466.jpg – Face could not be detected in numpy array.Please confirm that the picture is a face photo or consider to set enforce_detection param to False.\n",
      "Chyba: DeepFace nemohl analyzovat C:\\Users\\zitao\\Documents\\PETR\\DATA_SCIENCE\\EMOCE/train/angry\\Training_24439859.jpg – Face could not be detected in numpy array.Please confirm that the picture is a face photo or consider to set enforce_detection param to False.\n",
      "Chyba: DeepFace nemohl analyzovat C:\\Users\\zitao\\Documents\\PETR\\DATA_SCIENCE\\EMOCE/train/angry\\Training_24553032.jpg – Face could not be detected in numpy array.Please confirm that the picture is a face photo or consider to set enforce_detection param to False.\n",
      "Chyba: DeepFace nemohl analyzovat C:\\Users\\zitao\\Documents\\PETR\\DATA_SCIENCE\\EMOCE/train/angry\\Training_24567425.jpg – Face could not be detected in numpy array.Please confirm that the picture is a face photo or consider to set enforce_detection param to False.\n",
      "Chyba: DeepFace nemohl analyzovat C:\\Users\\zitao\\Documents\\PETR\\DATA_SCIENCE\\EMOCE/train/angry\\Training_2467883.jpg – Face could not be detected in numpy array.Please confirm that the picture is a face photo or consider to set enforce_detection param to False.\n",
      "Chyba: DeepFace nemohl analyzovat C:\\Users\\zitao\\Documents\\PETR\\DATA_SCIENCE\\EMOCE/train/angry\\Training_24759868.jpg – Face could not be detected in numpy array.Please confirm that the picture is a face photo or consider to set enforce_detection param to False.\n",
      "Chyba: DeepFace nemohl analyzovat C:\\Users\\zitao\\Documents\\PETR\\DATA_SCIENCE\\EMOCE/train/angry\\Training_247656.jpg – Face could not be detected in numpy array.Please confirm that the picture is a face photo or consider to set enforce_detection param to False.\n",
      "Chyba: DeepFace nemohl analyzovat C:\\Users\\zitao\\Documents\\PETR\\DATA_SCIENCE\\EMOCE/train/angry\\Training_24890384.jpg – Face could not be detected in numpy array.Please confirm that the picture is a face photo or consider to set enforce_detection param to False.\n",
      "Chyba: DeepFace nemohl analyzovat C:\\Users\\zitao\\Documents\\PETR\\DATA_SCIENCE\\EMOCE/train/angry\\Training_24917234.jpg – Face could not be detected in numpy array.Please confirm that the picture is a face photo or consider to set enforce_detection param to False.\n",
      "Chyba: DeepFace nemohl analyzovat C:\\Users\\zitao\\Documents\\PETR\\DATA_SCIENCE\\EMOCE/train/angry\\Training_25059339.jpg – Face could not be detected in numpy array.Please confirm that the picture is a face photo or consider to set enforce_detection param to False.\n",
      "Chyba: DeepFace nemohl analyzovat C:\\Users\\zitao\\Documents\\PETR\\DATA_SCIENCE\\EMOCE/train/angry\\Training_25127621.jpg – Face could not be detected in numpy array.Please confirm that the picture is a face photo or consider to set enforce_detection param to False.\n",
      "Chyba: DeepFace nemohl analyzovat C:\\Users\\zitao\\Documents\\PETR\\DATA_SCIENCE\\EMOCE/train/angry\\Training_25131560.jpg – Face could not be detected in numpy array.Please confirm that the picture is a face photo or consider to set enforce_detection param to False.\n",
      "Chyba: DeepFace nemohl analyzovat C:\\Users\\zitao\\Documents\\PETR\\DATA_SCIENCE\\EMOCE/train/angry\\Training_25188983.jpg – Face could not be detected in numpy array.Please confirm that the picture is a face photo or consider to set enforce_detection param to False.\n",
      "Chyba: DeepFace nemohl analyzovat C:\\Users\\zitao\\Documents\\PETR\\DATA_SCIENCE\\EMOCE/train/angry\\Training_25323093.jpg – Face could not be detected in numpy array.Please confirm that the picture is a face photo or consider to set enforce_detection param to False.\n",
      "Chyba: DeepFace nemohl analyzovat C:\\Users\\zitao\\Documents\\PETR\\DATA_SCIENCE\\EMOCE/train/angry\\Training_25376117.jpg – Face could not be detected in numpy array.Please confirm that the picture is a face photo or consider to set enforce_detection param to False.\n",
      "Chyba: DeepFace nemohl analyzovat C:\\Users\\zitao\\Documents\\PETR\\DATA_SCIENCE\\EMOCE/train/angry\\Training_25381827.jpg – Face could not be detected in numpy array.Please confirm that the picture is a face photo or consider to set enforce_detection param to False.\n",
      "Chyba: DeepFace nemohl analyzovat C:\\Users\\zitao\\Documents\\PETR\\DATA_SCIENCE\\EMOCE/train/angry\\Training_25413066.jpg – Face could not be detected in numpy array.Please confirm that the picture is a face photo or consider to set enforce_detection param to False.\n",
      "Chyba: DeepFace nemohl analyzovat C:\\Users\\zitao\\Documents\\PETR\\DATA_SCIENCE\\EMOCE/train/angry\\Training_25440354.jpg – Face could not be detected in numpy array.Please confirm that the picture is a face photo or consider to set enforce_detection param to False.\n",
      "Chyba: DeepFace nemohl analyzovat C:\\Users\\zitao\\Documents\\PETR\\DATA_SCIENCE\\EMOCE/train/angry\\Training_25475703.jpg – Face could not be detected in numpy array.Please confirm that the picture is a face photo or consider to set enforce_detection param to False.\n",
      "Chyba: DeepFace nemohl analyzovat C:\\Users\\zitao\\Documents\\PETR\\DATA_SCIENCE\\EMOCE/train/angry\\Training_25605469.jpg – Face could not be detected in numpy array.Please confirm that the picture is a face photo or consider to set enforce_detection param to False.\n",
      "Chyba: DeepFace nemohl analyzovat C:\\Users\\zitao\\Documents\\PETR\\DATA_SCIENCE\\EMOCE/train/angry\\Training_25632745.jpg – Face could not be detected in numpy array.Please confirm that the picture is a face photo or consider to set enforce_detection param to False.\n",
      "Chyba: DeepFace nemohl analyzovat C:\\Users\\zitao\\Documents\\PETR\\DATA_SCIENCE\\EMOCE/train/angry\\Training_25655245.jpg – Face could not be detected in numpy array.Please confirm that the picture is a face photo or consider to set enforce_detection param to False.\n",
      "Chyba: DeepFace nemohl analyzovat C:\\Users\\zitao\\Documents\\PETR\\DATA_SCIENCE\\EMOCE/train/angry\\Training_25665702.jpg – Face could not be detected in numpy array.Please confirm that the picture is a face photo or consider to set enforce_detection param to False.\n",
      "Chyba: DeepFace nemohl analyzovat C:\\Users\\zitao\\Documents\\PETR\\DATA_SCIENCE\\EMOCE/train/angry\\Training_25739285.jpg – Face could not be detected in numpy array.Please confirm that the picture is a face photo or consider to set enforce_detection param to False.\n",
      "Chyba: DeepFace nemohl analyzovat C:\\Users\\zitao\\Documents\\PETR\\DATA_SCIENCE\\EMOCE/train/angry\\Training_25812708.jpg – Face could not be detected in numpy array.Please confirm that the picture is a face photo or consider to set enforce_detection param to False.\n",
      "Chyba: DeepFace nemohl analyzovat C:\\Users\\zitao\\Documents\\PETR\\DATA_SCIENCE\\EMOCE/train/angry\\Training_25815231.jpg – Face could not be detected in numpy array.Please confirm that the picture is a face photo or consider to set enforce_detection param to False.\n",
      "Chyba: DeepFace nemohl analyzovat C:\\Users\\zitao\\Documents\\PETR\\DATA_SCIENCE\\EMOCE/train/angry\\Training_25899060.jpg – Face could not be detected in numpy array.Please confirm that the picture is a face photo or consider to set enforce_detection param to False.\n",
      "Chyba: DeepFace nemohl analyzovat C:\\Users\\zitao\\Documents\\PETR\\DATA_SCIENCE\\EMOCE/train/angry\\Training_25951310.jpg – Face could not be detected in numpy array.Please confirm that the picture is a face photo or consider to set enforce_detection param to False.\n",
      "Chyba: DeepFace nemohl analyzovat C:\\Users\\zitao\\Documents\\PETR\\DATA_SCIENCE\\EMOCE/train/angry\\Training_25957924.jpg – Face could not be detected in numpy array.Please confirm that the picture is a face photo or consider to set enforce_detection param to False.\n",
      "Chyba: DeepFace nemohl analyzovat C:\\Users\\zitao\\Documents\\PETR\\DATA_SCIENCE\\EMOCE/train/angry\\Training_25986851.jpg – Face could not be detected in numpy array.Please confirm that the picture is a face photo or consider to set enforce_detection param to False.\n",
      "Chyba: DeepFace nemohl analyzovat C:\\Users\\zitao\\Documents\\PETR\\DATA_SCIENCE\\EMOCE/train/angry\\Training_26083913.jpg – Face could not be detected in numpy array.Please confirm that the picture is a face photo or consider to set enforce_detection param to False.\n",
      "Chyba: DeepFace nemohl analyzovat C:\\Users\\zitao\\Documents\\PETR\\DATA_SCIENCE\\EMOCE/train/angry\\Training_26107937.jpg – Face could not be detected in numpy array.Please confirm that the picture is a face photo or consider to set enforce_detection param to False.\n",
      "Chyba: DeepFace nemohl analyzovat C:\\Users\\zitao\\Documents\\PETR\\DATA_SCIENCE\\EMOCE/train/angry\\Training_26173202.jpg – Face could not be detected in numpy array.Please confirm that the picture is a face photo or consider to set enforce_detection param to False.\n",
      "Chyba: DeepFace nemohl analyzovat C:\\Users\\zitao\\Documents\\PETR\\DATA_SCIENCE\\EMOCE/train/angry\\Training_26212740.jpg – Face could not be detected in numpy array.Please confirm that the picture is a face photo or consider to set enforce_detection param to False.\n",
      "Chyba: DeepFace nemohl analyzovat C:\\Users\\zitao\\Documents\\PETR\\DATA_SCIENCE\\EMOCE/train/angry\\Training_26264619.jpg – Face could not be detected in numpy array.Please confirm that the picture is a face photo or consider to set enforce_detection param to False.\n",
      "Chyba: DeepFace nemohl analyzovat C:\\Users\\zitao\\Documents\\PETR\\DATA_SCIENCE\\EMOCE/train/angry\\Training_26290543.jpg – Face could not be detected in numpy array.Please confirm that the picture is a face photo or consider to set enforce_detection param to False.\n",
      "Chyba: DeepFace nemohl analyzovat C:\\Users\\zitao\\Documents\\PETR\\DATA_SCIENCE\\EMOCE/train/angry\\Training_26308792.jpg – Face could not be detected in numpy array.Please confirm that the picture is a face photo or consider to set enforce_detection param to False.\n",
      "Chyba: DeepFace nemohl analyzovat C:\\Users\\zitao\\Documents\\PETR\\DATA_SCIENCE\\EMOCE/train/angry\\Training_26704038.jpg – Face could not be detected in numpy array.Please confirm that the picture is a face photo or consider to set enforce_detection param to False.\n",
      "Chyba: DeepFace nemohl analyzovat C:\\Users\\zitao\\Documents\\PETR\\DATA_SCIENCE\\EMOCE/train/angry\\Training_26725211.jpg – Face could not be detected in numpy array.Please confirm that the picture is a face photo or consider to set enforce_detection param to False.\n",
      "Chyba: DeepFace nemohl analyzovat C:\\Users\\zitao\\Documents\\PETR\\DATA_SCIENCE\\EMOCE/train/angry\\Training_26780207.jpg – Face could not be detected in numpy array.Please confirm that the picture is a face photo or consider to set enforce_detection param to False.\n",
      "Chyba: DeepFace nemohl analyzovat C:\\Users\\zitao\\Documents\\PETR\\DATA_SCIENCE\\EMOCE/train/angry\\Training_26800697.jpg – Face could not be detected in numpy array.Please confirm that the picture is a face photo or consider to set enforce_detection param to False.\n",
      "Chyba: DeepFace nemohl analyzovat C:\\Users\\zitao\\Documents\\PETR\\DATA_SCIENCE\\EMOCE/train/angry\\Training_26849568.jpg – Face could not be detected in numpy array.Please confirm that the picture is a face photo or consider to set enforce_detection param to False.\n",
      "Chyba: DeepFace nemohl analyzovat C:\\Users\\zitao\\Documents\\PETR\\DATA_SCIENCE\\EMOCE/train/angry\\Training_26852211.jpg – Face could not be detected in numpy array.Please confirm that the picture is a face photo or consider to set enforce_detection param to False.\n",
      "Chyba: DeepFace nemohl analyzovat C:\\Users\\zitao\\Documents\\PETR\\DATA_SCIENCE\\EMOCE/train/angry\\Training_2705239.jpg – Face could not be detected in numpy array.Please confirm that the picture is a face photo or consider to set enforce_detection param to False.\n",
      "Chyba: DeepFace nemohl analyzovat C:\\Users\\zitao\\Documents\\PETR\\DATA_SCIENCE\\EMOCE/train/angry\\Training_27071420.jpg – Face could not be detected in numpy array.Please confirm that the picture is a face photo or consider to set enforce_detection param to False.\n",
      "Chyba: DeepFace nemohl analyzovat C:\\Users\\zitao\\Documents\\PETR\\DATA_SCIENCE\\EMOCE/train/angry\\Training_27072144.jpg – Face could not be detected in numpy array.Please confirm that the picture is a face photo or consider to set enforce_detection param to False.\n",
      "Chyba: DeepFace nemohl analyzovat C:\\Users\\zitao\\Documents\\PETR\\DATA_SCIENCE\\EMOCE/train/angry\\Training_27120059.jpg – Face could not be detected in numpy array.Please confirm that the picture is a face photo or consider to set enforce_detection param to False.\n",
      "Chyba: DeepFace nemohl analyzovat C:\\Users\\zitao\\Documents\\PETR\\DATA_SCIENCE\\EMOCE/train/angry\\Training_27131777.jpg – Face could not be detected in numpy array.Please confirm that the picture is a face photo or consider to set enforce_detection param to False.\n",
      "Chyba: DeepFace nemohl analyzovat C:\\Users\\zitao\\Documents\\PETR\\DATA_SCIENCE\\EMOCE/train/angry\\Training_27165790.jpg – Face could not be detected in numpy array.Please confirm that the picture is a face photo or consider to set enforce_detection param to False.\n",
      "Chyba: DeepFace nemohl analyzovat C:\\Users\\zitao\\Documents\\PETR\\DATA_SCIENCE\\EMOCE/train/angry\\Training_27236991.jpg – Face could not be detected in numpy array.Please confirm that the picture is a face photo or consider to set enforce_detection param to False.\n",
      "Chyba: DeepFace nemohl analyzovat C:\\Users\\zitao\\Documents\\PETR\\DATA_SCIENCE\\EMOCE/train/angry\\Training_27379882.jpg – Face could not be detected in numpy array.Please confirm that the picture is a face photo or consider to set enforce_detection param to False.\n",
      "Chyba: DeepFace nemohl analyzovat C:\\Users\\zitao\\Documents\\PETR\\DATA_SCIENCE\\EMOCE/train/angry\\Training_27424163.jpg – Face could not be detected in numpy array.Please confirm that the picture is a face photo or consider to set enforce_detection param to False.\n",
      "Chyba: DeepFace nemohl analyzovat C:\\Users\\zitao\\Documents\\PETR\\DATA_SCIENCE\\EMOCE/train/angry\\Training_27436978.jpg – Face could not be detected in numpy array.Please confirm that the picture is a face photo or consider to set enforce_detection param to False.\n",
      "Chyba: DeepFace nemohl analyzovat C:\\Users\\zitao\\Documents\\PETR\\DATA_SCIENCE\\EMOCE/train/angry\\Training_2745951.jpg – Face could not be detected in numpy array.Please confirm that the picture is a face photo or consider to set enforce_detection param to False.\n",
      "Chyba: DeepFace nemohl analyzovat C:\\Users\\zitao\\Documents\\PETR\\DATA_SCIENCE\\EMOCE/train/angry\\Training_27473649.jpg – Face could not be detected in numpy array.Please confirm that the picture is a face photo or consider to set enforce_detection param to False.\n",
      "Chyba: DeepFace nemohl analyzovat C:\\Users\\zitao\\Documents\\PETR\\DATA_SCIENCE\\EMOCE/train/angry\\Training_27546957.jpg – Face could not be detected in numpy array.Please confirm that the picture is a face photo or consider to set enforce_detection param to False.\n",
      "Chyba: DeepFace nemohl analyzovat C:\\Users\\zitao\\Documents\\PETR\\DATA_SCIENCE\\EMOCE/train/angry\\Training_27567938.jpg – Face could not be detected in numpy array.Please confirm that the picture is a face photo or consider to set enforce_detection param to False.\n",
      "Chyba: DeepFace nemohl analyzovat C:\\Users\\zitao\\Documents\\PETR\\DATA_SCIENCE\\EMOCE/train/angry\\Training_2778426.jpg – Face could not be detected in numpy array.Please confirm that the picture is a face photo or consider to set enforce_detection param to False.\n",
      "Chyba: DeepFace nemohl analyzovat C:\\Users\\zitao\\Documents\\PETR\\DATA_SCIENCE\\EMOCE/train/angry\\Training_27830522.jpg – Face could not be detected in numpy array.Please confirm that the picture is a face photo or consider to set enforce_detection param to False.\n",
      "Chyba: DeepFace nemohl analyzovat C:\\Users\\zitao\\Documents\\PETR\\DATA_SCIENCE\\EMOCE/train/angry\\Training_27830602.jpg – Face could not be detected in numpy array.Please confirm that the picture is a face photo or consider to set enforce_detection param to False.\n",
      "Chyba: DeepFace nemohl analyzovat C:\\Users\\zitao\\Documents\\PETR\\DATA_SCIENCE\\EMOCE/train/angry\\Training_27857699.jpg – Face could not be detected in numpy array.Please confirm that the picture is a face photo or consider to set enforce_detection param to False.\n",
      "Chyba: DeepFace nemohl analyzovat C:\\Users\\zitao\\Documents\\PETR\\DATA_SCIENCE\\EMOCE/train/angry\\Training_27860978.jpg – Face could not be detected in numpy array.Please confirm that the picture is a face photo or consider to set enforce_detection param to False.\n",
      "Chyba: DeepFace nemohl analyzovat C:\\Users\\zitao\\Documents\\PETR\\DATA_SCIENCE\\EMOCE/train/angry\\Training_27900159.jpg – Face could not be detected in numpy array.Please confirm that the picture is a face photo or consider to set enforce_detection param to False.\n",
      "Chyba: DeepFace nemohl analyzovat C:\\Users\\zitao\\Documents\\PETR\\DATA_SCIENCE\\EMOCE/train/angry\\Training_27913729.jpg – Face could not be detected in numpy array.Please confirm that the picture is a face photo or consider to set enforce_detection param to False.\n",
      "Chyba: DeepFace nemohl analyzovat C:\\Users\\zitao\\Documents\\PETR\\DATA_SCIENCE\\EMOCE/train/angry\\Training_27917388.jpg – Face could not be detected in numpy array.Please confirm that the picture is a face photo or consider to set enforce_detection param to False.\n",
      "Chyba: DeepFace nemohl analyzovat C:\\Users\\zitao\\Documents\\PETR\\DATA_SCIENCE\\EMOCE/train/angry\\Training_28012681.jpg – Face could not be detected in numpy array.Please confirm that the picture is a face photo or consider to set enforce_detection param to False.\n",
      "Chyba: DeepFace nemohl analyzovat C:\\Users\\zitao\\Documents\\PETR\\DATA_SCIENCE\\EMOCE/train/angry\\Training_28095251.jpg – Face could not be detected in numpy array.Please confirm that the picture is a face photo or consider to set enforce_detection param to False.\n",
      "Chyba: DeepFace nemohl analyzovat C:\\Users\\zitao\\Documents\\PETR\\DATA_SCIENCE\\EMOCE/train/angry\\Training_28175211.jpg – Face could not be detected in numpy array.Please confirm that the picture is a face photo or consider to set enforce_detection param to False.\n",
      "Chyba: DeepFace nemohl analyzovat C:\\Users\\zitao\\Documents\\PETR\\DATA_SCIENCE\\EMOCE/train/angry\\Training_28268592.jpg – Face could not be detected in numpy array.Please confirm that the picture is a face photo or consider to set enforce_detection param to False.\n",
      "Chyba: DeepFace nemohl analyzovat C:\\Users\\zitao\\Documents\\PETR\\DATA_SCIENCE\\EMOCE/train/angry\\Training_28275568.jpg – Face could not be detected in numpy array.Please confirm that the picture is a face photo or consider to set enforce_detection param to False.\n",
      "Chyba: DeepFace nemohl analyzovat C:\\Users\\zitao\\Documents\\PETR\\DATA_SCIENCE\\EMOCE/train/angry\\Training_28281464.jpg – Face could not be detected in numpy array.Please confirm that the picture is a face photo or consider to set enforce_detection param to False.\n",
      "Chyba: DeepFace nemohl analyzovat C:\\Users\\zitao\\Documents\\PETR\\DATA_SCIENCE\\EMOCE/train/angry\\Training_28519058.jpg – Face could not be detected in numpy array.Please confirm that the picture is a face photo or consider to set enforce_detection param to False.\n",
      "Chyba: DeepFace nemohl analyzovat C:\\Users\\zitao\\Documents\\PETR\\DATA_SCIENCE\\EMOCE/train/angry\\Training_28519605.jpg – Face could not be detected in numpy array.Please confirm that the picture is a face photo or consider to set enforce_detection param to False.\n",
      "Chyba: DeepFace nemohl analyzovat C:\\Users\\zitao\\Documents\\PETR\\DATA_SCIENCE\\EMOCE/train/angry\\Training_28589417.jpg – Face could not be detected in numpy array.Please confirm that the picture is a face photo or consider to set enforce_detection param to False.\n",
      "Chyba: DeepFace nemohl analyzovat C:\\Users\\zitao\\Documents\\PETR\\DATA_SCIENCE\\EMOCE/train/angry\\Training_28633118.jpg – Face could not be detected in numpy array.Please confirm that the picture is a face photo or consider to set enforce_detection param to False.\n",
      "Chyba: DeepFace nemohl analyzovat C:\\Users\\zitao\\Documents\\PETR\\DATA_SCIENCE\\EMOCE/train/angry\\Training_28667373.jpg – Face could not be detected in numpy array.Please confirm that the picture is a face photo or consider to set enforce_detection param to False.\n",
      "Chyba: DeepFace nemohl analyzovat C:\\Users\\zitao\\Documents\\PETR\\DATA_SCIENCE\\EMOCE/train/angry\\Training_28724674.jpg – Face could not be detected in numpy array.Please confirm that the picture is a face photo or consider to set enforce_detection param to False.\n",
      "Chyba: DeepFace nemohl analyzovat C:\\Users\\zitao\\Documents\\PETR\\DATA_SCIENCE\\EMOCE/train/angry\\Training_28736990.jpg – Face could not be detected in numpy array.Please confirm that the picture is a face photo or consider to set enforce_detection param to False.\n",
      "Chyba: DeepFace nemohl analyzovat C:\\Users\\zitao\\Documents\\PETR\\DATA_SCIENCE\\EMOCE/train/angry\\Training_28756096.jpg – Face could not be detected in numpy array.Please confirm that the picture is a face photo or consider to set enforce_detection param to False.\n",
      "Chyba: DeepFace nemohl analyzovat C:\\Users\\zitao\\Documents\\PETR\\DATA_SCIENCE\\EMOCE/train/angry\\Training_28766758.jpg – Face could not be detected in numpy array.Please confirm that the picture is a face photo or consider to set enforce_detection param to False.\n",
      "Chyba: DeepFace nemohl analyzovat C:\\Users\\zitao\\Documents\\PETR\\DATA_SCIENCE\\EMOCE/train/angry\\Training_28843195.jpg – Face could not be detected in numpy array.Please confirm that the picture is a face photo or consider to set enforce_detection param to False.\n",
      "Chyba: DeepFace nemohl analyzovat C:\\Users\\zitao\\Documents\\PETR\\DATA_SCIENCE\\EMOCE/train/angry\\Training_28895682.jpg – Face could not be detected in numpy array.Please confirm that the picture is a face photo or consider to set enforce_detection param to False.\n",
      "Chyba: DeepFace nemohl analyzovat C:\\Users\\zitao\\Documents\\PETR\\DATA_SCIENCE\\EMOCE/train/angry\\Training_28940559.jpg – Face could not be detected in numpy array.Please confirm that the picture is a face photo or consider to set enforce_detection param to False.\n",
      "Chyba: DeepFace nemohl analyzovat C:\\Users\\zitao\\Documents\\PETR\\DATA_SCIENCE\\EMOCE/train/angry\\Training_29054231.jpg – Face could not be detected in numpy array.Please confirm that the picture is a face photo or consider to set enforce_detection param to False.\n",
      "Chyba: DeepFace nemohl analyzovat C:\\Users\\zitao\\Documents\\PETR\\DATA_SCIENCE\\EMOCE/train/angry\\Training_29206498.jpg – Face could not be detected in numpy array.Please confirm that the picture is a face photo or consider to set enforce_detection param to False.\n",
      "Chyba: DeepFace nemohl analyzovat C:\\Users\\zitao\\Documents\\PETR\\DATA_SCIENCE\\EMOCE/train/angry\\Training_29216166.jpg – Face could not be detected in numpy array.Please confirm that the picture is a face photo or consider to set enforce_detection param to False.\n",
      "Chyba: DeepFace nemohl analyzovat C:\\Users\\zitao\\Documents\\PETR\\DATA_SCIENCE\\EMOCE/train/angry\\Training_29248798.jpg – Face could not be detected in numpy array.Please confirm that the picture is a face photo or consider to set enforce_detection param to False.\n",
      "Chyba: DeepFace nemohl analyzovat C:\\Users\\zitao\\Documents\\PETR\\DATA_SCIENCE\\EMOCE/train/angry\\Training_29336183.jpg – Face could not be detected in numpy array.Please confirm that the picture is a face photo or consider to set enforce_detection param to False.\n",
      "Chyba: DeepFace nemohl analyzovat C:\\Users\\zitao\\Documents\\PETR\\DATA_SCIENCE\\EMOCE/train/angry\\Training_29446179.jpg – Face could not be detected in numpy array.Please confirm that the picture is a face photo or consider to set enforce_detection param to False.\n",
      "Chyba: DeepFace nemohl analyzovat C:\\Users\\zitao\\Documents\\PETR\\DATA_SCIENCE\\EMOCE/train/angry\\Training_2952566.jpg – Face could not be detected in numpy array.Please confirm that the picture is a face photo or consider to set enforce_detection param to False.\n",
      "Chyba: DeepFace nemohl analyzovat C:\\Users\\zitao\\Documents\\PETR\\DATA_SCIENCE\\EMOCE/train/angry\\Training_29529642.jpg – Face could not be detected in numpy array.Please confirm that the picture is a face photo or consider to set enforce_detection param to False.\n",
      "Chyba: DeepFace nemohl analyzovat C:\\Users\\zitao\\Documents\\PETR\\DATA_SCIENCE\\EMOCE/train/angry\\Training_29583894.jpg – Face could not be detected in numpy array.Please confirm that the picture is a face photo or consider to set enforce_detection param to False.\n",
      "Chyba: DeepFace nemohl analyzovat C:\\Users\\zitao\\Documents\\PETR\\DATA_SCIENCE\\EMOCE/train/angry\\Training_29608170.jpg – Face could not be detected in numpy array.Please confirm that the picture is a face photo or consider to set enforce_detection param to False.\n",
      "Chyba: DeepFace nemohl analyzovat C:\\Users\\zitao\\Documents\\PETR\\DATA_SCIENCE\\EMOCE/train/angry\\Training_29616137.jpg – Face could not be detected in numpy array.Please confirm that the picture is a face photo or consider to set enforce_detection param to False.\n",
      "Chyba: DeepFace nemohl analyzovat C:\\Users\\zitao\\Documents\\PETR\\DATA_SCIENCE\\EMOCE/train/angry\\Training_29671653.jpg – Face could not be detected in numpy array.Please confirm that the picture is a face photo or consider to set enforce_detection param to False.\n",
      "Chyba: DeepFace nemohl analyzovat C:\\Users\\zitao\\Documents\\PETR\\DATA_SCIENCE\\EMOCE/train/angry\\Training_29711189.jpg – Face could not be detected in numpy array.Please confirm that the picture is a face photo or consider to set enforce_detection param to False.\n",
      "Chyba: DeepFace nemohl analyzovat C:\\Users\\zitao\\Documents\\PETR\\DATA_SCIENCE\\EMOCE/train/angry\\Training_29828444.jpg – Face could not be detected in numpy array.Please confirm that the picture is a face photo or consider to set enforce_detection param to False.\n",
      "Chyba: DeepFace nemohl analyzovat C:\\Users\\zitao\\Documents\\PETR\\DATA_SCIENCE\\EMOCE/train/angry\\Training_29936255.jpg – Face could not be detected in numpy array.Please confirm that the picture is a face photo or consider to set enforce_detection param to False.\n",
      "Chyba: DeepFace nemohl analyzovat C:\\Users\\zitao\\Documents\\PETR\\DATA_SCIENCE\\EMOCE/train/angry\\Training_29956706.jpg – Face could not be detected in numpy array.Please confirm that the picture is a face photo or consider to set enforce_detection param to False.\n",
      "Chyba: DeepFace nemohl analyzovat C:\\Users\\zitao\\Documents\\PETR\\DATA_SCIENCE\\EMOCE/train/angry\\Training_30031628.jpg – Face could not be detected in numpy array.Please confirm that the picture is a face photo or consider to set enforce_detection param to False.\n",
      "Chyba: DeepFace nemohl analyzovat C:\\Users\\zitao\\Documents\\PETR\\DATA_SCIENCE\\EMOCE/train/angry\\Training_30148518.jpg – Face could not be detected in numpy array.Please confirm that the picture is a face photo or consider to set enforce_detection param to False.\n",
      "Chyba: DeepFace nemohl analyzovat C:\\Users\\zitao\\Documents\\PETR\\DATA_SCIENCE\\EMOCE/train/angry\\Training_30168361.jpg – Face could not be detected in numpy array.Please confirm that the picture is a face photo or consider to set enforce_detection param to False.\n",
      "Chyba: DeepFace nemohl analyzovat C:\\Users\\zitao\\Documents\\PETR\\DATA_SCIENCE\\EMOCE/train/angry\\Training_30208058.jpg – Face could not be detected in numpy array.Please confirm that the picture is a face photo or consider to set enforce_detection param to False.\n",
      "Chyba: DeepFace nemohl analyzovat C:\\Users\\zitao\\Documents\\PETR\\DATA_SCIENCE\\EMOCE/train/angry\\Training_30239602.jpg – Face could not be detected in numpy array.Please confirm that the picture is a face photo or consider to set enforce_detection param to False.\n",
      "Chyba: DeepFace nemohl analyzovat C:\\Users\\zitao\\Documents\\PETR\\DATA_SCIENCE\\EMOCE/train/angry\\Training_30250086.jpg – Face could not be detected in numpy array.Please confirm that the picture is a face photo or consider to set enforce_detection param to False.\n",
      "Chyba: DeepFace nemohl analyzovat C:\\Users\\zitao\\Documents\\PETR\\DATA_SCIENCE\\EMOCE/train/angry\\Training_30410150.jpg – Face could not be detected in numpy array.Please confirm that the picture is a face photo or consider to set enforce_detection param to False.\n",
      "Chyba: DeepFace nemohl analyzovat C:\\Users\\zitao\\Documents\\PETR\\DATA_SCIENCE\\EMOCE/train/angry\\Training_30443996.jpg – Face could not be detected in numpy array.Please confirm that the picture is a face photo or consider to set enforce_detection param to False.\n",
      "Chyba: DeepFace nemohl analyzovat C:\\Users\\zitao\\Documents\\PETR\\DATA_SCIENCE\\EMOCE/train/angry\\Training_30490920.jpg – Face could not be detected in numpy array.Please confirm that the picture is a face photo or consider to set enforce_detection param to False.\n",
      "Chyba: DeepFace nemohl analyzovat C:\\Users\\zitao\\Documents\\PETR\\DATA_SCIENCE\\EMOCE/train/angry\\Training_3051975.jpg – Face could not be detected in numpy array.Please confirm that the picture is a face photo or consider to set enforce_detection param to False.\n",
      "Chyba: DeepFace nemohl analyzovat C:\\Users\\zitao\\Documents\\PETR\\DATA_SCIENCE\\EMOCE/train/angry\\Training_30728091.jpg – Face could not be detected in numpy array.Please confirm that the picture is a face photo or consider to set enforce_detection param to False.\n",
      "Chyba: DeepFace nemohl analyzovat C:\\Users\\zitao\\Documents\\PETR\\DATA_SCIENCE\\EMOCE/train/angry\\Training_30731743.jpg – Face could not be detected in numpy array.Please confirm that the picture is a face photo or consider to set enforce_detection param to False.\n",
      "Chyba: DeepFace nemohl analyzovat C:\\Users\\zitao\\Documents\\PETR\\DATA_SCIENCE\\EMOCE/train/angry\\Training_30745782.jpg – Face could not be detected in numpy array.Please confirm that the picture is a face photo or consider to set enforce_detection param to False.\n",
      "Chyba: DeepFace nemohl analyzovat C:\\Users\\zitao\\Documents\\PETR\\DATA_SCIENCE\\EMOCE/train/angry\\Training_30818053.jpg – Face could not be detected in numpy array.Please confirm that the picture is a face photo or consider to set enforce_detection param to False.\n",
      "Chyba: DeepFace nemohl analyzovat C:\\Users\\zitao\\Documents\\PETR\\DATA_SCIENCE\\EMOCE/train/angry\\Training_30943681.jpg – Face could not be detected in numpy array.Please confirm that the picture is a face photo or consider to set enforce_detection param to False.\n",
      "Chyba: DeepFace nemohl analyzovat C:\\Users\\zitao\\Documents\\PETR\\DATA_SCIENCE\\EMOCE/train/angry\\Training_3096545.jpg – Face could not be detected in numpy array.Please confirm that the picture is a face photo or consider to set enforce_detection param to False.\n",
      "Chyba: DeepFace nemohl analyzovat C:\\Users\\zitao\\Documents\\PETR\\DATA_SCIENCE\\EMOCE/train/angry\\Training_31133239.jpg – Face could not be detected in numpy array.Please confirm that the picture is a face photo or consider to set enforce_detection param to False.\n",
      "Chyba: DeepFace nemohl analyzovat C:\\Users\\zitao\\Documents\\PETR\\DATA_SCIENCE\\EMOCE/train/angry\\Training_31179982.jpg – Face could not be detected in numpy array.Please confirm that the picture is a face photo or consider to set enforce_detection param to False.\n",
      "Chyba: DeepFace nemohl analyzovat C:\\Users\\zitao\\Documents\\PETR\\DATA_SCIENCE\\EMOCE/train/angry\\Training_31338266.jpg – Face could not be detected in numpy array.Please confirm that the picture is a face photo or consider to set enforce_detection param to False.\n",
      "Chyba: DeepFace nemohl analyzovat C:\\Users\\zitao\\Documents\\PETR\\DATA_SCIENCE\\EMOCE/train/angry\\Training_31353604.jpg – Face could not be detected in numpy array.Please confirm that the picture is a face photo or consider to set enforce_detection param to False.\n",
      "Chyba: DeepFace nemohl analyzovat C:\\Users\\zitao\\Documents\\PETR\\DATA_SCIENCE\\EMOCE/train/angry\\Training_31364104.jpg – Face could not be detected in numpy array.Please confirm that the picture is a face photo or consider to set enforce_detection param to False.\n",
      "Chyba: DeepFace nemohl analyzovat C:\\Users\\zitao\\Documents\\PETR\\DATA_SCIENCE\\EMOCE/train/angry\\Training_31410334.jpg – Face could not be detected in numpy array.Please confirm that the picture is a face photo or consider to set enforce_detection param to False.\n",
      "Chyba: DeepFace nemohl analyzovat C:\\Users\\zitao\\Documents\\PETR\\DATA_SCIENCE\\EMOCE/train/angry\\Training_31442578.jpg – Face could not be detected in numpy array.Please confirm that the picture is a face photo or consider to set enforce_detection param to False.\n",
      "Chyba: DeepFace nemohl analyzovat C:\\Users\\zitao\\Documents\\PETR\\DATA_SCIENCE\\EMOCE/train/angry\\Training_31644012.jpg – Face could not be detected in numpy array.Please confirm that the picture is a face photo or consider to set enforce_detection param to False.\n",
      "Chyba: DeepFace nemohl analyzovat C:\\Users\\zitao\\Documents\\PETR\\DATA_SCIENCE\\EMOCE/train/angry\\Training_31690201.jpg – Face could not be detected in numpy array.Please confirm that the picture is a face photo or consider to set enforce_detection param to False.\n",
      "Chyba: DeepFace nemohl analyzovat C:\\Users\\zitao\\Documents\\PETR\\DATA_SCIENCE\\EMOCE/train/angry\\Training_31705730.jpg – Face could not be detected in numpy array.Please confirm that the picture is a face photo or consider to set enforce_detection param to False.\n",
      "Chyba: DeepFace nemohl analyzovat C:\\Users\\zitao\\Documents\\PETR\\DATA_SCIENCE\\EMOCE/train/angry\\Training_31734020.jpg – Face could not be detected in numpy array.Please confirm that the picture is a face photo or consider to set enforce_detection param to False.\n",
      "Chyba: DeepFace nemohl analyzovat C:\\Users\\zitao\\Documents\\PETR\\DATA_SCIENCE\\EMOCE/train/angry\\Training_31752247.jpg – Face could not be detected in numpy array.Please confirm that the picture is a face photo or consider to set enforce_detection param to False.\n",
      "Chyba: DeepFace nemohl analyzovat C:\\Users\\zitao\\Documents\\PETR\\DATA_SCIENCE\\EMOCE/train/angry\\Training_31791278.jpg – Face could not be detected in numpy array.Please confirm that the picture is a face photo or consider to set enforce_detection param to False.\n",
      "Chyba: DeepFace nemohl analyzovat C:\\Users\\zitao\\Documents\\PETR\\DATA_SCIENCE\\EMOCE/train/angry\\Training_3184672.jpg – Face could not be detected in numpy array.Please confirm that the picture is a face photo or consider to set enforce_detection param to False.\n",
      "Chyba: DeepFace nemohl analyzovat C:\\Users\\zitao\\Documents\\PETR\\DATA_SCIENCE\\EMOCE/train/angry\\Training_31903146.jpg – Face could not be detected in numpy array.Please confirm that the picture is a face photo or consider to set enforce_detection param to False.\n",
      "Chyba: DeepFace nemohl analyzovat C:\\Users\\zitao\\Documents\\PETR\\DATA_SCIENCE\\EMOCE/train/angry\\Training_31929982.jpg – Face could not be detected in numpy array.Please confirm that the picture is a face photo or consider to set enforce_detection param to False.\n",
      "Chyba: DeepFace nemohl analyzovat C:\\Users\\zitao\\Documents\\PETR\\DATA_SCIENCE\\EMOCE/train/angry\\Training_32056400.jpg – Face could not be detected in numpy array.Please confirm that the picture is a face photo or consider to set enforce_detection param to False.\n",
      "Chyba: DeepFace nemohl analyzovat C:\\Users\\zitao\\Documents\\PETR\\DATA_SCIENCE\\EMOCE/train/angry\\Training_32153813.jpg – Face could not be detected in numpy array.Please confirm that the picture is a face photo or consider to set enforce_detection param to False.\n",
      "Chyba: DeepFace nemohl analyzovat C:\\Users\\zitao\\Documents\\PETR\\DATA_SCIENCE\\EMOCE/train/angry\\Training_32291439.jpg – Face could not be detected in numpy array.Please confirm that the picture is a face photo or consider to set enforce_detection param to False.\n",
      "Chyba: DeepFace nemohl analyzovat C:\\Users\\zitao\\Documents\\PETR\\DATA_SCIENCE\\EMOCE/train/angry\\Training_32295480.jpg – Face could not be detected in numpy array.Please confirm that the picture is a face photo or consider to set enforce_detection param to False.\n",
      "Chyba: DeepFace nemohl analyzovat C:\\Users\\zitao\\Documents\\PETR\\DATA_SCIENCE\\EMOCE/train/angry\\Training_32342634.jpg – Face could not be detected in numpy array.Please confirm that the picture is a face photo or consider to set enforce_detection param to False.\n",
      "Chyba: DeepFace nemohl analyzovat C:\\Users\\zitao\\Documents\\PETR\\DATA_SCIENCE\\EMOCE/train/angry\\Training_32345088.jpg – Face could not be detected in numpy array.Please confirm that the picture is a face photo or consider to set enforce_detection param to False.\n",
      "Chyba: DeepFace nemohl analyzovat C:\\Users\\zitao\\Documents\\PETR\\DATA_SCIENCE\\EMOCE/train/angry\\Training_32358166.jpg – Face could not be detected in numpy array.Please confirm that the picture is a face photo or consider to set enforce_detection param to False.\n",
      "Chyba: DeepFace nemohl analyzovat C:\\Users\\zitao\\Documents\\PETR\\DATA_SCIENCE\\EMOCE/train/angry\\Training_32360815.jpg – Face could not be detected in numpy array.Please confirm that the picture is a face photo or consider to set enforce_detection param to False.\n",
      "Chyba: DeepFace nemohl analyzovat C:\\Users\\zitao\\Documents\\PETR\\DATA_SCIENCE\\EMOCE/train/angry\\Training_3240079.jpg – Face could not be detected in numpy array.Please confirm that the picture is a face photo or consider to set enforce_detection param to False.\n",
      "Chyba: DeepFace nemohl analyzovat C:\\Users\\zitao\\Documents\\PETR\\DATA_SCIENCE\\EMOCE/train/angry\\Training_32444629.jpg – Face could not be detected in numpy array.Please confirm that the picture is a face photo or consider to set enforce_detection param to False.\n",
      "Chyba: DeepFace nemohl analyzovat C:\\Users\\zitao\\Documents\\PETR\\DATA_SCIENCE\\EMOCE/train/angry\\Training_32460514.jpg – Face could not be detected in numpy array.Please confirm that the picture is a face photo or consider to set enforce_detection param to False.\n",
      "Chyba: DeepFace nemohl analyzovat C:\\Users\\zitao\\Documents\\PETR\\DATA_SCIENCE\\EMOCE/train/angry\\Training_32571770.jpg – Face could not be detected in numpy array.Please confirm that the picture is a face photo or consider to set enforce_detection param to False.\n",
      "Chyba: DeepFace nemohl analyzovat C:\\Users\\zitao\\Documents\\PETR\\DATA_SCIENCE\\EMOCE/train/angry\\Training_32583157.jpg – Face could not be detected in numpy array.Please confirm that the picture is a face photo or consider to set enforce_detection param to False.\n",
      "Chyba: DeepFace nemohl analyzovat C:\\Users\\zitao\\Documents\\PETR\\DATA_SCIENCE\\EMOCE/train/angry\\Training_32630895.jpg – Face could not be detected in numpy array.Please confirm that the picture is a face photo or consider to set enforce_detection param to False.\n",
      "Chyba: DeepFace nemohl analyzovat C:\\Users\\zitao\\Documents\\PETR\\DATA_SCIENCE\\EMOCE/train/angry\\Training_32639374.jpg – Face could not be detected in numpy array.Please confirm that the picture is a face photo or consider to set enforce_detection param to False.\n",
      "Chyba: DeepFace nemohl analyzovat C:\\Users\\zitao\\Documents\\PETR\\DATA_SCIENCE\\EMOCE/train/angry\\Training_32705300.jpg – Face could not be detected in numpy array.Please confirm that the picture is a face photo or consider to set enforce_detection param to False.\n",
      "Chyba: DeepFace nemohl analyzovat C:\\Users\\zitao\\Documents\\PETR\\DATA_SCIENCE\\EMOCE/train/angry\\Training_32724511.jpg – Face could not be detected in numpy array.Please confirm that the picture is a face photo or consider to set enforce_detection param to False.\n",
      "Chyba: DeepFace nemohl analyzovat C:\\Users\\zitao\\Documents\\PETR\\DATA_SCIENCE\\EMOCE/train/angry\\Training_32741556.jpg – Face could not be detected in numpy array.Please confirm that the picture is a face photo or consider to set enforce_detection param to False.\n",
      "Chyba: DeepFace nemohl analyzovat C:\\Users\\zitao\\Documents\\PETR\\DATA_SCIENCE\\EMOCE/train/angry\\Training_32747149.jpg – Face could not be detected in numpy array.Please confirm that the picture is a face photo or consider to set enforce_detection param to False.\n",
      "Chyba: DeepFace nemohl analyzovat C:\\Users\\zitao\\Documents\\PETR\\DATA_SCIENCE\\EMOCE/train/angry\\Training_3279666.jpg – Face could not be detected in numpy array.Please confirm that the picture is a face photo or consider to set enforce_detection param to False.\n",
      "Chyba: DeepFace nemohl analyzovat C:\\Users\\zitao\\Documents\\PETR\\DATA_SCIENCE\\EMOCE/train/angry\\Training_32821877.jpg – Face could not be detected in numpy array.Please confirm that the picture is a face photo or consider to set enforce_detection param to False.\n",
      "Chyba: DeepFace nemohl analyzovat C:\\Users\\zitao\\Documents\\PETR\\DATA_SCIENCE\\EMOCE/train/angry\\Training_32830476.jpg – Face could not be detected in numpy array.Please confirm that the picture is a face photo or consider to set enforce_detection param to False.\n",
      "Chyba: DeepFace nemohl analyzovat C:\\Users\\zitao\\Documents\\PETR\\DATA_SCIENCE\\EMOCE/train/angry\\Training_3284854.jpg – Face could not be detected in numpy array.Please confirm that the picture is a face photo or consider to set enforce_detection param to False.\n",
      "Chyba: DeepFace nemohl analyzovat C:\\Users\\zitao\\Documents\\PETR\\DATA_SCIENCE\\EMOCE/train/angry\\Training_32866418.jpg – Face could not be detected in numpy array.Please confirm that the picture is a face photo or consider to set enforce_detection param to False.\n",
      "Chyba: DeepFace nemohl analyzovat C:\\Users\\zitao\\Documents\\PETR\\DATA_SCIENCE\\EMOCE/train/angry\\Training_32873448.jpg – Face could not be detected in numpy array.Please confirm that the picture is a face photo or consider to set enforce_detection param to False.\n",
      "Chyba: DeepFace nemohl analyzovat C:\\Users\\zitao\\Documents\\PETR\\DATA_SCIENCE\\EMOCE/train/angry\\Training_32897989.jpg – Face could not be detected in numpy array.Please confirm that the picture is a face photo or consider to set enforce_detection param to False.\n",
      "Chyba: DeepFace nemohl analyzovat C:\\Users\\zitao\\Documents\\PETR\\DATA_SCIENCE\\EMOCE/train/angry\\Training_32949350.jpg – Face could not be detected in numpy array.Please confirm that the picture is a face photo or consider to set enforce_detection param to False.\n",
      "Chyba: DeepFace nemohl analyzovat C:\\Users\\zitao\\Documents\\PETR\\DATA_SCIENCE\\EMOCE/train/angry\\Training_3309884.jpg – Face could not be detected in numpy array.Please confirm that the picture is a face photo or consider to set enforce_detection param to False.\n",
      "Chyba: DeepFace nemohl analyzovat C:\\Users\\zitao\\Documents\\PETR\\DATA_SCIENCE\\EMOCE/train/angry\\Training_33273101.jpg – Face could not be detected in numpy array.Please confirm that the picture is a face photo or consider to set enforce_detection param to False.\n",
      "Chyba: DeepFace nemohl analyzovat C:\\Users\\zitao\\Documents\\PETR\\DATA_SCIENCE\\EMOCE/train/angry\\Training_33322227.jpg – Face could not be detected in numpy array.Please confirm that the picture is a face photo or consider to set enforce_detection param to False.\n",
      "Chyba: DeepFace nemohl analyzovat C:\\Users\\zitao\\Documents\\PETR\\DATA_SCIENCE\\EMOCE/train/angry\\Training_33440781.jpg – Face could not be detected in numpy array.Please confirm that the picture is a face photo or consider to set enforce_detection param to False.\n",
      "Chyba: DeepFace nemohl analyzovat C:\\Users\\zitao\\Documents\\PETR\\DATA_SCIENCE\\EMOCE/train/angry\\Training_33580958.jpg – Face could not be detected in numpy array.Please confirm that the picture is a face photo or consider to set enforce_detection param to False.\n",
      "Chyba: DeepFace nemohl analyzovat C:\\Users\\zitao\\Documents\\PETR\\DATA_SCIENCE\\EMOCE/train/angry\\Training_33716140.jpg – Face could not be detected in numpy array.Please confirm that the picture is a face photo or consider to set enforce_detection param to False.\n",
      "Chyba: DeepFace nemohl analyzovat C:\\Users\\zitao\\Documents\\PETR\\DATA_SCIENCE\\EMOCE/train/angry\\Training_33728070.jpg – Face could not be detected in numpy array.Please confirm that the picture is a face photo or consider to set enforce_detection param to False.\n",
      "Chyba: DeepFace nemohl analyzovat C:\\Users\\zitao\\Documents\\PETR\\DATA_SCIENCE\\EMOCE/train/angry\\Training_33810977.jpg – Face could not be detected in numpy array.Please confirm that the picture is a face photo or consider to set enforce_detection param to False.\n",
      "Chyba: DeepFace nemohl analyzovat C:\\Users\\zitao\\Documents\\PETR\\DATA_SCIENCE\\EMOCE/train/angry\\Training_33886229.jpg – Face could not be detected in numpy array.Please confirm that the picture is a face photo or consider to set enforce_detection param to False.\n",
      "Chyba: DeepFace nemohl analyzovat C:\\Users\\zitao\\Documents\\PETR\\DATA_SCIENCE\\EMOCE/train/angry\\Training_33935037.jpg – Face could not be detected in numpy array.Please confirm that the picture is a face photo or consider to set enforce_detection param to False.\n",
      "Chyba: DeepFace nemohl analyzovat C:\\Users\\zitao\\Documents\\PETR\\DATA_SCIENCE\\EMOCE/train/angry\\Training_3397618.jpg – Face could not be detected in numpy array.Please confirm that the picture is a face photo or consider to set enforce_detection param to False.\n",
      "Chyba: DeepFace nemohl analyzovat C:\\Users\\zitao\\Documents\\PETR\\DATA_SCIENCE\\EMOCE/train/angry\\Training_34028103.jpg – Face could not be detected in numpy array.Please confirm that the picture is a face photo or consider to set enforce_detection param to False.\n",
      "Chyba: DeepFace nemohl analyzovat C:\\Users\\zitao\\Documents\\PETR\\DATA_SCIENCE\\EMOCE/train/angry\\Training_34028359.jpg – Face could not be detected in numpy array.Please confirm that the picture is a face photo or consider to set enforce_detection param to False.\n",
      "Chyba: DeepFace nemohl analyzovat C:\\Users\\zitao\\Documents\\PETR\\DATA_SCIENCE\\EMOCE/train/angry\\Training_34043882.jpg – Face could not be detected in numpy array.Please confirm that the picture is a face photo or consider to set enforce_detection param to False.\n",
      "Chyba: DeepFace nemohl analyzovat C:\\Users\\zitao\\Documents\\PETR\\DATA_SCIENCE\\EMOCE/train/angry\\Training_3415081.jpg – Face could not be detected in numpy array.Please confirm that the picture is a face photo or consider to set enforce_detection param to False.\n",
      "Chyba: DeepFace nemohl analyzovat C:\\Users\\zitao\\Documents\\PETR\\DATA_SCIENCE\\EMOCE/train/angry\\Training_34196712.jpg – Face could not be detected in numpy array.Please confirm that the picture is a face photo or consider to set enforce_detection param to False.\n",
      "Chyba: DeepFace nemohl analyzovat C:\\Users\\zitao\\Documents\\PETR\\DATA_SCIENCE\\EMOCE/train/angry\\Training_34245478.jpg – Face could not be detected in numpy array.Please confirm that the picture is a face photo or consider to set enforce_detection param to False.\n",
      "Chyba: DeepFace nemohl analyzovat C:\\Users\\zitao\\Documents\\PETR\\DATA_SCIENCE\\EMOCE/train/angry\\Training_34265519.jpg – Face could not be detected in numpy array.Please confirm that the picture is a face photo or consider to set enforce_detection param to False.\n",
      "Chyba: DeepFace nemohl analyzovat C:\\Users\\zitao\\Documents\\PETR\\DATA_SCIENCE\\EMOCE/train/angry\\Training_34305677.jpg – Face could not be detected in numpy array.Please confirm that the picture is a face photo or consider to set enforce_detection param to False.\n",
      "Chyba: DeepFace nemohl analyzovat C:\\Users\\zitao\\Documents\\PETR\\DATA_SCIENCE\\EMOCE/train/angry\\Training_34311929.jpg – Face could not be detected in numpy array.Please confirm that the picture is a face photo or consider to set enforce_detection param to False.\n",
      "Chyba: DeepFace nemohl analyzovat C:\\Users\\zitao\\Documents\\PETR\\DATA_SCIENCE\\EMOCE/train/angry\\Training_3434313.jpg – Face could not be detected in numpy array.Please confirm that the picture is a face photo or consider to set enforce_detection param to False.\n",
      "Chyba: DeepFace nemohl analyzovat C:\\Users\\zitao\\Documents\\PETR\\DATA_SCIENCE\\EMOCE/train/angry\\Training_34350902.jpg – Face could not be detected in numpy array.Please confirm that the picture is a face photo or consider to set enforce_detection param to False.\n",
      "Chyba: DeepFace nemohl analyzovat C:\\Users\\zitao\\Documents\\PETR\\DATA_SCIENCE\\EMOCE/train/angry\\Training_34402932.jpg – Face could not be detected in numpy array.Please confirm that the picture is a face photo or consider to set enforce_detection param to False.\n",
      "Chyba: DeepFace nemohl analyzovat C:\\Users\\zitao\\Documents\\PETR\\DATA_SCIENCE\\EMOCE/train/angry\\Training_34414583.jpg – Face could not be detected in numpy array.Please confirm that the picture is a face photo or consider to set enforce_detection param to False.\n",
      "Chyba: DeepFace nemohl analyzovat C:\\Users\\zitao\\Documents\\PETR\\DATA_SCIENCE\\EMOCE/train/angry\\Training_34600406.jpg – Face could not be detected in numpy array.Please confirm that the picture is a face photo or consider to set enforce_detection param to False.\n",
      "Chyba: DeepFace nemohl analyzovat C:\\Users\\zitao\\Documents\\PETR\\DATA_SCIENCE\\EMOCE/train/angry\\Training_34606810.jpg – Face could not be detected in numpy array.Please confirm that the picture is a face photo or consider to set enforce_detection param to False.\n",
      "Chyba: DeepFace nemohl analyzovat C:\\Users\\zitao\\Documents\\PETR\\DATA_SCIENCE\\EMOCE/train/angry\\Training_34688247.jpg – Face could not be detected in numpy array.Please confirm that the picture is a face photo or consider to set enforce_detection param to False.\n",
      "Chyba: DeepFace nemohl analyzovat C:\\Users\\zitao\\Documents\\PETR\\DATA_SCIENCE\\EMOCE/train/angry\\Training_3480868.jpg – Face could not be detected in numpy array.Please confirm that the picture is a face photo or consider to set enforce_detection param to False.\n",
      "Chyba: DeepFace nemohl analyzovat C:\\Users\\zitao\\Documents\\PETR\\DATA_SCIENCE\\EMOCE/train/angry\\Training_34929600.jpg – Face could not be detected in numpy array.Please confirm that the picture is a face photo or consider to set enforce_detection param to False.\n",
      "Chyba: DeepFace nemohl analyzovat C:\\Users\\zitao\\Documents\\PETR\\DATA_SCIENCE\\EMOCE/train/angry\\Training_34946349.jpg – Face could not be detected in numpy array.Please confirm that the picture is a face photo or consider to set enforce_detection param to False.\n",
      "Chyba: DeepFace nemohl analyzovat C:\\Users\\zitao\\Documents\\PETR\\DATA_SCIENCE\\EMOCE/train/angry\\Training_35051145.jpg – Face could not be detected in numpy array.Please confirm that the picture is a face photo or consider to set enforce_detection param to False.\n",
      "Chyba: DeepFace nemohl analyzovat C:\\Users\\zitao\\Documents\\PETR\\DATA_SCIENCE\\EMOCE/train/angry\\Training_35133903.jpg – Face could not be detected in numpy array.Please confirm that the picture is a face photo or consider to set enforce_detection param to False.\n",
      "Chyba: DeepFace nemohl analyzovat C:\\Users\\zitao\\Documents\\PETR\\DATA_SCIENCE\\EMOCE/train/angry\\Training_3514915.jpg – Face could not be detected in numpy array.Please confirm that the picture is a face photo or consider to set enforce_detection param to False.\n",
      "Chyba: DeepFace nemohl analyzovat C:\\Users\\zitao\\Documents\\PETR\\DATA_SCIENCE\\EMOCE/train/angry\\Training_35183757.jpg – Face could not be detected in numpy array.Please confirm that the picture is a face photo or consider to set enforce_detection param to False.\n",
      "Chyba: DeepFace nemohl analyzovat C:\\Users\\zitao\\Documents\\PETR\\DATA_SCIENCE\\EMOCE/train/angry\\Training_35197279.jpg – Face could not be detected in numpy array.Please confirm that the picture is a face photo or consider to set enforce_detection param to False.\n",
      "Chyba: DeepFace nemohl analyzovat C:\\Users\\zitao\\Documents\\PETR\\DATA_SCIENCE\\EMOCE/train/angry\\Training_35261572.jpg – Face could not be detected in numpy array.Please confirm that the picture is a face photo or consider to set enforce_detection param to False.\n",
      "Chyba: DeepFace nemohl analyzovat C:\\Users\\zitao\\Documents\\PETR\\DATA_SCIENCE\\EMOCE/train/angry\\Training_35363131.jpg – Face could not be detected in numpy array.Please confirm that the picture is a face photo or consider to set enforce_detection param to False.\n",
      "Chyba: DeepFace nemohl analyzovat C:\\Users\\zitao\\Documents\\PETR\\DATA_SCIENCE\\EMOCE/train/angry\\Training_35439197.jpg – Face could not be detected in numpy array.Please confirm that the picture is a face photo or consider to set enforce_detection param to False.\n",
      "Chyba: DeepFace nemohl analyzovat C:\\Users\\zitao\\Documents\\PETR\\DATA_SCIENCE\\EMOCE/train/angry\\Training_35487738.jpg – Face could not be detected in numpy array.Please confirm that the picture is a face photo or consider to set enforce_detection param to False.\n",
      "Chyba: DeepFace nemohl analyzovat C:\\Users\\zitao\\Documents\\PETR\\DATA_SCIENCE\\EMOCE/train/angry\\Training_35519736.jpg – Face could not be detected in numpy array.Please confirm that the picture is a face photo or consider to set enforce_detection param to False.\n",
      "Chyba: DeepFace nemohl analyzovat C:\\Users\\zitao\\Documents\\PETR\\DATA_SCIENCE\\EMOCE/train/angry\\Training_35530157.jpg – Face could not be detected in numpy array.Please confirm that the picture is a face photo or consider to set enforce_detection param to False.\n",
      "Chyba: DeepFace nemohl analyzovat C:\\Users\\zitao\\Documents\\PETR\\DATA_SCIENCE\\EMOCE/train/angry\\Training_35641955.jpg – Face could not be detected in numpy array.Please confirm that the picture is a face photo or consider to set enforce_detection param to False.\n",
      "Chyba: DeepFace nemohl analyzovat C:\\Users\\zitao\\Documents\\PETR\\DATA_SCIENCE\\EMOCE/train/angry\\Training_35668808.jpg – Face could not be detected in numpy array.Please confirm that the picture is a face photo or consider to set enforce_detection param to False.\n",
      "Chyba: DeepFace nemohl analyzovat C:\\Users\\zitao\\Documents\\PETR\\DATA_SCIENCE\\EMOCE/train/angry\\Training_35719730.jpg – Face could not be detected in numpy array.Please confirm that the picture is a face photo or consider to set enforce_detection param to False.\n",
      "Chyba: DeepFace nemohl analyzovat C:\\Users\\zitao\\Documents\\PETR\\DATA_SCIENCE\\EMOCE/train/angry\\Training_3576531.jpg – Face could not be detected in numpy array.Please confirm that the picture is a face photo or consider to set enforce_detection param to False.\n",
      "Chyba: DeepFace nemohl analyzovat C:\\Users\\zitao\\Documents\\PETR\\DATA_SCIENCE\\EMOCE/train/angry\\Training_3579517.jpg – Face could not be detected in numpy array.Please confirm that the picture is a face photo or consider to set enforce_detection param to False.\n",
      "Chyba: DeepFace nemohl analyzovat C:\\Users\\zitao\\Documents\\PETR\\DATA_SCIENCE\\EMOCE/train/angry\\Training_35809012.jpg – Face could not be detected in numpy array.Please confirm that the picture is a face photo or consider to set enforce_detection param to False.\n",
      "Chyba: DeepFace nemohl analyzovat C:\\Users\\zitao\\Documents\\PETR\\DATA_SCIENCE\\EMOCE/train/angry\\Training_35853485.jpg – Face could not be detected in numpy array.Please confirm that the picture is a face photo or consider to set enforce_detection param to False.\n",
      "Chyba: DeepFace nemohl analyzovat C:\\Users\\zitao\\Documents\\PETR\\DATA_SCIENCE\\EMOCE/train/angry\\Training_35899521.jpg – Face could not be detected in numpy array.Please confirm that the picture is a face photo or consider to set enforce_detection param to False.\n",
      "Chyba: DeepFace nemohl analyzovat C:\\Users\\zitao\\Documents\\PETR\\DATA_SCIENCE\\EMOCE/train/angry\\Training_35900379.jpg – Face could not be detected in numpy array.Please confirm that the picture is a face photo or consider to set enforce_detection param to False.\n",
      "Chyba: DeepFace nemohl analyzovat C:\\Users\\zitao\\Documents\\PETR\\DATA_SCIENCE\\EMOCE/train/angry\\Training_35926639.jpg – Face could not be detected in numpy array.Please confirm that the picture is a face photo or consider to set enforce_detection param to False.\n",
      "Chyba: DeepFace nemohl analyzovat C:\\Users\\zitao\\Documents\\PETR\\DATA_SCIENCE\\EMOCE/train/angry\\Training_35944873.jpg – Face could not be detected in numpy array.Please confirm that the picture is a face photo or consider to set enforce_detection param to False.\n",
      "Chyba: DeepFace nemohl analyzovat C:\\Users\\zitao\\Documents\\PETR\\DATA_SCIENCE\\EMOCE/train/angry\\Training_35952595.jpg – Face could not be detected in numpy array.Please confirm that the picture is a face photo or consider to set enforce_detection param to False.\n",
      "Chyba: DeepFace nemohl analyzovat C:\\Users\\zitao\\Documents\\PETR\\DATA_SCIENCE\\EMOCE/train/angry\\Training_3598867.jpg – Face could not be detected in numpy array.Please confirm that the picture is a face photo or consider to set enforce_detection param to False.\n",
      "Chyba: DeepFace nemohl analyzovat C:\\Users\\zitao\\Documents\\PETR\\DATA_SCIENCE\\EMOCE/train/angry\\Training_36212924.jpg – Face could not be detected in numpy array.Please confirm that the picture is a face photo or consider to set enforce_detection param to False.\n",
      "Chyba: DeepFace nemohl analyzovat C:\\Users\\zitao\\Documents\\PETR\\DATA_SCIENCE\\EMOCE/train/angry\\Training_36229083.jpg – Face could not be detected in numpy array.Please confirm that the picture is a face photo or consider to set enforce_detection param to False.\n",
      "Chyba: DeepFace nemohl analyzovat C:\\Users\\zitao\\Documents\\PETR\\DATA_SCIENCE\\EMOCE/train/angry\\Training_36229806.jpg – Face could not be detected in numpy array.Please confirm that the picture is a face photo or consider to set enforce_detection param to False.\n",
      "Chyba: DeepFace nemohl analyzovat C:\\Users\\zitao\\Documents\\PETR\\DATA_SCIENCE\\EMOCE/train/angry\\Training_3625321.jpg – Face could not be detected in numpy array.Please confirm that the picture is a face photo or consider to set enforce_detection param to False.\n",
      "Chyba: DeepFace nemohl analyzovat C:\\Users\\zitao\\Documents\\PETR\\DATA_SCIENCE\\EMOCE/train/angry\\Training_36257868.jpg – Face could not be detected in numpy array.Please confirm that the picture is a face photo or consider to set enforce_detection param to False.\n",
      "Chyba: DeepFace nemohl analyzovat C:\\Users\\zitao\\Documents\\PETR\\DATA_SCIENCE\\EMOCE/train/angry\\Training_36297719.jpg – Face could not be detected in numpy array.Please confirm that the picture is a face photo or consider to set enforce_detection param to False.\n",
      "Chyba: DeepFace nemohl analyzovat C:\\Users\\zitao\\Documents\\PETR\\DATA_SCIENCE\\EMOCE/train/angry\\Training_36315962.jpg – Face could not be detected in numpy array.Please confirm that the picture is a face photo or consider to set enforce_detection param to False.\n",
      "Chyba: DeepFace nemohl analyzovat C:\\Users\\zitao\\Documents\\PETR\\DATA_SCIENCE\\EMOCE/train/angry\\Training_36365391.jpg – Face could not be detected in numpy array.Please confirm that the picture is a face photo or consider to set enforce_detection param to False.\n",
      "Chyba: DeepFace nemohl analyzovat C:\\Users\\zitao\\Documents\\PETR\\DATA_SCIENCE\\EMOCE/train/angry\\Training_36367693.jpg – Face could not be detected in numpy array.Please confirm that the picture is a face photo or consider to set enforce_detection param to False.\n",
      "Chyba: DeepFace nemohl analyzovat C:\\Users\\zitao\\Documents\\PETR\\DATA_SCIENCE\\EMOCE/train/angry\\Training_36418028.jpg – Face could not be detected in numpy array.Please confirm that the picture is a face photo or consider to set enforce_detection param to False.\n",
      "Chyba: DeepFace nemohl analyzovat C:\\Users\\zitao\\Documents\\PETR\\DATA_SCIENCE\\EMOCE/train/angry\\Training_36418818.jpg – Face could not be detected in numpy array.Please confirm that the picture is a face photo or consider to set enforce_detection param to False.\n",
      "Chyba: DeepFace nemohl analyzovat C:\\Users\\zitao\\Documents\\PETR\\DATA_SCIENCE\\EMOCE/train/angry\\Training_36422260.jpg – Face could not be detected in numpy array.Please confirm that the picture is a face photo or consider to set enforce_detection param to False.\n",
      "Chyba: DeepFace nemohl analyzovat C:\\Users\\zitao\\Documents\\PETR\\DATA_SCIENCE\\EMOCE/train/angry\\Training_36443908.jpg – Face could not be detected in numpy array.Please confirm that the picture is a face photo or consider to set enforce_detection param to False.\n",
      "Chyba: DeepFace nemohl analyzovat C:\\Users\\zitao\\Documents\\PETR\\DATA_SCIENCE\\EMOCE/train/angry\\Training_36481868.jpg – Face could not be detected in numpy array.Please confirm that the picture is a face photo or consider to set enforce_detection param to False.\n",
      "Chyba: DeepFace nemohl analyzovat C:\\Users\\zitao\\Documents\\PETR\\DATA_SCIENCE\\EMOCE/train/angry\\Training_36505943.jpg – Face could not be detected in numpy array.Please confirm that the picture is a face photo or consider to set enforce_detection param to False.\n",
      "Chyba: DeepFace nemohl analyzovat C:\\Users\\zitao\\Documents\\PETR\\DATA_SCIENCE\\EMOCE/train/angry\\Training_36636860.jpg – Face could not be detected in numpy array.Please confirm that the picture is a face photo or consider to set enforce_detection param to False.\n",
      "Chyba: DeepFace nemohl analyzovat C:\\Users\\zitao\\Documents\\PETR\\DATA_SCIENCE\\EMOCE/train/angry\\Training_36718389.jpg – Face could not be detected in numpy array.Please confirm that the picture is a face photo or consider to set enforce_detection param to False.\n",
      "Chyba: DeepFace nemohl analyzovat C:\\Users\\zitao\\Documents\\PETR\\DATA_SCIENCE\\EMOCE/train/angry\\Training_36733664.jpg – Face could not be detected in numpy array.Please confirm that the picture is a face photo or consider to set enforce_detection param to False.\n",
      "Chyba: DeepFace nemohl analyzovat C:\\Users\\zitao\\Documents\\PETR\\DATA_SCIENCE\\EMOCE/train/angry\\Training_36740245.jpg – Face could not be detected in numpy array.Please confirm that the picture is a face photo or consider to set enforce_detection param to False.\n",
      "Chyba: DeepFace nemohl analyzovat C:\\Users\\zitao\\Documents\\PETR\\DATA_SCIENCE\\EMOCE/train/angry\\Training_36802920.jpg – Face could not be detected in numpy array.Please confirm that the picture is a face photo or consider to set enforce_detection param to False.\n",
      "Chyba: DeepFace nemohl analyzovat C:\\Users\\zitao\\Documents\\PETR\\DATA_SCIENCE\\EMOCE/train/angry\\Training_36817757.jpg – Face could not be detected in numpy array.Please confirm that the picture is a face photo or consider to set enforce_detection param to False.\n",
      "Chyba: DeepFace nemohl analyzovat C:\\Users\\zitao\\Documents\\PETR\\DATA_SCIENCE\\EMOCE/train/angry\\Training_36894301.jpg – Face could not be detected in numpy array.Please confirm that the picture is a face photo or consider to set enforce_detection param to False.\n",
      "Chyba: DeepFace nemohl analyzovat C:\\Users\\zitao\\Documents\\PETR\\DATA_SCIENCE\\EMOCE/train/angry\\Training_36898065.jpg – Face could not be detected in numpy array.Please confirm that the picture is a face photo or consider to set enforce_detection param to False.\n",
      "Chyba: DeepFace nemohl analyzovat C:\\Users\\zitao\\Documents\\PETR\\DATA_SCIENCE\\EMOCE/train/angry\\Training_36936795.jpg – Face could not be detected in numpy array.Please confirm that the picture is a face photo or consider to set enforce_detection param to False.\n",
      "Chyba: DeepFace nemohl analyzovat C:\\Users\\zitao\\Documents\\PETR\\DATA_SCIENCE\\EMOCE/train/angry\\Training_36937259.jpg – Face could not be detected in numpy array.Please confirm that the picture is a face photo or consider to set enforce_detection param to False.\n",
      "Chyba: DeepFace nemohl analyzovat C:\\Users\\zitao\\Documents\\PETR\\DATA_SCIENCE\\EMOCE/train/angry\\Training_3695371.jpg – Face could not be detected in numpy array.Please confirm that the picture is a face photo or consider to set enforce_detection param to False.\n",
      "Chyba: DeepFace nemohl analyzovat C:\\Users\\zitao\\Documents\\PETR\\DATA_SCIENCE\\EMOCE/train/angry\\Training_37045798.jpg – Face could not be detected in numpy array.Please confirm that the picture is a face photo or consider to set enforce_detection param to False.\n",
      "Chyba: DeepFace nemohl analyzovat C:\\Users\\zitao\\Documents\\PETR\\DATA_SCIENCE\\EMOCE/train/angry\\Training_37074835.jpg – Face could not be detected in numpy array.Please confirm that the picture is a face photo or consider to set enforce_detection param to False.\n",
      "Chyba: DeepFace nemohl analyzovat C:\\Users\\zitao\\Documents\\PETR\\DATA_SCIENCE\\EMOCE/train/angry\\Training_37144035.jpg – Face could not be detected in numpy array.Please confirm that the picture is a face photo or consider to set enforce_detection param to False.\n",
      "Chyba: DeepFace nemohl analyzovat C:\\Users\\zitao\\Documents\\PETR\\DATA_SCIENCE\\EMOCE/train/angry\\Training_37202220.jpg – Face could not be detected in numpy array.Please confirm that the picture is a face photo or consider to set enforce_detection param to False.\n",
      "Chyba: DeepFace nemohl analyzovat C:\\Users\\zitao\\Documents\\PETR\\DATA_SCIENCE\\EMOCE/train/angry\\Training_3733358.jpg – Face could not be detected in numpy array.Please confirm that the picture is a face photo or consider to set enforce_detection param to False.\n",
      "Chyba: DeepFace nemohl analyzovat C:\\Users\\zitao\\Documents\\PETR\\DATA_SCIENCE\\EMOCE/train/angry\\Training_37375861.jpg – Face could not be detected in numpy array.Please confirm that the picture is a face photo or consider to set enforce_detection param to False.\n",
      "Chyba: DeepFace nemohl analyzovat C:\\Users\\zitao\\Documents\\PETR\\DATA_SCIENCE\\EMOCE/train/angry\\Training_37403500.jpg – Face could not be detected in numpy array.Please confirm that the picture is a face photo or consider to set enforce_detection param to False.\n",
      "Chyba: DeepFace nemohl analyzovat C:\\Users\\zitao\\Documents\\PETR\\DATA_SCIENCE\\EMOCE/train/angry\\Training_37480357.jpg – Face could not be detected in numpy array.Please confirm that the picture is a face photo or consider to set enforce_detection param to False.\n",
      "Chyba: DeepFace nemohl analyzovat C:\\Users\\zitao\\Documents\\PETR\\DATA_SCIENCE\\EMOCE/train/angry\\Training_37491604.jpg – Face could not be detected in numpy array.Please confirm that the picture is a face photo or consider to set enforce_detection param to False.\n",
      "Chyba: DeepFace nemohl analyzovat C:\\Users\\zitao\\Documents\\PETR\\DATA_SCIENCE\\EMOCE/train/angry\\Training_37507551.jpg – Face could not be detected in numpy array.Please confirm that the picture is a face photo or consider to set enforce_detection param to False.\n",
      "Chyba: DeepFace nemohl analyzovat C:\\Users\\zitao\\Documents\\PETR\\DATA_SCIENCE\\EMOCE/train/angry\\Training_37550847.jpg – Face could not be detected in numpy array.Please confirm that the picture is a face photo or consider to set enforce_detection param to False.\n",
      "Chyba: DeepFace nemohl analyzovat C:\\Users\\zitao\\Documents\\PETR\\DATA_SCIENCE\\EMOCE/train/angry\\Training_37599849.jpg – Face could not be detected in numpy array.Please confirm that the picture is a face photo or consider to set enforce_detection param to False.\n",
      "Chyba: DeepFace nemohl analyzovat C:\\Users\\zitao\\Documents\\PETR\\DATA_SCIENCE\\EMOCE/train/angry\\Training_37648612.jpg – Face could not be detected in numpy array.Please confirm that the picture is a face photo or consider to set enforce_detection param to False.\n",
      "Chyba: DeepFace nemohl analyzovat C:\\Users\\zitao\\Documents\\PETR\\DATA_SCIENCE\\EMOCE/train/angry\\Training_37706734.jpg – Face could not be detected in numpy array.Please confirm that the picture is a face photo or consider to set enforce_detection param to False.\n",
      "Chyba: DeepFace nemohl analyzovat C:\\Users\\zitao\\Documents\\PETR\\DATA_SCIENCE\\EMOCE/train/angry\\Training_37735926.jpg – Face could not be detected in numpy array.Please confirm that the picture is a face photo or consider to set enforce_detection param to False.\n",
      "Chyba: DeepFace nemohl analyzovat C:\\Users\\zitao\\Documents\\PETR\\DATA_SCIENCE\\EMOCE/train/angry\\Training_37859229.jpg – Face could not be detected in numpy array.Please confirm that the picture is a face photo or consider to set enforce_detection param to False.\n",
      "Chyba: DeepFace nemohl analyzovat C:\\Users\\zitao\\Documents\\PETR\\DATA_SCIENCE\\EMOCE/train/angry\\Training_37962103.jpg – Face could not be detected in numpy array.Please confirm that the picture is a face photo or consider to set enforce_detection param to False.\n",
      "Chyba: DeepFace nemohl analyzovat C:\\Users\\zitao\\Documents\\PETR\\DATA_SCIENCE\\EMOCE/train/angry\\Training_38030689.jpg – Face could not be detected in numpy array.Please confirm that the picture is a face photo or consider to set enforce_detection param to False.\n",
      "Chyba: DeepFace nemohl analyzovat C:\\Users\\zitao\\Documents\\PETR\\DATA_SCIENCE\\EMOCE/train/angry\\Training_38214860.jpg – Face could not be detected in numpy array.Please confirm that the picture is a face photo or consider to set enforce_detection param to False.\n",
      "Chyba: DeepFace nemohl analyzovat C:\\Users\\zitao\\Documents\\PETR\\DATA_SCIENCE\\EMOCE/train/angry\\Training_38392729.jpg – Face could not be detected in numpy array.Please confirm that the picture is a face photo or consider to set enforce_detection param to False.\n",
      "Chyba: DeepFace nemohl analyzovat C:\\Users\\zitao\\Documents\\PETR\\DATA_SCIENCE\\EMOCE/train/angry\\Training_38462725.jpg – Face could not be detected in numpy array.Please confirm that the picture is a face photo or consider to set enforce_detection param to False.\n",
      "Chyba: DeepFace nemohl analyzovat C:\\Users\\zitao\\Documents\\PETR\\DATA_SCIENCE\\EMOCE/train/angry\\Training_38492858.jpg – Face could not be detected in numpy array.Please confirm that the picture is a face photo or consider to set enforce_detection param to False.\n",
      "Chyba: DeepFace nemohl analyzovat C:\\Users\\zitao\\Documents\\PETR\\DATA_SCIENCE\\EMOCE/train/angry\\Training_3865960.jpg – Face could not be detected in numpy array.Please confirm that the picture is a face photo or consider to set enforce_detection param to False.\n",
      "Chyba: DeepFace nemohl analyzovat C:\\Users\\zitao\\Documents\\PETR\\DATA_SCIENCE\\EMOCE/train/angry\\Training_38729129.jpg – Face could not be detected in numpy array.Please confirm that the picture is a face photo or consider to set enforce_detection param to False.\n",
      "Chyba: DeepFace nemohl analyzovat C:\\Users\\zitao\\Documents\\PETR\\DATA_SCIENCE\\EMOCE/train/angry\\Training_38783891.jpg – Face could not be detected in numpy array.Please confirm that the picture is a face photo or consider to set enforce_detection param to False.\n",
      "Chyba: DeepFace nemohl analyzovat C:\\Users\\zitao\\Documents\\PETR\\DATA_SCIENCE\\EMOCE/train/angry\\Training_38884491.jpg – Face could not be detected in numpy array.Please confirm that the picture is a face photo or consider to set enforce_detection param to False.\n",
      "Chyba: DeepFace nemohl analyzovat C:\\Users\\zitao\\Documents\\PETR\\DATA_SCIENCE\\EMOCE/train/angry\\Training_38970819.jpg – Face could not be detected in numpy array.Please confirm that the picture is a face photo or consider to set enforce_detection param to False.\n",
      "Chyba: DeepFace nemohl analyzovat C:\\Users\\zitao\\Documents\\PETR\\DATA_SCIENCE\\EMOCE/train/angry\\Training_39006937.jpg – Face could not be detected in numpy array.Please confirm that the picture is a face photo or consider to set enforce_detection param to False.\n",
      "Chyba: DeepFace nemohl analyzovat C:\\Users\\zitao\\Documents\\PETR\\DATA_SCIENCE\\EMOCE/train/angry\\Training_39007771.jpg – Face could not be detected in numpy array.Please confirm that the picture is a face photo or consider to set enforce_detection param to False.\n",
      "Chyba: DeepFace nemohl analyzovat C:\\Users\\zitao\\Documents\\PETR\\DATA_SCIENCE\\EMOCE/train/angry\\Training_39062250.jpg – Face could not be detected in numpy array.Please confirm that the picture is a face photo or consider to set enforce_detection param to False.\n",
      "Chyba: DeepFace nemohl analyzovat C:\\Users\\zitao\\Documents\\PETR\\DATA_SCIENCE\\EMOCE/train/angry\\Training_39068537.jpg – Face could not be detected in numpy array.Please confirm that the picture is a face photo or consider to set enforce_detection param to False.\n",
      "Chyba: DeepFace nemohl analyzovat C:\\Users\\zitao\\Documents\\PETR\\DATA_SCIENCE\\EMOCE/train/angry\\Training_3908.jpg – Face could not be detected in numpy array.Please confirm that the picture is a face photo or consider to set enforce_detection param to False.\n",
      "Chyba: DeepFace nemohl analyzovat C:\\Users\\zitao\\Documents\\PETR\\DATA_SCIENCE\\EMOCE/train/angry\\Training_39273069.jpg – Face could not be detected in numpy array.Please confirm that the picture is a face photo or consider to set enforce_detection param to False.\n",
      "Chyba: DeepFace nemohl analyzovat C:\\Users\\zitao\\Documents\\PETR\\DATA_SCIENCE\\EMOCE/train/angry\\Training_3946595.jpg – Face could not be detected in numpy array.Please confirm that the picture is a face photo or consider to set enforce_detection param to False.\n",
      "Chyba: DeepFace nemohl analyzovat C:\\Users\\zitao\\Documents\\PETR\\DATA_SCIENCE\\EMOCE/train/angry\\Training_3950957.jpg – Face could not be detected in numpy array.Please confirm that the picture is a face photo or consider to set enforce_detection param to False.\n",
      "Chyba: DeepFace nemohl analyzovat C:\\Users\\zitao\\Documents\\PETR\\DATA_SCIENCE\\EMOCE/train/angry\\Training_39520111.jpg – Face could not be detected in numpy array.Please confirm that the picture is a face photo or consider to set enforce_detection param to False.\n",
      "Chyba: DeepFace nemohl analyzovat C:\\Users\\zitao\\Documents\\PETR\\DATA_SCIENCE\\EMOCE/train/angry\\Training_39631332.jpg – Face could not be detected in numpy array.Please confirm that the picture is a face photo or consider to set enforce_detection param to False.\n",
      "Chyba: DeepFace nemohl analyzovat C:\\Users\\zitao\\Documents\\PETR\\DATA_SCIENCE\\EMOCE/train/angry\\Training_39717008.jpg – Face could not be detected in numpy array.Please confirm that the picture is a face photo or consider to set enforce_detection param to False.\n",
      "Chyba: DeepFace nemohl analyzovat C:\\Users\\zitao\\Documents\\PETR\\DATA_SCIENCE\\EMOCE/train/angry\\Training_39764127.jpg – Face could not be detected in numpy array.Please confirm that the picture is a face photo or consider to set enforce_detection param to False.\n",
      "Chyba: DeepFace nemohl analyzovat C:\\Users\\zitao\\Documents\\PETR\\DATA_SCIENCE\\EMOCE/train/angry\\Training_39775318.jpg – Face could not be detected in numpy array.Please confirm that the picture is a face photo or consider to set enforce_detection param to False.\n",
      "Chyba: DeepFace nemohl analyzovat C:\\Users\\zitao\\Documents\\PETR\\DATA_SCIENCE\\EMOCE/train/angry\\Training_39779201.jpg – Face could not be detected in numpy array.Please confirm that the picture is a face photo or consider to set enforce_detection param to False.\n",
      "Chyba: DeepFace nemohl analyzovat C:\\Users\\zitao\\Documents\\PETR\\DATA_SCIENCE\\EMOCE/train/angry\\Training_39887010.jpg – Face could not be detected in numpy array.Please confirm that the picture is a face photo or consider to set enforce_detection param to False.\n",
      "Chyba: DeepFace nemohl analyzovat C:\\Users\\zitao\\Documents\\PETR\\DATA_SCIENCE\\EMOCE/train/angry\\Training_39899893.jpg – Face could not be detected in numpy array.Please confirm that the picture is a face photo or consider to set enforce_detection param to False.\n",
      "Chyba: DeepFace nemohl analyzovat C:\\Users\\zitao\\Documents\\PETR\\DATA_SCIENCE\\EMOCE/train/angry\\Training_39909256.jpg – Face could not be detected in numpy array.Please confirm that the picture is a face photo or consider to set enforce_detection param to False.\n",
      "Chyba: DeepFace nemohl analyzovat C:\\Users\\zitao\\Documents\\PETR\\DATA_SCIENCE\\EMOCE/train/angry\\Training_39911882.jpg – Face could not be detected in numpy array.Please confirm that the picture is a face photo or consider to set enforce_detection param to False.\n",
      "Chyba: DeepFace nemohl analyzovat C:\\Users\\zitao\\Documents\\PETR\\DATA_SCIENCE\\EMOCE/train/angry\\Training_40021454.jpg – Face could not be detected in numpy array.Please confirm that the picture is a face photo or consider to set enforce_detection param to False.\n",
      "Chyba: DeepFace nemohl analyzovat C:\\Users\\zitao\\Documents\\PETR\\DATA_SCIENCE\\EMOCE/train/angry\\Training_40113264.jpg – Face could not be detected in numpy array.Please confirm that the picture is a face photo or consider to set enforce_detection param to False.\n",
      "Chyba: DeepFace nemohl analyzovat C:\\Users\\zitao\\Documents\\PETR\\DATA_SCIENCE\\EMOCE/train/angry\\Training_40136719.jpg – Face could not be detected in numpy array.Please confirm that the picture is a face photo or consider to set enforce_detection param to False.\n",
      "Chyba: DeepFace nemohl analyzovat C:\\Users\\zitao\\Documents\\PETR\\DATA_SCIENCE\\EMOCE/train/angry\\Training_40142266.jpg – Face could not be detected in numpy array.Please confirm that the picture is a face photo or consider to set enforce_detection param to False.\n",
      "Chyba: DeepFace nemohl analyzovat C:\\Users\\zitao\\Documents\\PETR\\DATA_SCIENCE\\EMOCE/train/angry\\Training_40158935.jpg – Face could not be detected in numpy array.Please confirm that the picture is a face photo or consider to set enforce_detection param to False.\n",
      "Chyba: DeepFace nemohl analyzovat C:\\Users\\zitao\\Documents\\PETR\\DATA_SCIENCE\\EMOCE/train/angry\\Training_40214128.jpg – Face could not be detected in numpy array.Please confirm that the picture is a face photo or consider to set enforce_detection param to False.\n",
      "Chyba: DeepFace nemohl analyzovat C:\\Users\\zitao\\Documents\\PETR\\DATA_SCIENCE\\EMOCE/train/angry\\Training_40214334.jpg – Face could not be detected in numpy array.Please confirm that the picture is a face photo or consider to set enforce_detection param to False.\n",
      "Chyba: DeepFace nemohl analyzovat C:\\Users\\zitao\\Documents\\PETR\\DATA_SCIENCE\\EMOCE/train/angry\\Training_40219937.jpg – Face could not be detected in numpy array.Please confirm that the picture is a face photo or consider to set enforce_detection param to False.\n",
      "Chyba: DeepFace nemohl analyzovat C:\\Users\\zitao\\Documents\\PETR\\DATA_SCIENCE\\EMOCE/train/angry\\Training_4049018.jpg – Face could not be detected in numpy array.Please confirm that the picture is a face photo or consider to set enforce_detection param to False.\n",
      "Chyba: DeepFace nemohl analyzovat C:\\Users\\zitao\\Documents\\PETR\\DATA_SCIENCE\\EMOCE/train/angry\\Training_4060068.jpg – Face could not be detected in numpy array.Please confirm that the picture is a face photo or consider to set enforce_detection param to False.\n",
      "Chyba: DeepFace nemohl analyzovat C:\\Users\\zitao\\Documents\\PETR\\DATA_SCIENCE\\EMOCE/train/angry\\Training_40604109.jpg – Face could not be detected in numpy array.Please confirm that the picture is a face photo or consider to set enforce_detection param to False.\n",
      "Chyba: DeepFace nemohl analyzovat C:\\Users\\zitao\\Documents\\PETR\\DATA_SCIENCE\\EMOCE/train/angry\\Training_40657768.jpg – Face could not be detected in numpy array.Please confirm that the picture is a face photo or consider to set enforce_detection param to False.\n",
      "Chyba: DeepFace nemohl analyzovat C:\\Users\\zitao\\Documents\\PETR\\DATA_SCIENCE\\EMOCE/train/angry\\Training_40761234.jpg – Face could not be detected in numpy array.Please confirm that the picture is a face photo or consider to set enforce_detection param to False.\n",
      "Chyba: DeepFace nemohl analyzovat C:\\Users\\zitao\\Documents\\PETR\\DATA_SCIENCE\\EMOCE/train/angry\\Training_40771838.jpg – Face could not be detected in numpy array.Please confirm that the picture is a face photo or consider to set enforce_detection param to False.\n",
      "Chyba: DeepFace nemohl analyzovat C:\\Users\\zitao\\Documents\\PETR\\DATA_SCIENCE\\EMOCE/train/angry\\Training_40808923.jpg – Face could not be detected in numpy array.Please confirm that the picture is a face photo or consider to set enforce_detection param to False.\n",
      "Chyba: DeepFace nemohl analyzovat C:\\Users\\zitao\\Documents\\PETR\\DATA_SCIENCE\\EMOCE/train/angry\\Training_40818838.jpg – Face could not be detected in numpy array.Please confirm that the picture is a face photo or consider to set enforce_detection param to False.\n",
      "Chyba: DeepFace nemohl analyzovat C:\\Users\\zitao\\Documents\\PETR\\DATA_SCIENCE\\EMOCE/train/angry\\Training_41057276.jpg – Face could not be detected in numpy array.Please confirm that the picture is a face photo or consider to set enforce_detection param to False.\n",
      "Chyba: DeepFace nemohl analyzovat C:\\Users\\zitao\\Documents\\PETR\\DATA_SCIENCE\\EMOCE/train/angry\\Training_41062954.jpg – Face could not be detected in numpy array.Please confirm that the picture is a face photo or consider to set enforce_detection param to False.\n",
      "Chyba: DeepFace nemohl analyzovat C:\\Users\\zitao\\Documents\\PETR\\DATA_SCIENCE\\EMOCE/train/angry\\Training_41381379.jpg – Face could not be detected in numpy array.Please confirm that the picture is a face photo or consider to set enforce_detection param to False.\n",
      "Chyba: DeepFace nemohl analyzovat C:\\Users\\zitao\\Documents\\PETR\\DATA_SCIENCE\\EMOCE/train/angry\\Training_41477878.jpg – Face could not be detected in numpy array.Please confirm that the picture is a face photo or consider to set enforce_detection param to False.\n",
      "Chyba: DeepFace nemohl analyzovat C:\\Users\\zitao\\Documents\\PETR\\DATA_SCIENCE\\EMOCE/train/angry\\Training_41601598.jpg – Face could not be detected in numpy array.Please confirm that the picture is a face photo or consider to set enforce_detection param to False.\n",
      "Chyba: DeepFace nemohl analyzovat C:\\Users\\zitao\\Documents\\PETR\\DATA_SCIENCE\\EMOCE/train/angry\\Training_41604758.jpg – Face could not be detected in numpy array.Please confirm that the picture is a face photo or consider to set enforce_detection param to False.\n",
      "Chyba: DeepFace nemohl analyzovat C:\\Users\\zitao\\Documents\\PETR\\DATA_SCIENCE\\EMOCE/train/angry\\Training_41716463.jpg – Face could not be detected in numpy array.Please confirm that the picture is a face photo or consider to set enforce_detection param to False.\n",
      "Chyba: DeepFace nemohl analyzovat C:\\Users\\zitao\\Documents\\PETR\\DATA_SCIENCE\\EMOCE/train/angry\\Training_41791166.jpg – Face could not be detected in numpy array.Please confirm that the picture is a face photo or consider to set enforce_detection param to False.\n",
      "Chyba: DeepFace nemohl analyzovat C:\\Users\\zitao\\Documents\\PETR\\DATA_SCIENCE\\EMOCE/train/angry\\Training_41981213.jpg – Face could not be detected in numpy array.Please confirm that the picture is a face photo or consider to set enforce_detection param to False.\n",
      "Chyba: DeepFace nemohl analyzovat C:\\Users\\zitao\\Documents\\PETR\\DATA_SCIENCE\\EMOCE/train/angry\\Training_42004442.jpg – Face could not be detected in numpy array.Please confirm that the picture is a face photo or consider to set enforce_detection param to False.\n",
      "Chyba: DeepFace nemohl analyzovat C:\\Users\\zitao\\Documents\\PETR\\DATA_SCIENCE\\EMOCE/train/angry\\Training_42008480.jpg – Face could not be detected in numpy array.Please confirm that the picture is a face photo or consider to set enforce_detection param to False.\n",
      "Chyba: DeepFace nemohl analyzovat C:\\Users\\zitao\\Documents\\PETR\\DATA_SCIENCE\\EMOCE/train/angry\\Training_42092055.jpg – Face could not be detected in numpy array.Please confirm that the picture is a face photo or consider to set enforce_detection param to False.\n",
      "Chyba: DeepFace nemohl analyzovat C:\\Users\\zitao\\Documents\\PETR\\DATA_SCIENCE\\EMOCE/train/angry\\Training_42094324.jpg – Face could not be detected in numpy array.Please confirm that the picture is a face photo or consider to set enforce_detection param to False.\n",
      "Chyba: DeepFace nemohl analyzovat C:\\Users\\zitao\\Documents\\PETR\\DATA_SCIENCE\\EMOCE/train/angry\\Training_42129192.jpg – Face could not be detected in numpy array.Please confirm that the picture is a face photo or consider to set enforce_detection param to False.\n",
      "Chyba: DeepFace nemohl analyzovat C:\\Users\\zitao\\Documents\\PETR\\DATA_SCIENCE\\EMOCE/train/angry\\Training_42135809.jpg – Face could not be detected in numpy array.Please confirm that the picture is a face photo or consider to set enforce_detection param to False.\n",
      "Chyba: DeepFace nemohl analyzovat C:\\Users\\zitao\\Documents\\PETR\\DATA_SCIENCE\\EMOCE/train/angry\\Training_42203456.jpg – Face could not be detected in numpy array.Please confirm that the picture is a face photo or consider to set enforce_detection param to False.\n",
      "Chyba: DeepFace nemohl analyzovat C:\\Users\\zitao\\Documents\\PETR\\DATA_SCIENCE\\EMOCE/train/angry\\Training_42237509.jpg – Face could not be detected in numpy array.Please confirm that the picture is a face photo or consider to set enforce_detection param to False.\n",
      "Chyba: DeepFace nemohl analyzovat C:\\Users\\zitao\\Documents\\PETR\\DATA_SCIENCE\\EMOCE/train/angry\\Training_42298414.jpg – Face could not be detected in numpy array.Please confirm that the picture is a face photo or consider to set enforce_detection param to False.\n",
      "Chyba: DeepFace nemohl analyzovat C:\\Users\\zitao\\Documents\\PETR\\DATA_SCIENCE\\EMOCE/train/angry\\Training_42344031.jpg – Face could not be detected in numpy array.Please confirm that the picture is a face photo or consider to set enforce_detection param to False.\n",
      "Chyba: DeepFace nemohl analyzovat C:\\Users\\zitao\\Documents\\PETR\\DATA_SCIENCE\\EMOCE/train/angry\\Training_42350336.jpg – Face could not be detected in numpy array.Please confirm that the picture is a face photo or consider to set enforce_detection param to False.\n",
      "Chyba: DeepFace nemohl analyzovat C:\\Users\\zitao\\Documents\\PETR\\DATA_SCIENCE\\EMOCE/train/angry\\Training_42529557.jpg – Face could not be detected in numpy array.Please confirm that the picture is a face photo or consider to set enforce_detection param to False.\n",
      "Chyba: DeepFace nemohl analyzovat C:\\Users\\zitao\\Documents\\PETR\\DATA_SCIENCE\\EMOCE/train/angry\\Training_42533355.jpg – Face could not be detected in numpy array.Please confirm that the picture is a face photo or consider to set enforce_detection param to False.\n",
      "Chyba: DeepFace nemohl analyzovat C:\\Users\\zitao\\Documents\\PETR\\DATA_SCIENCE\\EMOCE/train/angry\\Training_42672719.jpg – Face could not be detected in numpy array.Please confirm that the picture is a face photo or consider to set enforce_detection param to False.\n",
      "Chyba: DeepFace nemohl analyzovat C:\\Users\\zitao\\Documents\\PETR\\DATA_SCIENCE\\EMOCE/train/angry\\Training_42736243.jpg – Face could not be detected in numpy array.Please confirm that the picture is a face photo or consider to set enforce_detection param to False.\n",
      "Chyba: DeepFace nemohl analyzovat C:\\Users\\zitao\\Documents\\PETR\\DATA_SCIENCE\\EMOCE/train/angry\\Training_42822540.jpg – Face could not be detected in numpy array.Please confirm that the picture is a face photo or consider to set enforce_detection param to False.\n",
      "Chyba: DeepFace nemohl analyzovat C:\\Users\\zitao\\Documents\\PETR\\DATA_SCIENCE\\EMOCE/train/angry\\Training_42902670.jpg – Face could not be detected in numpy array.Please confirm that the picture is a face photo or consider to set enforce_detection param to False.\n",
      "Chyba: DeepFace nemohl analyzovat C:\\Users\\zitao\\Documents\\PETR\\DATA_SCIENCE\\EMOCE/train/angry\\Training_42919919.jpg – Face could not be detected in numpy array.Please confirm that the picture is a face photo or consider to set enforce_detection param to False.\n",
      "Chyba: DeepFace nemohl analyzovat C:\\Users\\zitao\\Documents\\PETR\\DATA_SCIENCE\\EMOCE/train/angry\\Training_4296848.jpg – Face could not be detected in numpy array.Please confirm that the picture is a face photo or consider to set enforce_detection param to False.\n",
      "Chyba: DeepFace nemohl analyzovat C:\\Users\\zitao\\Documents\\PETR\\DATA_SCIENCE\\EMOCE/train/angry\\Training_42984656.jpg – Face could not be detected in numpy array.Please confirm that the picture is a face photo or consider to set enforce_detection param to False.\n",
      "Chyba: DeepFace nemohl analyzovat C:\\Users\\zitao\\Documents\\PETR\\DATA_SCIENCE\\EMOCE/train/angry\\Training_43089638.jpg – Face could not be detected in numpy array.Please confirm that the picture is a face photo or consider to set enforce_detection param to False.\n",
      "Chyba: DeepFace nemohl analyzovat C:\\Users\\zitao\\Documents\\PETR\\DATA_SCIENCE\\EMOCE/train/angry\\Training_43095847.jpg – Face could not be detected in numpy array.Please confirm that the picture is a face photo or consider to set enforce_detection param to False.\n",
      "Chyba: DeepFace nemohl analyzovat C:\\Users\\zitao\\Documents\\PETR\\DATA_SCIENCE\\EMOCE/train/angry\\Training_43096835.jpg – Face could not be detected in numpy array.Please confirm that the picture is a face photo or consider to set enforce_detection param to False.\n",
      "Chyba: DeepFace nemohl analyzovat C:\\Users\\zitao\\Documents\\PETR\\DATA_SCIENCE\\EMOCE/train/angry\\Training_43099895.jpg – Face could not be detected in numpy array.Please confirm that the picture is a face photo or consider to set enforce_detection param to False.\n",
      "Chyba: DeepFace nemohl analyzovat C:\\Users\\zitao\\Documents\\PETR\\DATA_SCIENCE\\EMOCE/train/angry\\Training_43151303.jpg – Face could not be detected in numpy array.Please confirm that the picture is a face photo or consider to set enforce_detection param to False.\n",
      "Chyba: DeepFace nemohl analyzovat C:\\Users\\zitao\\Documents\\PETR\\DATA_SCIENCE\\EMOCE/train/angry\\Training_43152486.jpg – Face could not be detected in numpy array.Please confirm that the picture is a face photo or consider to set enforce_detection param to False.\n",
      "Chyba: DeepFace nemohl analyzovat C:\\Users\\zitao\\Documents\\PETR\\DATA_SCIENCE\\EMOCE/train/angry\\Training_43352525.jpg – Face could not be detected in numpy array.Please confirm that the picture is a face photo or consider to set enforce_detection param to False.\n",
      "Chyba: DeepFace nemohl analyzovat C:\\Users\\zitao\\Documents\\PETR\\DATA_SCIENCE\\EMOCE/train/angry\\Training_43370831.jpg – Face could not be detected in numpy array.Please confirm that the picture is a face photo or consider to set enforce_detection param to False.\n",
      "Chyba: DeepFace nemohl analyzovat C:\\Users\\zitao\\Documents\\PETR\\DATA_SCIENCE\\EMOCE/train/angry\\Training_43401592.jpg – Face could not be detected in numpy array.Please confirm that the picture is a face photo or consider to set enforce_detection param to False.\n",
      "Chyba: DeepFace nemohl analyzovat C:\\Users\\zitao\\Documents\\PETR\\DATA_SCIENCE\\EMOCE/train/angry\\Training_43415045.jpg – Face could not be detected in numpy array.Please confirm that the picture is a face photo or consider to set enforce_detection param to False.\n",
      "Chyba: DeepFace nemohl analyzovat C:\\Users\\zitao\\Documents\\PETR\\DATA_SCIENCE\\EMOCE/train/angry\\Training_43438109.jpg – Face could not be detected in numpy array.Please confirm that the picture is a face photo or consider to set enforce_detection param to False.\n",
      "Chyba: DeepFace nemohl analyzovat C:\\Users\\zitao\\Documents\\PETR\\DATA_SCIENCE\\EMOCE/train/angry\\Training_4349537.jpg – Face could not be detected in numpy array.Please confirm that the picture is a face photo or consider to set enforce_detection param to False.\n",
      "Chyba: DeepFace nemohl analyzovat C:\\Users\\zitao\\Documents\\PETR\\DATA_SCIENCE\\EMOCE/train/angry\\Training_43512278.jpg – Face could not be detected in numpy array.Please confirm that the picture is a face photo or consider to set enforce_detection param to False.\n",
      "Chyba: DeepFace nemohl analyzovat C:\\Users\\zitao\\Documents\\PETR\\DATA_SCIENCE\\EMOCE/train/angry\\Training_43533045.jpg – Face could not be detected in numpy array.Please confirm that the picture is a face photo or consider to set enforce_detection param to False.\n",
      "Chyba: DeepFace nemohl analyzovat C:\\Users\\zitao\\Documents\\PETR\\DATA_SCIENCE\\EMOCE/train/angry\\Training_43697890.jpg – Face could not be detected in numpy array.Please confirm that the picture is a face photo or consider to set enforce_detection param to False.\n",
      "Chyba: DeepFace nemohl analyzovat C:\\Users\\zitao\\Documents\\PETR\\DATA_SCIENCE\\EMOCE/train/angry\\Training_43738681.jpg – Face could not be detected in numpy array.Please confirm that the picture is a face photo or consider to set enforce_detection param to False.\n",
      "Chyba: DeepFace nemohl analyzovat C:\\Users\\zitao\\Documents\\PETR\\DATA_SCIENCE\\EMOCE/train/angry\\Training_43780329.jpg – Face could not be detected in numpy array.Please confirm that the picture is a face photo or consider to set enforce_detection param to False.\n",
      "Chyba: DeepFace nemohl analyzovat C:\\Users\\zitao\\Documents\\PETR\\DATA_SCIENCE\\EMOCE/train/angry\\Training_43928199.jpg – Face could not be detected in numpy array.Please confirm that the picture is a face photo or consider to set enforce_detection param to False.\n",
      "Chyba: DeepFace nemohl analyzovat C:\\Users\\zitao\\Documents\\PETR\\DATA_SCIENCE\\EMOCE/train/angry\\Training_44019301.jpg – Face could not be detected in numpy array.Please confirm that the picture is a face photo or consider to set enforce_detection param to False.\n",
      "Chyba: DeepFace nemohl analyzovat C:\\Users\\zitao\\Documents\\PETR\\DATA_SCIENCE\\EMOCE/train/angry\\Training_44100114.jpg – Face could not be detected in numpy array.Please confirm that the picture is a face photo or consider to set enforce_detection param to False.\n",
      "Chyba: DeepFace nemohl analyzovat C:\\Users\\zitao\\Documents\\PETR\\DATA_SCIENCE\\EMOCE/train/angry\\Training_44106194.jpg – Face could not be detected in numpy array.Please confirm that the picture is a face photo or consider to set enforce_detection param to False.\n",
      "Chyba: DeepFace nemohl analyzovat C:\\Users\\zitao\\Documents\\PETR\\DATA_SCIENCE\\EMOCE/train/angry\\Training_44136391.jpg – Face could not be detected in numpy array.Please confirm that the picture is a face photo or consider to set enforce_detection param to False.\n",
      "Chyba: DeepFace nemohl analyzovat C:\\Users\\zitao\\Documents\\PETR\\DATA_SCIENCE\\EMOCE/train/angry\\Training_44208877.jpg – Face could not be detected in numpy array.Please confirm that the picture is a face photo or consider to set enforce_detection param to False.\n",
      "Chyba: DeepFace nemohl analyzovat C:\\Users\\zitao\\Documents\\PETR\\DATA_SCIENCE\\EMOCE/train/angry\\Training_44301466.jpg – Face could not be detected in numpy array.Please confirm that the picture is a face photo or consider to set enforce_detection param to False.\n",
      "Chyba: DeepFace nemohl analyzovat C:\\Users\\zitao\\Documents\\PETR\\DATA_SCIENCE\\EMOCE/train/angry\\Training_44453768.jpg – Face could not be detected in numpy array.Please confirm that the picture is a face photo or consider to set enforce_detection param to False.\n",
      "Chyba: DeepFace nemohl analyzovat C:\\Users\\zitao\\Documents\\PETR\\DATA_SCIENCE\\EMOCE/train/angry\\Training_44463995.jpg – Face could not be detected in numpy array.Please confirm that the picture is a face photo or consider to set enforce_detection param to False.\n",
      "Chyba: DeepFace nemohl analyzovat C:\\Users\\zitao\\Documents\\PETR\\DATA_SCIENCE\\EMOCE/train/angry\\Training_44556203.jpg – Face could not be detected in numpy array.Please confirm that the picture is a face photo or consider to set enforce_detection param to False.\n",
      "Chyba: DeepFace nemohl analyzovat C:\\Users\\zitao\\Documents\\PETR\\DATA_SCIENCE\\EMOCE/train/angry\\Training_44568826.jpg – Face could not be detected in numpy array.Please confirm that the picture is a face photo or consider to set enforce_detection param to False.\n",
      "Chyba: DeepFace nemohl analyzovat C:\\Users\\zitao\\Documents\\PETR\\DATA_SCIENCE\\EMOCE/train/angry\\Training_44619976.jpg – Face could not be detected in numpy array.Please confirm that the picture is a face photo or consider to set enforce_detection param to False.\n",
      "Chyba: DeepFace nemohl analyzovat C:\\Users\\zitao\\Documents\\PETR\\DATA_SCIENCE\\EMOCE/train/angry\\Training_4464566.jpg – Face could not be detected in numpy array.Please confirm that the picture is a face photo or consider to set enforce_detection param to False.\n",
      "Chyba: DeepFace nemohl analyzovat C:\\Users\\zitao\\Documents\\PETR\\DATA_SCIENCE\\EMOCE/train/angry\\Training_44719671.jpg – Face could not be detected in numpy array.Please confirm that the picture is a face photo or consider to set enforce_detection param to False.\n",
      "Chyba: DeepFace nemohl analyzovat C:\\Users\\zitao\\Documents\\PETR\\DATA_SCIENCE\\EMOCE/train/angry\\Training_44723169.jpg – Face could not be detected in numpy array.Please confirm that the picture is a face photo or consider to set enforce_detection param to False.\n",
      "Chyba: DeepFace nemohl analyzovat C:\\Users\\zitao\\Documents\\PETR\\DATA_SCIENCE\\EMOCE/train/angry\\Training_4482808.jpg – Face could not be detected in numpy array.Please confirm that the picture is a face photo or consider to set enforce_detection param to False.\n",
      "Chyba: DeepFace nemohl analyzovat C:\\Users\\zitao\\Documents\\PETR\\DATA_SCIENCE\\EMOCE/train/angry\\Training_44830316.jpg – Face could not be detected in numpy array.Please confirm that the picture is a face photo or consider to set enforce_detection param to False.\n",
      "Chyba: DeepFace nemohl analyzovat C:\\Users\\zitao\\Documents\\PETR\\DATA_SCIENCE\\EMOCE/train/angry\\Training_44893948.jpg – Face could not be detected in numpy array.Please confirm that the picture is a face photo or consider to set enforce_detection param to False.\n",
      "Chyba: DeepFace nemohl analyzovat C:\\Users\\zitao\\Documents\\PETR\\DATA_SCIENCE\\EMOCE/train/angry\\Training_450201.jpg – Face could not be detected in numpy array.Please confirm that the picture is a face photo or consider to set enforce_detection param to False.\n",
      "Chyba: DeepFace nemohl analyzovat C:\\Users\\zitao\\Documents\\PETR\\DATA_SCIENCE\\EMOCE/train/angry\\Training_45054060.jpg – Face could not be detected in numpy array.Please confirm that the picture is a face photo or consider to set enforce_detection param to False.\n",
      "Chyba: DeepFace nemohl analyzovat C:\\Users\\zitao\\Documents\\PETR\\DATA_SCIENCE\\EMOCE/train/angry\\Training_45060957.jpg – Face could not be detected in numpy array.Please confirm that the picture is a face photo or consider to set enforce_detection param to False.\n",
      "Chyba: DeepFace nemohl analyzovat C:\\Users\\zitao\\Documents\\PETR\\DATA_SCIENCE\\EMOCE/train/angry\\Training_45088933.jpg – Face could not be detected in numpy array.Please confirm that the picture is a face photo or consider to set enforce_detection param to False.\n",
      "Chyba: DeepFace nemohl analyzovat C:\\Users\\zitao\\Documents\\PETR\\DATA_SCIENCE\\EMOCE/train/angry\\Training_45101982.jpg – Face could not be detected in numpy array.Please confirm that the picture is a face photo or consider to set enforce_detection param to False.\n",
      "Chyba: DeepFace nemohl analyzovat C:\\Users\\zitao\\Documents\\PETR\\DATA_SCIENCE\\EMOCE/train/angry\\Training_45102440.jpg – Face could not be detected in numpy array.Please confirm that the picture is a face photo or consider to set enforce_detection param to False.\n",
      "Chyba: DeepFace nemohl analyzovat C:\\Users\\zitao\\Documents\\PETR\\DATA_SCIENCE\\EMOCE/train/angry\\Training_45182943.jpg – Face could not be detected in numpy array.Please confirm that the picture is a face photo or consider to set enforce_detection param to False.\n",
      "Chyba: DeepFace nemohl analyzovat C:\\Users\\zitao\\Documents\\PETR\\DATA_SCIENCE\\EMOCE/train/angry\\Training_45215094.jpg – Face could not be detected in numpy array.Please confirm that the picture is a face photo or consider to set enforce_detection param to False.\n",
      "Chyba: DeepFace nemohl analyzovat C:\\Users\\zitao\\Documents\\PETR\\DATA_SCIENCE\\EMOCE/train/angry\\Training_45304387.jpg – Face could not be detected in numpy array.Please confirm that the picture is a face photo or consider to set enforce_detection param to False.\n",
      "Chyba: DeepFace nemohl analyzovat C:\\Users\\zitao\\Documents\\PETR\\DATA_SCIENCE\\EMOCE/train/angry\\Training_45317851.jpg – Face could not be detected in numpy array.Please confirm that the picture is a face photo or consider to set enforce_detection param to False.\n",
      "Chyba: DeepFace nemohl analyzovat C:\\Users\\zitao\\Documents\\PETR\\DATA_SCIENCE\\EMOCE/train/angry\\Training_45374079.jpg – Face could not be detected in numpy array.Please confirm that the picture is a face photo or consider to set enforce_detection param to False.\n",
      "Chyba: DeepFace nemohl analyzovat C:\\Users\\zitao\\Documents\\PETR\\DATA_SCIENCE\\EMOCE/train/angry\\Training_4537951.jpg – Face could not be detected in numpy array.Please confirm that the picture is a face photo or consider to set enforce_detection param to False.\n",
      "Chyba: DeepFace nemohl analyzovat C:\\Users\\zitao\\Documents\\PETR\\DATA_SCIENCE\\EMOCE/train/angry\\Training_45393503.jpg – Face could not be detected in numpy array.Please confirm that the picture is a face photo or consider to set enforce_detection param to False.\n",
      "Chyba: DeepFace nemohl analyzovat C:\\Users\\zitao\\Documents\\PETR\\DATA_SCIENCE\\EMOCE/train/angry\\Training_45416832.jpg – Face could not be detected in numpy array.Please confirm that the picture is a face photo or consider to set enforce_detection param to False.\n",
      "Chyba: DeepFace nemohl analyzovat C:\\Users\\zitao\\Documents\\PETR\\DATA_SCIENCE\\EMOCE/train/angry\\Training_45492311.jpg – Face could not be detected in numpy array.Please confirm that the picture is a face photo or consider to set enforce_detection param to False.\n",
      "Chyba: DeepFace nemohl analyzovat C:\\Users\\zitao\\Documents\\PETR\\DATA_SCIENCE\\EMOCE/train/angry\\Training_45681442.jpg – Face could not be detected in numpy array.Please confirm that the picture is a face photo or consider to set enforce_detection param to False.\n",
      "Chyba: DeepFace nemohl analyzovat C:\\Users\\zitao\\Documents\\PETR\\DATA_SCIENCE\\EMOCE/train/angry\\Training_4576627.jpg – Face could not be detected in numpy array.Please confirm that the picture is a face photo or consider to set enforce_detection param to False.\n",
      "Chyba: DeepFace nemohl analyzovat C:\\Users\\zitao\\Documents\\PETR\\DATA_SCIENCE\\EMOCE/train/angry\\Training_45996119.jpg – Face could not be detected in numpy array.Please confirm that the picture is a face photo or consider to set enforce_detection param to False.\n",
      "Chyba: DeepFace nemohl analyzovat C:\\Users\\zitao\\Documents\\PETR\\DATA_SCIENCE\\EMOCE/train/angry\\Training_46073007.jpg – Face could not be detected in numpy array.Please confirm that the picture is a face photo or consider to set enforce_detection param to False.\n",
      "Chyba: DeepFace nemohl analyzovat C:\\Users\\zitao\\Documents\\PETR\\DATA_SCIENCE\\EMOCE/train/angry\\Training_4608141.jpg – Face could not be detected in numpy array.Please confirm that the picture is a face photo or consider to set enforce_detection param to False.\n",
      "Chyba: DeepFace nemohl analyzovat C:\\Users\\zitao\\Documents\\PETR\\DATA_SCIENCE\\EMOCE/train/angry\\Training_46231437.jpg – Face could not be detected in numpy array.Please confirm that the picture is a face photo or consider to set enforce_detection param to False.\n",
      "Chyba: DeepFace nemohl analyzovat C:\\Users\\zitao\\Documents\\PETR\\DATA_SCIENCE\\EMOCE/train/angry\\Training_46232619.jpg – Face could not be detected in numpy array.Please confirm that the picture is a face photo or consider to set enforce_detection param to False.\n",
      "Chyba: DeepFace nemohl analyzovat C:\\Users\\zitao\\Documents\\PETR\\DATA_SCIENCE\\EMOCE/train/angry\\Training_46310459.jpg – Face could not be detected in numpy array.Please confirm that the picture is a face photo or consider to set enforce_detection param to False.\n",
      "Chyba: DeepFace nemohl analyzovat C:\\Users\\zitao\\Documents\\PETR\\DATA_SCIENCE\\EMOCE/train/angry\\Training_46452281.jpg – Face could not be detected in numpy array.Please confirm that the picture is a face photo or consider to set enforce_detection param to False.\n",
      "Chyba: DeepFace nemohl analyzovat C:\\Users\\zitao\\Documents\\PETR\\DATA_SCIENCE\\EMOCE/train/angry\\Training_46496486.jpg – Face could not be detected in numpy array.Please confirm that the picture is a face photo or consider to set enforce_detection param to False.\n",
      "Chyba: DeepFace nemohl analyzovat C:\\Users\\zitao\\Documents\\PETR\\DATA_SCIENCE\\EMOCE/train/angry\\Training_46558382.jpg – Face could not be detected in numpy array.Please confirm that the picture is a face photo or consider to set enforce_detection param to False.\n",
      "Chyba: DeepFace nemohl analyzovat C:\\Users\\zitao\\Documents\\PETR\\DATA_SCIENCE\\EMOCE/train/angry\\Training_46583314.jpg – Face could not be detected in numpy array.Please confirm that the picture is a face photo or consider to set enforce_detection param to False.\n",
      "Chyba: DeepFace nemohl analyzovat C:\\Users\\zitao\\Documents\\PETR\\DATA_SCIENCE\\EMOCE/train/angry\\Training_46610954.jpg – Face could not be detected in numpy array.Please confirm that the picture is a face photo or consider to set enforce_detection param to False.\n",
      "Chyba: DeepFace nemohl analyzovat C:\\Users\\zitao\\Documents\\PETR\\DATA_SCIENCE\\EMOCE/train/angry\\Training_46675064.jpg – Face could not be detected in numpy array.Please confirm that the picture is a face photo or consider to set enforce_detection param to False.\n",
      "Chyba: DeepFace nemohl analyzovat C:\\Users\\zitao\\Documents\\PETR\\DATA_SCIENCE\\EMOCE/train/angry\\Training_46676243.jpg – Face could not be detected in numpy array.Please confirm that the picture is a face photo or consider to set enforce_detection param to False.\n",
      "Chyba: DeepFace nemohl analyzovat C:\\Users\\zitao\\Documents\\PETR\\DATA_SCIENCE\\EMOCE/train/angry\\Training_46682579.jpg – Face could not be detected in numpy array.Please confirm that the picture is a face photo or consider to set enforce_detection param to False.\n",
      "Chyba: DeepFace nemohl analyzovat C:\\Users\\zitao\\Documents\\PETR\\DATA_SCIENCE\\EMOCE/train/angry\\Training_46696601.jpg – Face could not be detected in numpy array.Please confirm that the picture is a face photo or consider to set enforce_detection param to False.\n",
      "Chyba: DeepFace nemohl analyzovat C:\\Users\\zitao\\Documents\\PETR\\DATA_SCIENCE\\EMOCE/train/angry\\Training_46828657.jpg – Face could not be detected in numpy array.Please confirm that the picture is a face photo or consider to set enforce_detection param to False.\n",
      "Chyba: DeepFace nemohl analyzovat C:\\Users\\zitao\\Documents\\PETR\\DATA_SCIENCE\\EMOCE/train/angry\\Training_46971015.jpg – Face could not be detected in numpy array.Please confirm that the picture is a face photo or consider to set enforce_detection param to False.\n",
      "Chyba: DeepFace nemohl analyzovat C:\\Users\\zitao\\Documents\\PETR\\DATA_SCIENCE\\EMOCE/train/angry\\Training_47170134.jpg – Face could not be detected in numpy array.Please confirm that the picture is a face photo or consider to set enforce_detection param to False.\n",
      "Chyba: DeepFace nemohl analyzovat C:\\Users\\zitao\\Documents\\PETR\\DATA_SCIENCE\\EMOCE/train/angry\\Training_47359038.jpg – Face could not be detected in numpy array.Please confirm that the picture is a face photo or consider to set enforce_detection param to False.\n",
      "Chyba: DeepFace nemohl analyzovat C:\\Users\\zitao\\Documents\\PETR\\DATA_SCIENCE\\EMOCE/train/angry\\Training_47408977.jpg – Face could not be detected in numpy array.Please confirm that the picture is a face photo or consider to set enforce_detection param to False.\n",
      "Chyba: DeepFace nemohl analyzovat C:\\Users\\zitao\\Documents\\PETR\\DATA_SCIENCE\\EMOCE/train/angry\\Training_47496719.jpg – Face could not be detected in numpy array.Please confirm that the picture is a face photo or consider to set enforce_detection param to False.\n",
      "Chyba: DeepFace nemohl analyzovat C:\\Users\\zitao\\Documents\\PETR\\DATA_SCIENCE\\EMOCE/train/angry\\Training_47532195.jpg – Face could not be detected in numpy array.Please confirm that the picture is a face photo or consider to set enforce_detection param to False.\n",
      "Chyba: DeepFace nemohl analyzovat C:\\Users\\zitao\\Documents\\PETR\\DATA_SCIENCE\\EMOCE/train/angry\\Training_47636583.jpg – Face could not be detected in numpy array.Please confirm that the picture is a face photo or consider to set enforce_detection param to False.\n",
      "Chyba: DeepFace nemohl analyzovat C:\\Users\\zitao\\Documents\\PETR\\DATA_SCIENCE\\EMOCE/train/angry\\Training_47686150.jpg – Face could not be detected in numpy array.Please confirm that the picture is a face photo or consider to set enforce_detection param to False.\n",
      "Chyba: DeepFace nemohl analyzovat C:\\Users\\zitao\\Documents\\PETR\\DATA_SCIENCE\\EMOCE/train/angry\\Training_47726447.jpg – Face could not be detected in numpy array.Please confirm that the picture is a face photo or consider to set enforce_detection param to False.\n",
      "Chyba: DeepFace nemohl analyzovat C:\\Users\\zitao\\Documents\\PETR\\DATA_SCIENCE\\EMOCE/train/angry\\Training_4780941.jpg – Face could not be detected in numpy array.Please confirm that the picture is a face photo or consider to set enforce_detection param to False.\n",
      "Chyba: DeepFace nemohl analyzovat C:\\Users\\zitao\\Documents\\PETR\\DATA_SCIENCE\\EMOCE/train/angry\\Training_47841216.jpg – Face could not be detected in numpy array.Please confirm that the picture is a face photo or consider to set enforce_detection param to False.\n",
      "Chyba: DeepFace nemohl analyzovat C:\\Users\\zitao\\Documents\\PETR\\DATA_SCIENCE\\EMOCE/train/angry\\Training_47869727.jpg – Face could not be detected in numpy array.Please confirm that the picture is a face photo or consider to set enforce_detection param to False.\n",
      "Chyba: DeepFace nemohl analyzovat C:\\Users\\zitao\\Documents\\PETR\\DATA_SCIENCE\\EMOCE/train/angry\\Training_47947412.jpg – Face could not be detected in numpy array.Please confirm that the picture is a face photo or consider to set enforce_detection param to False.\n",
      "Chyba: DeepFace nemohl analyzovat C:\\Users\\zitao\\Documents\\PETR\\DATA_SCIENCE\\EMOCE/train/angry\\Training_48108433.jpg – Face could not be detected in numpy array.Please confirm that the picture is a face photo or consider to set enforce_detection param to False.\n",
      "Chyba: DeepFace nemohl analyzovat C:\\Users\\zitao\\Documents\\PETR\\DATA_SCIENCE\\EMOCE/train/angry\\Training_48130684.jpg – Face could not be detected in numpy array.Please confirm that the picture is a face photo or consider to set enforce_detection param to False.\n",
      "Chyba: DeepFace nemohl analyzovat C:\\Users\\zitao\\Documents\\PETR\\DATA_SCIENCE\\EMOCE/train/angry\\Training_48151202.jpg – Face could not be detected in numpy array.Please confirm that the picture is a face photo or consider to set enforce_detection param to False.\n",
      "Chyba: DeepFace nemohl analyzovat C:\\Users\\zitao\\Documents\\PETR\\DATA_SCIENCE\\EMOCE/train/angry\\Training_48157331.jpg – Face could not be detected in numpy array.Please confirm that the picture is a face photo or consider to set enforce_detection param to False.\n",
      "Chyba: DeepFace nemohl analyzovat C:\\Users\\zitao\\Documents\\PETR\\DATA_SCIENCE\\EMOCE/train/angry\\Training_48327841.jpg – Face could not be detected in numpy array.Please confirm that the picture is a face photo or consider to set enforce_detection param to False.\n",
      "Chyba: DeepFace nemohl analyzovat C:\\Users\\zitao\\Documents\\PETR\\DATA_SCIENCE\\EMOCE/train/angry\\Training_48360279.jpg – Face could not be detected in numpy array.Please confirm that the picture is a face photo or consider to set enforce_detection param to False.\n",
      "Chyba: DeepFace nemohl analyzovat C:\\Users\\zitao\\Documents\\PETR\\DATA_SCIENCE\\EMOCE/train/angry\\Training_48376991.jpg – Face could not be detected in numpy array.Please confirm that the picture is a face photo or consider to set enforce_detection param to False.\n",
      "Chyba: DeepFace nemohl analyzovat C:\\Users\\zitao\\Documents\\PETR\\DATA_SCIENCE\\EMOCE/train/angry\\Training_48385202.jpg – Face could not be detected in numpy array.Please confirm that the picture is a face photo or consider to set enforce_detection param to False.\n",
      "Chyba: DeepFace nemohl analyzovat C:\\Users\\zitao\\Documents\\PETR\\DATA_SCIENCE\\EMOCE/train/angry\\Training_48442778.jpg – Face could not be detected in numpy array.Please confirm that the picture is a face photo or consider to set enforce_detection param to False.\n",
      "Chyba: DeepFace nemohl analyzovat C:\\Users\\zitao\\Documents\\PETR\\DATA_SCIENCE\\EMOCE/train/angry\\Training_48580659.jpg – Face could not be detected in numpy array.Please confirm that the picture is a face photo or consider to set enforce_detection param to False.\n",
      "Chyba: DeepFace nemohl analyzovat C:\\Users\\zitao\\Documents\\PETR\\DATA_SCIENCE\\EMOCE/train/angry\\Training_48608241.jpg – Face could not be detected in numpy array.Please confirm that the picture is a face photo or consider to set enforce_detection param to False.\n",
      "Chyba: DeepFace nemohl analyzovat C:\\Users\\zitao\\Documents\\PETR\\DATA_SCIENCE\\EMOCE/train/angry\\Training_48762395.jpg – Face could not be detected in numpy array.Please confirm that the picture is a face photo or consider to set enforce_detection param to False.\n",
      "Chyba: DeepFace nemohl analyzovat C:\\Users\\zitao\\Documents\\PETR\\DATA_SCIENCE\\EMOCE/train/angry\\Training_48839755.jpg – Face could not be detected in numpy array.Please confirm that the picture is a face photo or consider to set enforce_detection param to False.\n",
      "Chyba: DeepFace nemohl analyzovat C:\\Users\\zitao\\Documents\\PETR\\DATA_SCIENCE\\EMOCE/train/angry\\Training_48881729.jpg – Face could not be detected in numpy array.Please confirm that the picture is a face photo or consider to set enforce_detection param to False.\n",
      "Chyba: DeepFace nemohl analyzovat C:\\Users\\zitao\\Documents\\PETR\\DATA_SCIENCE\\EMOCE/train/angry\\Training_48907456.jpg – Face could not be detected in numpy array.Please confirm that the picture is a face photo or consider to set enforce_detection param to False.\n",
      "Chyba: DeepFace nemohl analyzovat C:\\Users\\zitao\\Documents\\PETR\\DATA_SCIENCE\\EMOCE/train/angry\\Training_48908408.jpg – Face could not be detected in numpy array.Please confirm that the picture is a face photo or consider to set enforce_detection param to False.\n",
      "Chyba: DeepFace nemohl analyzovat C:\\Users\\zitao\\Documents\\PETR\\DATA_SCIENCE\\EMOCE/train/angry\\Training_48953879.jpg – Face could not be detected in numpy array.Please confirm that the picture is a face photo or consider to set enforce_detection param to False.\n",
      "Chyba: DeepFace nemohl analyzovat C:\\Users\\zitao\\Documents\\PETR\\DATA_SCIENCE\\EMOCE/train/angry\\Training_4896466.jpg – Face could not be detected in numpy array.Please confirm that the picture is a face photo or consider to set enforce_detection param to False.\n",
      "Chyba: DeepFace nemohl analyzovat C:\\Users\\zitao\\Documents\\PETR\\DATA_SCIENCE\\EMOCE/train/angry\\Training_48983108.jpg – Face could not be detected in numpy array.Please confirm that the picture is a face photo or consider to set enforce_detection param to False.\n",
      "Chyba: DeepFace nemohl analyzovat C:\\Users\\zitao\\Documents\\PETR\\DATA_SCIENCE\\EMOCE/train/angry\\Training_49051855.jpg – Face could not be detected in numpy array.Please confirm that the picture is a face photo or consider to set enforce_detection param to False.\n",
      "Chyba: DeepFace nemohl analyzovat C:\\Users\\zitao\\Documents\\PETR\\DATA_SCIENCE\\EMOCE/train/angry\\Training_49118825.jpg – Face could not be detected in numpy array.Please confirm that the picture is a face photo or consider to set enforce_detection param to False.\n",
      "Chyba: DeepFace nemohl analyzovat C:\\Users\\zitao\\Documents\\PETR\\DATA_SCIENCE\\EMOCE/train/angry\\Training_49227078.jpg – Face could not be detected in numpy array.Please confirm that the picture is a face photo or consider to set enforce_detection param to False.\n",
      "Chyba: DeepFace nemohl analyzovat C:\\Users\\zitao\\Documents\\PETR\\DATA_SCIENCE\\EMOCE/train/angry\\Training_49337155.jpg – Face could not be detected in numpy array.Please confirm that the picture is a face photo or consider to set enforce_detection param to False.\n",
      "Chyba: DeepFace nemohl analyzovat C:\\Users\\zitao\\Documents\\PETR\\DATA_SCIENCE\\EMOCE/train/angry\\Training_49351700.jpg – Face could not be detected in numpy array.Please confirm that the picture is a face photo or consider to set enforce_detection param to False.\n",
      "Chyba: DeepFace nemohl analyzovat C:\\Users\\zitao\\Documents\\PETR\\DATA_SCIENCE\\EMOCE/train/angry\\Training_49434117.jpg – Face could not be detected in numpy array.Please confirm that the picture is a face photo or consider to set enforce_detection param to False.\n",
      "Chyba: DeepFace nemohl analyzovat C:\\Users\\zitao\\Documents\\PETR\\DATA_SCIENCE\\EMOCE/train/angry\\Training_49475760.jpg – Face could not be detected in numpy array.Please confirm that the picture is a face photo or consider to set enforce_detection param to False.\n",
      "Chyba: DeepFace nemohl analyzovat C:\\Users\\zitao\\Documents\\PETR\\DATA_SCIENCE\\EMOCE/train/angry\\Training_49490477.jpg – Face could not be detected in numpy array.Please confirm that the picture is a face photo or consider to set enforce_detection param to False.\n",
      "Chyba: DeepFace nemohl analyzovat C:\\Users\\zitao\\Documents\\PETR\\DATA_SCIENCE\\EMOCE/train/angry\\Training_49566280.jpg – Face could not be detected in numpy array.Please confirm that the picture is a face photo or consider to set enforce_detection param to False.\n",
      "Chyba: DeepFace nemohl analyzovat C:\\Users\\zitao\\Documents\\PETR\\DATA_SCIENCE\\EMOCE/train/angry\\Training_4967879.jpg – Face could not be detected in numpy array.Please confirm that the picture is a face photo or consider to set enforce_detection param to False.\n",
      "Chyba: DeepFace nemohl analyzovat C:\\Users\\zitao\\Documents\\PETR\\DATA_SCIENCE\\EMOCE/train/angry\\Training_49727699.jpg – Face could not be detected in numpy array.Please confirm that the picture is a face photo or consider to set enforce_detection param to False.\n",
      "Chyba: DeepFace nemohl analyzovat C:\\Users\\zitao\\Documents\\PETR\\DATA_SCIENCE\\EMOCE/train/angry\\Training_4975319.jpg – Face could not be detected in numpy array.Please confirm that the picture is a face photo or consider to set enforce_detection param to False.\n",
      "Chyba: DeepFace nemohl analyzovat C:\\Users\\zitao\\Documents\\PETR\\DATA_SCIENCE\\EMOCE/train/angry\\Training_50120123.jpg – Face could not be detected in numpy array.Please confirm that the picture is a face photo or consider to set enforce_detection param to False.\n",
      "Chyba: DeepFace nemohl analyzovat C:\\Users\\zitao\\Documents\\PETR\\DATA_SCIENCE\\EMOCE/train/angry\\Training_50198953.jpg – Face could not be detected in numpy array.Please confirm that the picture is a face photo or consider to set enforce_detection param to False.\n",
      "Chyba: DeepFace nemohl analyzovat C:\\Users\\zitao\\Documents\\PETR\\DATA_SCIENCE\\EMOCE/train/angry\\Training_50226408.jpg – Face could not be detected in numpy array.Please confirm that the picture is a face photo or consider to set enforce_detection param to False.\n",
      "Chyba: DeepFace nemohl analyzovat C:\\Users\\zitao\\Documents\\PETR\\DATA_SCIENCE\\EMOCE/train/angry\\Training_50254044.jpg – Face could not be detected in numpy array.Please confirm that the picture is a face photo or consider to set enforce_detection param to False.\n",
      "Chyba: DeepFace nemohl analyzovat C:\\Users\\zitao\\Documents\\PETR\\DATA_SCIENCE\\EMOCE/train/angry\\Training_50385584.jpg – Face could not be detected in numpy array.Please confirm that the picture is a face photo or consider to set enforce_detection param to False.\n",
      "Chyba: DeepFace nemohl analyzovat C:\\Users\\zitao\\Documents\\PETR\\DATA_SCIENCE\\EMOCE/train/angry\\Training_50394577.jpg – Face could not be detected in numpy array.Please confirm that the picture is a face photo or consider to set enforce_detection param to False.\n",
      "Chyba: DeepFace nemohl analyzovat C:\\Users\\zitao\\Documents\\PETR\\DATA_SCIENCE\\EMOCE/train/angry\\Training_50485757.jpg – Face could not be detected in numpy array.Please confirm that the picture is a face photo or consider to set enforce_detection param to False.\n",
      "Chyba: DeepFace nemohl analyzovat C:\\Users\\zitao\\Documents\\PETR\\DATA_SCIENCE\\EMOCE/train/angry\\Training_50527443.jpg – Face could not be detected in numpy array.Please confirm that the picture is a face photo or consider to set enforce_detection param to False.\n",
      "Chyba: DeepFace nemohl analyzovat C:\\Users\\zitao\\Documents\\PETR\\DATA_SCIENCE\\EMOCE/train/angry\\Training_50542328.jpg – Face could not be detected in numpy array.Please confirm that the picture is a face photo or consider to set enforce_detection param to False.\n",
      "Chyba: DeepFace nemohl analyzovat C:\\Users\\zitao\\Documents\\PETR\\DATA_SCIENCE\\EMOCE/train/angry\\Training_50554090.jpg – Face could not be detected in numpy array.Please confirm that the picture is a face photo or consider to set enforce_detection param to False.\n",
      "Chyba: DeepFace nemohl analyzovat C:\\Users\\zitao\\Documents\\PETR\\DATA_SCIENCE\\EMOCE/train/angry\\Training_50637535.jpg – Face could not be detected in numpy array.Please confirm that the picture is a face photo or consider to set enforce_detection param to False.\n",
      "Chyba: DeepFace nemohl analyzovat C:\\Users\\zitao\\Documents\\PETR\\DATA_SCIENCE\\EMOCE/train/angry\\Training_5066738.jpg – Face could not be detected in numpy array.Please confirm that the picture is a face photo or consider to set enforce_detection param to False.\n",
      "Chyba: DeepFace nemohl analyzovat C:\\Users\\zitao\\Documents\\PETR\\DATA_SCIENCE\\EMOCE/train/angry\\Training_50715423.jpg – Face could not be detected in numpy array.Please confirm that the picture is a face photo or consider to set enforce_detection param to False.\n",
      "Chyba: DeepFace nemohl analyzovat C:\\Users\\zitao\\Documents\\PETR\\DATA_SCIENCE\\EMOCE/train/angry\\Training_50886588.jpg – Face could not be detected in numpy array.Please confirm that the picture is a face photo or consider to set enforce_detection param to False.\n",
      "Chyba: DeepFace nemohl analyzovat C:\\Users\\zitao\\Documents\\PETR\\DATA_SCIENCE\\EMOCE/train/angry\\Training_50920333.jpg – Face could not be detected in numpy array.Please confirm that the picture is a face photo or consider to set enforce_detection param to False.\n",
      "Chyba: DeepFace nemohl analyzovat C:\\Users\\zitao\\Documents\\PETR\\DATA_SCIENCE\\EMOCE/train/angry\\Training_50976988.jpg – Face could not be detected in numpy array.Please confirm that the picture is a face photo or consider to set enforce_detection param to False.\n",
      "Chyba: DeepFace nemohl analyzovat C:\\Users\\zitao\\Documents\\PETR\\DATA_SCIENCE\\EMOCE/train/angry\\Training_5099181.jpg – Face could not be detected in numpy array.Please confirm that the picture is a face photo or consider to set enforce_detection param to False.\n",
      "Chyba: DeepFace nemohl analyzovat C:\\Users\\zitao\\Documents\\PETR\\DATA_SCIENCE\\EMOCE/train/angry\\Training_5109662.jpg – Face could not be detected in numpy array.Please confirm that the picture is a face photo or consider to set enforce_detection param to False.\n",
      "Chyba: DeepFace nemohl analyzovat C:\\Users\\zitao\\Documents\\PETR\\DATA_SCIENCE\\EMOCE/train/angry\\Training_51261079.jpg – Face could not be detected in numpy array.Please confirm that the picture is a face photo or consider to set enforce_detection param to False.\n",
      "Chyba: DeepFace nemohl analyzovat C:\\Users\\zitao\\Documents\\PETR\\DATA_SCIENCE\\EMOCE/train/angry\\Training_51319902.jpg – Face could not be detected in numpy array.Please confirm that the picture is a face photo or consider to set enforce_detection param to False.\n",
      "Chyba: DeepFace nemohl analyzovat C:\\Users\\zitao\\Documents\\PETR\\DATA_SCIENCE\\EMOCE/train/angry\\Training_51327047.jpg – Face could not be detected in numpy array.Please confirm that the picture is a face photo or consider to set enforce_detection param to False.\n",
      "Chyba: DeepFace nemohl analyzovat C:\\Users\\zitao\\Documents\\PETR\\DATA_SCIENCE\\EMOCE/train/angry\\Training_5136276.jpg – Face could not be detected in numpy array.Please confirm that the picture is a face photo or consider to set enforce_detection param to False.\n",
      "Chyba: DeepFace nemohl analyzovat C:\\Users\\zitao\\Documents\\PETR\\DATA_SCIENCE\\EMOCE/train/angry\\Training_51370215.jpg – Face could not be detected in numpy array.Please confirm that the picture is a face photo or consider to set enforce_detection param to False.\n",
      "Chyba: DeepFace nemohl analyzovat C:\\Users\\zitao\\Documents\\PETR\\DATA_SCIENCE\\EMOCE/train/angry\\Training_51377214.jpg – Face could not be detected in numpy array.Please confirm that the picture is a face photo or consider to set enforce_detection param to False.\n",
      "Chyba: DeepFace nemohl analyzovat C:\\Users\\zitao\\Documents\\PETR\\DATA_SCIENCE\\EMOCE/train/angry\\Training_51410246.jpg – Face could not be detected in numpy array.Please confirm that the picture is a face photo or consider to set enforce_detection param to False.\n",
      "Chyba: DeepFace nemohl analyzovat C:\\Users\\zitao\\Documents\\PETR\\DATA_SCIENCE\\EMOCE/train/angry\\Training_51453848.jpg – Face could not be detected in numpy array.Please confirm that the picture is a face photo or consider to set enforce_detection param to False.\n",
      "Chyba: DeepFace nemohl analyzovat C:\\Users\\zitao\\Documents\\PETR\\DATA_SCIENCE\\EMOCE/train/angry\\Training_51464060.jpg – Face could not be detected in numpy array.Please confirm that the picture is a face photo or consider to set enforce_detection param to False.\n",
      "Chyba: DeepFace nemohl analyzovat C:\\Users\\zitao\\Documents\\PETR\\DATA_SCIENCE\\EMOCE/train/angry\\Training_5147156.jpg – Face could not be detected in numpy array.Please confirm that the picture is a face photo or consider to set enforce_detection param to False.\n",
      "Chyba: DeepFace nemohl analyzovat C:\\Users\\zitao\\Documents\\PETR\\DATA_SCIENCE\\EMOCE/train/angry\\Training_51484503.jpg – Face could not be detected in numpy array.Please confirm that the picture is a face photo or consider to set enforce_detection param to False.\n",
      "Chyba: DeepFace nemohl analyzovat C:\\Users\\zitao\\Documents\\PETR\\DATA_SCIENCE\\EMOCE/train/angry\\Training_51535718.jpg – Face could not be detected in numpy array.Please confirm that the picture is a face photo or consider to set enforce_detection param to False.\n",
      "Chyba: DeepFace nemohl analyzovat C:\\Users\\zitao\\Documents\\PETR\\DATA_SCIENCE\\EMOCE/train/angry\\Training_51611438.jpg – Face could not be detected in numpy array.Please confirm that the picture is a face photo or consider to set enforce_detection param to False.\n",
      "Chyba: DeepFace nemohl analyzovat C:\\Users\\zitao\\Documents\\PETR\\DATA_SCIENCE\\EMOCE/train/angry\\Training_51673581.jpg – Face could not be detected in numpy array.Please confirm that the picture is a face photo or consider to set enforce_detection param to False.\n",
      "Chyba: DeepFace nemohl analyzovat C:\\Users\\zitao\\Documents\\PETR\\DATA_SCIENCE\\EMOCE/train/angry\\Training_51702497.jpg – Face could not be detected in numpy array.Please confirm that the picture is a face photo or consider to set enforce_detection param to False.\n",
      "Chyba: DeepFace nemohl analyzovat C:\\Users\\zitao\\Documents\\PETR\\DATA_SCIENCE\\EMOCE/train/angry\\Training_51993203.jpg – Face could not be detected in numpy array.Please confirm that the picture is a face photo or consider to set enforce_detection param to False.\n",
      "Chyba: DeepFace nemohl analyzovat C:\\Users\\zitao\\Documents\\PETR\\DATA_SCIENCE\\EMOCE/train/angry\\Training_52193451.jpg – Face could not be detected in numpy array.Please confirm that the picture is a face photo or consider to set enforce_detection param to False.\n",
      "Chyba: DeepFace nemohl analyzovat C:\\Users\\zitao\\Documents\\PETR\\DATA_SCIENCE\\EMOCE/train/angry\\Training_52197003.jpg – Face could not be detected in numpy array.Please confirm that the picture is a face photo or consider to set enforce_detection param to False.\n",
      "Chyba: DeepFace nemohl analyzovat C:\\Users\\zitao\\Documents\\PETR\\DATA_SCIENCE\\EMOCE/train/angry\\Training_52281024.jpg – Face could not be detected in numpy array.Please confirm that the picture is a face photo or consider to set enforce_detection param to False.\n",
      "Chyba: DeepFace nemohl analyzovat C:\\Users\\zitao\\Documents\\PETR\\DATA_SCIENCE\\EMOCE/train/angry\\Training_52284633.jpg – Face could not be detected in numpy array.Please confirm that the picture is a face photo or consider to set enforce_detection param to False.\n",
      "Chyba: DeepFace nemohl analyzovat C:\\Users\\zitao\\Documents\\PETR\\DATA_SCIENCE\\EMOCE/train/angry\\Training_52294905.jpg – Face could not be detected in numpy array.Please confirm that the picture is a face photo or consider to set enforce_detection param to False.\n",
      "Chyba: DeepFace nemohl analyzovat C:\\Users\\zitao\\Documents\\PETR\\DATA_SCIENCE\\EMOCE/train/angry\\Training_52302776.jpg – Face could not be detected in numpy array.Please confirm that the picture is a face photo or consider to set enforce_detection param to False.\n",
      "Chyba: DeepFace nemohl analyzovat C:\\Users\\zitao\\Documents\\PETR\\DATA_SCIENCE\\EMOCE/train/angry\\Training_52317733.jpg – Face could not be detected in numpy array.Please confirm that the picture is a face photo or consider to set enforce_detection param to False.\n",
      "Chyba: DeepFace nemohl analyzovat C:\\Users\\zitao\\Documents\\PETR\\DATA_SCIENCE\\EMOCE/train/angry\\Training_5237890.jpg – Face could not be detected in numpy array.Please confirm that the picture is a face photo or consider to set enforce_detection param to False.\n",
      "Chyba: DeepFace nemohl analyzovat C:\\Users\\zitao\\Documents\\PETR\\DATA_SCIENCE\\EMOCE/train/angry\\Training_52439191.jpg – Face could not be detected in numpy array.Please confirm that the picture is a face photo or consider to set enforce_detection param to False.\n",
      "Chyba: DeepFace nemohl analyzovat C:\\Users\\zitao\\Documents\\PETR\\DATA_SCIENCE\\EMOCE/train/angry\\Training_52563817.jpg – Face could not be detected in numpy array.Please confirm that the picture is a face photo or consider to set enforce_detection param to False.\n",
      "Chyba: DeepFace nemohl analyzovat C:\\Users\\zitao\\Documents\\PETR\\DATA_SCIENCE\\EMOCE/train/angry\\Training_52570744.jpg – Face could not be detected in numpy array.Please confirm that the picture is a face photo or consider to set enforce_detection param to False.\n",
      "Chyba: DeepFace nemohl analyzovat C:\\Users\\zitao\\Documents\\PETR\\DATA_SCIENCE\\EMOCE/train/angry\\Training_52650172.jpg – Face could not be detected in numpy array.Please confirm that the picture is a face photo or consider to set enforce_detection param to False.\n",
      "Chyba: DeepFace nemohl analyzovat C:\\Users\\zitao\\Documents\\PETR\\DATA_SCIENCE\\EMOCE/train/angry\\Training_52734985.jpg – Face could not be detected in numpy array.Please confirm that the picture is a face photo or consider to set enforce_detection param to False.\n",
      "Chyba: DeepFace nemohl analyzovat C:\\Users\\zitao\\Documents\\PETR\\DATA_SCIENCE\\EMOCE/train/angry\\Training_52788224.jpg – Face could not be detected in numpy array.Please confirm that the picture is a face photo or consider to set enforce_detection param to False.\n",
      "Chyba: DeepFace nemohl analyzovat C:\\Users\\zitao\\Documents\\PETR\\DATA_SCIENCE\\EMOCE/train/angry\\Training_52828086.jpg – Face could not be detected in numpy array.Please confirm that the picture is a face photo or consider to set enforce_detection param to False.\n",
      "Chyba: DeepFace nemohl analyzovat C:\\Users\\zitao\\Documents\\PETR\\DATA_SCIENCE\\EMOCE/train/angry\\Training_52860111.jpg – Face could not be detected in numpy array.Please confirm that the picture is a face photo or consider to set enforce_detection param to False.\n",
      "Chyba: DeepFace nemohl analyzovat C:\\Users\\zitao\\Documents\\PETR\\DATA_SCIENCE\\EMOCE/train/angry\\Training_52926834.jpg – Face could not be detected in numpy array.Please confirm that the picture is a face photo or consider to set enforce_detection param to False.\n",
      "Chyba: DeepFace nemohl analyzovat C:\\Users\\zitao\\Documents\\PETR\\DATA_SCIENCE\\EMOCE/train/angry\\Training_52964574.jpg – Face could not be detected in numpy array.Please confirm that the picture is a face photo or consider to set enforce_detection param to False.\n",
      "Chyba: DeepFace nemohl analyzovat C:\\Users\\zitao\\Documents\\PETR\\DATA_SCIENCE\\EMOCE/train/angry\\Training_53006060.jpg – Face could not be detected in numpy array.Please confirm that the picture is a face photo or consider to set enforce_detection param to False.\n",
      "Chyba: DeepFace nemohl analyzovat C:\\Users\\zitao\\Documents\\PETR\\DATA_SCIENCE\\EMOCE/train/angry\\Training_53019336.jpg – Face could not be detected in numpy array.Please confirm that the picture is a face photo or consider to set enforce_detection param to False.\n",
      "Chyba: DeepFace nemohl analyzovat C:\\Users\\zitao\\Documents\\PETR\\DATA_SCIENCE\\EMOCE/train/angry\\Training_53094699.jpg – Face could not be detected in numpy array.Please confirm that the picture is a face photo or consider to set enforce_detection param to False.\n",
      "Chyba: DeepFace nemohl analyzovat C:\\Users\\zitao\\Documents\\PETR\\DATA_SCIENCE\\EMOCE/train/angry\\Training_53113912.jpg – Face could not be detected in numpy array.Please confirm that the picture is a face photo or consider to set enforce_detection param to False.\n",
      "Chyba: DeepFace nemohl analyzovat C:\\Users\\zitao\\Documents\\PETR\\DATA_SCIENCE\\EMOCE/train/angry\\Training_53128948.jpg – Face could not be detected in numpy array.Please confirm that the picture is a face photo or consider to set enforce_detection param to False.\n",
      "Chyba: DeepFace nemohl analyzovat C:\\Users\\zitao\\Documents\\PETR\\DATA_SCIENCE\\EMOCE/train/angry\\Training_53309337.jpg – Face could not be detected in numpy array.Please confirm that the picture is a face photo or consider to set enforce_detection param to False.\n",
      "Chyba: DeepFace nemohl analyzovat C:\\Users\\zitao\\Documents\\PETR\\DATA_SCIENCE\\EMOCE/train/angry\\Training_53333746.jpg – Face could not be detected in numpy array.Please confirm that the picture is a face photo or consider to set enforce_detection param to False.\n",
      "Chyba: DeepFace nemohl analyzovat C:\\Users\\zitao\\Documents\\PETR\\DATA_SCIENCE\\EMOCE/train/angry\\Training_53363777.jpg – Face could not be detected in numpy array.Please confirm that the picture is a face photo or consider to set enforce_detection param to False.\n",
      "Chyba: DeepFace nemohl analyzovat C:\\Users\\zitao\\Documents\\PETR\\DATA_SCIENCE\\EMOCE/train/angry\\Training_53382017.jpg – Face could not be detected in numpy array.Please confirm that the picture is a face photo or consider to set enforce_detection param to False.\n",
      "Chyba: DeepFace nemohl analyzovat C:\\Users\\zitao\\Documents\\PETR\\DATA_SCIENCE\\EMOCE/train/angry\\Training_53454302.jpg – Face could not be detected in numpy array.Please confirm that the picture is a face photo or consider to set enforce_detection param to False.\n",
      "Chyba: DeepFace nemohl analyzovat C:\\Users\\zitao\\Documents\\PETR\\DATA_SCIENCE\\EMOCE/train/angry\\Training_53481967.jpg – Face could not be detected in numpy array.Please confirm that the picture is a face photo or consider to set enforce_detection param to False.\n",
      "Chyba: DeepFace nemohl analyzovat C:\\Users\\zitao\\Documents\\PETR\\DATA_SCIENCE\\EMOCE/train/angry\\Training_53485095.jpg – Face could not be detected in numpy array.Please confirm that the picture is a face photo or consider to set enforce_detection param to False.\n",
      "Chyba: DeepFace nemohl analyzovat C:\\Users\\zitao\\Documents\\PETR\\DATA_SCIENCE\\EMOCE/train/angry\\Training_53557482.jpg – Face could not be detected in numpy array.Please confirm that the picture is a face photo or consider to set enforce_detection param to False.\n",
      "Chyba: DeepFace nemohl analyzovat C:\\Users\\zitao\\Documents\\PETR\\DATA_SCIENCE\\EMOCE/train/angry\\Training_53648754.jpg – Face could not be detected in numpy array.Please confirm that the picture is a face photo or consider to set enforce_detection param to False.\n",
      "Chyba: DeepFace nemohl analyzovat C:\\Users\\zitao\\Documents\\PETR\\DATA_SCIENCE\\EMOCE/train/angry\\Training_53728730.jpg – Face could not be detected in numpy array.Please confirm that the picture is a face photo or consider to set enforce_detection param to False.\n",
      "Chyba: DeepFace nemohl analyzovat C:\\Users\\zitao\\Documents\\PETR\\DATA_SCIENCE\\EMOCE/train/angry\\Training_53734093.jpg – Face could not be detected in numpy array.Please confirm that the picture is a face photo or consider to set enforce_detection param to False.\n",
      "Chyba: DeepFace nemohl analyzovat C:\\Users\\zitao\\Documents\\PETR\\DATA_SCIENCE\\EMOCE/train/angry\\Training_53784931.jpg – Face could not be detected in numpy array.Please confirm that the picture is a face photo or consider to set enforce_detection param to False.\n",
      "Chyba: DeepFace nemohl analyzovat C:\\Users\\zitao\\Documents\\PETR\\DATA_SCIENCE\\EMOCE/train/angry\\Training_53806921.jpg – Face could not be detected in numpy array.Please confirm that the picture is a face photo or consider to set enforce_detection param to False.\n",
      "Chyba: DeepFace nemohl analyzovat C:\\Users\\zitao\\Documents\\PETR\\DATA_SCIENCE\\EMOCE/train/angry\\Training_53843639.jpg – Face could not be detected in numpy array.Please confirm that the picture is a face photo or consider to set enforce_detection param to False.\n",
      "Chyba: DeepFace nemohl analyzovat C:\\Users\\zitao\\Documents\\PETR\\DATA_SCIENCE\\EMOCE/train/angry\\Training_53846690.jpg – Face could not be detected in numpy array.Please confirm that the picture is a face photo or consider to set enforce_detection param to False.\n",
      "Chyba: DeepFace nemohl analyzovat C:\\Users\\zitao\\Documents\\PETR\\DATA_SCIENCE\\EMOCE/train/angry\\Training_53887738.jpg – Face could not be detected in numpy array.Please confirm that the picture is a face photo or consider to set enforce_detection param to False.\n",
      "Chyba: DeepFace nemohl analyzovat C:\\Users\\zitao\\Documents\\PETR\\DATA_SCIENCE\\EMOCE/train/angry\\Training_53902556.jpg – Face could not be detected in numpy array.Please confirm that the picture is a face photo or consider to set enforce_detection param to False.\n",
      "Chyba: DeepFace nemohl analyzovat C:\\Users\\zitao\\Documents\\PETR\\DATA_SCIENCE\\EMOCE/train/angry\\Training_53937545.jpg – Face could not be detected in numpy array.Please confirm that the picture is a face photo or consider to set enforce_detection param to False.\n",
      "Chyba: DeepFace nemohl analyzovat C:\\Users\\zitao\\Documents\\PETR\\DATA_SCIENCE\\EMOCE/train/angry\\Training_54002486.jpg – Face could not be detected in numpy array.Please confirm that the picture is a face photo or consider to set enforce_detection param to False.\n",
      "Chyba: DeepFace nemohl analyzovat C:\\Users\\zitao\\Documents\\PETR\\DATA_SCIENCE\\EMOCE/train/angry\\Training_54016929.jpg – Face could not be detected in numpy array.Please confirm that the picture is a face photo or consider to set enforce_detection param to False.\n",
      "Chyba: DeepFace nemohl analyzovat C:\\Users\\zitao\\Documents\\PETR\\DATA_SCIENCE\\EMOCE/train/angry\\Training_54020321.jpg – Face could not be detected in numpy array.Please confirm that the picture is a face photo or consider to set enforce_detection param to False.\n",
      "Chyba: DeepFace nemohl analyzovat C:\\Users\\zitao\\Documents\\PETR\\DATA_SCIENCE\\EMOCE/train/angry\\Training_54086407.jpg – Face could not be detected in numpy array.Please confirm that the picture is a face photo or consider to set enforce_detection param to False.\n",
      "Chyba: DeepFace nemohl analyzovat C:\\Users\\zitao\\Documents\\PETR\\DATA_SCIENCE\\EMOCE/train/angry\\Training_54105937.jpg – Face could not be detected in numpy array.Please confirm that the picture is a face photo or consider to set enforce_detection param to False.\n",
      "Chyba: DeepFace nemohl analyzovat C:\\Users\\zitao\\Documents\\PETR\\DATA_SCIENCE\\EMOCE/train/angry\\Training_54144394.jpg – Face could not be detected in numpy array.Please confirm that the picture is a face photo or consider to set enforce_detection param to False.\n",
      "Chyba: DeepFace nemohl analyzovat C:\\Users\\zitao\\Documents\\PETR\\DATA_SCIENCE\\EMOCE/train/angry\\Training_54171715.jpg – Face could not be detected in numpy array.Please confirm that the picture is a face photo or consider to set enforce_detection param to False.\n",
      "Chyba: DeepFace nemohl analyzovat C:\\Users\\zitao\\Documents\\PETR\\DATA_SCIENCE\\EMOCE/train/angry\\Training_54232828.jpg – Face could not be detected in numpy array.Please confirm that the picture is a face photo or consider to set enforce_detection param to False.\n",
      "Chyba: DeepFace nemohl analyzovat C:\\Users\\zitao\\Documents\\PETR\\DATA_SCIENCE\\EMOCE/train/angry\\Training_54272745.jpg – Face could not be detected in numpy array.Please confirm that the picture is a face photo or consider to set enforce_detection param to False.\n",
      "Chyba: DeepFace nemohl analyzovat C:\\Users\\zitao\\Documents\\PETR\\DATA_SCIENCE\\EMOCE/train/angry\\Training_54273056.jpg – Face could not be detected in numpy array.Please confirm that the picture is a face photo or consider to set enforce_detection param to False.\n",
      "Chyba: DeepFace nemohl analyzovat C:\\Users\\zitao\\Documents\\PETR\\DATA_SCIENCE\\EMOCE/train/angry\\Training_5433668.jpg – Face could not be detected in numpy array.Please confirm that the picture is a face photo or consider to set enforce_detection param to False.\n",
      "Chyba: DeepFace nemohl analyzovat C:\\Users\\zitao\\Documents\\PETR\\DATA_SCIENCE\\EMOCE/train/angry\\Training_54401970.jpg – Face could not be detected in numpy array.Please confirm that the picture is a face photo or consider to set enforce_detection param to False.\n",
      "Chyba: DeepFace nemohl analyzovat C:\\Users\\zitao\\Documents\\PETR\\DATA_SCIENCE\\EMOCE/train/angry\\Training_54578574.jpg – Face could not be detected in numpy array.Please confirm that the picture is a face photo or consider to set enforce_detection param to False.\n",
      "Chyba: DeepFace nemohl analyzovat C:\\Users\\zitao\\Documents\\PETR\\DATA_SCIENCE\\EMOCE/train/angry\\Training_54586956.jpg – Face could not be detected in numpy array.Please confirm that the picture is a face photo or consider to set enforce_detection param to False.\n",
      "Chyba: DeepFace nemohl analyzovat C:\\Users\\zitao\\Documents\\PETR\\DATA_SCIENCE\\EMOCE/train/angry\\Training_54634892.jpg – Face could not be detected in numpy array.Please confirm that the picture is a face photo or consider to set enforce_detection param to False.\n",
      "Chyba: DeepFace nemohl analyzovat C:\\Users\\zitao\\Documents\\PETR\\DATA_SCIENCE\\EMOCE/train/angry\\Training_54685146.jpg – Face could not be detected in numpy array.Please confirm that the picture is a face photo or consider to set enforce_detection param to False.\n",
      "Chyba: DeepFace nemohl analyzovat C:\\Users\\zitao\\Documents\\PETR\\DATA_SCIENCE\\EMOCE/train/angry\\Training_54730806.jpg – Face could not be detected in numpy array.Please confirm that the picture is a face photo or consider to set enforce_detection param to False.\n",
      "Chyba: DeepFace nemohl analyzovat C:\\Users\\zitao\\Documents\\PETR\\DATA_SCIENCE\\EMOCE/train/angry\\Training_54783719.jpg – Face could not be detected in numpy array.Please confirm that the picture is a face photo or consider to set enforce_detection param to False.\n",
      "Chyba: DeepFace nemohl analyzovat C:\\Users\\zitao\\Documents\\PETR\\DATA_SCIENCE\\EMOCE/train/angry\\Training_54785886.jpg – Face could not be detected in numpy array.Please confirm that the picture is a face photo or consider to set enforce_detection param to False.\n",
      "Chyba: DeepFace nemohl analyzovat C:\\Users\\zitao\\Documents\\PETR\\DATA_SCIENCE\\EMOCE/train/angry\\Training_5480720.jpg – Face could not be detected in numpy array.Please confirm that the picture is a face photo or consider to set enforce_detection param to False.\n",
      "Chyba: DeepFace nemohl analyzovat C:\\Users\\zitao\\Documents\\PETR\\DATA_SCIENCE\\EMOCE/train/angry\\Training_54859789.jpg – Face could not be detected in numpy array.Please confirm that the picture is a face photo or consider to set enforce_detection param to False.\n",
      "Chyba: DeepFace nemohl analyzovat C:\\Users\\zitao\\Documents\\PETR\\DATA_SCIENCE\\EMOCE/train/angry\\Training_54878698.jpg – Face could not be detected in numpy array.Please confirm that the picture is a face photo or consider to set enforce_detection param to False.\n",
      "Chyba: DeepFace nemohl analyzovat C:\\Users\\zitao\\Documents\\PETR\\DATA_SCIENCE\\EMOCE/train/angry\\Training_54881181.jpg – Face could not be detected in numpy array.Please confirm that the picture is a face photo or consider to set enforce_detection param to False.\n",
      "Chyba: DeepFace nemohl analyzovat C:\\Users\\zitao\\Documents\\PETR\\DATA_SCIENCE\\EMOCE/train/angry\\Training_54890027.jpg – Face could not be detected in numpy array.Please confirm that the picture is a face photo or consider to set enforce_detection param to False.\n",
      "Chyba: DeepFace nemohl analyzovat C:\\Users\\zitao\\Documents\\PETR\\DATA_SCIENCE\\EMOCE/train/angry\\Training_54890912.jpg – Face could not be detected in numpy array.Please confirm that the picture is a face photo or consider to set enforce_detection param to False.\n",
      "Chyba: DeepFace nemohl analyzovat C:\\Users\\zitao\\Documents\\PETR\\DATA_SCIENCE\\EMOCE/train/angry\\Training_54983484.jpg – Face could not be detected in numpy array.Please confirm that the picture is a face photo or consider to set enforce_detection param to False.\n",
      "Chyba: DeepFace nemohl analyzovat C:\\Users\\zitao\\Documents\\PETR\\DATA_SCIENCE\\EMOCE/train/angry\\Training_5500179.jpg – Face could not be detected in numpy array.Please confirm that the picture is a face photo or consider to set enforce_detection param to False.\n",
      "Chyba: DeepFace nemohl analyzovat C:\\Users\\zitao\\Documents\\PETR\\DATA_SCIENCE\\EMOCE/train/angry\\Training_55013533.jpg – Face could not be detected in numpy array.Please confirm that the picture is a face photo or consider to set enforce_detection param to False.\n",
      "Chyba: DeepFace nemohl analyzovat C:\\Users\\zitao\\Documents\\PETR\\DATA_SCIENCE\\EMOCE/train/angry\\Training_55068516.jpg – Face could not be detected in numpy array.Please confirm that the picture is a face photo or consider to set enforce_detection param to False.\n",
      "Chyba: DeepFace nemohl analyzovat C:\\Users\\zitao\\Documents\\PETR\\DATA_SCIENCE\\EMOCE/train/angry\\Training_55440744.jpg – Face could not be detected in numpy array.Please confirm that the picture is a face photo or consider to set enforce_detection param to False.\n",
      "Chyba: DeepFace nemohl analyzovat C:\\Users\\zitao\\Documents\\PETR\\DATA_SCIENCE\\EMOCE/train/angry\\Training_55459110.jpg – Face could not be detected in numpy array.Please confirm that the picture is a face photo or consider to set enforce_detection param to False.\n",
      "Chyba: DeepFace nemohl analyzovat C:\\Users\\zitao\\Documents\\PETR\\DATA_SCIENCE\\EMOCE/train/angry\\Training_55483090.jpg – Face could not be detected in numpy array.Please confirm that the picture is a face photo or consider to set enforce_detection param to False.\n",
      "Chyba: DeepFace nemohl analyzovat C:\\Users\\zitao\\Documents\\PETR\\DATA_SCIENCE\\EMOCE/train/angry\\Training_55507229.jpg – Face could not be detected in numpy array.Please confirm that the picture is a face photo or consider to set enforce_detection param to False.\n",
      "Chyba: DeepFace nemohl analyzovat C:\\Users\\zitao\\Documents\\PETR\\DATA_SCIENCE\\EMOCE/train/angry\\Training_55534250.jpg – Face could not be detected in numpy array.Please confirm that the picture is a face photo or consider to set enforce_detection param to False.\n",
      "Chyba: DeepFace nemohl analyzovat C:\\Users\\zitao\\Documents\\PETR\\DATA_SCIENCE\\EMOCE/train/angry\\Training_55537382.jpg – Face could not be detected in numpy array.Please confirm that the picture is a face photo or consider to set enforce_detection param to False.\n",
      "Chyba: DeepFace nemohl analyzovat C:\\Users\\zitao\\Documents\\PETR\\DATA_SCIENCE\\EMOCE/train/angry\\Training_55557287.jpg – Face could not be detected in numpy array.Please confirm that the picture is a face photo or consider to set enforce_detection param to False.\n",
      "Chyba: DeepFace nemohl analyzovat C:\\Users\\zitao\\Documents\\PETR\\DATA_SCIENCE\\EMOCE/train/angry\\Training_55627343.jpg – Face could not be detected in numpy array.Please confirm that the picture is a face photo or consider to set enforce_detection param to False.\n",
      "Chyba: DeepFace nemohl analyzovat C:\\Users\\zitao\\Documents\\PETR\\DATA_SCIENCE\\EMOCE/train/angry\\Training_55691967.jpg – Face could not be detected in numpy array.Please confirm that the picture is a face photo or consider to set enforce_detection param to False.\n",
      "Chyba: DeepFace nemohl analyzovat C:\\Users\\zitao\\Documents\\PETR\\DATA_SCIENCE\\EMOCE/train/angry\\Training_55784971.jpg – Face could not be detected in numpy array.Please confirm that the picture is a face photo or consider to set enforce_detection param to False.\n",
      "Chyba: DeepFace nemohl analyzovat C:\\Users\\zitao\\Documents\\PETR\\DATA_SCIENCE\\EMOCE/train/angry\\Training_55830608.jpg – Face could not be detected in numpy array.Please confirm that the picture is a face photo or consider to set enforce_detection param to False.\n",
      "Chyba: DeepFace nemohl analyzovat C:\\Users\\zitao\\Documents\\PETR\\DATA_SCIENCE\\EMOCE/train/angry\\Training_55923353.jpg – Face could not be detected in numpy array.Please confirm that the picture is a face photo or consider to set enforce_detection param to False.\n",
      "Chyba: DeepFace nemohl analyzovat C:\\Users\\zitao\\Documents\\PETR\\DATA_SCIENCE\\EMOCE/train/angry\\Training_55968054.jpg – Face could not be detected in numpy array.Please confirm that the picture is a face photo or consider to set enforce_detection param to False.\n",
      "Chyba: DeepFace nemohl analyzovat C:\\Users\\zitao\\Documents\\PETR\\DATA_SCIENCE\\EMOCE/train/angry\\Training_56071394.jpg – Face could not be detected in numpy array.Please confirm that the picture is a face photo or consider to set enforce_detection param to False.\n",
      "Chyba: DeepFace nemohl analyzovat C:\\Users\\zitao\\Documents\\PETR\\DATA_SCIENCE\\EMOCE/train/angry\\Training_56150092.jpg – Face could not be detected in numpy array.Please confirm that the picture is a face photo or consider to set enforce_detection param to False.\n",
      "Chyba: DeepFace nemohl analyzovat C:\\Users\\zitao\\Documents\\PETR\\DATA_SCIENCE\\EMOCE/train/angry\\Training_56208394.jpg – Face could not be detected in numpy array.Please confirm that the picture is a face photo or consider to set enforce_detection param to False.\n",
      "Chyba: DeepFace nemohl analyzovat C:\\Users\\zitao\\Documents\\PETR\\DATA_SCIENCE\\EMOCE/train/angry\\Training_56235068.jpg – Face could not be detected in numpy array.Please confirm that the picture is a face photo or consider to set enforce_detection param to False.\n",
      "Chyba: DeepFace nemohl analyzovat C:\\Users\\zitao\\Documents\\PETR\\DATA_SCIENCE\\EMOCE/train/angry\\Training_5630225.jpg – Face could not be detected in numpy array.Please confirm that the picture is a face photo or consider to set enforce_detection param to False.\n",
      "Chyba: DeepFace nemohl analyzovat C:\\Users\\zitao\\Documents\\PETR\\DATA_SCIENCE\\EMOCE/train/angry\\Training_56328770.jpg – Face could not be detected in numpy array.Please confirm that the picture is a face photo or consider to set enforce_detection param to False.\n",
      "Chyba: DeepFace nemohl analyzovat C:\\Users\\zitao\\Documents\\PETR\\DATA_SCIENCE\\EMOCE/train/angry\\Training_56353685.jpg – Face could not be detected in numpy array.Please confirm that the picture is a face photo or consider to set enforce_detection param to False.\n",
      "Chyba: DeepFace nemohl analyzovat C:\\Users\\zitao\\Documents\\PETR\\DATA_SCIENCE\\EMOCE/train/angry\\Training_5645946.jpg – Face could not be detected in numpy array.Please confirm that the picture is a face photo or consider to set enforce_detection param to False.\n",
      "Chyba: DeepFace nemohl analyzovat C:\\Users\\zitao\\Documents\\PETR\\DATA_SCIENCE\\EMOCE/train/angry\\Training_56536451.jpg – Face could not be detected in numpy array.Please confirm that the picture is a face photo or consider to set enforce_detection param to False.\n",
      "Chyba: DeepFace nemohl analyzovat C:\\Users\\zitao\\Documents\\PETR\\DATA_SCIENCE\\EMOCE/train/angry\\Training_56620705.jpg – Face could not be detected in numpy array.Please confirm that the picture is a face photo or consider to set enforce_detection param to False.\n",
      "Chyba: DeepFace nemohl analyzovat C:\\Users\\zitao\\Documents\\PETR\\DATA_SCIENCE\\EMOCE/train/angry\\Training_56677459.jpg – Face could not be detected in numpy array.Please confirm that the picture is a face photo or consider to set enforce_detection param to False.\n",
      "Chyba: DeepFace nemohl analyzovat C:\\Users\\zitao\\Documents\\PETR\\DATA_SCIENCE\\EMOCE/train/angry\\Training_56789171.jpg – Face could not be detected in numpy array.Please confirm that the picture is a face photo or consider to set enforce_detection param to False.\n",
      "Chyba: DeepFace nemohl analyzovat C:\\Users\\zitao\\Documents\\PETR\\DATA_SCIENCE\\EMOCE/train/angry\\Training_56803130.jpg – Face could not be detected in numpy array.Please confirm that the picture is a face photo or consider to set enforce_detection param to False.\n",
      "Chyba: DeepFace nemohl analyzovat C:\\Users\\zitao\\Documents\\PETR\\DATA_SCIENCE\\EMOCE/train/angry\\Training_56831954.jpg – Face could not be detected in numpy array.Please confirm that the picture is a face photo or consider to set enforce_detection param to False.\n",
      "Chyba: DeepFace nemohl analyzovat C:\\Users\\zitao\\Documents\\PETR\\DATA_SCIENCE\\EMOCE/train/angry\\Training_56915487.jpg – Face could not be detected in numpy array.Please confirm that the picture is a face photo or consider to set enforce_detection param to False.\n",
      "Chyba: DeepFace nemohl analyzovat C:\\Users\\zitao\\Documents\\PETR\\DATA_SCIENCE\\EMOCE/train/angry\\Training_5718972.jpg – Face could not be detected in numpy array.Please confirm that the picture is a face photo or consider to set enforce_detection param to False.\n",
      "Chyba: DeepFace nemohl analyzovat C:\\Users\\zitao\\Documents\\PETR\\DATA_SCIENCE\\EMOCE/train/angry\\Training_57215833.jpg – Face could not be detected in numpy array.Please confirm that the picture is a face photo or consider to set enforce_detection param to False.\n",
      "Chyba: DeepFace nemohl analyzovat C:\\Users\\zitao\\Documents\\PETR\\DATA_SCIENCE\\EMOCE/train/angry\\Training_57217554.jpg – Face could not be detected in numpy array.Please confirm that the picture is a face photo or consider to set enforce_detection param to False.\n",
      "Chyba: DeepFace nemohl analyzovat C:\\Users\\zitao\\Documents\\PETR\\DATA_SCIENCE\\EMOCE/train/angry\\Training_57281298.jpg – Face could not be detected in numpy array.Please confirm that the picture is a face photo or consider to set enforce_detection param to False.\n",
      "Chyba: DeepFace nemohl analyzovat C:\\Users\\zitao\\Documents\\PETR\\DATA_SCIENCE\\EMOCE/train/angry\\Training_57346205.jpg – Face could not be detected in numpy array.Please confirm that the picture is a face photo or consider to set enforce_detection param to False.\n",
      "Chyba: DeepFace nemohl analyzovat C:\\Users\\zitao\\Documents\\PETR\\DATA_SCIENCE\\EMOCE/train/angry\\Training_57359473.jpg – Face could not be detected in numpy array.Please confirm that the picture is a face photo or consider to set enforce_detection param to False.\n",
      "Chyba: DeepFace nemohl analyzovat C:\\Users\\zitao\\Documents\\PETR\\DATA_SCIENCE\\EMOCE/train/angry\\Training_5744991.jpg – Face could not be detected in numpy array.Please confirm that the picture is a face photo or consider to set enforce_detection param to False.\n",
      "Chyba: DeepFace nemohl analyzovat C:\\Users\\zitao\\Documents\\PETR\\DATA_SCIENCE\\EMOCE/train/angry\\Training_57549098.jpg – Face could not be detected in numpy array.Please confirm that the picture is a face photo or consider to set enforce_detection param to False.\n",
      "Chyba: DeepFace nemohl analyzovat C:\\Users\\zitao\\Documents\\PETR\\DATA_SCIENCE\\EMOCE/train/angry\\Training_57643691.jpg – Face could not be detected in numpy array.Please confirm that the picture is a face photo or consider to set enforce_detection param to False.\n",
      "Chyba: DeepFace nemohl analyzovat C:\\Users\\zitao\\Documents\\PETR\\DATA_SCIENCE\\EMOCE/train/angry\\Training_57691901.jpg – Face could not be detected in numpy array.Please confirm that the picture is a face photo or consider to set enforce_detection param to False.\n",
      "Chyba: DeepFace nemohl analyzovat C:\\Users\\zitao\\Documents\\PETR\\DATA_SCIENCE\\EMOCE/train/angry\\Training_57708176.jpg – Face could not be detected in numpy array.Please confirm that the picture is a face photo or consider to set enforce_detection param to False.\n",
      "Chyba: DeepFace nemohl analyzovat C:\\Users\\zitao\\Documents\\PETR\\DATA_SCIENCE\\EMOCE/train/angry\\Training_57781730.jpg – Face could not be detected in numpy array.Please confirm that the picture is a face photo or consider to set enforce_detection param to False.\n",
      "Chyba: DeepFace nemohl analyzovat C:\\Users\\zitao\\Documents\\PETR\\DATA_SCIENCE\\EMOCE/train/angry\\Training_57789410.jpg – Face could not be detected in numpy array.Please confirm that the picture is a face photo or consider to set enforce_detection param to False.\n",
      "Chyba: DeepFace nemohl analyzovat C:\\Users\\zitao\\Documents\\PETR\\DATA_SCIENCE\\EMOCE/train/angry\\Training_57799077.jpg – Face could not be detected in numpy array.Please confirm that the picture is a face photo or consider to set enforce_detection param to False.\n",
      "Chyba: DeepFace nemohl analyzovat C:\\Users\\zitao\\Documents\\PETR\\DATA_SCIENCE\\EMOCE/train/angry\\Training_57824210.jpg – Face could not be detected in numpy array.Please confirm that the picture is a face photo or consider to set enforce_detection param to False.\n",
      "Chyba: DeepFace nemohl analyzovat C:\\Users\\zitao\\Documents\\PETR\\DATA_SCIENCE\\EMOCE/train/angry\\Training_57850656.jpg – Face could not be detected in numpy array.Please confirm that the picture is a face photo or consider to set enforce_detection param to False.\n",
      "Chyba: DeepFace nemohl analyzovat C:\\Users\\zitao\\Documents\\PETR\\DATA_SCIENCE\\EMOCE/train/angry\\Training_57863495.jpg – Face could not be detected in numpy array.Please confirm that the picture is a face photo or consider to set enforce_detection param to False.\n",
      "Chyba: DeepFace nemohl analyzovat C:\\Users\\zitao\\Documents\\PETR\\DATA_SCIENCE\\EMOCE/train/angry\\Training_57887477.jpg – Face could not be detected in numpy array.Please confirm that the picture is a face photo or consider to set enforce_detection param to False.\n",
      "Chyba: DeepFace nemohl analyzovat C:\\Users\\zitao\\Documents\\PETR\\DATA_SCIENCE\\EMOCE/train/angry\\Training_57889082.jpg – Face could not be detected in numpy array.Please confirm that the picture is a face photo or consider to set enforce_detection param to False.\n",
      "Chyba: DeepFace nemohl analyzovat C:\\Users\\zitao\\Documents\\PETR\\DATA_SCIENCE\\EMOCE/train/angry\\Training_58113578.jpg – Face could not be detected in numpy array.Please confirm that the picture is a face photo or consider to set enforce_detection param to False.\n",
      "Chyba: DeepFace nemohl analyzovat C:\\Users\\zitao\\Documents\\PETR\\DATA_SCIENCE\\EMOCE/train/angry\\Training_58260888.jpg – Face could not be detected in numpy array.Please confirm that the picture is a face photo or consider to set enforce_detection param to False.\n",
      "Chyba: DeepFace nemohl analyzovat C:\\Users\\zitao\\Documents\\PETR\\DATA_SCIENCE\\EMOCE/train/angry\\Training_58416499.jpg – Face could not be detected in numpy array.Please confirm that the picture is a face photo or consider to set enforce_detection param to False.\n",
      "Chyba: DeepFace nemohl analyzovat C:\\Users\\zitao\\Documents\\PETR\\DATA_SCIENCE\\EMOCE/train/angry\\Training_58568285.jpg – Face could not be detected in numpy array.Please confirm that the picture is a face photo or consider to set enforce_detection param to False.\n",
      "Chyba: DeepFace nemohl analyzovat C:\\Users\\zitao\\Documents\\PETR\\DATA_SCIENCE\\EMOCE/train/angry\\Training_58632039.jpg – Face could not be detected in numpy array.Please confirm that the picture is a face photo or consider to set enforce_detection param to False.\n",
      "Chyba: DeepFace nemohl analyzovat C:\\Users\\zitao\\Documents\\PETR\\DATA_SCIENCE\\EMOCE/train/angry\\Training_58634894.jpg – Face could not be detected in numpy array.Please confirm that the picture is a face photo or consider to set enforce_detection param to False.\n",
      "Chyba: DeepFace nemohl analyzovat C:\\Users\\zitao\\Documents\\PETR\\DATA_SCIENCE\\EMOCE/train/angry\\Training_58651003.jpg – Face could not be detected in numpy array.Please confirm that the picture is a face photo or consider to set enforce_detection param to False.\n",
      "Chyba: DeepFace nemohl analyzovat C:\\Users\\zitao\\Documents\\PETR\\DATA_SCIENCE\\EMOCE/train/angry\\Training_5867317.jpg – Face could not be detected in numpy array.Please confirm that the picture is a face photo or consider to set enforce_detection param to False.\n",
      "Chyba: DeepFace nemohl analyzovat C:\\Users\\zitao\\Documents\\PETR\\DATA_SCIENCE\\EMOCE/train/angry\\Training_58720577.jpg – Face could not be detected in numpy array.Please confirm that the picture is a face photo or consider to set enforce_detection param to False.\n",
      "Chyba: DeepFace nemohl analyzovat C:\\Users\\zitao\\Documents\\PETR\\DATA_SCIENCE\\EMOCE/train/angry\\Training_58785141.jpg – Face could not be detected in numpy array.Please confirm that the picture is a face photo or consider to set enforce_detection param to False.\n",
      "Chyba: DeepFace nemohl analyzovat C:\\Users\\zitao\\Documents\\PETR\\DATA_SCIENCE\\EMOCE/train/angry\\Training_58823343.jpg – Face could not be detected in numpy array.Please confirm that the picture is a face photo or consider to set enforce_detection param to False.\n",
      "Chyba: DeepFace nemohl analyzovat C:\\Users\\zitao\\Documents\\PETR\\DATA_SCIENCE\\EMOCE/train/angry\\Training_58904534.jpg – Face could not be detected in numpy array.Please confirm that the picture is a face photo or consider to set enforce_detection param to False.\n",
      "Chyba: DeepFace nemohl analyzovat C:\\Users\\zitao\\Documents\\PETR\\DATA_SCIENCE\\EMOCE/train/angry\\Training_58947716.jpg – Face could not be detected in numpy array.Please confirm that the picture is a face photo or consider to set enforce_detection param to False.\n",
      "Chyba: DeepFace nemohl analyzovat C:\\Users\\zitao\\Documents\\PETR\\DATA_SCIENCE\\EMOCE/train/angry\\Training_58952832.jpg – Face could not be detected in numpy array.Please confirm that the picture is a face photo or consider to set enforce_detection param to False.\n",
      "Chyba: DeepFace nemohl analyzovat C:\\Users\\zitao\\Documents\\PETR\\DATA_SCIENCE\\EMOCE/train/angry\\Training_58967274.jpg – Face could not be detected in numpy array.Please confirm that the picture is a face photo or consider to set enforce_detection param to False.\n",
      "Chyba: DeepFace nemohl analyzovat C:\\Users\\zitao\\Documents\\PETR\\DATA_SCIENCE\\EMOCE/train/angry\\Training_5898934.jpg – Face could not be detected in numpy array.Please confirm that the picture is a face photo or consider to set enforce_detection param to False.\n",
      "Chyba: DeepFace nemohl analyzovat C:\\Users\\zitao\\Documents\\PETR\\DATA_SCIENCE\\EMOCE/train/angry\\Training_5915591.jpg – Face could not be detected in numpy array.Please confirm that the picture is a face photo or consider to set enforce_detection param to False.\n",
      "Chyba: DeepFace nemohl analyzovat C:\\Users\\zitao\\Documents\\PETR\\DATA_SCIENCE\\EMOCE/train/angry\\Training_59177525.jpg – Face could not be detected in numpy array.Please confirm that the picture is a face photo or consider to set enforce_detection param to False.\n",
      "Chyba: DeepFace nemohl analyzovat C:\\Users\\zitao\\Documents\\PETR\\DATA_SCIENCE\\EMOCE/train/angry\\Training_59251388.jpg – Face could not be detected in numpy array.Please confirm that the picture is a face photo or consider to set enforce_detection param to False.\n",
      "Chyba: DeepFace nemohl analyzovat C:\\Users\\zitao\\Documents\\PETR\\DATA_SCIENCE\\EMOCE/train/angry\\Training_59292672.jpg – Face could not be detected in numpy array.Please confirm that the picture is a face photo or consider to set enforce_detection param to False.\n",
      "Chyba: DeepFace nemohl analyzovat C:\\Users\\zitao\\Documents\\PETR\\DATA_SCIENCE\\EMOCE/train/angry\\Training_59338270.jpg – Face could not be detected in numpy array.Please confirm that the picture is a face photo or consider to set enforce_detection param to False.\n",
      "Chyba: DeepFace nemohl analyzovat C:\\Users\\zitao\\Documents\\PETR\\DATA_SCIENCE\\EMOCE/train/angry\\Training_59490050.jpg – Face could not be detected in numpy array.Please confirm that the picture is a face photo or consider to set enforce_detection param to False.\n",
      "Chyba: DeepFace nemohl analyzovat C:\\Users\\zitao\\Documents\\PETR\\DATA_SCIENCE\\EMOCE/train/angry\\Training_59490301.jpg – Face could not be detected in numpy array.Please confirm that the picture is a face photo or consider to set enforce_detection param to False.\n",
      "Chyba: DeepFace nemohl analyzovat C:\\Users\\zitao\\Documents\\PETR\\DATA_SCIENCE\\EMOCE/train/angry\\Training_596387.jpg – Face could not be detected in numpy array.Please confirm that the picture is a face photo or consider to set enforce_detection param to False.\n",
      "Chyba: DeepFace nemohl analyzovat C:\\Users\\zitao\\Documents\\PETR\\DATA_SCIENCE\\EMOCE/train/angry\\Training_59657547.jpg – Face could not be detected in numpy array.Please confirm that the picture is a face photo or consider to set enforce_detection param to False.\n",
      "Chyba: DeepFace nemohl analyzovat C:\\Users\\zitao\\Documents\\PETR\\DATA_SCIENCE\\EMOCE/train/angry\\Training_59720972.jpg – Face could not be detected in numpy array.Please confirm that the picture is a face photo or consider to set enforce_detection param to False.\n",
      "Chyba: DeepFace nemohl analyzovat C:\\Users\\zitao\\Documents\\PETR\\DATA_SCIENCE\\EMOCE/train/angry\\Training_59755019.jpg – Face could not be detected in numpy array.Please confirm that the picture is a face photo or consider to set enforce_detection param to False.\n",
      "Chyba: DeepFace nemohl analyzovat C:\\Users\\zitao\\Documents\\PETR\\DATA_SCIENCE\\EMOCE/train/angry\\Training_59881272.jpg – Face could not be detected in numpy array.Please confirm that the picture is a face photo or consider to set enforce_detection param to False.\n",
      "Chyba: DeepFace nemohl analyzovat C:\\Users\\zitao\\Documents\\PETR\\DATA_SCIENCE\\EMOCE/train/angry\\Training_5989047.jpg – Face could not be detected in numpy array.Please confirm that the picture is a face photo or consider to set enforce_detection param to False.\n",
      "Chyba: DeepFace nemohl analyzovat C:\\Users\\zitao\\Documents\\PETR\\DATA_SCIENCE\\EMOCE/train/angry\\Training_59953801.jpg – Face could not be detected in numpy array.Please confirm that the picture is a face photo or consider to set enforce_detection param to False.\n",
      "Chyba: DeepFace nemohl analyzovat C:\\Users\\zitao\\Documents\\PETR\\DATA_SCIENCE\\EMOCE/train/angry\\Training_59958251.jpg – Face could not be detected in numpy array.Please confirm that the picture is a face photo or consider to set enforce_detection param to False.\n",
      "Chyba: DeepFace nemohl analyzovat C:\\Users\\zitao\\Documents\\PETR\\DATA_SCIENCE\\EMOCE/train/angry\\Training_60003551.jpg – Face could not be detected in numpy array.Please confirm that the picture is a face photo or consider to set enforce_detection param to False.\n",
      "Chyba: DeepFace nemohl analyzovat C:\\Users\\zitao\\Documents\\PETR\\DATA_SCIENCE\\EMOCE/train/angry\\Training_6009218.jpg – Face could not be detected in numpy array.Please confirm that the picture is a face photo or consider to set enforce_detection param to False.\n",
      "Chyba: DeepFace nemohl analyzovat C:\\Users\\zitao\\Documents\\PETR\\DATA_SCIENCE\\EMOCE/train/angry\\Training_60093042.jpg – Face could not be detected in numpy array.Please confirm that the picture is a face photo or consider to set enforce_detection param to False.\n",
      "Chyba: DeepFace nemohl analyzovat C:\\Users\\zitao\\Documents\\PETR\\DATA_SCIENCE\\EMOCE/train/angry\\Training_6011098.jpg – Face could not be detected in numpy array.Please confirm that the picture is a face photo or consider to set enforce_detection param to False.\n",
      "Chyba: DeepFace nemohl analyzovat C:\\Users\\zitao\\Documents\\PETR\\DATA_SCIENCE\\EMOCE/train/angry\\Training_60157856.jpg – Face could not be detected in numpy array.Please confirm that the picture is a face photo or consider to set enforce_detection param to False.\n",
      "Chyba: DeepFace nemohl analyzovat C:\\Users\\zitao\\Documents\\PETR\\DATA_SCIENCE\\EMOCE/train/angry\\Training_60180669.jpg – Face could not be detected in numpy array.Please confirm that the picture is a face photo or consider to set enforce_detection param to False.\n",
      "Chyba: DeepFace nemohl analyzovat C:\\Users\\zitao\\Documents\\PETR\\DATA_SCIENCE\\EMOCE/train/angry\\Training_60260184.jpg – Face could not be detected in numpy array.Please confirm that the picture is a face photo or consider to set enforce_detection param to False.\n",
      "Chyba: DeepFace nemohl analyzovat C:\\Users\\zitao\\Documents\\PETR\\DATA_SCIENCE\\EMOCE/train/angry\\Training_60344662.jpg – Face could not be detected in numpy array.Please confirm that the picture is a face photo or consider to set enforce_detection param to False.\n",
      "Chyba: DeepFace nemohl analyzovat C:\\Users\\zitao\\Documents\\PETR\\DATA_SCIENCE\\EMOCE/train/angry\\Training_60378143.jpg – Face could not be detected in numpy array.Please confirm that the picture is a face photo or consider to set enforce_detection param to False.\n",
      "Chyba: DeepFace nemohl analyzovat C:\\Users\\zitao\\Documents\\PETR\\DATA_SCIENCE\\EMOCE/train/angry\\Training_60418832.jpg – Face could not be detected in numpy array.Please confirm that the picture is a face photo or consider to set enforce_detection param to False.\n",
      "Chyba: DeepFace nemohl analyzovat C:\\Users\\zitao\\Documents\\PETR\\DATA_SCIENCE\\EMOCE/train/angry\\Training_60456448.jpg – Face could not be detected in numpy array.Please confirm that the picture is a face photo or consider to set enforce_detection param to False.\n",
      "Chyba: DeepFace nemohl analyzovat C:\\Users\\zitao\\Documents\\PETR\\DATA_SCIENCE\\EMOCE/train/angry\\Training_60509829.jpg – Face could not be detected in numpy array.Please confirm that the picture is a face photo or consider to set enforce_detection param to False.\n",
      "Chyba: DeepFace nemohl analyzovat C:\\Users\\zitao\\Documents\\PETR\\DATA_SCIENCE\\EMOCE/train/angry\\Training_60514278.jpg – Face could not be detected in numpy array.Please confirm that the picture is a face photo or consider to set enforce_detection param to False.\n",
      "Chyba: DeepFace nemohl analyzovat C:\\Users\\zitao\\Documents\\PETR\\DATA_SCIENCE\\EMOCE/train/angry\\Training_60522830.jpg – Face could not be detected in numpy array.Please confirm that the picture is a face photo or consider to set enforce_detection param to False.\n",
      "Chyba: DeepFace nemohl analyzovat C:\\Users\\zitao\\Documents\\PETR\\DATA_SCIENCE\\EMOCE/train/angry\\Training_60604607.jpg – Face could not be detected in numpy array.Please confirm that the picture is a face photo or consider to set enforce_detection param to False.\n",
      "Chyba: DeepFace nemohl analyzovat C:\\Users\\zitao\\Documents\\PETR\\DATA_SCIENCE\\EMOCE/train/angry\\Training_60686335.jpg – Face could not be detected in numpy array.Please confirm that the picture is a face photo or consider to set enforce_detection param to False.\n",
      "Chyba: DeepFace nemohl analyzovat C:\\Users\\zitao\\Documents\\PETR\\DATA_SCIENCE\\EMOCE/train/angry\\Training_60800450.jpg – Face could not be detected in numpy array.Please confirm that the picture is a face photo or consider to set enforce_detection param to False.\n",
      "Chyba: DeepFace nemohl analyzovat C:\\Users\\zitao\\Documents\\PETR\\DATA_SCIENCE\\EMOCE/train/angry\\Training_60826173.jpg – Face could not be detected in numpy array.Please confirm that the picture is a face photo or consider to set enforce_detection param to False.\n",
      "Chyba: DeepFace nemohl analyzovat C:\\Users\\zitao\\Documents\\PETR\\DATA_SCIENCE\\EMOCE/train/angry\\Training_60850903.jpg – Face could not be detected in numpy array.Please confirm that the picture is a face photo or consider to set enforce_detection param to False.\n",
      "Chyba: DeepFace nemohl analyzovat C:\\Users\\zitao\\Documents\\PETR\\DATA_SCIENCE\\EMOCE/train/angry\\Training_60936737.jpg – Face could not be detected in numpy array.Please confirm that the picture is a face photo or consider to set enforce_detection param to False.\n",
      "Chyba: DeepFace nemohl analyzovat C:\\Users\\zitao\\Documents\\PETR\\DATA_SCIENCE\\EMOCE/train/angry\\Training_60986125.jpg – Face could not be detected in numpy array.Please confirm that the picture is a face photo or consider to set enforce_detection param to False.\n",
      "Chyba: DeepFace nemohl analyzovat C:\\Users\\zitao\\Documents\\PETR\\DATA_SCIENCE\\EMOCE/train/angry\\Training_61050899.jpg – Face could not be detected in numpy array.Please confirm that the picture is a face photo or consider to set enforce_detection param to False.\n",
      "Chyba: DeepFace nemohl analyzovat C:\\Users\\zitao\\Documents\\PETR\\DATA_SCIENCE\\EMOCE/train/angry\\Training_61095932.jpg – Face could not be detected in numpy array.Please confirm that the picture is a face photo or consider to set enforce_detection param to False.\n",
      "Chyba: DeepFace nemohl analyzovat C:\\Users\\zitao\\Documents\\PETR\\DATA_SCIENCE\\EMOCE/train/angry\\Training_61120142.jpg – Face could not be detected in numpy array.Please confirm that the picture is a face photo or consider to set enforce_detection param to False.\n",
      "Chyba: DeepFace nemohl analyzovat C:\\Users\\zitao\\Documents\\PETR\\DATA_SCIENCE\\EMOCE/train/angry\\Training_61140206.jpg – Face could not be detected in numpy array.Please confirm that the picture is a face photo or consider to set enforce_detection param to False.\n",
      "Chyba: DeepFace nemohl analyzovat C:\\Users\\zitao\\Documents\\PETR\\DATA_SCIENCE\\EMOCE/train/angry\\Training_61150757.jpg – Face could not be detected in numpy array.Please confirm that the picture is a face photo or consider to set enforce_detection param to False.\n",
      "Chyba: DeepFace nemohl analyzovat C:\\Users\\zitao\\Documents\\PETR\\DATA_SCIENCE\\EMOCE/train/angry\\Training_61466679.jpg – Face could not be detected in numpy array.Please confirm that the picture is a face photo or consider to set enforce_detection param to False.\n",
      "Chyba: DeepFace nemohl analyzovat C:\\Users\\zitao\\Documents\\PETR\\DATA_SCIENCE\\EMOCE/train/angry\\Training_61529327.jpg – Face could not be detected in numpy array.Please confirm that the picture is a face photo or consider to set enforce_detection param to False.\n",
      "Chyba: DeepFace nemohl analyzovat C:\\Users\\zitao\\Documents\\PETR\\DATA_SCIENCE\\EMOCE/train/angry\\Training_61596872.jpg – Face could not be detected in numpy array.Please confirm that the picture is a face photo or consider to set enforce_detection param to False.\n",
      "Chyba: DeepFace nemohl analyzovat C:\\Users\\zitao\\Documents\\PETR\\DATA_SCIENCE\\EMOCE/train/angry\\Training_61773462.jpg – Face could not be detected in numpy array.Please confirm that the picture is a face photo or consider to set enforce_detection param to False.\n",
      "Chyba: DeepFace nemohl analyzovat C:\\Users\\zitao\\Documents\\PETR\\DATA_SCIENCE\\EMOCE/train/angry\\Training_61801346.jpg – Face could not be detected in numpy array.Please confirm that the picture is a face photo or consider to set enforce_detection param to False.\n",
      "Chyba: DeepFace nemohl analyzovat C:\\Users\\zitao\\Documents\\PETR\\DATA_SCIENCE\\EMOCE/train/angry\\Training_61827355.jpg – Face could not be detected in numpy array.Please confirm that the picture is a face photo or consider to set enforce_detection param to False.\n",
      "Chyba: DeepFace nemohl analyzovat C:\\Users\\zitao\\Documents\\PETR\\DATA_SCIENCE\\EMOCE/train/angry\\Training_62169045.jpg – Face could not be detected in numpy array.Please confirm that the picture is a face photo or consider to set enforce_detection param to False.\n",
      "Chyba: DeepFace nemohl analyzovat C:\\Users\\zitao\\Documents\\PETR\\DATA_SCIENCE\\EMOCE/train/angry\\Training_62281830.jpg – Face could not be detected in numpy array.Please confirm that the picture is a face photo or consider to set enforce_detection param to False.\n",
      "Chyba: DeepFace nemohl analyzovat C:\\Users\\zitao\\Documents\\PETR\\DATA_SCIENCE\\EMOCE/train/angry\\Training_62364201.jpg – Face could not be detected in numpy array.Please confirm that the picture is a face photo or consider to set enforce_detection param to False.\n",
      "Chyba: DeepFace nemohl analyzovat C:\\Users\\zitao\\Documents\\PETR\\DATA_SCIENCE\\EMOCE/train/angry\\Training_62380494.jpg – Face could not be detected in numpy array.Please confirm that the picture is a face photo or consider to set enforce_detection param to False.\n",
      "Chyba: DeepFace nemohl analyzovat C:\\Users\\zitao\\Documents\\PETR\\DATA_SCIENCE\\EMOCE/train/angry\\Training_62427202.jpg – Face could not be detected in numpy array.Please confirm that the picture is a face photo or consider to set enforce_detection param to False.\n",
      "Chyba: DeepFace nemohl analyzovat C:\\Users\\zitao\\Documents\\PETR\\DATA_SCIENCE\\EMOCE/train/angry\\Training_62587363.jpg – Face could not be detected in numpy array.Please confirm that the picture is a face photo or consider to set enforce_detection param to False.\n",
      "Chyba: DeepFace nemohl analyzovat C:\\Users\\zitao\\Documents\\PETR\\DATA_SCIENCE\\EMOCE/train/angry\\Training_62621806.jpg – Face could not be detected in numpy array.Please confirm that the picture is a face photo or consider to set enforce_detection param to False.\n",
      "Chyba: DeepFace nemohl analyzovat C:\\Users\\zitao\\Documents\\PETR\\DATA_SCIENCE\\EMOCE/train/angry\\Training_62704105.jpg – Face could not be detected in numpy array.Please confirm that the picture is a face photo or consider to set enforce_detection param to False.\n",
      "Chyba: DeepFace nemohl analyzovat C:\\Users\\zitao\\Documents\\PETR\\DATA_SCIENCE\\EMOCE/train/angry\\Training_62720547.jpg – Face could not be detected in numpy array.Please confirm that the picture is a face photo or consider to set enforce_detection param to False.\n",
      "Chyba: DeepFace nemohl analyzovat C:\\Users\\zitao\\Documents\\PETR\\DATA_SCIENCE\\EMOCE/train/angry\\Training_62788518.jpg – Face could not be detected in numpy array.Please confirm that the picture is a face photo or consider to set enforce_detection param to False.\n",
      "Chyba: DeepFace nemohl analyzovat C:\\Users\\zitao\\Documents\\PETR\\DATA_SCIENCE\\EMOCE/train/angry\\Training_6294595.jpg – Face could not be detected in numpy array.Please confirm that the picture is a face photo or consider to set enforce_detection param to False.\n",
      "Chyba: DeepFace nemohl analyzovat C:\\Users\\zitao\\Documents\\PETR\\DATA_SCIENCE\\EMOCE/train/angry\\Training_62999357.jpg – Face could not be detected in numpy array.Please confirm that the picture is a face photo or consider to set enforce_detection param to False.\n",
      "Chyba: DeepFace nemohl analyzovat C:\\Users\\zitao\\Documents\\PETR\\DATA_SCIENCE\\EMOCE/train/angry\\Training_63137016.jpg – Face could not be detected in numpy array.Please confirm that the picture is a face photo or consider to set enforce_detection param to False.\n",
      "Chyba: DeepFace nemohl analyzovat C:\\Users\\zitao\\Documents\\PETR\\DATA_SCIENCE\\EMOCE/train/angry\\Training_63181.jpg – Face could not be detected in numpy array.Please confirm that the picture is a face photo or consider to set enforce_detection param to False.\n",
      "Chyba: DeepFace nemohl analyzovat C:\\Users\\zitao\\Documents\\PETR\\DATA_SCIENCE\\EMOCE/train/angry\\Training_63183895.jpg – Face could not be detected in numpy array.Please confirm that the picture is a face photo or consider to set enforce_detection param to False.\n",
      "Chyba: DeepFace nemohl analyzovat C:\\Users\\zitao\\Documents\\PETR\\DATA_SCIENCE\\EMOCE/train/angry\\Training_63203426.jpg – Face could not be detected in numpy array.Please confirm that the picture is a face photo or consider to set enforce_detection param to False.\n",
      "Chyba: DeepFace nemohl analyzovat C:\\Users\\zitao\\Documents\\PETR\\DATA_SCIENCE\\EMOCE/train/angry\\Training_63260845.jpg – Face could not be detected in numpy array.Please confirm that the picture is a face photo or consider to set enforce_detection param to False.\n",
      "Chyba: DeepFace nemohl analyzovat C:\\Users\\zitao\\Documents\\PETR\\DATA_SCIENCE\\EMOCE/train/angry\\Training_6332388.jpg – Face could not be detected in numpy array.Please confirm that the picture is a face photo or consider to set enforce_detection param to False.\n",
      "Chyba: DeepFace nemohl analyzovat C:\\Users\\zitao\\Documents\\PETR\\DATA_SCIENCE\\EMOCE/train/angry\\Training_63499936.jpg – Face could not be detected in numpy array.Please confirm that the picture is a face photo or consider to set enforce_detection param to False.\n",
      "Chyba: DeepFace nemohl analyzovat C:\\Users\\zitao\\Documents\\PETR\\DATA_SCIENCE\\EMOCE/train/angry\\Training_63616557.jpg – Face could not be detected in numpy array.Please confirm that the picture is a face photo or consider to set enforce_detection param to False.\n",
      "Chyba: DeepFace nemohl analyzovat C:\\Users\\zitao\\Documents\\PETR\\DATA_SCIENCE\\EMOCE/train/angry\\Training_63666713.jpg – Face could not be detected in numpy array.Please confirm that the picture is a face photo or consider to set enforce_detection param to False.\n",
      "Chyba: DeepFace nemohl analyzovat C:\\Users\\zitao\\Documents\\PETR\\DATA_SCIENCE\\EMOCE/train/angry\\Training_63722125.jpg – Face could not be detected in numpy array.Please confirm that the picture is a face photo or consider to set enforce_detection param to False.\n",
      "Chyba: DeepFace nemohl analyzovat C:\\Users\\zitao\\Documents\\PETR\\DATA_SCIENCE\\EMOCE/train/angry\\Training_63776135.jpg – Face could not be detected in numpy array.Please confirm that the picture is a face photo or consider to set enforce_detection param to False.\n",
      "Chyba: DeepFace nemohl analyzovat C:\\Users\\zitao\\Documents\\PETR\\DATA_SCIENCE\\EMOCE/train/angry\\Training_64002134.jpg – Face could not be detected in numpy array.Please confirm that the picture is a face photo or consider to set enforce_detection param to False.\n",
      "Chyba: DeepFace nemohl analyzovat C:\\Users\\zitao\\Documents\\PETR\\DATA_SCIENCE\\EMOCE/train/angry\\Training_64136042.jpg – Face could not be detected in numpy array.Please confirm that the picture is a face photo or consider to set enforce_detection param to False.\n",
      "Chyba: DeepFace nemohl analyzovat C:\\Users\\zitao\\Documents\\PETR\\DATA_SCIENCE\\EMOCE/train/angry\\Training_64167389.jpg – Face could not be detected in numpy array.Please confirm that the picture is a face photo or consider to set enforce_detection param to False.\n",
      "Chyba: DeepFace nemohl analyzovat C:\\Users\\zitao\\Documents\\PETR\\DATA_SCIENCE\\EMOCE/train/angry\\Training_64169442.jpg – Face could not be detected in numpy array.Please confirm that the picture is a face photo or consider to set enforce_detection param to False.\n",
      "Chyba: DeepFace nemohl analyzovat C:\\Users\\zitao\\Documents\\PETR\\DATA_SCIENCE\\EMOCE/train/angry\\Training_64511466.jpg – Face could not be detected in numpy array.Please confirm that the picture is a face photo or consider to set enforce_detection param to False.\n",
      "Chyba: DeepFace nemohl analyzovat C:\\Users\\zitao\\Documents\\PETR\\DATA_SCIENCE\\EMOCE/train/angry\\Training_64518375.jpg – Face could not be detected in numpy array.Please confirm that the picture is a face photo or consider to set enforce_detection param to False.\n",
      "Chyba: DeepFace nemohl analyzovat C:\\Users\\zitao\\Documents\\PETR\\DATA_SCIENCE\\EMOCE/train/angry\\Training_6452693.jpg – Face could not be detected in numpy array.Please confirm that the picture is a face photo or consider to set enforce_detection param to False.\n",
      "Chyba: DeepFace nemohl analyzovat C:\\Users\\zitao\\Documents\\PETR\\DATA_SCIENCE\\EMOCE/train/angry\\Training_64640444.jpg – Face could not be detected in numpy array.Please confirm that the picture is a face photo or consider to set enforce_detection param to False.\n",
      "Chyba: DeepFace nemohl analyzovat C:\\Users\\zitao\\Documents\\PETR\\DATA_SCIENCE\\EMOCE/train/angry\\Training_64706269.jpg – Face could not be detected in numpy array.Please confirm that the picture is a face photo or consider to set enforce_detection param to False.\n",
      "Chyba: DeepFace nemohl analyzovat C:\\Users\\zitao\\Documents\\PETR\\DATA_SCIENCE\\EMOCE/train/angry\\Training_64715460.jpg – Face could not be detected in numpy array.Please confirm that the picture is a face photo or consider to set enforce_detection param to False.\n",
      "Chyba: DeepFace nemohl analyzovat C:\\Users\\zitao\\Documents\\PETR\\DATA_SCIENCE\\EMOCE/train/angry\\Training_64722447.jpg – Face could not be detected in numpy array.Please confirm that the picture is a face photo or consider to set enforce_detection param to False.\n",
      "Chyba: DeepFace nemohl analyzovat C:\\Users\\zitao\\Documents\\PETR\\DATA_SCIENCE\\EMOCE/train/angry\\Training_64754567.jpg – Face could not be detected in numpy array.Please confirm that the picture is a face photo or consider to set enforce_detection param to False.\n",
      "Chyba: DeepFace nemohl analyzovat C:\\Users\\zitao\\Documents\\PETR\\DATA_SCIENCE\\EMOCE/train/angry\\Training_64774028.jpg – Face could not be detected in numpy array.Please confirm that the picture is a face photo or consider to set enforce_detection param to False.\n",
      "Chyba: DeepFace nemohl analyzovat C:\\Users\\zitao\\Documents\\PETR\\DATA_SCIENCE\\EMOCE/train/angry\\Training_64781967.jpg – Face could not be detected in numpy array.Please confirm that the picture is a face photo or consider to set enforce_detection param to False.\n",
      "Chyba: DeepFace nemohl analyzovat C:\\Users\\zitao\\Documents\\PETR\\DATA_SCIENCE\\EMOCE/train/angry\\Training_64849486.jpg – Face could not be detected in numpy array.Please confirm that the picture is a face photo or consider to set enforce_detection param to False.\n",
      "Chyba: DeepFace nemohl analyzovat C:\\Users\\zitao\\Documents\\PETR\\DATA_SCIENCE\\EMOCE/train/angry\\Training_64854695.jpg – Face could not be detected in numpy array.Please confirm that the picture is a face photo or consider to set enforce_detection param to False.\n",
      "Chyba: DeepFace nemohl analyzovat C:\\Users\\zitao\\Documents\\PETR\\DATA_SCIENCE\\EMOCE/train/angry\\Training_64861405.jpg – Face could not be detected in numpy array.Please confirm that the picture is a face photo or consider to set enforce_detection param to False.\n",
      "Chyba: DeepFace nemohl analyzovat C:\\Users\\zitao\\Documents\\PETR\\DATA_SCIENCE\\EMOCE/train/angry\\Training_64957700.jpg – Face could not be detected in numpy array.Please confirm that the picture is a face photo or consider to set enforce_detection param to False.\n",
      "Chyba: DeepFace nemohl analyzovat C:\\Users\\zitao\\Documents\\PETR\\DATA_SCIENCE\\EMOCE/train/angry\\Training_64992219.jpg – Face could not be detected in numpy array.Please confirm that the picture is a face photo or consider to set enforce_detection param to False.\n",
      "Chyba: DeepFace nemohl analyzovat C:\\Users\\zitao\\Documents\\PETR\\DATA_SCIENCE\\EMOCE/train/angry\\Training_65004742.jpg – Face could not be detected in numpy array.Please confirm that the picture is a face photo or consider to set enforce_detection param to False.\n",
      "Chyba: DeepFace nemohl analyzovat C:\\Users\\zitao\\Documents\\PETR\\DATA_SCIENCE\\EMOCE/train/angry\\Training_65020222.jpg – Face could not be detected in numpy array.Please confirm that the picture is a face photo or consider to set enforce_detection param to False.\n",
      "Chyba: DeepFace nemohl analyzovat C:\\Users\\zitao\\Documents\\PETR\\DATA_SCIENCE\\EMOCE/train/angry\\Training_65046525.jpg – Face could not be detected in numpy array.Please confirm that the picture is a face photo or consider to set enforce_detection param to False.\n",
      "Chyba: DeepFace nemohl analyzovat C:\\Users\\zitao\\Documents\\PETR\\DATA_SCIENCE\\EMOCE/train/angry\\Training_6506913.jpg – Face could not be detected in numpy array.Please confirm that the picture is a face photo or consider to set enforce_detection param to False.\n",
      "Chyba: DeepFace nemohl analyzovat C:\\Users\\zitao\\Documents\\PETR\\DATA_SCIENCE\\EMOCE/train/angry\\Training_65103407.jpg – Face could not be detected in numpy array.Please confirm that the picture is a face photo or consider to set enforce_detection param to False.\n",
      "Chyba: DeepFace nemohl analyzovat C:\\Users\\zitao\\Documents\\PETR\\DATA_SCIENCE\\EMOCE/train/angry\\Training_65116761.jpg – Face could not be detected in numpy array.Please confirm that the picture is a face photo or consider to set enforce_detection param to False.\n",
      "Chyba: DeepFace nemohl analyzovat C:\\Users\\zitao\\Documents\\PETR\\DATA_SCIENCE\\EMOCE/train/angry\\Training_65137096.jpg – Face could not be detected in numpy array.Please confirm that the picture is a face photo or consider to set enforce_detection param to False.\n",
      "Chyba: DeepFace nemohl analyzovat C:\\Users\\zitao\\Documents\\PETR\\DATA_SCIENCE\\EMOCE/train/angry\\Training_65231205.jpg – Face could not be detected in numpy array.Please confirm that the picture is a face photo or consider to set enforce_detection param to False.\n",
      "Chyba: DeepFace nemohl analyzovat C:\\Users\\zitao\\Documents\\PETR\\DATA_SCIENCE\\EMOCE/train/angry\\Training_65266013.jpg – Face could not be detected in numpy array.Please confirm that the picture is a face photo or consider to set enforce_detection param to False.\n",
      "Chyba: DeepFace nemohl analyzovat C:\\Users\\zitao\\Documents\\PETR\\DATA_SCIENCE\\EMOCE/train/angry\\Training_65280118.jpg – Face could not be detected in numpy array.Please confirm that the picture is a face photo or consider to set enforce_detection param to False.\n",
      "Chyba: DeepFace nemohl analyzovat C:\\Users\\zitao\\Documents\\PETR\\DATA_SCIENCE\\EMOCE/train/angry\\Training_65348734.jpg – Face could not be detected in numpy array.Please confirm that the picture is a face photo or consider to set enforce_detection param to False.\n",
      "Chyba: DeepFace nemohl analyzovat C:\\Users\\zitao\\Documents\\PETR\\DATA_SCIENCE\\EMOCE/train/angry\\Training_65358424.jpg – Face could not be detected in numpy array.Please confirm that the picture is a face photo or consider to set enforce_detection param to False.\n",
      "Chyba: DeepFace nemohl analyzovat C:\\Users\\zitao\\Documents\\PETR\\DATA_SCIENCE\\EMOCE/train/angry\\Training_65397218.jpg – Face could not be detected in numpy array.Please confirm that the picture is a face photo or consider to set enforce_detection param to False.\n",
      "Chyba: DeepFace nemohl analyzovat C:\\Users\\zitao\\Documents\\PETR\\DATA_SCIENCE\\EMOCE/train/angry\\Training_65419284.jpg – Face could not be detected in numpy array.Please confirm that the picture is a face photo or consider to set enforce_detection param to False.\n",
      "Chyba: DeepFace nemohl analyzovat C:\\Users\\zitao\\Documents\\PETR\\DATA_SCIENCE\\EMOCE/train/angry\\Training_6551016.jpg – Face could not be detected in numpy array.Please confirm that the picture is a face photo or consider to set enforce_detection param to False.\n",
      "Chyba: DeepFace nemohl analyzovat C:\\Users\\zitao\\Documents\\PETR\\DATA_SCIENCE\\EMOCE/train/angry\\Training_65539947.jpg – Face could not be detected in numpy array.Please confirm that the picture is a face photo or consider to set enforce_detection param to False.\n",
      "Chyba: DeepFace nemohl analyzovat C:\\Users\\zitao\\Documents\\PETR\\DATA_SCIENCE\\EMOCE/train/angry\\Training_65636929.jpg – Face could not be detected in numpy array.Please confirm that the picture is a face photo or consider to set enforce_detection param to False.\n",
      "Chyba: DeepFace nemohl analyzovat C:\\Users\\zitao\\Documents\\PETR\\DATA_SCIENCE\\EMOCE/train/angry\\Training_65678870.jpg – Face could not be detected in numpy array.Please confirm that the picture is a face photo or consider to set enforce_detection param to False.\n",
      "Chyba: DeepFace nemohl analyzovat C:\\Users\\zitao\\Documents\\PETR\\DATA_SCIENCE\\EMOCE/train/angry\\Training_65780054.jpg – Face could not be detected in numpy array.Please confirm that the picture is a face photo or consider to set enforce_detection param to False.\n",
      "Chyba: DeepFace nemohl analyzovat C:\\Users\\zitao\\Documents\\PETR\\DATA_SCIENCE\\EMOCE/train/angry\\Training_65912489.jpg – Face could not be detected in numpy array.Please confirm that the picture is a face photo or consider to set enforce_detection param to False.\n",
      "Chyba: DeepFace nemohl analyzovat C:\\Users\\zitao\\Documents\\PETR\\DATA_SCIENCE\\EMOCE/train/angry\\Training_65927765.jpg – Face could not be detected in numpy array.Please confirm that the picture is a face photo or consider to set enforce_detection param to False.\n",
      "Chyba: DeepFace nemohl analyzovat C:\\Users\\zitao\\Documents\\PETR\\DATA_SCIENCE\\EMOCE/train/angry\\Training_65930929.jpg – Face could not be detected in numpy array.Please confirm that the picture is a face photo or consider to set enforce_detection param to False.\n",
      "Chyba: DeepFace nemohl analyzovat C:\\Users\\zitao\\Documents\\PETR\\DATA_SCIENCE\\EMOCE/train/angry\\Training_65936529.jpg – Face could not be detected in numpy array.Please confirm that the picture is a face photo or consider to set enforce_detection param to False.\n",
      "Chyba: DeepFace nemohl analyzovat C:\\Users\\zitao\\Documents\\PETR\\DATA_SCIENCE\\EMOCE/train/angry\\Training_65978744.jpg – Face could not be detected in numpy array.Please confirm that the picture is a face photo or consider to set enforce_detection param to False.\n",
      "Chyba: DeepFace nemohl analyzovat C:\\Users\\zitao\\Documents\\PETR\\DATA_SCIENCE\\EMOCE/train/angry\\Training_6599119.jpg – Face could not be detected in numpy array.Please confirm that the picture is a face photo or consider to set enforce_detection param to False.\n",
      "Chyba: DeepFace nemohl analyzovat C:\\Users\\zitao\\Documents\\PETR\\DATA_SCIENCE\\EMOCE/train/angry\\Training_66014049.jpg – Face could not be detected in numpy array.Please confirm that the picture is a face photo or consider to set enforce_detection param to False.\n",
      "Chyba: DeepFace nemohl analyzovat C:\\Users\\zitao\\Documents\\PETR\\DATA_SCIENCE\\EMOCE/train/angry\\Training_66024808.jpg – Face could not be detected in numpy array.Please confirm that the picture is a face photo or consider to set enforce_detection param to False.\n",
      "Chyba: DeepFace nemohl analyzovat C:\\Users\\zitao\\Documents\\PETR\\DATA_SCIENCE\\EMOCE/train/angry\\Training_66097651.jpg – Face could not be detected in numpy array.Please confirm that the picture is a face photo or consider to set enforce_detection param to False.\n",
      "Chyba: DeepFace nemohl analyzovat C:\\Users\\zitao\\Documents\\PETR\\DATA_SCIENCE\\EMOCE/train/angry\\Training_66368086.jpg – Face could not be detected in numpy array.Please confirm that the picture is a face photo or consider to set enforce_detection param to False.\n",
      "Chyba: DeepFace nemohl analyzovat C:\\Users\\zitao\\Documents\\PETR\\DATA_SCIENCE\\EMOCE/train/angry\\Training_66396219.jpg – Face could not be detected in numpy array.Please confirm that the picture is a face photo or consider to set enforce_detection param to False.\n",
      "Chyba: DeepFace nemohl analyzovat C:\\Users\\zitao\\Documents\\PETR\\DATA_SCIENCE\\EMOCE/train/angry\\Training_66398935.jpg – Face could not be detected in numpy array.Please confirm that the picture is a face photo or consider to set enforce_detection param to False.\n",
      "Chyba: DeepFace nemohl analyzovat C:\\Users\\zitao\\Documents\\PETR\\DATA_SCIENCE\\EMOCE/train/angry\\Training_6640570.jpg – Face could not be detected in numpy array.Please confirm that the picture is a face photo or consider to set enforce_detection param to False.\n",
      "Chyba: DeepFace nemohl analyzovat C:\\Users\\zitao\\Documents\\PETR\\DATA_SCIENCE\\EMOCE/train/angry\\Training_6644670.jpg – Face could not be detected in numpy array.Please confirm that the picture is a face photo or consider to set enforce_detection param to False.\n",
      "Chyba: DeepFace nemohl analyzovat C:\\Users\\zitao\\Documents\\PETR\\DATA_SCIENCE\\EMOCE/train/angry\\Training_66555113.jpg – Face could not be detected in numpy array.Please confirm that the picture is a face photo or consider to set enforce_detection param to False.\n",
      "Chyba: DeepFace nemohl analyzovat C:\\Users\\zitao\\Documents\\PETR\\DATA_SCIENCE\\EMOCE/train/angry\\Training_66594006.jpg – Face could not be detected in numpy array.Please confirm that the picture is a face photo or consider to set enforce_detection param to False.\n",
      "Chyba: DeepFace nemohl analyzovat C:\\Users\\zitao\\Documents\\PETR\\DATA_SCIENCE\\EMOCE/train/angry\\Training_66840183.jpg – Face could not be detected in numpy array.Please confirm that the picture is a face photo or consider to set enforce_detection param to False.\n",
      "Chyba: DeepFace nemohl analyzovat C:\\Users\\zitao\\Documents\\PETR\\DATA_SCIENCE\\EMOCE/train/angry\\Training_66883925.jpg – Face could not be detected in numpy array.Please confirm that the picture is a face photo or consider to set enforce_detection param to False.\n",
      "Chyba: DeepFace nemohl analyzovat C:\\Users\\zitao\\Documents\\PETR\\DATA_SCIENCE\\EMOCE/train/angry\\Training_67025016.jpg – Face could not be detected in numpy array.Please confirm that the picture is a face photo or consider to set enforce_detection param to False.\n",
      "Chyba: DeepFace nemohl analyzovat C:\\Users\\zitao\\Documents\\PETR\\DATA_SCIENCE\\EMOCE/train/angry\\Training_67028903.jpg – Face could not be detected in numpy array.Please confirm that the picture is a face photo or consider to set enforce_detection param to False.\n",
      "Chyba: DeepFace nemohl analyzovat C:\\Users\\zitao\\Documents\\PETR\\DATA_SCIENCE\\EMOCE/train/angry\\Training_67175729.jpg – Face could not be detected in numpy array.Please confirm that the picture is a face photo or consider to set enforce_detection param to False.\n",
      "Chyba: DeepFace nemohl analyzovat C:\\Users\\zitao\\Documents\\PETR\\DATA_SCIENCE\\EMOCE/train/angry\\Training_67240397.jpg – Face could not be detected in numpy array.Please confirm that the picture is a face photo or consider to set enforce_detection param to False.\n",
      "Chyba: DeepFace nemohl analyzovat C:\\Users\\zitao\\Documents\\PETR\\DATA_SCIENCE\\EMOCE/train/angry\\Training_67264539.jpg – Face could not be detected in numpy array.Please confirm that the picture is a face photo or consider to set enforce_detection param to False.\n",
      "Chyba: DeepFace nemohl analyzovat C:\\Users\\zitao\\Documents\\PETR\\DATA_SCIENCE\\EMOCE/train/angry\\Training_67271504.jpg – Face could not be detected in numpy array.Please confirm that the picture is a face photo or consider to set enforce_detection param to False.\n",
      "Chyba: DeepFace nemohl analyzovat C:\\Users\\zitao\\Documents\\PETR\\DATA_SCIENCE\\EMOCE/train/angry\\Training_67284078.jpg – Face could not be detected in numpy array.Please confirm that the picture is a face photo or consider to set enforce_detection param to False.\n",
      "Chyba: DeepFace nemohl analyzovat C:\\Users\\zitao\\Documents\\PETR\\DATA_SCIENCE\\EMOCE/train/angry\\Training_67404285.jpg – Face could not be detected in numpy array.Please confirm that the picture is a face photo or consider to set enforce_detection param to False.\n",
      "Chyba: DeepFace nemohl analyzovat C:\\Users\\zitao\\Documents\\PETR\\DATA_SCIENCE\\EMOCE/train/angry\\Training_67422623.jpg – Face could not be detected in numpy array.Please confirm that the picture is a face photo or consider to set enforce_detection param to False.\n",
      "Chyba: DeepFace nemohl analyzovat C:\\Users\\zitao\\Documents\\PETR\\DATA_SCIENCE\\EMOCE/train/angry\\Training_67457164.jpg – Face could not be detected in numpy array.Please confirm that the picture is a face photo or consider to set enforce_detection param to False.\n",
      "Chyba: DeepFace nemohl analyzovat C:\\Users\\zitao\\Documents\\PETR\\DATA_SCIENCE\\EMOCE/train/angry\\Training_67604214.jpg – Face could not be detected in numpy array.Please confirm that the picture is a face photo or consider to set enforce_detection param to False.\n",
      "Chyba: DeepFace nemohl analyzovat C:\\Users\\zitao\\Documents\\PETR\\DATA_SCIENCE\\EMOCE/train/angry\\Training_67625758.jpg – Face could not be detected in numpy array.Please confirm that the picture is a face photo or consider to set enforce_detection param to False.\n",
      "Chyba: DeepFace nemohl analyzovat C:\\Users\\zitao\\Documents\\PETR\\DATA_SCIENCE\\EMOCE/train/angry\\Training_67768289.jpg – Face could not be detected in numpy array.Please confirm that the picture is a face photo or consider to set enforce_detection param to False.\n",
      "Chyba: DeepFace nemohl analyzovat C:\\Users\\zitao\\Documents\\PETR\\DATA_SCIENCE\\EMOCE/train/angry\\Training_67786386.jpg – Face could not be detected in numpy array.Please confirm that the picture is a face photo or consider to set enforce_detection param to False.\n",
      "Chyba: DeepFace nemohl analyzovat C:\\Users\\zitao\\Documents\\PETR\\DATA_SCIENCE\\EMOCE/train/angry\\Training_67800172.jpg – Face could not be detected in numpy array.Please confirm that the picture is a face photo or consider to set enforce_detection param to False.\n",
      "Chyba: DeepFace nemohl analyzovat C:\\Users\\zitao\\Documents\\PETR\\DATA_SCIENCE\\EMOCE/train/angry\\Training_67958452.jpg – Face could not be detected in numpy array.Please confirm that the picture is a face photo or consider to set enforce_detection param to False.\n",
      "Chyba: DeepFace nemohl analyzovat C:\\Users\\zitao\\Documents\\PETR\\DATA_SCIENCE\\EMOCE/train/angry\\Training_6799271.jpg – Face could not be detected in numpy array.Please confirm that the picture is a face photo or consider to set enforce_detection param to False.\n",
      "Chyba: DeepFace nemohl analyzovat C:\\Users\\zitao\\Documents\\PETR\\DATA_SCIENCE\\EMOCE/train/angry\\Training_68035512.jpg – Face could not be detected in numpy array.Please confirm that the picture is a face photo or consider to set enforce_detection param to False.\n",
      "Chyba: DeepFace nemohl analyzovat C:\\Users\\zitao\\Documents\\PETR\\DATA_SCIENCE\\EMOCE/train/angry\\Training_68080233.jpg – Face could not be detected in numpy array.Please confirm that the picture is a face photo or consider to set enforce_detection param to False.\n",
      "Chyba: DeepFace nemohl analyzovat C:\\Users\\zitao\\Documents\\PETR\\DATA_SCIENCE\\EMOCE/train/angry\\Training_68113119.jpg – Face could not be detected in numpy array.Please confirm that the picture is a face photo or consider to set enforce_detection param to False.\n",
      "Chyba: DeepFace nemohl analyzovat C:\\Users\\zitao\\Documents\\PETR\\DATA_SCIENCE\\EMOCE/train/angry\\Training_68186609.jpg – Face could not be detected in numpy array.Please confirm that the picture is a face photo or consider to set enforce_detection param to False.\n",
      "Chyba: DeepFace nemohl analyzovat C:\\Users\\zitao\\Documents\\PETR\\DATA_SCIENCE\\EMOCE/train/angry\\Training_68363401.jpg – Face could not be detected in numpy array.Please confirm that the picture is a face photo or consider to set enforce_detection param to False.\n",
      "Chyba: DeepFace nemohl analyzovat C:\\Users\\zitao\\Documents\\PETR\\DATA_SCIENCE\\EMOCE/train/angry\\Training_68366970.jpg – Face could not be detected in numpy array.Please confirm that the picture is a face photo or consider to set enforce_detection param to False.\n",
      "Chyba: DeepFace nemohl analyzovat C:\\Users\\zitao\\Documents\\PETR\\DATA_SCIENCE\\EMOCE/train/angry\\Training_68451970.jpg – Face could not be detected in numpy array.Please confirm that the picture is a face photo or consider to set enforce_detection param to False.\n",
      "Chyba: DeepFace nemohl analyzovat C:\\Users\\zitao\\Documents\\PETR\\DATA_SCIENCE\\EMOCE/train/angry\\Training_68473786.jpg – Face could not be detected in numpy array.Please confirm that the picture is a face photo or consider to set enforce_detection param to False.\n",
      "Chyba: DeepFace nemohl analyzovat C:\\Users\\zitao\\Documents\\PETR\\DATA_SCIENCE\\EMOCE/train/angry\\Training_68492222.jpg – Face could not be detected in numpy array.Please confirm that the picture is a face photo or consider to set enforce_detection param to False.\n",
      "Chyba: DeepFace nemohl analyzovat C:\\Users\\zitao\\Documents\\PETR\\DATA_SCIENCE\\EMOCE/train/angry\\Training_68600978.jpg – Face could not be detected in numpy array.Please confirm that the picture is a face photo or consider to set enforce_detection param to False.\n",
      "Chyba: DeepFace nemohl analyzovat C:\\Users\\zitao\\Documents\\PETR\\DATA_SCIENCE\\EMOCE/train/angry\\Training_68659875.jpg – Face could not be detected in numpy array.Please confirm that the picture is a face photo or consider to set enforce_detection param to False.\n",
      "Chyba: DeepFace nemohl analyzovat C:\\Users\\zitao\\Documents\\PETR\\DATA_SCIENCE\\EMOCE/train/angry\\Training_68725589.jpg – Face could not be detected in numpy array.Please confirm that the picture is a face photo or consider to set enforce_detection param to False.\n",
      "Chyba: DeepFace nemohl analyzovat C:\\Users\\zitao\\Documents\\PETR\\DATA_SCIENCE\\EMOCE/train/angry\\Training_68805376.jpg – Face could not be detected in numpy array.Please confirm that the picture is a face photo or consider to set enforce_detection param to False.\n",
      "Chyba: DeepFace nemohl analyzovat C:\\Users\\zitao\\Documents\\PETR\\DATA_SCIENCE\\EMOCE/train/angry\\Training_68809462.jpg – Face could not be detected in numpy array.Please confirm that the picture is a face photo or consider to set enforce_detection param to False.\n",
      "Chyba: DeepFace nemohl analyzovat C:\\Users\\zitao\\Documents\\PETR\\DATA_SCIENCE\\EMOCE/train/angry\\Training_68819420.jpg – Face could not be detected in numpy array.Please confirm that the picture is a face photo or consider to set enforce_detection param to False.\n",
      "Chyba: DeepFace nemohl analyzovat C:\\Users\\zitao\\Documents\\PETR\\DATA_SCIENCE\\EMOCE/train/angry\\Training_68855873.jpg – Face could not be detected in numpy array.Please confirm that the picture is a face photo or consider to set enforce_detection param to False.\n",
      "Chyba: DeepFace nemohl analyzovat C:\\Users\\zitao\\Documents\\PETR\\DATA_SCIENCE\\EMOCE/train/angry\\Training_68880898.jpg – Face could not be detected in numpy array.Please confirm that the picture is a face photo or consider to set enforce_detection param to False.\n",
      "Chyba: DeepFace nemohl analyzovat C:\\Users\\zitao\\Documents\\PETR\\DATA_SCIENCE\\EMOCE/train/angry\\Training_68893329.jpg – Face could not be detected in numpy array.Please confirm that the picture is a face photo or consider to set enforce_detection param to False.\n",
      "Chyba: DeepFace nemohl analyzovat C:\\Users\\zitao\\Documents\\PETR\\DATA_SCIENCE\\EMOCE/train/angry\\Training_69043517.jpg – Face could not be detected in numpy array.Please confirm that the picture is a face photo or consider to set enforce_detection param to False.\n",
      "Chyba: DeepFace nemohl analyzovat C:\\Users\\zitao\\Documents\\PETR\\DATA_SCIENCE\\EMOCE/train/angry\\Training_69067131.jpg – Face could not be detected in numpy array.Please confirm that the picture is a face photo or consider to set enforce_detection param to False.\n",
      "Chyba: DeepFace nemohl analyzovat C:\\Users\\zitao\\Documents\\PETR\\DATA_SCIENCE\\EMOCE/train/angry\\Training_69134390.jpg – Face could not be detected in numpy array.Please confirm that the picture is a face photo or consider to set enforce_detection param to False.\n",
      "Chyba: DeepFace nemohl analyzovat C:\\Users\\zitao\\Documents\\PETR\\DATA_SCIENCE\\EMOCE/train/angry\\Training_69237831.jpg – Face could not be detected in numpy array.Please confirm that the picture is a face photo or consider to set enforce_detection param to False.\n",
      "Chyba: DeepFace nemohl analyzovat C:\\Users\\zitao\\Documents\\PETR\\DATA_SCIENCE\\EMOCE/train/angry\\Training_69295022.jpg – Face could not be detected in numpy array.Please confirm that the picture is a face photo or consider to set enforce_detection param to False.\n",
      "Chyba: DeepFace nemohl analyzovat C:\\Users\\zitao\\Documents\\PETR\\DATA_SCIENCE\\EMOCE/train/angry\\Training_69312642.jpg – Face could not be detected in numpy array.Please confirm that the picture is a face photo or consider to set enforce_detection param to False.\n",
      "Chyba: DeepFace nemohl analyzovat C:\\Users\\zitao\\Documents\\PETR\\DATA_SCIENCE\\EMOCE/train/angry\\Training_69314311.jpg – Face could not be detected in numpy array.Please confirm that the picture is a face photo or consider to set enforce_detection param to False.\n",
      "Chyba: DeepFace nemohl analyzovat C:\\Users\\zitao\\Documents\\PETR\\DATA_SCIENCE\\EMOCE/train/angry\\Training_69562893.jpg – Face could not be detected in numpy array.Please confirm that the picture is a face photo or consider to set enforce_detection param to False.\n",
      "Chyba: DeepFace nemohl analyzovat C:\\Users\\zitao\\Documents\\PETR\\DATA_SCIENCE\\EMOCE/train/angry\\Training_69736315.jpg – Face could not be detected in numpy array.Please confirm that the picture is a face photo or consider to set enforce_detection param to False.\n",
      "Chyba: DeepFace nemohl analyzovat C:\\Users\\zitao\\Documents\\PETR\\DATA_SCIENCE\\EMOCE/train/angry\\Training_69764678.jpg – Face could not be detected in numpy array.Please confirm that the picture is a face photo or consider to set enforce_detection param to False.\n",
      "Chyba: DeepFace nemohl analyzovat C:\\Users\\zitao\\Documents\\PETR\\DATA_SCIENCE\\EMOCE/train/angry\\Training_69776954.jpg – Face could not be detected in numpy array.Please confirm that the picture is a face photo or consider to set enforce_detection param to False.\n",
      "Chyba: DeepFace nemohl analyzovat C:\\Users\\zitao\\Documents\\PETR\\DATA_SCIENCE\\EMOCE/train/angry\\Training_69786566.jpg – Face could not be detected in numpy array.Please confirm that the picture is a face photo or consider to set enforce_detection param to False.\n",
      "Chyba: DeepFace nemohl analyzovat C:\\Users\\zitao\\Documents\\PETR\\DATA_SCIENCE\\EMOCE/train/angry\\Training_69787901.jpg – Face could not be detected in numpy array.Please confirm that the picture is a face photo or consider to set enforce_detection param to False.\n",
      "Chyba: DeepFace nemohl analyzovat C:\\Users\\zitao\\Documents\\PETR\\DATA_SCIENCE\\EMOCE/train/angry\\Training_69860150.jpg – Face could not be detected in numpy array.Please confirm that the picture is a face photo or consider to set enforce_detection param to False.\n",
      "Chyba: DeepFace nemohl analyzovat C:\\Users\\zitao\\Documents\\PETR\\DATA_SCIENCE\\EMOCE/train/angry\\Training_69980073.jpg – Face could not be detected in numpy array.Please confirm that the picture is a face photo or consider to set enforce_detection param to False.\n",
      "Chyba: DeepFace nemohl analyzovat C:\\Users\\zitao\\Documents\\PETR\\DATA_SCIENCE\\EMOCE/train/angry\\Training_70023034.jpg – Face could not be detected in numpy array.Please confirm that the picture is a face photo or consider to set enforce_detection param to False.\n",
      "Chyba: DeepFace nemohl analyzovat C:\\Users\\zitao\\Documents\\PETR\\DATA_SCIENCE\\EMOCE/train/angry\\Training_7007467.jpg – Face could not be detected in numpy array.Please confirm that the picture is a face photo or consider to set enforce_detection param to False.\n",
      "Chyba: DeepFace nemohl analyzovat C:\\Users\\zitao\\Documents\\PETR\\DATA_SCIENCE\\EMOCE/train/angry\\Training_70173708.jpg – Face could not be detected in numpy array.Please confirm that the picture is a face photo or consider to set enforce_detection param to False.\n",
      "Chyba: DeepFace nemohl analyzovat C:\\Users\\zitao\\Documents\\PETR\\DATA_SCIENCE\\EMOCE/train/angry\\Training_70194152.jpg – Face could not be detected in numpy array.Please confirm that the picture is a face photo or consider to set enforce_detection param to False.\n",
      "Chyba: DeepFace nemohl analyzovat C:\\Users\\zitao\\Documents\\PETR\\DATA_SCIENCE\\EMOCE/train/angry\\Training_70272883.jpg – Face could not be detected in numpy array.Please confirm that the picture is a face photo or consider to set enforce_detection param to False.\n",
      "Chyba: DeepFace nemohl analyzovat C:\\Users\\zitao\\Documents\\PETR\\DATA_SCIENCE\\EMOCE/train/angry\\Training_7034051.jpg – Face could not be detected in numpy array.Please confirm that the picture is a face photo or consider to set enforce_detection param to False.\n",
      "Chyba: DeepFace nemohl analyzovat C:\\Users\\zitao\\Documents\\PETR\\DATA_SCIENCE\\EMOCE/train/angry\\Training_70351349.jpg – Face could not be detected in numpy array.Please confirm that the picture is a face photo or consider to set enforce_detection param to False.\n",
      "Chyba: DeepFace nemohl analyzovat C:\\Users\\zitao\\Documents\\PETR\\DATA_SCIENCE\\EMOCE/train/angry\\Training_7039189.jpg – Face could not be detected in numpy array.Please confirm that the picture is a face photo or consider to set enforce_detection param to False.\n",
      "Chyba: DeepFace nemohl analyzovat C:\\Users\\zitao\\Documents\\PETR\\DATA_SCIENCE\\EMOCE/train/angry\\Training_70447362.jpg – Face could not be detected in numpy array.Please confirm that the picture is a face photo or consider to set enforce_detection param to False.\n",
      "Chyba: DeepFace nemohl analyzovat C:\\Users\\zitao\\Documents\\PETR\\DATA_SCIENCE\\EMOCE/train/angry\\Training_70451070.jpg – Face could not be detected in numpy array.Please confirm that the picture is a face photo or consider to set enforce_detection param to False.\n",
      "Chyba: DeepFace nemohl analyzovat C:\\Users\\zitao\\Documents\\PETR\\DATA_SCIENCE\\EMOCE/train/angry\\Training_70504908.jpg – Face could not be detected in numpy array.Please confirm that the picture is a face photo or consider to set enforce_detection param to False.\n",
      "Chyba: DeepFace nemohl analyzovat C:\\Users\\zitao\\Documents\\PETR\\DATA_SCIENCE\\EMOCE/train/angry\\Training_70522999.jpg – Face could not be detected in numpy array.Please confirm that the picture is a face photo or consider to set enforce_detection param to False.\n",
      "Chyba: DeepFace nemohl analyzovat C:\\Users\\zitao\\Documents\\PETR\\DATA_SCIENCE\\EMOCE/train/angry\\Training_70632589.jpg – Face could not be detected in numpy array.Please confirm that the picture is a face photo or consider to set enforce_detection param to False.\n",
      "Chyba: DeepFace nemohl analyzovat C:\\Users\\zitao\\Documents\\PETR\\DATA_SCIENCE\\EMOCE/train/angry\\Training_70726538.jpg – Face could not be detected in numpy array.Please confirm that the picture is a face photo or consider to set enforce_detection param to False.\n",
      "Chyba: DeepFace nemohl analyzovat C:\\Users\\zitao\\Documents\\PETR\\DATA_SCIENCE\\EMOCE/train/angry\\Training_70728333.jpg – Face could not be detected in numpy array.Please confirm that the picture is a face photo or consider to set enforce_detection param to False.\n",
      "Chyba: DeepFace nemohl analyzovat C:\\Users\\zitao\\Documents\\PETR\\DATA_SCIENCE\\EMOCE/train/angry\\Training_70943234.jpg – Face could not be detected in numpy array.Please confirm that the picture is a face photo or consider to set enforce_detection param to False.\n",
      "Chyba: DeepFace nemohl analyzovat C:\\Users\\zitao\\Documents\\PETR\\DATA_SCIENCE\\EMOCE/train/angry\\Training_71105811.jpg – Face could not be detected in numpy array.Please confirm that the picture is a face photo or consider to set enforce_detection param to False.\n",
      "Chyba: DeepFace nemohl analyzovat C:\\Users\\zitao\\Documents\\PETR\\DATA_SCIENCE\\EMOCE/train/angry\\Training_71156584.jpg – Face could not be detected in numpy array.Please confirm that the picture is a face photo or consider to set enforce_detection param to False.\n",
      "Chyba: DeepFace nemohl analyzovat C:\\Users\\zitao\\Documents\\PETR\\DATA_SCIENCE\\EMOCE/train/angry\\Training_71192880.jpg – Face could not be detected in numpy array.Please confirm that the picture is a face photo or consider to set enforce_detection param to False.\n",
      "Chyba: DeepFace nemohl analyzovat C:\\Users\\zitao\\Documents\\PETR\\DATA_SCIENCE\\EMOCE/train/angry\\Training_71241230.jpg – Face could not be detected in numpy array.Please confirm that the picture is a face photo or consider to set enforce_detection param to False.\n",
      "Chyba: DeepFace nemohl analyzovat C:\\Users\\zitao\\Documents\\PETR\\DATA_SCIENCE\\EMOCE/train/angry\\Training_71282551.jpg – Face could not be detected in numpy array.Please confirm that the picture is a face photo or consider to set enforce_detection param to False.\n",
      "Chyba: DeepFace nemohl analyzovat C:\\Users\\zitao\\Documents\\PETR\\DATA_SCIENCE\\EMOCE/train/angry\\Training_71285090.jpg – Face could not be detected in numpy array.Please confirm that the picture is a face photo or consider to set enforce_detection param to False.\n",
      "Chyba: DeepFace nemohl analyzovat C:\\Users\\zitao\\Documents\\PETR\\DATA_SCIENCE\\EMOCE/train/angry\\Training_71340913.jpg – Face could not be detected in numpy array.Please confirm that the picture is a face photo or consider to set enforce_detection param to False.\n",
      "Chyba: DeepFace nemohl analyzovat C:\\Users\\zitao\\Documents\\PETR\\DATA_SCIENCE\\EMOCE/train/angry\\Training_71385343.jpg – Face could not be detected in numpy array.Please confirm that the picture is a face photo or consider to set enforce_detection param to False.\n",
      "Chyba: DeepFace nemohl analyzovat C:\\Users\\zitao\\Documents\\PETR\\DATA_SCIENCE\\EMOCE/train/angry\\Training_71414588.jpg – Face could not be detected in numpy array.Please confirm that the picture is a face photo or consider to set enforce_detection param to False.\n",
      "Chyba: DeepFace nemohl analyzovat C:\\Users\\zitao\\Documents\\PETR\\DATA_SCIENCE\\EMOCE/train/angry\\Training_71427295.jpg – Face could not be detected in numpy array.Please confirm that the picture is a face photo or consider to set enforce_detection param to False.\n",
      "Chyba: DeepFace nemohl analyzovat C:\\Users\\zitao\\Documents\\PETR\\DATA_SCIENCE\\EMOCE/train/angry\\Training_71439725.jpg – Face could not be detected in numpy array.Please confirm that the picture is a face photo or consider to set enforce_detection param to False.\n",
      "Chyba: DeepFace nemohl analyzovat C:\\Users\\zitao\\Documents\\PETR\\DATA_SCIENCE\\EMOCE/train/angry\\Training_71550663.jpg – Face could not be detected in numpy array.Please confirm that the picture is a face photo or consider to set enforce_detection param to False.\n",
      "Chyba: DeepFace nemohl analyzovat C:\\Users\\zitao\\Documents\\PETR\\DATA_SCIENCE\\EMOCE/train/angry\\Training_71646870.jpg – Face could not be detected in numpy array.Please confirm that the picture is a face photo or consider to set enforce_detection param to False.\n",
      "Chyba: DeepFace nemohl analyzovat C:\\Users\\zitao\\Documents\\PETR\\DATA_SCIENCE\\EMOCE/train/angry\\Training_71710274.jpg – Face could not be detected in numpy array.Please confirm that the picture is a face photo or consider to set enforce_detection param to False.\n",
      "Chyba: DeepFace nemohl analyzovat C:\\Users\\zitao\\Documents\\PETR\\DATA_SCIENCE\\EMOCE/train/angry\\Training_71718153.jpg – Face could not be detected in numpy array.Please confirm that the picture is a face photo or consider to set enforce_detection param to False.\n",
      "Chyba: DeepFace nemohl analyzovat C:\\Users\\zitao\\Documents\\PETR\\DATA_SCIENCE\\EMOCE/train/angry\\Training_71789747.jpg – Face could not be detected in numpy array.Please confirm that the picture is a face photo or consider to set enforce_detection param to False.\n",
      "Chyba: DeepFace nemohl analyzovat C:\\Users\\zitao\\Documents\\PETR\\DATA_SCIENCE\\EMOCE/train/angry\\Training_71919567.jpg – Face could not be detected in numpy array.Please confirm that the picture is a face photo or consider to set enforce_detection param to False.\n",
      "Chyba: DeepFace nemohl analyzovat C:\\Users\\zitao\\Documents\\PETR\\DATA_SCIENCE\\EMOCE/train/angry\\Training_71982061.jpg – Face could not be detected in numpy array.Please confirm that the picture is a face photo or consider to set enforce_detection param to False.\n",
      "Chyba: DeepFace nemohl analyzovat C:\\Users\\zitao\\Documents\\PETR\\DATA_SCIENCE\\EMOCE/train/angry\\Training_72126006.jpg – Face could not be detected in numpy array.Please confirm that the picture is a face photo or consider to set enforce_detection param to False.\n",
      "Chyba: DeepFace nemohl analyzovat C:\\Users\\zitao\\Documents\\PETR\\DATA_SCIENCE\\EMOCE/train/angry\\Training_72188974.jpg – Face could not be detected in numpy array.Please confirm that the picture is a face photo or consider to set enforce_detection param to False.\n",
      "Chyba: DeepFace nemohl analyzovat C:\\Users\\zitao\\Documents\\PETR\\DATA_SCIENCE\\EMOCE/train/angry\\Training_72290578.jpg – Face could not be detected in numpy array.Please confirm that the picture is a face photo or consider to set enforce_detection param to False.\n",
      "Chyba: DeepFace nemohl analyzovat C:\\Users\\zitao\\Documents\\PETR\\DATA_SCIENCE\\EMOCE/train/angry\\Training_72310709.jpg – Face could not be detected in numpy array.Please confirm that the picture is a face photo or consider to set enforce_detection param to False.\n",
      "Chyba: DeepFace nemohl analyzovat C:\\Users\\zitao\\Documents\\PETR\\DATA_SCIENCE\\EMOCE/train/angry\\Training_72323038.jpg – Face could not be detected in numpy array.Please confirm that the picture is a face photo or consider to set enforce_detection param to False.\n",
      "Chyba: DeepFace nemohl analyzovat C:\\Users\\zitao\\Documents\\PETR\\DATA_SCIENCE\\EMOCE/train/angry\\Training_7232489.jpg – Face could not be detected in numpy array.Please confirm that the picture is a face photo or consider to set enforce_detection param to False.\n",
      "Chyba: DeepFace nemohl analyzovat C:\\Users\\zitao\\Documents\\PETR\\DATA_SCIENCE\\EMOCE/train/angry\\Training_72365091.jpg – Face could not be detected in numpy array.Please confirm that the picture is a face photo or consider to set enforce_detection param to False.\n",
      "Chyba: DeepFace nemohl analyzovat C:\\Users\\zitao\\Documents\\PETR\\DATA_SCIENCE\\EMOCE/train/angry\\Training_72560524.jpg – Face could not be detected in numpy array.Please confirm that the picture is a face photo or consider to set enforce_detection param to False.\n",
      "Chyba: DeepFace nemohl analyzovat C:\\Users\\zitao\\Documents\\PETR\\DATA_SCIENCE\\EMOCE/train/angry\\Training_72569203.jpg – Face could not be detected in numpy array.Please confirm that the picture is a face photo or consider to set enforce_detection param to False.\n",
      "Chyba: DeepFace nemohl analyzovat C:\\Users\\zitao\\Documents\\PETR\\DATA_SCIENCE\\EMOCE/train/angry\\Training_72631670.jpg – Face could not be detected in numpy array.Please confirm that the picture is a face photo or consider to set enforce_detection param to False.\n",
      "Chyba: DeepFace nemohl analyzovat C:\\Users\\zitao\\Documents\\PETR\\DATA_SCIENCE\\EMOCE/train/angry\\Training_72670516.jpg – Face could not be detected in numpy array.Please confirm that the picture is a face photo or consider to set enforce_detection param to False.\n",
      "Chyba: DeepFace nemohl analyzovat C:\\Users\\zitao\\Documents\\PETR\\DATA_SCIENCE\\EMOCE/train/angry\\Training_72730158.jpg – Face could not be detected in numpy array.Please confirm that the picture is a face photo or consider to set enforce_detection param to False.\n",
      "Chyba: DeepFace nemohl analyzovat C:\\Users\\zitao\\Documents\\PETR\\DATA_SCIENCE\\EMOCE/train/angry\\Training_72893533.jpg – Face could not be detected in numpy array.Please confirm that the picture is a face photo or consider to set enforce_detection param to False.\n",
      "Chyba: DeepFace nemohl analyzovat C:\\Users\\zitao\\Documents\\PETR\\DATA_SCIENCE\\EMOCE/train/angry\\Training_72910812.jpg – Face could not be detected in numpy array.Please confirm that the picture is a face photo or consider to set enforce_detection param to False.\n",
      "Chyba: DeepFace nemohl analyzovat C:\\Users\\zitao\\Documents\\PETR\\DATA_SCIENCE\\EMOCE/train/angry\\Training_72953480.jpg – Face could not be detected in numpy array.Please confirm that the picture is a face photo or consider to set enforce_detection param to False.\n",
      "Chyba: DeepFace nemohl analyzovat C:\\Users\\zitao\\Documents\\PETR\\DATA_SCIENCE\\EMOCE/train/angry\\Training_72989732.jpg – Face could not be detected in numpy array.Please confirm that the picture is a face photo or consider to set enforce_detection param to False.\n",
      "Chyba: DeepFace nemohl analyzovat C:\\Users\\zitao\\Documents\\PETR\\DATA_SCIENCE\\EMOCE/train/angry\\Training_72989844.jpg – Face could not be detected in numpy array.Please confirm that the picture is a face photo or consider to set enforce_detection param to False.\n",
      "Chyba: DeepFace nemohl analyzovat C:\\Users\\zitao\\Documents\\PETR\\DATA_SCIENCE\\EMOCE/train/angry\\Training_7311416.jpg – Face could not be detected in numpy array.Please confirm that the picture is a face photo or consider to set enforce_detection param to False.\n",
      "Chyba: DeepFace nemohl analyzovat C:\\Users\\zitao\\Documents\\PETR\\DATA_SCIENCE\\EMOCE/train/angry\\Training_73117774.jpg – Face could not be detected in numpy array.Please confirm that the picture is a face photo or consider to set enforce_detection param to False.\n",
      "Chyba: DeepFace nemohl analyzovat C:\\Users\\zitao\\Documents\\PETR\\DATA_SCIENCE\\EMOCE/train/angry\\Training_73207712.jpg – Face could not be detected in numpy array.Please confirm that the picture is a face photo or consider to set enforce_detection param to False.\n",
      "Chyba: DeepFace nemohl analyzovat C:\\Users\\zitao\\Documents\\PETR\\DATA_SCIENCE\\EMOCE/train/angry\\Training_73249273.jpg – Face could not be detected in numpy array.Please confirm that the picture is a face photo or consider to set enforce_detection param to False.\n",
      "Chyba: DeepFace nemohl analyzovat C:\\Users\\zitao\\Documents\\PETR\\DATA_SCIENCE\\EMOCE/train/angry\\Training_73262698.jpg – Face could not be detected in numpy array.Please confirm that the picture is a face photo or consider to set enforce_detection param to False.\n",
      "Chyba: DeepFace nemohl analyzovat C:\\Users\\zitao\\Documents\\PETR\\DATA_SCIENCE\\EMOCE/train/angry\\Training_73277645.jpg – Face could not be detected in numpy array.Please confirm that the picture is a face photo or consider to set enforce_detection param to False.\n",
      "Chyba: DeepFace nemohl analyzovat C:\\Users\\zitao\\Documents\\PETR\\DATA_SCIENCE\\EMOCE/train/angry\\Training_73342188.jpg – Face could not be detected in numpy array.Please confirm that the picture is a face photo or consider to set enforce_detection param to False.\n",
      "Chyba: DeepFace nemohl analyzovat C:\\Users\\zitao\\Documents\\PETR\\DATA_SCIENCE\\EMOCE/train/angry\\Training_7336250.jpg – Face could not be detected in numpy array.Please confirm that the picture is a face photo or consider to set enforce_detection param to False.\n",
      "Chyba: DeepFace nemohl analyzovat C:\\Users\\zitao\\Documents\\PETR\\DATA_SCIENCE\\EMOCE/train/angry\\Training_73381335.jpg – Face could not be detected in numpy array.Please confirm that the picture is a face photo or consider to set enforce_detection param to False.\n",
      "Chyba: DeepFace nemohl analyzovat C:\\Users\\zitao\\Documents\\PETR\\DATA_SCIENCE\\EMOCE/train/angry\\Training_73433456.jpg – Face could not be detected in numpy array.Please confirm that the picture is a face photo or consider to set enforce_detection param to False.\n",
      "Chyba: DeepFace nemohl analyzovat C:\\Users\\zitao\\Documents\\PETR\\DATA_SCIENCE\\EMOCE/train/angry\\Training_7349269.jpg – Face could not be detected in numpy array.Please confirm that the picture is a face photo or consider to set enforce_detection param to False.\n",
      "Chyba: DeepFace nemohl analyzovat C:\\Users\\zitao\\Documents\\PETR\\DATA_SCIENCE\\EMOCE/train/angry\\Training_73524161.jpg – Face could not be detected in numpy array.Please confirm that the picture is a face photo or consider to set enforce_detection param to False.\n",
      "Chyba: DeepFace nemohl analyzovat C:\\Users\\zitao\\Documents\\PETR\\DATA_SCIENCE\\EMOCE/train/angry\\Training_7363295.jpg – Face could not be detected in numpy array.Please confirm that the picture is a face photo or consider to set enforce_detection param to False.\n",
      "Chyba: DeepFace nemohl analyzovat C:\\Users\\zitao\\Documents\\PETR\\DATA_SCIENCE\\EMOCE/train/angry\\Training_73649481.jpg – Face could not be detected in numpy array.Please confirm that the picture is a face photo or consider to set enforce_detection param to False.\n",
      "Chyba: DeepFace nemohl analyzovat C:\\Users\\zitao\\Documents\\PETR\\DATA_SCIENCE\\EMOCE/train/angry\\Training_73677822.jpg – Face could not be detected in numpy array.Please confirm that the picture is a face photo or consider to set enforce_detection param to False.\n",
      "Chyba: DeepFace nemohl analyzovat C:\\Users\\zitao\\Documents\\PETR\\DATA_SCIENCE\\EMOCE/train/angry\\Training_73696242.jpg – Face could not be detected in numpy array.Please confirm that the picture is a face photo or consider to set enforce_detection param to False.\n",
      "Chyba: DeepFace nemohl analyzovat C:\\Users\\zitao\\Documents\\PETR\\DATA_SCIENCE\\EMOCE/train/angry\\Training_73885415.jpg – Face could not be detected in numpy array.Please confirm that the picture is a face photo or consider to set enforce_detection param to False.\n",
      "Chyba: DeepFace nemohl analyzovat C:\\Users\\zitao\\Documents\\PETR\\DATA_SCIENCE\\EMOCE/train/angry\\Training_73990468.jpg – Face could not be detected in numpy array.Please confirm that the picture is a face photo or consider to set enforce_detection param to False.\n",
      "Chyba: DeepFace nemohl analyzovat C:\\Users\\zitao\\Documents\\PETR\\DATA_SCIENCE\\EMOCE/train/angry\\Training_74059930.jpg – Face could not be detected in numpy array.Please confirm that the picture is a face photo or consider to set enforce_detection param to False.\n",
      "Chyba: DeepFace nemohl analyzovat C:\\Users\\zitao\\Documents\\PETR\\DATA_SCIENCE\\EMOCE/train/angry\\Training_74075794.jpg – Face could not be detected in numpy array.Please confirm that the picture is a face photo or consider to set enforce_detection param to False.\n",
      "Chyba: DeepFace nemohl analyzovat C:\\Users\\zitao\\Documents\\PETR\\DATA_SCIENCE\\EMOCE/train/angry\\Training_74180372.jpg – Face could not be detected in numpy array.Please confirm that the picture is a face photo or consider to set enforce_detection param to False.\n",
      "Chyba: DeepFace nemohl analyzovat C:\\Users\\zitao\\Documents\\PETR\\DATA_SCIENCE\\EMOCE/train/angry\\Training_74201076.jpg – Face could not be detected in numpy array.Please confirm that the picture is a face photo or consider to set enforce_detection param to False.\n",
      "Chyba: DeepFace nemohl analyzovat C:\\Users\\zitao\\Documents\\PETR\\DATA_SCIENCE\\EMOCE/train/angry\\Training_74295275.jpg – Face could not be detected in numpy array.Please confirm that the picture is a face photo or consider to set enforce_detection param to False.\n",
      "Chyba: DeepFace nemohl analyzovat C:\\Users\\zitao\\Documents\\PETR\\DATA_SCIENCE\\EMOCE/train/angry\\Training_74337661.jpg – Face could not be detected in numpy array.Please confirm that the picture is a face photo or consider to set enforce_detection param to False.\n",
      "Chyba: DeepFace nemohl analyzovat C:\\Users\\zitao\\Documents\\PETR\\DATA_SCIENCE\\EMOCE/train/angry\\Training_74370648.jpg – Face could not be detected in numpy array.Please confirm that the picture is a face photo or consider to set enforce_detection param to False.\n",
      "Chyba: DeepFace nemohl analyzovat C:\\Users\\zitao\\Documents\\PETR\\DATA_SCIENCE\\EMOCE/train/angry\\Training_74458318.jpg – Face could not be detected in numpy array.Please confirm that the picture is a face photo or consider to set enforce_detection param to False.\n",
      "Chyba: DeepFace nemohl analyzovat C:\\Users\\zitao\\Documents\\PETR\\DATA_SCIENCE\\EMOCE/train/angry\\Training_74481811.jpg – Face could not be detected in numpy array.Please confirm that the picture is a face photo or consider to set enforce_detection param to False.\n",
      "Chyba: DeepFace nemohl analyzovat C:\\Users\\zitao\\Documents\\PETR\\DATA_SCIENCE\\EMOCE/train/angry\\Training_74526445.jpg – Face could not be detected in numpy array.Please confirm that the picture is a face photo or consider to set enforce_detection param to False.\n",
      "Chyba: DeepFace nemohl analyzovat C:\\Users\\zitao\\Documents\\PETR\\DATA_SCIENCE\\EMOCE/train/angry\\Training_74647496.jpg – Face could not be detected in numpy array.Please confirm that the picture is a face photo or consider to set enforce_detection param to False.\n"
     ]
    },
    {
     "ename": "KeyboardInterrupt",
     "evalue": "",
     "output_type": "error",
     "traceback": [
      "\u001b[1;31m---------------------------------------------------------------------------\u001b[0m",
      "\u001b[1;31mKeyboardInterrupt\u001b[0m                         Traceback (most recent call last)",
      "\u001b[1;32m~\\AppData\\Local\\Temp\\ipykernel_26040\\1108203332.py\u001b[0m in \u001b[0;36m?\u001b[1;34m()\u001b[0m\n\u001b[0;32m     18\u001b[0m \u001b[1;33m\u001b[0m\u001b[0m\n\u001b[0;32m     19\u001b[0m     \u001b[1;32mexcept\u001b[0m \u001b[0mValueError\u001b[0m \u001b[1;32mas\u001b[0m \u001b[0me\u001b[0m\u001b[1;33m:\u001b[0m\u001b[1;33m\u001b[0m\u001b[1;33m\u001b[0m\u001b[0m\n\u001b[0;32m     20\u001b[0m         \u001b[0mprint\u001b[0m\u001b[1;33m(\u001b[0m\u001b[1;33mf\"\u001b[0m\u001b[1;33mChyba: DeepFace nemohl analyzovat \u001b[0m\u001b[1;33m{\u001b[0m\u001b[0mcesta_obrazku\u001b[0m\u001b[1;33m}\u001b[0m\u001b[1;33m – \u001b[0m\u001b[1;33m{\u001b[0m\u001b[0me\u001b[0m\u001b[1;33m}\u001b[0m\u001b[1;33m\"\u001b[0m\u001b[1;33m)\u001b[0m\u001b[1;33m\u001b[0m\u001b[1;33m\u001b[0m\u001b[0m\n\u001b[0;32m     21\u001b[0m         \u001b[0mchybny_soubor\u001b[0m\u001b[1;33m.\u001b[0m\u001b[0mappend\u001b[0m\u001b[1;33m(\u001b[0m\u001b[0mcesta_obrazku\u001b[0m\u001b[1;33m)\u001b[0m  \u001b[1;31m# Uložit problematický soubor\u001b[0m\u001b[1;33m\u001b[0m\u001b[1;33m\u001b[0m\u001b[0m\n\u001b[1;32m---> 22\u001b[1;33m     \u001b[1;32mexcept\u001b[0m \u001b[0mException\u001b[0m \u001b[1;32mas\u001b[0m \u001b[0me\u001b[0m\u001b[1;33m:\u001b[0m\u001b[1;33m\u001b[0m\u001b[1;33m\u001b[0m\u001b[0m\n\u001b[0m\u001b[0;32m     23\u001b[0m         \u001b[0mprint\u001b[0m\u001b[1;33m(\u001b[0m\u001b[1;33mf\"\u001b[0m\u001b[1;33mNeočekávaná chyba u \u001b[0m\u001b[1;33m{\u001b[0m\u001b[0mcesta_obrazku\u001b[0m\u001b[1;33m}\u001b[0m\u001b[1;33m: \u001b[0m\u001b[1;33m{\u001b[0m\u001b[0me\u001b[0m\u001b[1;33m}\u001b[0m\u001b[1;33m\"\u001b[0m\u001b[1;33m)\u001b[0m\u001b[1;33m\u001b[0m\u001b[1;33m\u001b[0m\u001b[0m\n\u001b[0;32m     24\u001b[0m         \u001b[0mchybny_soubor\u001b[0m\u001b[1;33m.\u001b[0m\u001b[0mappend\u001b[0m\u001b[1;33m(\u001b[0m\u001b[0mcesta_obrazku\u001b[0m\u001b[1;33m)\u001b[0m  \u001b[1;31m# Uložit problematický soubor\u001b[0m\u001b[1;33m\u001b[0m\u001b[1;33m\u001b[0m\u001b[0m\n\u001b[0;32m     25\u001b[0m \u001b[1;33m\u001b[0m\u001b[0m\n",
      "\u001b[1;32m~\\anaconda3\\Lib\\site-packages\\deepface\\DeepFace.py\u001b[0m in \u001b[0;36m?\u001b[1;34m(img_path, actions, enforce_detection, detector_backend, align, expand_percentage, silent, anti_spoofing)\u001b[0m\n\u001b[0;32m    249\u001b[0m             \u001b[1;33m-\u001b[0m \u001b[1;34m'black'\u001b[0m\u001b[1;33m:\u001b[0m \u001b[0mConfidence\u001b[0m \u001b[0mscore\u001b[0m \u001b[1;32mfor\u001b[0m \u001b[0mBlack\u001b[0m \u001b[0methnicity\u001b[0m\u001b[1;33m.\u001b[0m\u001b[1;33m\u001b[0m\u001b[1;33m\u001b[0m\u001b[0m\n\u001b[0;32m    250\u001b[0m             \u001b[1;33m-\u001b[0m \u001b[1;34m'middle eastern'\u001b[0m\u001b[1;33m:\u001b[0m \u001b[0mConfidence\u001b[0m \u001b[0mscore\u001b[0m \u001b[1;32mfor\u001b[0m \u001b[0mMiddle\u001b[0m \u001b[0mEastern\u001b[0m \u001b[0methnicity\u001b[0m\u001b[1;33m.\u001b[0m\u001b[1;33m\u001b[0m\u001b[1;33m\u001b[0m\u001b[0m\n\u001b[0;32m    251\u001b[0m             \u001b[1;33m-\u001b[0m \u001b[1;34m'white'\u001b[0m\u001b[1;33m:\u001b[0m \u001b[0mConfidence\u001b[0m \u001b[0mscore\u001b[0m \u001b[1;32mfor\u001b[0m \u001b[0mWhite\u001b[0m \u001b[0methnicity\u001b[0m\u001b[1;33m.\u001b[0m\u001b[1;33m\u001b[0m\u001b[1;33m\u001b[0m\u001b[0m\n\u001b[0;32m    252\u001b[0m     \"\"\"\n\u001b[1;32m--> 253\u001b[1;33m     return demography.analyze(\n\u001b[0m\u001b[0;32m    254\u001b[0m         \u001b[0mimg_path\u001b[0m\u001b[1;33m=\u001b[0m\u001b[0mimg_path\u001b[0m\u001b[1;33m,\u001b[0m\u001b[1;33m\u001b[0m\u001b[1;33m\u001b[0m\u001b[0m\n\u001b[0;32m    255\u001b[0m         \u001b[0mactions\u001b[0m\u001b[1;33m=\u001b[0m\u001b[0mactions\u001b[0m\u001b[1;33m,\u001b[0m\u001b[1;33m\u001b[0m\u001b[1;33m\u001b[0m\u001b[0m\n\u001b[0;32m    256\u001b[0m         \u001b[0menforce_detection\u001b[0m\u001b[1;33m=\u001b[0m\u001b[0menforce_detection\u001b[0m\u001b[1;33m,\u001b[0m\u001b[1;33m\u001b[0m\u001b[1;33m\u001b[0m\u001b[0m\n",
      "\u001b[1;32m~\\anaconda3\\Lib\\site-packages\\deepface\\modules\\demography.py\u001b[0m in \u001b[0;36m?\u001b[1;34m(img_path, actions, enforce_detection, detector_backend, align, expand_percentage, silent, anti_spoofing)\u001b[0m\n\u001b[0;32m    159\u001b[0m \u001b[1;33m\u001b[0m\u001b[0m\n\u001b[0;32m    160\u001b[0m             \u001b[1;32mif\u001b[0m \u001b[0maction\u001b[0m \u001b[1;33m==\u001b[0m \u001b[1;34m\"emotion\"\u001b[0m\u001b[1;33m:\u001b[0m\u001b[1;33m\u001b[0m\u001b[1;33m\u001b[0m\u001b[0m\n\u001b[0;32m    161\u001b[0m                 emotion_predictions = modeling.build_model(\n\u001b[0;32m    162\u001b[0m                     \u001b[0mtask\u001b[0m\u001b[1;33m=\u001b[0m\u001b[1;34m\"facial_attribute\"\u001b[0m\u001b[1;33m,\u001b[0m \u001b[0mmodel_name\u001b[0m\u001b[1;33m=\u001b[0m\u001b[1;34m\"Emotion\"\u001b[0m\u001b[1;33m\u001b[0m\u001b[1;33m\u001b[0m\u001b[0m\n\u001b[1;32m--> 163\u001b[1;33m                 \u001b[1;33m)\u001b[0m\u001b[1;33m.\u001b[0m\u001b[0mpredict\u001b[0m\u001b[1;33m(\u001b[0m\u001b[0mimg_content\u001b[0m\u001b[1;33m)\u001b[0m\u001b[1;33m\u001b[0m\u001b[1;33m\u001b[0m\u001b[0m\n\u001b[0m\u001b[0;32m    164\u001b[0m                 \u001b[0msum_of_predictions\u001b[0m \u001b[1;33m=\u001b[0m \u001b[0memotion_predictions\u001b[0m\u001b[1;33m.\u001b[0m\u001b[0msum\u001b[0m\u001b[1;33m(\u001b[0m\u001b[1;33m)\u001b[0m\u001b[1;33m\u001b[0m\u001b[1;33m\u001b[0m\u001b[0m\n\u001b[0;32m    165\u001b[0m \u001b[1;33m\u001b[0m\u001b[0m\n\u001b[0;32m    166\u001b[0m                 \u001b[0mobj\u001b[0m\u001b[1;33m[\u001b[0m\u001b[1;34m\"emotion\"\u001b[0m\u001b[1;33m]\u001b[0m \u001b[1;33m=\u001b[0m \u001b[1;33m{\u001b[0m\u001b[1;33m}\u001b[0m\u001b[1;33m\u001b[0m\u001b[1;33m\u001b[0m\u001b[0m\n",
      "\u001b[1;32m~\\anaconda3\\Lib\\site-packages\\deepface\\models\\demography\\Emotion.py\u001b[0m in \u001b[0;36m?\u001b[1;34m(self, img)\u001b[0m\n\u001b[0;32m     53\u001b[0m         \u001b[0mimg_gray\u001b[0m \u001b[1;33m=\u001b[0m \u001b[0mnp\u001b[0m\u001b[1;33m.\u001b[0m\u001b[0mexpand_dims\u001b[0m\u001b[1;33m(\u001b[0m\u001b[0mimg_gray\u001b[0m\u001b[1;33m,\u001b[0m \u001b[0maxis\u001b[0m\u001b[1;33m=\u001b[0m\u001b[1;36m0\u001b[0m\u001b[1;33m)\u001b[0m\u001b[1;33m\u001b[0m\u001b[1;33m\u001b[0m\u001b[0m\n\u001b[0;32m     54\u001b[0m \u001b[1;33m\u001b[0m\u001b[0m\n\u001b[0;32m     55\u001b[0m         \u001b[1;31m# model.predict causes memory issue when it is called in a for loop\u001b[0m\u001b[1;33m\u001b[0m\u001b[1;33m\u001b[0m\u001b[0m\n\u001b[0;32m     56\u001b[0m         \u001b[1;31m# emotion_predictions = self.model.predict(img_gray, verbose=0)[0, :]\u001b[0m\u001b[1;33m\u001b[0m\u001b[1;33m\u001b[0m\u001b[0m\n\u001b[1;32m---> 57\u001b[1;33m         \u001b[0memotion_predictions\u001b[0m \u001b[1;33m=\u001b[0m \u001b[0mself\u001b[0m\u001b[1;33m.\u001b[0m\u001b[0mmodel\u001b[0m\u001b[1;33m(\u001b[0m\u001b[0mimg_gray\u001b[0m\u001b[1;33m,\u001b[0m \u001b[0mtraining\u001b[0m\u001b[1;33m=\u001b[0m\u001b[1;32mFalse\u001b[0m\u001b[1;33m)\u001b[0m\u001b[1;33m.\u001b[0m\u001b[0mnumpy\u001b[0m\u001b[1;33m(\u001b[0m\u001b[1;33m)\u001b[0m\u001b[1;33m[\u001b[0m\u001b[1;36m0\u001b[0m\u001b[1;33m,\u001b[0m \u001b[1;33m:\u001b[0m\u001b[1;33m]\u001b[0m\u001b[1;33m\u001b[0m\u001b[1;33m\u001b[0m\u001b[0m\n\u001b[0m\u001b[0;32m     58\u001b[0m \u001b[1;33m\u001b[0m\u001b[0m\n\u001b[0;32m     59\u001b[0m         \u001b[1;32mreturn\u001b[0m \u001b[0memotion_predictions\u001b[0m\u001b[1;33m\u001b[0m\u001b[1;33m\u001b[0m\u001b[0m\n",
      "\u001b[1;32m~\\anaconda3\\Lib\\site-packages\\tf_keras\\src\\utils\\traceback_utils.py\u001b[0m in \u001b[0;36m?\u001b[1;34m(*args, **kwargs)\u001b[0m\n\u001b[0;32m     68\u001b[0m             \u001b[1;31m# To get the full stack trace, call:\u001b[0m\u001b[1;33m\u001b[0m\u001b[1;33m\u001b[0m\u001b[0m\n\u001b[0;32m     69\u001b[0m             \u001b[1;31m# `tf.debugging.disable_traceback_filtering()`\u001b[0m\u001b[1;33m\u001b[0m\u001b[1;33m\u001b[0m\u001b[0m\n\u001b[0;32m     70\u001b[0m             \u001b[1;32mraise\u001b[0m \u001b[0me\u001b[0m\u001b[1;33m.\u001b[0m\u001b[0mwith_traceback\u001b[0m\u001b[1;33m(\u001b[0m\u001b[0mfiltered_tb\u001b[0m\u001b[1;33m)\u001b[0m \u001b[1;32mfrom\u001b[0m \u001b[1;32mNone\u001b[0m\u001b[1;33m\u001b[0m\u001b[1;33m\u001b[0m\u001b[0m\n\u001b[0;32m     71\u001b[0m         \u001b[1;32mfinally\u001b[0m\u001b[1;33m:\u001b[0m\u001b[1;33m\u001b[0m\u001b[1;33m\u001b[0m\u001b[0m\n\u001b[1;32m---> 72\u001b[1;33m             \u001b[1;32mdel\u001b[0m \u001b[0mfiltered_tb\u001b[0m\u001b[1;33m\u001b[0m\u001b[1;33m\u001b[0m\u001b[0m\n\u001b[0m",
      "\u001b[1;32m~\\anaconda3\\Lib\\site-packages\\tf_keras\\src\\engine\\training.py\u001b[0m in \u001b[0;36m?\u001b[1;34m(self, *args, **kwargs)\u001b[0m\n\u001b[0;32m    584\u001b[0m                 \u001b[0msuper\u001b[0m\u001b[1;33m(\u001b[0m\u001b[1;33m)\u001b[0m\u001b[1;33m.\u001b[0m\u001b[0m__call__\u001b[0m\u001b[1;33m(\u001b[0m\u001b[0minputs\u001b[0m\u001b[1;33m,\u001b[0m \u001b[1;33m*\u001b[0m\u001b[0mcopied_args\u001b[0m\u001b[1;33m,\u001b[0m \u001b[1;33m**\u001b[0m\u001b[0mcopied_kwargs\u001b[0m\u001b[1;33m)\u001b[0m\u001b[1;33m\u001b[0m\u001b[1;33m\u001b[0m\u001b[0m\n\u001b[0;32m    585\u001b[0m \u001b[1;33m\u001b[0m\u001b[0m\n\u001b[0;32m    586\u001b[0m             \u001b[0mlayout_map_lib\u001b[0m\u001b[1;33m.\u001b[0m\u001b[0m_map_subclass_model_variable\u001b[0m\u001b[1;33m(\u001b[0m\u001b[0mself\u001b[0m\u001b[1;33m,\u001b[0m \u001b[0mself\u001b[0m\u001b[1;33m.\u001b[0m\u001b[0m_layout_map\u001b[0m\u001b[1;33m)\u001b[0m\u001b[1;33m\u001b[0m\u001b[1;33m\u001b[0m\u001b[0m\n\u001b[0;32m    587\u001b[0m \u001b[1;33m\u001b[0m\u001b[0m\n\u001b[1;32m--> 588\u001b[1;33m         \u001b[1;32mreturn\u001b[0m \u001b[0msuper\u001b[0m\u001b[1;33m(\u001b[0m\u001b[1;33m)\u001b[0m\u001b[1;33m.\u001b[0m\u001b[0m__call__\u001b[0m\u001b[1;33m(\u001b[0m\u001b[1;33m*\u001b[0m\u001b[0margs\u001b[0m\u001b[1;33m,\u001b[0m \u001b[1;33m**\u001b[0m\u001b[0mkwargs\u001b[0m\u001b[1;33m)\u001b[0m\u001b[1;33m\u001b[0m\u001b[1;33m\u001b[0m\u001b[0m\n\u001b[0m",
      "\u001b[1;32m~\\anaconda3\\Lib\\site-packages\\tf_keras\\src\\utils\\traceback_utils.py\u001b[0m in \u001b[0;36m?\u001b[1;34m(*args, **kwargs)\u001b[0m\n\u001b[0;32m     68\u001b[0m             \u001b[1;31m# To get the full stack trace, call:\u001b[0m\u001b[1;33m\u001b[0m\u001b[1;33m\u001b[0m\u001b[0m\n\u001b[0;32m     69\u001b[0m             \u001b[1;31m# `tf.debugging.disable_traceback_filtering()`\u001b[0m\u001b[1;33m\u001b[0m\u001b[1;33m\u001b[0m\u001b[0m\n\u001b[0;32m     70\u001b[0m             \u001b[1;32mraise\u001b[0m \u001b[0me\u001b[0m\u001b[1;33m.\u001b[0m\u001b[0mwith_traceback\u001b[0m\u001b[1;33m(\u001b[0m\u001b[0mfiltered_tb\u001b[0m\u001b[1;33m)\u001b[0m \u001b[1;32mfrom\u001b[0m \u001b[1;32mNone\u001b[0m\u001b[1;33m\u001b[0m\u001b[1;33m\u001b[0m\u001b[0m\n\u001b[0;32m     71\u001b[0m         \u001b[1;32mfinally\u001b[0m\u001b[1;33m:\u001b[0m\u001b[1;33m\u001b[0m\u001b[1;33m\u001b[0m\u001b[0m\n\u001b[1;32m---> 72\u001b[1;33m             \u001b[1;32mdel\u001b[0m \u001b[0mfiltered_tb\u001b[0m\u001b[1;33m\u001b[0m\u001b[1;33m\u001b[0m\u001b[0m\n\u001b[0m",
      "\u001b[1;32m~\\anaconda3\\Lib\\site-packages\\tf_keras\\src\\engine\\base_layer.py\u001b[0m in \u001b[0;36m?\u001b[1;34m(self, *args, **kwargs)\u001b[0m\n\u001b[0;32m   1138\u001b[0m \u001b[1;33m\u001b[0m\u001b[0m\n\u001b[0;32m   1139\u001b[0m                 with autocast_variable.enable_auto_cast_variables(\n\u001b[0;32m   1140\u001b[0m                     \u001b[0mself\u001b[0m\u001b[1;33m.\u001b[0m\u001b[0m_compute_dtype_object\u001b[0m\u001b[1;33m\u001b[0m\u001b[1;33m\u001b[0m\u001b[0m\n\u001b[0;32m   1141\u001b[0m                 \u001b[1;33m)\u001b[0m\u001b[1;33m:\u001b[0m\u001b[1;33m\u001b[0m\u001b[1;33m\u001b[0m\u001b[0m\n\u001b[1;32m-> 1142\u001b[1;33m                     \u001b[0moutputs\u001b[0m \u001b[1;33m=\u001b[0m \u001b[0mcall_fn\u001b[0m\u001b[1;33m(\u001b[0m\u001b[0minputs\u001b[0m\u001b[1;33m,\u001b[0m \u001b[1;33m*\u001b[0m\u001b[0margs\u001b[0m\u001b[1;33m,\u001b[0m \u001b[1;33m**\u001b[0m\u001b[0mkwargs\u001b[0m\u001b[1;33m)\u001b[0m\u001b[1;33m\u001b[0m\u001b[1;33m\u001b[0m\u001b[0m\n\u001b[0m\u001b[0;32m   1143\u001b[0m \u001b[1;33m\u001b[0m\u001b[0m\n\u001b[0;32m   1144\u001b[0m                 \u001b[1;32mif\u001b[0m \u001b[0mself\u001b[0m\u001b[1;33m.\u001b[0m\u001b[0m_activity_regularizer\u001b[0m\u001b[1;33m:\u001b[0m\u001b[1;33m\u001b[0m\u001b[1;33m\u001b[0m\u001b[0m\n\u001b[0;32m   1145\u001b[0m                     \u001b[0mself\u001b[0m\u001b[1;33m.\u001b[0m\u001b[0m_handle_activity_regularization\u001b[0m\u001b[1;33m(\u001b[0m\u001b[0minputs\u001b[0m\u001b[1;33m,\u001b[0m \u001b[0moutputs\u001b[0m\u001b[1;33m)\u001b[0m\u001b[1;33m\u001b[0m\u001b[1;33m\u001b[0m\u001b[0m\n",
      "\u001b[1;32m~\\anaconda3\\Lib\\site-packages\\tf_keras\\src\\utils\\traceback_utils.py\u001b[0m in \u001b[0;36m?\u001b[1;34m(*args, **kwargs)\u001b[0m\n\u001b[0;32m    154\u001b[0m                 \u001b[0mnew_e\u001b[0m \u001b[1;33m=\u001b[0m \u001b[0me\u001b[0m\u001b[1;33m\u001b[0m\u001b[1;33m\u001b[0m\u001b[0m\n\u001b[0;32m    155\u001b[0m             \u001b[1;32mraise\u001b[0m \u001b[0mnew_e\u001b[0m\u001b[1;33m.\u001b[0m\u001b[0mwith_traceback\u001b[0m\u001b[1;33m(\u001b[0m\u001b[0me\u001b[0m\u001b[1;33m.\u001b[0m\u001b[0m__traceback__\u001b[0m\u001b[1;33m)\u001b[0m \u001b[1;32mfrom\u001b[0m \u001b[1;32mNone\u001b[0m\u001b[1;33m\u001b[0m\u001b[1;33m\u001b[0m\u001b[0m\n\u001b[0;32m    156\u001b[0m         \u001b[1;32mfinally\u001b[0m\u001b[1;33m:\u001b[0m\u001b[1;33m\u001b[0m\u001b[1;33m\u001b[0m\u001b[0m\n\u001b[0;32m    157\u001b[0m             \u001b[1;32mdel\u001b[0m \u001b[0msignature\u001b[0m\u001b[1;33m\u001b[0m\u001b[1;33m\u001b[0m\u001b[0m\n\u001b[1;32m--> 158\u001b[1;33m             \u001b[1;32mdel\u001b[0m \u001b[0mbound_signature\u001b[0m\u001b[1;33m\u001b[0m\u001b[1;33m\u001b[0m\u001b[0m\n\u001b[0m",
      "\u001b[1;32m~\\anaconda3\\Lib\\site-packages\\tf_keras\\src\\engine\\sequential.py\u001b[0m in \u001b[0;36m?\u001b[1;34m(self, inputs, training, mask)\u001b[0m\n\u001b[0;32m    393\u001b[0m \u001b[1;33m\u001b[0m\u001b[0m\n\u001b[0;32m    394\u001b[0m         \u001b[1;32mif\u001b[0m \u001b[0mself\u001b[0m\u001b[1;33m.\u001b[0m\u001b[0m_graph_initialized\u001b[0m\u001b[1;33m:\u001b[0m\u001b[1;33m\u001b[0m\u001b[1;33m\u001b[0m\u001b[0m\n\u001b[0;32m    395\u001b[0m             \u001b[1;32mif\u001b[0m \u001b[1;32mnot\u001b[0m \u001b[0mself\u001b[0m\u001b[1;33m.\u001b[0m\u001b[0mbuilt\u001b[0m\u001b[1;33m:\u001b[0m\u001b[1;33m\u001b[0m\u001b[1;33m\u001b[0m\u001b[0m\n\u001b[0;32m    396\u001b[0m                 \u001b[0mself\u001b[0m\u001b[1;33m.\u001b[0m\u001b[0m_init_graph_network\u001b[0m\u001b[1;33m(\u001b[0m\u001b[0mself\u001b[0m\u001b[1;33m.\u001b[0m\u001b[0minputs\u001b[0m\u001b[1;33m,\u001b[0m \u001b[0mself\u001b[0m\u001b[1;33m.\u001b[0m\u001b[0moutputs\u001b[0m\u001b[1;33m)\u001b[0m\u001b[1;33m\u001b[0m\u001b[1;33m\u001b[0m\u001b[0m\n\u001b[1;32m--> 397\u001b[1;33m             \u001b[1;32mreturn\u001b[0m \u001b[0msuper\u001b[0m\u001b[1;33m(\u001b[0m\u001b[1;33m)\u001b[0m\u001b[1;33m.\u001b[0m\u001b[0mcall\u001b[0m\u001b[1;33m(\u001b[0m\u001b[0minputs\u001b[0m\u001b[1;33m,\u001b[0m \u001b[0mtraining\u001b[0m\u001b[1;33m=\u001b[0m\u001b[0mtraining\u001b[0m\u001b[1;33m,\u001b[0m \u001b[0mmask\u001b[0m\u001b[1;33m=\u001b[0m\u001b[0mmask\u001b[0m\u001b[1;33m)\u001b[0m\u001b[1;33m\u001b[0m\u001b[1;33m\u001b[0m\u001b[0m\n\u001b[0m\u001b[0;32m    398\u001b[0m \u001b[1;33m\u001b[0m\u001b[0m\n\u001b[0;32m    399\u001b[0m         \u001b[0moutputs\u001b[0m \u001b[1;33m=\u001b[0m \u001b[0minputs\u001b[0m  \u001b[1;31m# handle the corner case where self.layers is empty\u001b[0m\u001b[1;33m\u001b[0m\u001b[1;33m\u001b[0m\u001b[0m\n\u001b[0;32m    400\u001b[0m         \u001b[1;32mfor\u001b[0m \u001b[0mlayer\u001b[0m \u001b[1;32min\u001b[0m \u001b[0mself\u001b[0m\u001b[1;33m.\u001b[0m\u001b[0mlayers\u001b[0m\u001b[1;33m:\u001b[0m\u001b[1;33m\u001b[0m\u001b[1;33m\u001b[0m\u001b[0m\n",
      "\u001b[1;32m~\\anaconda3\\Lib\\site-packages\\tf_keras\\src\\engine\\functional.py\u001b[0m in \u001b[0;36m?\u001b[1;34m(self, inputs, training, mask)\u001b[0m\n\u001b[0;32m    510\u001b[0m         \u001b[0mReturns\u001b[0m\u001b[1;33m:\u001b[0m\u001b[1;33m\u001b[0m\u001b[1;33m\u001b[0m\u001b[0m\n\u001b[0;32m    511\u001b[0m             \u001b[0mA\u001b[0m \u001b[0mtensor\u001b[0m \u001b[1;32mif\u001b[0m \u001b[0mthere\u001b[0m \u001b[1;32mis\u001b[0m \u001b[0ma\u001b[0m \u001b[0msingle\u001b[0m \u001b[0moutput\u001b[0m\u001b[1;33m,\u001b[0m \u001b[1;32mor\u001b[0m\u001b[1;33m\u001b[0m\u001b[1;33m\u001b[0m\u001b[0m\n\u001b[0;32m    512\u001b[0m             \u001b[0ma\u001b[0m \u001b[0mlist\u001b[0m \u001b[0mof\u001b[0m \u001b[0mtensors\u001b[0m \u001b[1;32mif\u001b[0m \u001b[0mthere\u001b[0m \u001b[0mare\u001b[0m \u001b[0mmore\u001b[0m \u001b[0mthan\u001b[0m \u001b[0mone\u001b[0m \u001b[0moutputs\u001b[0m\u001b[1;33m.\u001b[0m\u001b[1;33m\u001b[0m\u001b[1;33m\u001b[0m\u001b[0m\n\u001b[0;32m    513\u001b[0m         \"\"\"\n\u001b[1;32m--> 514\u001b[1;33m         \u001b[1;32mreturn\u001b[0m \u001b[0mself\u001b[0m\u001b[1;33m.\u001b[0m\u001b[0m_run_internal_graph\u001b[0m\u001b[1;33m(\u001b[0m\u001b[0minputs\u001b[0m\u001b[1;33m,\u001b[0m \u001b[0mtraining\u001b[0m\u001b[1;33m=\u001b[0m\u001b[0mtraining\u001b[0m\u001b[1;33m,\u001b[0m \u001b[0mmask\u001b[0m\u001b[1;33m=\u001b[0m\u001b[0mmask\u001b[0m\u001b[1;33m)\u001b[0m\u001b[1;33m\u001b[0m\u001b[1;33m\u001b[0m\u001b[0m\n\u001b[0m",
      "\u001b[1;32m~\\anaconda3\\Lib\\site-packages\\tf_keras\\src\\engine\\functional.py\u001b[0m in \u001b[0;36m?\u001b[1;34m(self, inputs, training, mask)\u001b[0m\n\u001b[0;32m    667\u001b[0m                 \u001b[1;32mif\u001b[0m \u001b[0many\u001b[0m\u001b[1;33m(\u001b[0m\u001b[0mt_id\u001b[0m \u001b[1;32mnot\u001b[0m \u001b[1;32min\u001b[0m \u001b[0mtensor_dict\u001b[0m \u001b[1;32mfor\u001b[0m \u001b[0mt_id\u001b[0m \u001b[1;32min\u001b[0m \u001b[0mnode\u001b[0m\u001b[1;33m.\u001b[0m\u001b[0mflat_input_ids\u001b[0m\u001b[1;33m)\u001b[0m\u001b[1;33m:\u001b[0m\u001b[1;33m\u001b[0m\u001b[1;33m\u001b[0m\u001b[0m\n\u001b[0;32m    668\u001b[0m                     \u001b[1;32mcontinue\u001b[0m  \u001b[1;31m# Node is not computable, try skipping.\u001b[0m\u001b[1;33m\u001b[0m\u001b[1;33m\u001b[0m\u001b[0m\n\u001b[0;32m    669\u001b[0m \u001b[1;33m\u001b[0m\u001b[0m\n\u001b[0;32m    670\u001b[0m                 \u001b[0margs\u001b[0m\u001b[1;33m,\u001b[0m \u001b[0mkwargs\u001b[0m \u001b[1;33m=\u001b[0m \u001b[0mnode\u001b[0m\u001b[1;33m.\u001b[0m\u001b[0mmap_arguments\u001b[0m\u001b[1;33m(\u001b[0m\u001b[0mtensor_dict\u001b[0m\u001b[1;33m)\u001b[0m\u001b[1;33m\u001b[0m\u001b[1;33m\u001b[0m\u001b[0m\n\u001b[1;32m--> 671\u001b[1;33m                 \u001b[0moutputs\u001b[0m \u001b[1;33m=\u001b[0m \u001b[0mnode\u001b[0m\u001b[1;33m.\u001b[0m\u001b[0mlayer\u001b[0m\u001b[1;33m(\u001b[0m\u001b[1;33m*\u001b[0m\u001b[0margs\u001b[0m\u001b[1;33m,\u001b[0m \u001b[1;33m**\u001b[0m\u001b[0mkwargs\u001b[0m\u001b[1;33m)\u001b[0m\u001b[1;33m\u001b[0m\u001b[1;33m\u001b[0m\u001b[0m\n\u001b[0m\u001b[0;32m    672\u001b[0m \u001b[1;33m\u001b[0m\u001b[0m\n\u001b[0;32m    673\u001b[0m                 \u001b[1;31m# Update tensor_dict.\u001b[0m\u001b[1;33m\u001b[0m\u001b[1;33m\u001b[0m\u001b[0m\n\u001b[0;32m    674\u001b[0m                 for x_id, y in zip(\n",
      "\u001b[1;32m~\\anaconda3\\Lib\\site-packages\\tf_keras\\src\\utils\\traceback_utils.py\u001b[0m in \u001b[0;36m?\u001b[1;34m(*args, **kwargs)\u001b[0m\n\u001b[0;32m     68\u001b[0m             \u001b[1;31m# To get the full stack trace, call:\u001b[0m\u001b[1;33m\u001b[0m\u001b[1;33m\u001b[0m\u001b[0m\n\u001b[0;32m     69\u001b[0m             \u001b[1;31m# `tf.debugging.disable_traceback_filtering()`\u001b[0m\u001b[1;33m\u001b[0m\u001b[1;33m\u001b[0m\u001b[0m\n\u001b[0;32m     70\u001b[0m             \u001b[1;32mraise\u001b[0m \u001b[0me\u001b[0m\u001b[1;33m.\u001b[0m\u001b[0mwith_traceback\u001b[0m\u001b[1;33m(\u001b[0m\u001b[0mfiltered_tb\u001b[0m\u001b[1;33m)\u001b[0m \u001b[1;32mfrom\u001b[0m \u001b[1;32mNone\u001b[0m\u001b[1;33m\u001b[0m\u001b[1;33m\u001b[0m\u001b[0m\n\u001b[0;32m     71\u001b[0m         \u001b[1;32mfinally\u001b[0m\u001b[1;33m:\u001b[0m\u001b[1;33m\u001b[0m\u001b[1;33m\u001b[0m\u001b[0m\n\u001b[1;32m---> 72\u001b[1;33m             \u001b[1;32mdel\u001b[0m \u001b[0mfiltered_tb\u001b[0m\u001b[1;33m\u001b[0m\u001b[1;33m\u001b[0m\u001b[0m\n\u001b[0m",
      "\u001b[1;32m~\\anaconda3\\Lib\\site-packages\\tf_keras\\src\\engine\\base_layer.py\u001b[0m in \u001b[0;36m?\u001b[1;34m(self, *args, **kwargs)\u001b[0m\n\u001b[0;32m   1138\u001b[0m \u001b[1;33m\u001b[0m\u001b[0m\n\u001b[0;32m   1139\u001b[0m                 with autocast_variable.enable_auto_cast_variables(\n\u001b[0;32m   1140\u001b[0m                     \u001b[0mself\u001b[0m\u001b[1;33m.\u001b[0m\u001b[0m_compute_dtype_object\u001b[0m\u001b[1;33m\u001b[0m\u001b[1;33m\u001b[0m\u001b[0m\n\u001b[0;32m   1141\u001b[0m                 \u001b[1;33m)\u001b[0m\u001b[1;33m:\u001b[0m\u001b[1;33m\u001b[0m\u001b[1;33m\u001b[0m\u001b[0m\n\u001b[1;32m-> 1142\u001b[1;33m                     \u001b[0moutputs\u001b[0m \u001b[1;33m=\u001b[0m \u001b[0mcall_fn\u001b[0m\u001b[1;33m(\u001b[0m\u001b[0minputs\u001b[0m\u001b[1;33m,\u001b[0m \u001b[1;33m*\u001b[0m\u001b[0margs\u001b[0m\u001b[1;33m,\u001b[0m \u001b[1;33m**\u001b[0m\u001b[0mkwargs\u001b[0m\u001b[1;33m)\u001b[0m\u001b[1;33m\u001b[0m\u001b[1;33m\u001b[0m\u001b[0m\n\u001b[0m\u001b[0;32m   1143\u001b[0m \u001b[1;33m\u001b[0m\u001b[0m\n\u001b[0;32m   1144\u001b[0m                 \u001b[1;32mif\u001b[0m \u001b[0mself\u001b[0m\u001b[1;33m.\u001b[0m\u001b[0m_activity_regularizer\u001b[0m\u001b[1;33m:\u001b[0m\u001b[1;33m\u001b[0m\u001b[1;33m\u001b[0m\u001b[0m\n\u001b[0;32m   1145\u001b[0m                     \u001b[0mself\u001b[0m\u001b[1;33m.\u001b[0m\u001b[0m_handle_activity_regularization\u001b[0m\u001b[1;33m(\u001b[0m\u001b[0minputs\u001b[0m\u001b[1;33m,\u001b[0m \u001b[0moutputs\u001b[0m\u001b[1;33m)\u001b[0m\u001b[1;33m\u001b[0m\u001b[1;33m\u001b[0m\u001b[0m\n",
      "\u001b[1;32m~\\anaconda3\\Lib\\site-packages\\tf_keras\\src\\utils\\traceback_utils.py\u001b[0m in \u001b[0;36m?\u001b[1;34m(*args, **kwargs)\u001b[0m\n\u001b[0;32m    154\u001b[0m                 \u001b[0mnew_e\u001b[0m \u001b[1;33m=\u001b[0m \u001b[0me\u001b[0m\u001b[1;33m\u001b[0m\u001b[1;33m\u001b[0m\u001b[0m\n\u001b[0;32m    155\u001b[0m             \u001b[1;32mraise\u001b[0m \u001b[0mnew_e\u001b[0m\u001b[1;33m.\u001b[0m\u001b[0mwith_traceback\u001b[0m\u001b[1;33m(\u001b[0m\u001b[0me\u001b[0m\u001b[1;33m.\u001b[0m\u001b[0m__traceback__\u001b[0m\u001b[1;33m)\u001b[0m \u001b[1;32mfrom\u001b[0m \u001b[1;32mNone\u001b[0m\u001b[1;33m\u001b[0m\u001b[1;33m\u001b[0m\u001b[0m\n\u001b[0;32m    156\u001b[0m         \u001b[1;32mfinally\u001b[0m\u001b[1;33m:\u001b[0m\u001b[1;33m\u001b[0m\u001b[1;33m\u001b[0m\u001b[0m\n\u001b[0;32m    157\u001b[0m             \u001b[1;32mdel\u001b[0m \u001b[0msignature\u001b[0m\u001b[1;33m\u001b[0m\u001b[1;33m\u001b[0m\u001b[0m\n\u001b[1;32m--> 158\u001b[1;33m             \u001b[1;32mdel\u001b[0m \u001b[0mbound_signature\u001b[0m\u001b[1;33m\u001b[0m\u001b[1;33m\u001b[0m\u001b[0m\n\u001b[0m",
      "\u001b[1;32m~\\anaconda3\\Lib\\site-packages\\tf_keras\\src\\layers\\convolutional\\base_conv.py\u001b[0m in \u001b[0;36m?\u001b[1;34m(self, inputs)\u001b[0m\n\u001b[0;32m    285\u001b[0m             outputs = self._jit_compiled_convolution_op(\n\u001b[0;32m    286\u001b[0m                 \u001b[0minputs\u001b[0m\u001b[1;33m,\u001b[0m \u001b[0mtf\u001b[0m\u001b[1;33m.\u001b[0m\u001b[0mconvert_to_tensor\u001b[0m\u001b[1;33m(\u001b[0m\u001b[0mself\u001b[0m\u001b[1;33m.\u001b[0m\u001b[0mkernel\u001b[0m\u001b[1;33m)\u001b[0m\u001b[1;33m\u001b[0m\u001b[1;33m\u001b[0m\u001b[0m\n\u001b[0;32m    287\u001b[0m             \u001b[1;33m)\u001b[0m\u001b[1;33m\u001b[0m\u001b[1;33m\u001b[0m\u001b[0m\n\u001b[0;32m    288\u001b[0m         \u001b[1;32melse\u001b[0m\u001b[1;33m:\u001b[0m\u001b[1;33m\u001b[0m\u001b[1;33m\u001b[0m\u001b[0m\n\u001b[1;32m--> 289\u001b[1;33m             \u001b[0moutputs\u001b[0m \u001b[1;33m=\u001b[0m \u001b[0mself\u001b[0m\u001b[1;33m.\u001b[0m\u001b[0mconvolution_op\u001b[0m\u001b[1;33m(\u001b[0m\u001b[0minputs\u001b[0m\u001b[1;33m,\u001b[0m \u001b[0mself\u001b[0m\u001b[1;33m.\u001b[0m\u001b[0mkernel\u001b[0m\u001b[1;33m)\u001b[0m\u001b[1;33m\u001b[0m\u001b[1;33m\u001b[0m\u001b[0m\n\u001b[0m\u001b[0;32m    290\u001b[0m \u001b[1;33m\u001b[0m\u001b[0m\n\u001b[0;32m    291\u001b[0m         \u001b[1;32mif\u001b[0m \u001b[0mself\u001b[0m\u001b[1;33m.\u001b[0m\u001b[0muse_bias\u001b[0m\u001b[1;33m:\u001b[0m\u001b[1;33m\u001b[0m\u001b[1;33m\u001b[0m\u001b[0m\n\u001b[0;32m    292\u001b[0m             \u001b[0moutput_rank\u001b[0m \u001b[1;33m=\u001b[0m \u001b[0moutputs\u001b[0m\u001b[1;33m.\u001b[0m\u001b[0mshape\u001b[0m\u001b[1;33m.\u001b[0m\u001b[0mrank\u001b[0m\u001b[1;33m\u001b[0m\u001b[1;33m\u001b[0m\u001b[0m\n",
      "\u001b[1;32m~\\anaconda3\\Lib\\site-packages\\tf_keras\\src\\layers\\convolutional\\base_conv.py\u001b[0m in \u001b[0;36m?\u001b[1;34m(self, inputs, kernel)\u001b[0m\n\u001b[0;32m    257\u001b[0m             \u001b[0mtf_padding\u001b[0m \u001b[1;33m=\u001b[0m \u001b[0mself\u001b[0m\u001b[1;33m.\u001b[0m\u001b[0mpadding\u001b[0m\u001b[1;33m.\u001b[0m\u001b[0mupper\u001b[0m\u001b[1;33m(\u001b[0m\u001b[1;33m)\u001b[0m\u001b[1;33m\u001b[0m\u001b[1;33m\u001b[0m\u001b[0m\n\u001b[0;32m    258\u001b[0m         \u001b[1;32melse\u001b[0m\u001b[1;33m:\u001b[0m\u001b[1;33m\u001b[0m\u001b[1;33m\u001b[0m\u001b[0m\n\u001b[0;32m    259\u001b[0m             \u001b[0mtf_padding\u001b[0m \u001b[1;33m=\u001b[0m \u001b[0mself\u001b[0m\u001b[1;33m.\u001b[0m\u001b[0mpadding\u001b[0m\u001b[1;33m\u001b[0m\u001b[1;33m\u001b[0m\u001b[0m\n\u001b[0;32m    260\u001b[0m \u001b[1;33m\u001b[0m\u001b[0m\n\u001b[1;32m--> 261\u001b[1;33m         return tf.nn.convolution(\n\u001b[0m\u001b[0;32m    262\u001b[0m             \u001b[0minputs\u001b[0m\u001b[1;33m,\u001b[0m\u001b[1;33m\u001b[0m\u001b[1;33m\u001b[0m\u001b[0m\n\u001b[0;32m    263\u001b[0m             \u001b[0mkernel\u001b[0m\u001b[1;33m,\u001b[0m\u001b[1;33m\u001b[0m\u001b[1;33m\u001b[0m\u001b[0m\n\u001b[0;32m    264\u001b[0m             \u001b[0mstrides\u001b[0m\u001b[1;33m=\u001b[0m\u001b[0mlist\u001b[0m\u001b[1;33m(\u001b[0m\u001b[0mself\u001b[0m\u001b[1;33m.\u001b[0m\u001b[0mstrides\u001b[0m\u001b[1;33m)\u001b[0m\u001b[1;33m,\u001b[0m\u001b[1;33m\u001b[0m\u001b[1;33m\u001b[0m\u001b[0m\n",
      "\u001b[1;32m~\\anaconda3\\Lib\\site-packages\\tensorflow\\python\\util\\traceback_utils.py\u001b[0m in \u001b[0;36m?\u001b[1;34m(*args, **kwargs)\u001b[0m\n\u001b[0;32m    151\u001b[0m     \u001b[1;32mexcept\u001b[0m \u001b[0mException\u001b[0m \u001b[1;32mas\u001b[0m \u001b[0me\u001b[0m\u001b[1;33m:\u001b[0m\u001b[1;33m\u001b[0m\u001b[1;33m\u001b[0m\u001b[0m\n\u001b[0;32m    152\u001b[0m       \u001b[0mfiltered_tb\u001b[0m \u001b[1;33m=\u001b[0m \u001b[0m_process_traceback_frames\u001b[0m\u001b[1;33m(\u001b[0m\u001b[0me\u001b[0m\u001b[1;33m.\u001b[0m\u001b[0m__traceback__\u001b[0m\u001b[1;33m)\u001b[0m\u001b[1;33m\u001b[0m\u001b[1;33m\u001b[0m\u001b[0m\n\u001b[0;32m    153\u001b[0m       \u001b[1;32mraise\u001b[0m \u001b[0me\u001b[0m\u001b[1;33m.\u001b[0m\u001b[0mwith_traceback\u001b[0m\u001b[1;33m(\u001b[0m\u001b[0mfiltered_tb\u001b[0m\u001b[1;33m)\u001b[0m \u001b[1;32mfrom\u001b[0m \u001b[1;32mNone\u001b[0m\u001b[1;33m\u001b[0m\u001b[1;33m\u001b[0m\u001b[0m\n\u001b[0;32m    154\u001b[0m     \u001b[1;32mfinally\u001b[0m\u001b[1;33m:\u001b[0m\u001b[1;33m\u001b[0m\u001b[1;33m\u001b[0m\u001b[0m\n\u001b[1;32m--> 155\u001b[1;33m       \u001b[1;32mdel\u001b[0m \u001b[0mfiltered_tb\u001b[0m\u001b[1;33m\u001b[0m\u001b[1;33m\u001b[0m\u001b[0m\n\u001b[0m",
      "\u001b[1;32m~\\anaconda3\\Lib\\site-packages\\tensorflow\\python\\util\\dispatch.py\u001b[0m in \u001b[0;36m?\u001b[1;34m(*args, **kwargs)\u001b[0m\n\u001b[0;32m   1257\u001b[0m \u001b[1;33m\u001b[0m\u001b[0m\n\u001b[0;32m   1258\u001b[0m       \u001b[1;31m# Fallback dispatch system (dispatch v1):\u001b[0m\u001b[1;33m\u001b[0m\u001b[1;33m\u001b[0m\u001b[0m\n\u001b[0;32m   1259\u001b[0m       \u001b[1;32mtry\u001b[0m\u001b[1;33m:\u001b[0m\u001b[1;33m\u001b[0m\u001b[1;33m\u001b[0m\u001b[0m\n\u001b[0;32m   1260\u001b[0m         \u001b[1;32mreturn\u001b[0m \u001b[0mdispatch_target\u001b[0m\u001b[1;33m(\u001b[0m\u001b[1;33m*\u001b[0m\u001b[0margs\u001b[0m\u001b[1;33m,\u001b[0m \u001b[1;33m**\u001b[0m\u001b[0mkwargs\u001b[0m\u001b[1;33m)\u001b[0m\u001b[1;33m\u001b[0m\u001b[1;33m\u001b[0m\u001b[0m\n\u001b[1;32m-> 1261\u001b[1;33m       \u001b[1;32mexcept\u001b[0m \u001b[1;33m(\u001b[0m\u001b[0mTypeError\u001b[0m\u001b[1;33m,\u001b[0m \u001b[0mValueError\u001b[0m\u001b[1;33m)\u001b[0m\u001b[1;33m:\u001b[0m\u001b[1;33m\u001b[0m\u001b[1;33m\u001b[0m\u001b[0m\n\u001b[0m\u001b[0;32m   1262\u001b[0m         \u001b[1;31m# Note: convert_to_eager_tensor currently raises a ValueError, not a\u001b[0m\u001b[1;33m\u001b[0m\u001b[1;33m\u001b[0m\u001b[0m\n\u001b[0;32m   1263\u001b[0m         \u001b[1;31m# TypeError, when given unexpected types.  So we need to catch both.\u001b[0m\u001b[1;33m\u001b[0m\u001b[1;33m\u001b[0m\u001b[0m\n\u001b[0;32m   1264\u001b[0m         \u001b[0mresult\u001b[0m \u001b[1;33m=\u001b[0m \u001b[0mdispatch\u001b[0m\u001b[1;33m(\u001b[0m\u001b[0mop_dispatch_handler\u001b[0m\u001b[1;33m,\u001b[0m \u001b[0margs\u001b[0m\u001b[1;33m,\u001b[0m \u001b[0mkwargs\u001b[0m\u001b[1;33m)\u001b[0m\u001b[1;33m\u001b[0m\u001b[1;33m\u001b[0m\u001b[0m\n",
      "\u001b[1;32m~\\anaconda3\\Lib\\site-packages\\tensorflow\\python\\ops\\nn_ops.py\u001b[0m in \u001b[0;36m?\u001b[1;34m(input, filters, strides, padding, data_format, dilations, name)\u001b[0m\n\u001b[0;32m   1182\u001b[0m     \u001b[0mpadding\u001b[0m\u001b[1;33m=\u001b[0m\u001b[1;34m\"VALID\"\u001b[0m\u001b[1;33m,\u001b[0m\u001b[1;33m\u001b[0m\u001b[1;33m\u001b[0m\u001b[0m\n\u001b[0;32m   1183\u001b[0m     \u001b[0mdata_format\u001b[0m\u001b[1;33m=\u001b[0m\u001b[1;32mNone\u001b[0m\u001b[1;33m,\u001b[0m\u001b[1;33m\u001b[0m\u001b[1;33m\u001b[0m\u001b[0m\n\u001b[0;32m   1184\u001b[0m     \u001b[0mdilations\u001b[0m\u001b[1;33m=\u001b[0m\u001b[1;32mNone\u001b[0m\u001b[1;33m,\u001b[0m\u001b[1;33m\u001b[0m\u001b[1;33m\u001b[0m\u001b[0m\n\u001b[0;32m   1185\u001b[0m     \u001b[0mname\u001b[0m\u001b[1;33m=\u001b[0m\u001b[1;32mNone\u001b[0m\u001b[1;33m)\u001b[0m\u001b[1;33m:\u001b[0m\u001b[1;33m\u001b[0m\u001b[1;33m\u001b[0m\u001b[0m\n\u001b[1;32m-> 1186\u001b[1;33m   return convolution_internal(\n\u001b[0m\u001b[0;32m   1187\u001b[0m       \u001b[0minput\u001b[0m\u001b[1;33m,\u001b[0m  \u001b[1;31m# pylint: disable=redefined-builtin\u001b[0m\u001b[1;33m\u001b[0m\u001b[1;33m\u001b[0m\u001b[0m\n\u001b[0;32m   1188\u001b[0m       \u001b[0mfilters\u001b[0m\u001b[1;33m,\u001b[0m\u001b[1;33m\u001b[0m\u001b[1;33m\u001b[0m\u001b[0m\n\u001b[0;32m   1189\u001b[0m       \u001b[0mstrides\u001b[0m\u001b[1;33m=\u001b[0m\u001b[0mstrides\u001b[0m\u001b[1;33m,\u001b[0m\u001b[1;33m\u001b[0m\u001b[1;33m\u001b[0m\u001b[0m\n",
      "\u001b[1;32m~\\anaconda3\\Lib\\site-packages\\tensorflow\\python\\ops\\nn_ops.py\u001b[0m in \u001b[0;36m?\u001b[1;34m(input, filters, strides, padding, data_format, dilations, name, call_from_convolution, num_spatial_dims)\u001b[0m\n\u001b[0;32m   1315\u001b[0m         \u001b[0mop\u001b[0m \u001b[1;33m=\u001b[0m \u001b[0m_conv3d_expanded_batch\u001b[0m\u001b[1;33m\u001b[0m\u001b[1;33m\u001b[0m\u001b[0m\n\u001b[0;32m   1316\u001b[0m       \u001b[1;32melse\u001b[0m\u001b[1;33m:\u001b[0m\u001b[1;33m\u001b[0m\u001b[1;33m\u001b[0m\u001b[0m\n\u001b[0;32m   1317\u001b[0m         \u001b[0mop\u001b[0m \u001b[1;33m=\u001b[0m \u001b[0mconv1d\u001b[0m\u001b[1;33m\u001b[0m\u001b[1;33m\u001b[0m\u001b[0m\n\u001b[0;32m   1318\u001b[0m \u001b[1;33m\u001b[0m\u001b[0m\n\u001b[1;32m-> 1319\u001b[1;33m       return op(\n\u001b[0m\u001b[0;32m   1320\u001b[0m           \u001b[0minput\u001b[0m\u001b[1;33m,\u001b[0m\u001b[1;33m\u001b[0m\u001b[1;33m\u001b[0m\u001b[0m\n\u001b[0;32m   1321\u001b[0m           \u001b[0mfilters\u001b[0m\u001b[1;33m,\u001b[0m\u001b[1;33m\u001b[0m\u001b[1;33m\u001b[0m\u001b[0m\n\u001b[0;32m   1322\u001b[0m           \u001b[0mstrides\u001b[0m\u001b[1;33m,\u001b[0m\u001b[1;33m\u001b[0m\u001b[1;33m\u001b[0m\u001b[0m\n",
      "\u001b[1;32m~\\anaconda3\\Lib\\site-packages\\tensorflow\\python\\ops\\nn_ops.py\u001b[0m in \u001b[0;36m?\u001b[1;34m(input, filters, strides, padding, data_format, dilations, name)\u001b[0m\n\u001b[0;32m   2789\u001b[0m   \u001b[0minput_rank\u001b[0m \u001b[1;33m=\u001b[0m \u001b[0minput\u001b[0m\u001b[1;33m.\u001b[0m\u001b[0mshape\u001b[0m\u001b[1;33m.\u001b[0m\u001b[0mrank\u001b[0m\u001b[1;33m\u001b[0m\u001b[1;33m\u001b[0m\u001b[0m\n\u001b[0;32m   2790\u001b[0m   \u001b[1;32mif\u001b[0m \u001b[0minput_rank\u001b[0m \u001b[1;32mis\u001b[0m \u001b[1;32mNone\u001b[0m \u001b[1;32mor\u001b[0m \u001b[0minput_rank\u001b[0m \u001b[1;33m<\u001b[0m \u001b[1;36m5\u001b[0m\u001b[1;33m:\u001b[0m\u001b[1;33m\u001b[0m\u001b[1;33m\u001b[0m\u001b[0m\n\u001b[0;32m   2791\u001b[0m     \u001b[1;31m# We avoid calling squeeze_batch_dims to reduce extra python function\u001b[0m\u001b[1;33m\u001b[0m\u001b[1;33m\u001b[0m\u001b[0m\n\u001b[0;32m   2792\u001b[0m     \u001b[1;31m# call slowdown in eager mode.  This branch doesn't require reshapes.\u001b[0m\u001b[1;33m\u001b[0m\u001b[1;33m\u001b[0m\u001b[0m\n\u001b[1;32m-> 2793\u001b[1;33m     return gen_nn_ops.conv2d(\n\u001b[0m\u001b[0;32m   2794\u001b[0m         \u001b[0minput\u001b[0m\u001b[1;33m,\u001b[0m\u001b[1;33m\u001b[0m\u001b[1;33m\u001b[0m\u001b[0m\n\u001b[0;32m   2795\u001b[0m         \u001b[0mfilter\u001b[0m\u001b[1;33m=\u001b[0m\u001b[0mfilters\u001b[0m\u001b[1;33m,\u001b[0m\u001b[1;33m\u001b[0m\u001b[1;33m\u001b[0m\u001b[0m\n\u001b[0;32m   2796\u001b[0m         \u001b[0mstrides\u001b[0m\u001b[1;33m=\u001b[0m\u001b[0mstrides\u001b[0m\u001b[1;33m,\u001b[0m\u001b[1;33m\u001b[0m\u001b[1;33m\u001b[0m\u001b[0m\n",
      "\u001b[1;32m~\\anaconda3\\Lib\\site-packages\\tensorflow\\python\\ops\\gen_nn_ops.py\u001b[0m in \u001b[0;36m?\u001b[1;34m(input, filter, strides, padding, use_cudnn_on_gpu, explicit_paddings, data_format, dilations, name)\u001b[0m\n\u001b[0;32m   1458\u001b[0m         \u001b[1;34m\"dilations\"\u001b[0m\u001b[1;33m,\u001b[0m \u001b[0mdilations\u001b[0m\u001b[1;33m)\u001b[0m\u001b[1;33m\u001b[0m\u001b[1;33m\u001b[0m\u001b[0m\n\u001b[0;32m   1459\u001b[0m       \u001b[1;32mreturn\u001b[0m \u001b[0m_result\u001b[0m\u001b[1;33m\u001b[0m\u001b[1;33m\u001b[0m\u001b[0m\n\u001b[0;32m   1460\u001b[0m     \u001b[1;32mexcept\u001b[0m \u001b[0m_core\u001b[0m\u001b[1;33m.\u001b[0m\u001b[0m_NotOkStatusException\u001b[0m \u001b[1;32mas\u001b[0m \u001b[0me\u001b[0m\u001b[1;33m:\u001b[0m\u001b[1;33m\u001b[0m\u001b[1;33m\u001b[0m\u001b[0m\n\u001b[0;32m   1461\u001b[0m       \u001b[0m_ops\u001b[0m\u001b[1;33m.\u001b[0m\u001b[0mraise_from_not_ok_status\u001b[0m\u001b[1;33m(\u001b[0m\u001b[0me\u001b[0m\u001b[1;33m,\u001b[0m \u001b[0mname\u001b[0m\u001b[1;33m)\u001b[0m\u001b[1;33m\u001b[0m\u001b[1;33m\u001b[0m\u001b[0m\n\u001b[1;32m-> 1462\u001b[1;33m     \u001b[1;32mexcept\u001b[0m \u001b[0m_core\u001b[0m\u001b[1;33m.\u001b[0m\u001b[0m_FallbackException\u001b[0m\u001b[1;33m:\u001b[0m\u001b[1;33m\u001b[0m\u001b[1;33m\u001b[0m\u001b[0m\n\u001b[0m\u001b[0;32m   1463\u001b[0m       \u001b[1;32mpass\u001b[0m\u001b[1;33m\u001b[0m\u001b[1;33m\u001b[0m\u001b[0m\n\u001b[0;32m   1464\u001b[0m     \u001b[1;32mtry\u001b[0m\u001b[1;33m:\u001b[0m\u001b[1;33m\u001b[0m\u001b[1;33m\u001b[0m\u001b[0m\n\u001b[0;32m   1465\u001b[0m       return conv2d_eager_fallback(\n",
      "\u001b[1;31mKeyboardInterrupt\u001b[0m: "
     ]
    }
   ],
   "source": [
    "for obrazek1 in os.listdir(cesta_angry):  \n",
    "    cesta_obrazku = os.path.join(cesta_angry, obrazek1)  \n",
    "    obrazek2 = cv2.imread(cesta_obrazku)  \n",
    "\n",
    "    if obrazek2 is None:\n",
    "        print(f\"Chyba: Obrázek {obrazek1} se nepodařilo načíst.\")\n",
    "        chybny_soubor.append(obrazek1)  # Uložit název souboru, ne None\n",
    "        continue  \n",
    "\n",
    "    try:\n",
    "        prediction = DeepFace.analyze(obrazek2, actions=['emotion'])\n",
    "        emoce = prediction[0]['dominant_emotion']\n",
    "\n",
    "        if emoce == 'angry':\n",
    "            seznam_fotek_OK.append(cesta_obrazku)\n",
    "        else:\n",
    "            seznam_fotek_NOK.append(cesta_obrazku)\n",
    "\n",
    "    except ValueError as e:\n",
    "        print(f\"Chyba: DeepFace nemohl analyzovat {cesta_obrazku} – {e}\")\n",
    "        chybny_soubor.append(cesta_obrazku)  # Uložit problematický soubor\n",
    "    except Exception as e:\n",
    "        print(f\"Neočekávaná chyba u {cesta_obrazku}: {e}\")\n",
    "        chybny_soubor.append(cesta_obrazku)  # Uložit problematický soubor\n",
    "\n",
    "\n",
    "\n",
    "# for obrazek1 in os.listdir(cesta_angry):  # Získání seznamu souborů ve složce\n",
    "#     cesta_obrazku = os.path.join(cesta_angry, obrazek1)  # Spojí složku + soubor\n",
    "#     obrazek2 = cv2.imread(cesta_obrazku)  # Načtení obrázku\n",
    "  \n",
    "#     if obrazek2 is None:\n",
    "#         print(f\"Chyba: Obrázek {obrazek1} se nepodařilo načíst.\")\n",
    "#         chybny_soubor.append(obrazek2)\n",
    "#         continue  # Přeskočí na další iteraci, pokud se obrázek nenačte\n",
    "\n",
    "#     ## try:\n",
    "#         prediction = DeepFace.analyze(obrazek2, actions=['emotion'])\n",
    "#         emoce = prediction[0]['dominant_emotion']\n",
    "\n",
    "#         if emoce == 'angry':\n",
    "#             seznam_fotek_OK.append(obrazek2)\n",
    "        \n",
    "#         if emoce != 'angry':\n",
    "#             seznam_fotek_NOK.append(obrazek2)\n",
    "#         else:chybny_soubor.append(obrazek2)\n",
    "#         continue\n",
    "            \n",
    "#     # except ValueError as e:\n",
    "#     #     print(f\"Chyba: DeepFace nemohl analyzovat {cesta_obrazku} – {e}\")\n",
    "#     #     seznam_fotek_NOK.append(cesta_obrazku)  # Ulož chybný soubor\n",
    "#     # except Exception as e:\n",
    "#     #     print(f\"Neočekávaná chyba u {cesta_obrazku}: {e}\")\n"
   ]
  },
  {
   "cell_type": "code",
   "execution_count": 137,
   "id": "bbd8e967-f312-4906-b44b-185cdbc9ad14",
   "metadata": {},
   "outputs": [
    {
     "data": {
      "text/plain": [
       "1352"
      ]
     },
     "execution_count": 137,
     "metadata": {},
     "output_type": "execute_result"
    }
   ],
   "source": [
    "len(seznam_fotek_OK)"
   ]
  },
  {
   "cell_type": "code",
   "execution_count": 138,
   "id": "837246a1-df42-4096-94ba-e2b858920bdf",
   "metadata": {},
   "outputs": [
    {
     "data": {
      "text/plain": [
       "1046"
      ]
     },
     "execution_count": 138,
     "metadata": {},
     "output_type": "execute_result"
    }
   ],
   "source": [
    "len(seznam_fotek_NOK)"
   ]
  },
  {
   "cell_type": "code",
   "execution_count": 139,
   "id": "0226aaa0-8543-4ee6-be1d-a2beb3da766d",
   "metadata": {},
   "outputs": [
    {
     "data": {
      "text/plain": [
       "1596"
      ]
     },
     "execution_count": 139,
     "metadata": {},
     "output_type": "execute_result"
    }
   ],
   "source": [
    "len(chybny_soubor)"
   ]
  },
  {
   "cell_type": "code",
   "execution_count": 140,
   "id": "021b39b8-40ed-453f-93df-68c52e1583f1",
   "metadata": {},
   "outputs": [
    {
     "data": {
      "text/plain": [
       "'Training_99982465.jpg'"
      ]
     },
     "execution_count": 140,
     "metadata": {},
     "output_type": "execute_result"
    }
   ],
   "source": [
    "obrazek1"
   ]
  },
  {
   "cell_type": "code",
   "execution_count": 131,
   "id": "fcf42ba9-2e6b-4435-9054-98e46ef9f201",
   "metadata": {},
   "outputs": [
    {
     "name": "stdout",
     "output_type": "stream",
     "text": [
      "angry\n"
     ]
    }
   ],
   "source": [
    "print(emoce)"
   ]
  },
  {
   "cell_type": "code",
   "execution_count": 132,
   "id": "7b361cb9-a68c-4593-884e-2039df2a16b3",
   "metadata": {},
   "outputs": [
    {
     "data": {
      "text/plain": [
       "'C:\\\\Users\\\\zitao\\\\Documents\\\\PETR\\\\DATA_SCIENCE\\\\EMOCE/train/angry'"
      ]
     },
     "execution_count": 132,
     "metadata": {},
     "output_type": "execute_result"
    }
   ],
   "source": [
    "cesta_angry"
   ]
  },
  {
   "cell_type": "code",
   "execution_count": null,
   "id": "05f11eca-0606-4986-a0b0-29a8e781b65a",
   "metadata": {},
   "outputs": [],
   "source": []
  },
  {
   "cell_type": "code",
   "execution_count": null,
   "id": "f4ad7acc-b6c1-4f30-baf7-adfbff8bd0c6",
   "metadata": {},
   "outputs": [],
   "source": []
  },
  {
   "cell_type": "code",
   "execution_count": 133,
   "id": "80cfcc73-2d40-4d68-8424-4c324b6504ae",
   "metadata": {},
   "outputs": [
    {
     "ename": "KeyError",
     "evalue": "'dominant_race'",
     "output_type": "error",
     "traceback": [
      "\u001b[1;31m---------------------------------------------------------------------------\u001b[0m",
      "\u001b[1;31mKeyError\u001b[0m                                  Traceback (most recent call last)",
      "Cell \u001b[1;32mIn[133], line 1\u001b[0m\n\u001b[1;32m----> 1\u001b[0m emoce \u001b[38;5;241m=\u001b[39m prediction[\u001b[38;5;241m0\u001b[39m][\u001b[38;5;124m'\u001b[39m\u001b[38;5;124mdominant_emotion\u001b[39m\u001b[38;5;124m'\u001b[39m],prediction[\u001b[38;5;241m0\u001b[39m][\u001b[38;5;124m'\u001b[39m\u001b[38;5;124mdominant_race\u001b[39m\u001b[38;5;124m'\u001b[39m],prediction[\u001b[38;5;241m0\u001b[39m][\u001b[38;5;124m'\u001b[39m\u001b[38;5;124mdominant_gender\u001b[39m\u001b[38;5;124m'\u001b[39m]\n\u001b[0;32m      2\u001b[0m emoce\n",
      "\u001b[1;31mKeyError\u001b[0m: 'dominant_race'"
     ]
    }
   ],
   "source": [
    "emoce = prediction[0]['dominant_emotion'],prediction[0]['dominant_race'],prediction[0]['dominant_gender']\n",
    "emoce"
   ]
  },
  {
   "cell_type": "code",
   "execution_count": null,
   "id": "a6da34cd-aa0a-4538-bfe3-212fd816b40e",
   "metadata": {
    "id": "a6da34cd-aa0a-4538-bfe3-212fd816b40e"
   },
   "outputs": [],
   "source": [
    "plt.imshow(obrazek)"
   ]
  },
  {
   "cell_type": "markdown",
   "id": "f28b03ae-8aa0-4aef-9b73-55f39d19bbde",
   "metadata": {
    "id": "f28b03ae-8aa0-4aef-9b73-55f39d19bbde"
   },
   "source": [
    "## Výsledky analýzy"
   ]
  },
  {
   "cell_type": "code",
   "execution_count": null,
   "id": "bbee6c4b-ab24-40cc-b795-3c3bcb31e530",
   "metadata": {
    "id": "bbee6c4b-ab24-40cc-b795-3c3bcb31e530",
    "outputId": "8a82f3b9-d52b-4eb7-d95e-1f0b4771b747"
   },
   "outputs": [],
   "source": [
    "prediction"
   ]
  },
  {
   "cell_type": "markdown",
   "id": "a6b1900c-4cdb-44ba-a293-1ad90085d63c",
   "metadata": {
    "id": "a6b1900c-4cdb-44ba-a293-1ad90085d63c"
   },
   "source": [
    "##  Určení emocí z obrázku"
   ]
  },
  {
   "cell_type": "code",
   "execution_count": null,
   "id": "29712cc8-eb9e-4f77-b014-14b102a75b7a",
   "metadata": {
    "id": "29712cc8-eb9e-4f77-b014-14b102a75b7a"
   },
   "outputs": [],
   "source": [
    "predictions = [{prediction[0]['dominant_emotion'],prediction[0]['dominant_gender'],prediction[0]['dominant_race']}]"
   ]
  },
  {
   "cell_type": "code",
   "execution_count": null,
   "id": "201b1b71-e7ad-4317-9cdd-51cb0239cdda",
   "metadata": {
    "id": "201b1b71-e7ad-4317-9cdd-51cb0239cdda",
    "outputId": "2ab958fc-0cd0-4ee9-a0c1-48142a44cc9f"
   },
   "outputs": [],
   "source": [
    "predictions"
   ]
  },
  {
   "cell_type": "code",
   "execution_count": null,
   "id": "d3bb19d7-a2dc-46f4-bcfc-b8b1b41ff791",
   "metadata": {
    "id": "d3bb19d7-a2dc-46f4-bcfc-b8b1b41ff791"
   },
   "outputs": [],
   "source": [
    "oblicej = cv2.CascadeClassifier(cv2.data.haarcascades + 'haarcascade_frontalface_default.xml')\n",
    "usmev = cv2.CascadeClassifier(cv2.data.haarcascades + 'haarcascade_smile.xml')\n",
    "bryle = cv2.CascadeClassifier(cv2.data.haarcascades + 'haarcascade_eye_tree_eyeglasses.xml')\n",
    "\n",
    "cernobily = cv2.cvtColor(obrazek, cv2.COLOR_BGR2GRAY)"
   ]
  },
  {
   "cell_type": "markdown",
   "id": "5f8a45df-ea8c-4a13-a0df-87e81fa72f54",
   "metadata": {
    "id": "5f8a45df-ea8c-4a13-a0df-87e81fa72f54"
   },
   "source": [
    "## Vyhledavaní obličeje na obrázku a označení čtvercem"
   ]
  },
  {
   "cell_type": "markdown",
   "id": "92dd1793-d406-401e-880d-d3921a6c55de",
   "metadata": {
    "id": "92dd1793-d406-401e-880d-d3921a6c55de"
   },
   "source": [
    "# Zobrazení obrázku v černobílém formátu"
   ]
  },
  {
   "cell_type": "code",
   "execution_count": null,
   "id": "b9d2fac3-ef35-429e-a498-4c8e1974d3d3",
   "metadata": {
    "id": "b9d2fac3-ef35-429e-a498-4c8e1974d3d3",
    "outputId": "d595305b-8d98-47de-ea81-bed46e051de2"
   },
   "outputs": [],
   "source": [
    "plt.imshow(cernobily, cmap='gray')"
   ]
  },
  {
   "cell_type": "code",
   "execution_count": null,
   "id": "e080c12f-6658-4dd4-a038-bb1555ee6f08",
   "metadata": {
    "id": "e080c12f-6658-4dd4-a038-bb1555ee6f08"
   },
   "outputs": [],
   "source": []
  },
  {
   "cell_type": "markdown",
   "id": "d983a841-aaea-4ac0-baf8-773e80052906",
   "metadata": {
    "id": "d983a841-aaea-4ac0-baf8-773e80052906"
   },
   "source": [
    "## Vyhledavame obličej a oramujeme"
   ]
  },
  {
   "cell_type": "code",
   "execution_count": null,
   "id": "6a6d0056-b4dd-4473-bfa3-2f74b12ca098",
   "metadata": {
    "id": "6a6d0056-b4dd-4473-bfa3-2f74b12ca098"
   },
   "outputs": [],
   "source": []
  },
  {
   "cell_type": "code",
   "execution_count": null,
   "id": "5ab34d61-dae7-439a-bd56-6fd57d4cc474",
   "metadata": {
    "id": "5ab34d61-dae7-439a-bd56-6fd57d4cc474"
   },
   "outputs": [],
   "source": [
    "face = oblicej.detectMultiScale(cernobily, 1.1, 4)\n",
    "\n",
    "# scaleFactor=1.3: Určuje, jak moc se velikost obrázku zmenšuje při každém kroku. Nižší hodnota znamená přesnější, ale pomalejší detekci.\n",
    "# minNeighbors=6: Kolik překrytí musí mít detekce, aby byl výsledek považován za platný. Vyšší číslo = méně falešných poplachů, ale může vynechat slabě detekované obličeje.\n",
    "\n",
    "# Kreslime rameček kolem tváře\n",
    "for (x, y, w, h) in face:\n",
    "    cv2.rectangle(obrazek, (x, y), (x+w, y+h), (255, 0, 0), 2)\n",
    "\n",
    "# # Kreslime rameček kolem usměvu\n",
    "oblast_obliceje = cernobily[y:y+h, x:x+w]\n",
    "## usmevy = usmev.detectMultiScale(oblast_obliceje, scaleFactor=1.2, minNeighbors=6)\n",
    "smile = usmev.detectMultiScale(oblast_obliceje, 1.8, 8)\n",
    "\n",
    "for (sx, sy, sw, sh) in smile:\n",
    "    cv2.rectangle(obrazek, (x+sx, y+sy), (x+sx+sw, y+sy+sh), (0, 255, 0), 2)\n",
    "\n",
    "# ## Kreslime rameček kolem brylí\n",
    "glasses = bryle.detectMultiScale(oblast_obliceje, 1.1, 4)\n",
    "for (sgx, sgy, sgw, sgh) in glasses:\n",
    "   cv2.rectangle(obrazek, (x+sgx, y+sgy), (x+sgx+sgw, y+sgy+sgh), (0, 0, 255), 2)\n",
    "\n"
   ]
  },
  {
   "cell_type": "code",
   "execution_count": null,
   "id": "aaea133f-49cb-473a-b303-9461753bfacc",
   "metadata": {
    "id": "aaea133f-49cb-473a-b303-9461753bfacc",
    "outputId": "5aa1d650-6b2e-490c-d54f-64c953dc4d88"
   },
   "outputs": [],
   "source": [
    "plt.imshow(obrazek)"
   ]
  },
  {
   "cell_type": "code",
   "execution_count": null,
   "id": "7afa1c2b-d340-4606-a53c-9046762350a0",
   "metadata": {
    "id": "7afa1c2b-d340-4606-a53c-9046762350a0"
   },
   "outputs": [],
   "source": []
  },
  {
   "cell_type": "markdown",
   "id": "4b004384-a91e-4054-ae80-2494bb643ecf",
   "metadata": {
    "id": "4b004384-a91e-4054-ae80-2494bb643ecf"
   },
   "source": [
    "## Nadpis emoce"
   ]
  },
  {
   "cell_type": "code",
   "execution_count": null,
   "id": "40f66afb-bd30-4624-8fce-b46a3f2161ab",
   "metadata": {
    "id": "40f66afb-bd30-4624-8fce-b46a3f2161ab",
    "outputId": "11dc6856-2e04-4e89-c261-6de39c63cf3e"
   },
   "outputs": [],
   "source": [
    "obrazek.shape[2]"
   ]
  },
  {
   "cell_type": "code",
   "execution_count": null,
   "id": "469a10bd-7efb-4955-b808-26ea46f272bb",
   "metadata": {
    "id": "469a10bd-7efb-4955-b808-26ea46f272bb",
    "outputId": "b32f4a2a-7bf8-4425-a995-357adc70acfb"
   },
   "outputs": [],
   "source": [
    "font = cv2.FONT_ITALIC\n",
    "cv2.putText(obrazek, prediction[0]['dominant_emotion'], (obrazek.shape[1] - 250, 25), font, 1, (255, 0, 0), 2, cv2.LINE_4)\n",
    "plt.imshow(obrazek)"
   ]
  },
  {
   "cell_type": "code",
   "execution_count": null,
   "id": "c902f53e-f52f-4e6e-88b9-23a6fefc134e",
   "metadata": {
    "id": "c902f53e-f52f-4e6e-88b9-23a6fefc134e"
   },
   "outputs": [],
   "source": []
  },
  {
   "cell_type": "code",
   "execution_count": null,
   "id": "be1de3a4-892e-41af-ac8b-2ddc979df102",
   "metadata": {
    "id": "be1de3a4-892e-41af-ac8b-2ddc979df102"
   },
   "outputs": [],
   "source": []
  }
 ],
 "metadata": {
  "colab": {
   "provenance": []
  },
  "kernelspec": {
   "display_name": "Python 3 (ipykernel)",
   "language": "python",
   "name": "python3"
  },
  "language_info": {
   "codemirror_mode": {
    "name": "ipython",
    "version": 3
   },
   "file_extension": ".py",
   "mimetype": "text/x-python",
   "name": "python",
   "nbconvert_exporter": "python",
   "pygments_lexer": "ipython3",
   "version": "3.12.7"
  }
 },
 "nbformat": 4,
 "nbformat_minor": 5
}
