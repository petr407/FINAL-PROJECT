{
 "cells": [
  {
   "cell_type": "code",
   "execution_count": 1,
   "id": "e2f85d1e-2300-436c-bc97-c1808d2edccd",
   "metadata": {
    "colab": {
     "base_uri": "https://localhost:8080/"
    },
    "id": "e2f85d1e-2300-436c-bc97-c1808d2edccd",
    "outputId": "0f0a1c51-31c4-4bd5-d8b0-e9a5b8386504"
   },
   "outputs": [
    {
     "name": "stdout",
     "output_type": "stream",
     "text": [
      "Requirement already satisfied: deepface in c:\\users\\zitao\\anaconda3\\lib\\site-packages (0.0.93)\n",
      "Requirement already satisfied: requests>=2.27.1 in c:\\users\\zitao\\anaconda3\\lib\\site-packages (from deepface) (2.32.3)\n",
      "Requirement already satisfied: numpy>=1.14.0 in c:\\users\\zitao\\anaconda3\\lib\\site-packages (from deepface) (1.26.4)\n",
      "Requirement already satisfied: pandas>=0.23.4 in c:\\users\\zitao\\anaconda3\\lib\\site-packages (from deepface) (2.2.2)\n",
      "Requirement already satisfied: gdown>=3.10.1 in c:\\users\\zitao\\anaconda3\\lib\\site-packages (from deepface) (5.2.0)\n",
      "Requirement already satisfied: tqdm>=4.30.0 in c:\\users\\zitao\\anaconda3\\lib\\site-packages (from deepface) (4.66.5)\n",
      "Requirement already satisfied: Pillow>=5.2.0 in c:\\users\\zitao\\anaconda3\\lib\\site-packages (from deepface) (10.4.0)\n",
      "Requirement already satisfied: opencv-python>=4.5.5.64 in c:\\users\\zitao\\anaconda3\\lib\\site-packages (from deepface) (4.11.0.86)\n",
      "Requirement already satisfied: tensorflow>=1.9.0 in c:\\users\\zitao\\anaconda3\\lib\\site-packages (from deepface) (2.18.0)\n",
      "Requirement already satisfied: keras>=2.2.0 in c:\\users\\zitao\\anaconda3\\lib\\site-packages (from deepface) (3.8.0)\n",
      "Requirement already satisfied: Flask>=1.1.2 in c:\\users\\zitao\\anaconda3\\lib\\site-packages (from deepface) (3.0.3)\n",
      "Requirement already satisfied: flask-cors>=4.0.1 in c:\\users\\zitao\\anaconda3\\lib\\site-packages (from deepface) (5.0.1)\n",
      "Requirement already satisfied: mtcnn>=0.1.0 in c:\\users\\zitao\\anaconda3\\lib\\site-packages (from deepface) (1.0.0)\n",
      "Requirement already satisfied: retina-face>=0.0.1 in c:\\users\\zitao\\anaconda3\\lib\\site-packages (from deepface) (0.0.17)\n",
      "Requirement already satisfied: fire>=0.4.0 in c:\\users\\zitao\\anaconda3\\lib\\site-packages (from deepface) (0.7.0)\n",
      "Requirement already satisfied: gunicorn>=20.1.0 in c:\\users\\zitao\\anaconda3\\lib\\site-packages (from deepface) (23.0.0)\n",
      "Requirement already satisfied: termcolor in c:\\users\\zitao\\anaconda3\\lib\\site-packages (from fire>=0.4.0->deepface) (2.5.0)\n",
      "Requirement already satisfied: Werkzeug>=3.0.0 in c:\\users\\zitao\\anaconda3\\lib\\site-packages (from Flask>=1.1.2->deepface) (3.0.3)\n",
      "Requirement already satisfied: Jinja2>=3.1.2 in c:\\users\\zitao\\anaconda3\\lib\\site-packages (from Flask>=1.1.2->deepface) (3.1.4)\n",
      "Requirement already satisfied: itsdangerous>=2.1.2 in c:\\users\\zitao\\anaconda3\\lib\\site-packages (from Flask>=1.1.2->deepface) (2.2.0)\n",
      "Requirement already satisfied: click>=8.1.3 in c:\\users\\zitao\\anaconda3\\lib\\site-packages (from Flask>=1.1.2->deepface) (8.1.7)\n",
      "Requirement already satisfied: blinker>=1.6.2 in c:\\users\\zitao\\anaconda3\\lib\\site-packages (from Flask>=1.1.2->deepface) (1.6.2)\n",
      "Requirement already satisfied: beautifulsoup4 in c:\\users\\zitao\\anaconda3\\lib\\site-packages (from gdown>=3.10.1->deepface) (4.12.3)\n",
      "Requirement already satisfied: filelock in c:\\users\\zitao\\anaconda3\\lib\\site-packages (from gdown>=3.10.1->deepface) (3.13.1)\n",
      "Requirement already satisfied: packaging in c:\\users\\zitao\\anaconda3\\lib\\site-packages (from gunicorn>=20.1.0->deepface) (24.1)\n",
      "Requirement already satisfied: absl-py in c:\\users\\zitao\\anaconda3\\lib\\site-packages (from keras>=2.2.0->deepface) (2.1.0)\n",
      "Requirement already satisfied: rich in c:\\users\\zitao\\anaconda3\\lib\\site-packages (from keras>=2.2.0->deepface) (13.7.1)\n",
      "Requirement already satisfied: namex in c:\\users\\zitao\\anaconda3\\lib\\site-packages (from keras>=2.2.0->deepface) (0.0.8)\n",
      "Requirement already satisfied: h5py in c:\\users\\zitao\\anaconda3\\lib\\site-packages (from keras>=2.2.0->deepface) (3.11.0)\n",
      "Requirement already satisfied: optree in c:\\users\\zitao\\anaconda3\\lib\\site-packages (from keras>=2.2.0->deepface) (0.14.0)\n",
      "Requirement already satisfied: ml-dtypes in c:\\users\\zitao\\anaconda3\\lib\\site-packages (from keras>=2.2.0->deepface) (0.4.1)\n",
      "Requirement already satisfied: joblib>=1.4.2 in c:\\users\\zitao\\anaconda3\\lib\\site-packages (from mtcnn>=0.1.0->deepface) (1.4.2)\n",
      "Requirement already satisfied: lz4>=4.3.3 in c:\\users\\zitao\\anaconda3\\lib\\site-packages (from mtcnn>=0.1.0->deepface) (4.4.3)\n",
      "Requirement already satisfied: python-dateutil>=2.8.2 in c:\\users\\zitao\\anaconda3\\lib\\site-packages (from pandas>=0.23.4->deepface) (2.9.0.post0)\n",
      "Requirement already satisfied: pytz>=2020.1 in c:\\users\\zitao\\anaconda3\\lib\\site-packages (from pandas>=0.23.4->deepface) (2024.1)\n",
      "Requirement already satisfied: tzdata>=2022.7 in c:\\users\\zitao\\anaconda3\\lib\\site-packages (from pandas>=0.23.4->deepface) (2023.3)\n",
      "Requirement already satisfied: charset-normalizer<4,>=2 in c:\\users\\zitao\\anaconda3\\lib\\site-packages (from requests>=2.27.1->deepface) (3.3.2)\n",
      "Requirement already satisfied: idna<4,>=2.5 in c:\\users\\zitao\\anaconda3\\lib\\site-packages (from requests>=2.27.1->deepface) (3.7)\n",
      "Requirement already satisfied: urllib3<3,>=1.21.1 in c:\\users\\zitao\\anaconda3\\lib\\site-packages (from requests>=2.27.1->deepface) (2.2.3)\n",
      "Requirement already satisfied: certifi>=2017.4.17 in c:\\users\\zitao\\anaconda3\\lib\\site-packages (from requests>=2.27.1->deepface) (2025.1.31)\n",
      "Requirement already satisfied: tensorflow-intel==2.18.0 in c:\\users\\zitao\\anaconda3\\lib\\site-packages (from tensorflow>=1.9.0->deepface) (2.18.0)\n",
      "Requirement already satisfied: astunparse>=1.6.0 in c:\\users\\zitao\\anaconda3\\lib\\site-packages (from tensorflow-intel==2.18.0->tensorflow>=1.9.0->deepface) (1.6.3)\n",
      "Requirement already satisfied: flatbuffers>=24.3.25 in c:\\users\\zitao\\anaconda3\\lib\\site-packages (from tensorflow-intel==2.18.0->tensorflow>=1.9.0->deepface) (25.2.10)\n",
      "Requirement already satisfied: gast!=0.5.0,!=0.5.1,!=0.5.2,>=0.2.1 in c:\\users\\zitao\\anaconda3\\lib\\site-packages (from tensorflow-intel==2.18.0->tensorflow>=1.9.0->deepface) (0.6.0)\n",
      "Requirement already satisfied: google-pasta>=0.1.1 in c:\\users\\zitao\\anaconda3\\lib\\site-packages (from tensorflow-intel==2.18.0->tensorflow>=1.9.0->deepface) (0.2.0)\n",
      "Requirement already satisfied: libclang>=13.0.0 in c:\\users\\zitao\\anaconda3\\lib\\site-packages (from tensorflow-intel==2.18.0->tensorflow>=1.9.0->deepface) (18.1.1)\n",
      "Requirement already satisfied: opt-einsum>=2.3.2 in c:\\users\\zitao\\anaconda3\\lib\\site-packages (from tensorflow-intel==2.18.0->tensorflow>=1.9.0->deepface) (3.4.0)\n",
      "Requirement already satisfied: protobuf!=4.21.0,!=4.21.1,!=4.21.2,!=4.21.3,!=4.21.4,!=4.21.5,<6.0.0dev,>=3.20.3 in c:\\users\\zitao\\anaconda3\\lib\\site-packages (from tensorflow-intel==2.18.0->tensorflow>=1.9.0->deepface) (4.25.3)\n",
      "Requirement already satisfied: setuptools in c:\\users\\zitao\\anaconda3\\lib\\site-packages (from tensorflow-intel==2.18.0->tensorflow>=1.9.0->deepface) (75.1.0)\n",
      "Requirement already satisfied: six>=1.12.0 in c:\\users\\zitao\\anaconda3\\lib\\site-packages (from tensorflow-intel==2.18.0->tensorflow>=1.9.0->deepface) (1.16.0)\n",
      "Requirement already satisfied: typing-extensions>=3.6.6 in c:\\users\\zitao\\anaconda3\\lib\\site-packages (from tensorflow-intel==2.18.0->tensorflow>=1.9.0->deepface) (4.11.0)\n",
      "Requirement already satisfied: wrapt>=1.11.0 in c:\\users\\zitao\\anaconda3\\lib\\site-packages (from tensorflow-intel==2.18.0->tensorflow>=1.9.0->deepface) (1.14.1)\n",
      "Requirement already satisfied: grpcio<2.0,>=1.24.3 in c:\\users\\zitao\\anaconda3\\lib\\site-packages (from tensorflow-intel==2.18.0->tensorflow>=1.9.0->deepface) (1.70.0)\n",
      "Requirement already satisfied: tensorboard<2.19,>=2.18 in c:\\users\\zitao\\anaconda3\\lib\\site-packages (from tensorflow-intel==2.18.0->tensorflow>=1.9.0->deepface) (2.18.0)\n",
      "Requirement already satisfied: colorama in c:\\users\\zitao\\anaconda3\\lib\\site-packages (from tqdm>=4.30.0->deepface) (0.4.6)\n",
      "Requirement already satisfied: MarkupSafe>=2.0 in c:\\users\\zitao\\anaconda3\\lib\\site-packages (from Jinja2>=3.1.2->Flask>=1.1.2->deepface) (2.1.3)\n",
      "Requirement already satisfied: soupsieve>1.2 in c:\\users\\zitao\\anaconda3\\lib\\site-packages (from beautifulsoup4->gdown>=3.10.1->deepface) (2.5)\n",
      "Requirement already satisfied: PySocks!=1.5.7,>=1.5.6 in c:\\users\\zitao\\anaconda3\\lib\\site-packages (from requests[socks]->gdown>=3.10.1->deepface) (1.7.1)\n",
      "Requirement already satisfied: markdown-it-py>=2.2.0 in c:\\users\\zitao\\anaconda3\\lib\\site-packages (from rich->keras>=2.2.0->deepface) (2.2.0)\n",
      "Requirement already satisfied: pygments<3.0.0,>=2.13.0 in c:\\users\\zitao\\anaconda3\\lib\\site-packages (from rich->keras>=2.2.0->deepface) (2.15.1)\n",
      "Requirement already satisfied: wheel<1.0,>=0.23.0 in c:\\users\\zitao\\anaconda3\\lib\\site-packages (from astunparse>=1.6.0->tensorflow-intel==2.18.0->tensorflow>=1.9.0->deepface) (0.44.0)\n",
      "Requirement already satisfied: mdurl~=0.1 in c:\\users\\zitao\\anaconda3\\lib\\site-packages (from markdown-it-py>=2.2.0->rich->keras>=2.2.0->deepface) (0.1.0)\n",
      "Requirement already satisfied: markdown>=2.6.8 in c:\\users\\zitao\\anaconda3\\lib\\site-packages (from tensorboard<2.19,>=2.18->tensorflow-intel==2.18.0->tensorflow>=1.9.0->deepface) (3.4.1)\n",
      "Requirement already satisfied: tensorboard-data-server<0.8.0,>=0.7.0 in c:\\users\\zitao\\anaconda3\\lib\\site-packages (from tensorboard<2.19,>=2.18->tensorflow-intel==2.18.0->tensorflow>=1.9.0->deepface) (0.7.2)\n",
      "Note: you may need to restart the kernel to use updated packages.\n"
     ]
    }
   ],
   "source": [
    "pip install deepface"
   ]
  },
  {
   "cell_type": "code",
   "execution_count": 2,
   "id": "e290ac10-c45f-4205-a7f0-2c0d5f419924",
   "metadata": {
    "colab": {
     "base_uri": "https://localhost:8080/"
    },
    "id": "e290ac10-c45f-4205-a7f0-2c0d5f419924",
    "outputId": "6efbbc0a-196a-4ae7-9db3-2f6309fa594d"
   },
   "outputs": [
    {
     "name": "stdout",
     "output_type": "stream",
     "text": [
      "Requirement already satisfied: tf-keras in c:\\users\\zitao\\anaconda3\\lib\\site-packages (2.18.0)\n",
      "Requirement already satisfied: tensorflow<2.19,>=2.18 in c:\\users\\zitao\\anaconda3\\lib\\site-packages (from tf-keras) (2.18.0)\n",
      "Requirement already satisfied: tensorflow-intel==2.18.0 in c:\\users\\zitao\\anaconda3\\lib\\site-packages (from tensorflow<2.19,>=2.18->tf-keras) (2.18.0)\n",
      "Requirement already satisfied: absl-py>=1.0.0 in c:\\users\\zitao\\anaconda3\\lib\\site-packages (from tensorflow-intel==2.18.0->tensorflow<2.19,>=2.18->tf-keras) (2.1.0)\n",
      "Requirement already satisfied: astunparse>=1.6.0 in c:\\users\\zitao\\anaconda3\\lib\\site-packages (from tensorflow-intel==2.18.0->tensorflow<2.19,>=2.18->tf-keras) (1.6.3)\n",
      "Requirement already satisfied: flatbuffers>=24.3.25 in c:\\users\\zitao\\anaconda3\\lib\\site-packages (from tensorflow-intel==2.18.0->tensorflow<2.19,>=2.18->tf-keras) (25.2.10)\n",
      "Requirement already satisfied: gast!=0.5.0,!=0.5.1,!=0.5.2,>=0.2.1 in c:\\users\\zitao\\anaconda3\\lib\\site-packages (from tensorflow-intel==2.18.0->tensorflow<2.19,>=2.18->tf-keras) (0.6.0)\n",
      "Requirement already satisfied: google-pasta>=0.1.1 in c:\\users\\zitao\\anaconda3\\lib\\site-packages (from tensorflow-intel==2.18.0->tensorflow<2.19,>=2.18->tf-keras) (0.2.0)\n",
      "Requirement already satisfied: libclang>=13.0.0 in c:\\users\\zitao\\anaconda3\\lib\\site-packages (from tensorflow-intel==2.18.0->tensorflow<2.19,>=2.18->tf-keras) (18.1.1)\n",
      "Requirement already satisfied: opt-einsum>=2.3.2 in c:\\users\\zitao\\anaconda3\\lib\\site-packages (from tensorflow-intel==2.18.0->tensorflow<2.19,>=2.18->tf-keras) (3.4.0)\n",
      "Requirement already satisfied: packaging in c:\\users\\zitao\\anaconda3\\lib\\site-packages (from tensorflow-intel==2.18.0->tensorflow<2.19,>=2.18->tf-keras) (24.1)\n",
      "Requirement already satisfied: protobuf!=4.21.0,!=4.21.1,!=4.21.2,!=4.21.3,!=4.21.4,!=4.21.5,<6.0.0dev,>=3.20.3 in c:\\users\\zitao\\anaconda3\\lib\\site-packages (from tensorflow-intel==2.18.0->tensorflow<2.19,>=2.18->tf-keras) (4.25.3)\n",
      "Requirement already satisfied: requests<3,>=2.21.0 in c:\\users\\zitao\\anaconda3\\lib\\site-packages (from tensorflow-intel==2.18.0->tensorflow<2.19,>=2.18->tf-keras) (2.32.3)\n",
      "Requirement already satisfied: setuptools in c:\\users\\zitao\\anaconda3\\lib\\site-packages (from tensorflow-intel==2.18.0->tensorflow<2.19,>=2.18->tf-keras) (75.1.0)\n",
      "Requirement already satisfied: six>=1.12.0 in c:\\users\\zitao\\anaconda3\\lib\\site-packages (from tensorflow-intel==2.18.0->tensorflow<2.19,>=2.18->tf-keras) (1.16.0)\n",
      "Requirement already satisfied: termcolor>=1.1.0 in c:\\users\\zitao\\anaconda3\\lib\\site-packages (from tensorflow-intel==2.18.0->tensorflow<2.19,>=2.18->tf-keras) (2.5.0)\n",
      "Requirement already satisfied: typing-extensions>=3.6.6 in c:\\users\\zitao\\anaconda3\\lib\\site-packages (from tensorflow-intel==2.18.0->tensorflow<2.19,>=2.18->tf-keras) (4.11.0)\n",
      "Requirement already satisfied: wrapt>=1.11.0 in c:\\users\\zitao\\anaconda3\\lib\\site-packages (from tensorflow-intel==2.18.0->tensorflow<2.19,>=2.18->tf-keras) (1.14.1)\n",
      "Requirement already satisfied: grpcio<2.0,>=1.24.3 in c:\\users\\zitao\\anaconda3\\lib\\site-packages (from tensorflow-intel==2.18.0->tensorflow<2.19,>=2.18->tf-keras) (1.70.0)\n",
      "Requirement already satisfied: tensorboard<2.19,>=2.18 in c:\\users\\zitao\\anaconda3\\lib\\site-packages (from tensorflow-intel==2.18.0->tensorflow<2.19,>=2.18->tf-keras) (2.18.0)\n",
      "Requirement already satisfied: keras>=3.5.0 in c:\\users\\zitao\\anaconda3\\lib\\site-packages (from tensorflow-intel==2.18.0->tensorflow<2.19,>=2.18->tf-keras) (3.8.0)\n",
      "Requirement already satisfied: numpy<2.1.0,>=1.26.0 in c:\\users\\zitao\\anaconda3\\lib\\site-packages (from tensorflow-intel==2.18.0->tensorflow<2.19,>=2.18->tf-keras) (1.26.4)\n",
      "Requirement already satisfied: h5py>=3.11.0 in c:\\users\\zitao\\anaconda3\\lib\\site-packages (from tensorflow-intel==2.18.0->tensorflow<2.19,>=2.18->tf-keras) (3.11.0)\n",
      "Requirement already satisfied: ml-dtypes<0.5.0,>=0.4.0 in c:\\users\\zitao\\anaconda3\\lib\\site-packages (from tensorflow-intel==2.18.0->tensorflow<2.19,>=2.18->tf-keras) (0.4.1)\n",
      "Requirement already satisfied: wheel<1.0,>=0.23.0 in c:\\users\\zitao\\anaconda3\\lib\\site-packages (from astunparse>=1.6.0->tensorflow-intel==2.18.0->tensorflow<2.19,>=2.18->tf-keras) (0.44.0)\n",
      "Requirement already satisfied: rich in c:\\users\\zitao\\anaconda3\\lib\\site-packages (from keras>=3.5.0->tensorflow-intel==2.18.0->tensorflow<2.19,>=2.18->tf-keras) (13.7.1)\n",
      "Requirement already satisfied: namex in c:\\users\\zitao\\anaconda3\\lib\\site-packages (from keras>=3.5.0->tensorflow-intel==2.18.0->tensorflow<2.19,>=2.18->tf-keras) (0.0.8)\n",
      "Requirement already satisfied: optree in c:\\users\\zitao\\anaconda3\\lib\\site-packages (from keras>=3.5.0->tensorflow-intel==2.18.0->tensorflow<2.19,>=2.18->tf-keras) (0.14.0)\n",
      "Requirement already satisfied: charset-normalizer<4,>=2 in c:\\users\\zitao\\anaconda3\\lib\\site-packages (from requests<3,>=2.21.0->tensorflow-intel==2.18.0->tensorflow<2.19,>=2.18->tf-keras) (3.3.2)\n",
      "Requirement already satisfied: idna<4,>=2.5 in c:\\users\\zitao\\anaconda3\\lib\\site-packages (from requests<3,>=2.21.0->tensorflow-intel==2.18.0->tensorflow<2.19,>=2.18->tf-keras) (3.7)\n",
      "Requirement already satisfied: urllib3<3,>=1.21.1 in c:\\users\\zitao\\anaconda3\\lib\\site-packages (from requests<3,>=2.21.0->tensorflow-intel==2.18.0->tensorflow<2.19,>=2.18->tf-keras) (2.2.3)\n",
      "Requirement already satisfied: certifi>=2017.4.17 in c:\\users\\zitao\\anaconda3\\lib\\site-packages (from requests<3,>=2.21.0->tensorflow-intel==2.18.0->tensorflow<2.19,>=2.18->tf-keras) (2025.1.31)\n",
      "Requirement already satisfied: markdown>=2.6.8 in c:\\users\\zitao\\anaconda3\\lib\\site-packages (from tensorboard<2.19,>=2.18->tensorflow-intel==2.18.0->tensorflow<2.19,>=2.18->tf-keras) (3.4.1)\n",
      "Requirement already satisfied: tensorboard-data-server<0.8.0,>=0.7.0 in c:\\users\\zitao\\anaconda3\\lib\\site-packages (from tensorboard<2.19,>=2.18->tensorflow-intel==2.18.0->tensorflow<2.19,>=2.18->tf-keras) (0.7.2)\n",
      "Requirement already satisfied: werkzeug>=1.0.1 in c:\\users\\zitao\\anaconda3\\lib\\site-packages (from tensorboard<2.19,>=2.18->tensorflow-intel==2.18.0->tensorflow<2.19,>=2.18->tf-keras) (3.0.3)\n",
      "Requirement already satisfied: MarkupSafe>=2.1.1 in c:\\users\\zitao\\anaconda3\\lib\\site-packages (from werkzeug>=1.0.1->tensorboard<2.19,>=2.18->tensorflow-intel==2.18.0->tensorflow<2.19,>=2.18->tf-keras) (2.1.3)\n",
      "Requirement already satisfied: markdown-it-py>=2.2.0 in c:\\users\\zitao\\anaconda3\\lib\\site-packages (from rich->keras>=3.5.0->tensorflow-intel==2.18.0->tensorflow<2.19,>=2.18->tf-keras) (2.2.0)\n",
      "Requirement already satisfied: pygments<3.0.0,>=2.13.0 in c:\\users\\zitao\\anaconda3\\lib\\site-packages (from rich->keras>=3.5.0->tensorflow-intel==2.18.0->tensorflow<2.19,>=2.18->tf-keras) (2.15.1)\n",
      "Requirement already satisfied: mdurl~=0.1 in c:\\users\\zitao\\anaconda3\\lib\\site-packages (from markdown-it-py>=2.2.0->rich->keras>=3.5.0->tensorflow-intel==2.18.0->tensorflow<2.19,>=2.18->tf-keras) (0.1.0)\n",
      "Note: you may need to restart the kernel to use updated packages.\n"
     ]
    }
   ],
   "source": [
    "pip install tf-keras"
   ]
  },
  {
   "cell_type": "code",
   "execution_count": 3,
   "id": "30fd4e71-4e71-482f-a1de-fce9d4e96549",
   "metadata": {
    "id": "30fd4e71-4e71-482f-a1de-fce9d4e96549"
   },
   "outputs": [
    {
     "name": "stdout",
     "output_type": "stream",
     "text": [
      "WARNING:tensorflow:From C:\\Users\\zitao\\anaconda3\\Lib\\site-packages\\tf_keras\\src\\losses.py:2976: The name tf.losses.sparse_softmax_cross_entropy is deprecated. Please use tf.compat.v1.losses.sparse_softmax_cross_entropy instead.\n",
      "\n"
     ]
    }
   ],
   "source": [
    "import pandas as pd\n",
    "import numpy as np\n",
    "import matplotlib.pyplot as plt\n",
    "import cv2\n",
    "from deepface import DeepFace\n",
    "import os"
   ]
  },
  {
   "cell_type": "markdown",
   "id": "XVr1EA8rjLNJ",
   "metadata": {
    "id": "XVr1EA8rjLNJ"
   },
   "source": [
    "Krok číslo 1.\n",
    " - definování cesty k adresáří s emocemi path =  C:\\Users\\zitao\\Documents\\PETR\\DATA SCIENCE\\EMOCE\\train\n",
    " - definování cesty k adresáři s konkrétními emocemi\n",
    " - definování cesty ke kontrétnimu souboru/fotce\n",
    " - zapisování název souboru, pokud výsledek analýzy emoce z fotky bude odpovídat názvu složky, který právě zkoumáne do seznamu vhodných souborů ( fotku, kterou chceme)\n",
    "    (seznam_fotek_OK) \n",
    " - zapisování název souboru, pokud výsledek analýzy emoce z fotky nebude odpovídat názvu složky, který právě zkoumáne do seznamu nevhodných souborů ( fotku, kterou nechceme)\n",
    "    (seznam_fotek_NOK)\n",
    " - zapisování název souboru, pokud není schopen vůbec analyzovat emoce z fotky nebo soubor nahrát\n",
    "    (chybny_soubor)\n",
    " - opakuj pro každý soubor v každé složce -->\n",
    "\n",
    "Krok číslo 2.\n",
    " - přesunování nevhodné fotky, pokud výsledek analýzy emoce z fotky nebude odpovídat názvu složky\n",
    " - rozdělení NOK a OK fotky pro každou složku"
   ]
  },
  {
   "cell_type": "markdown",
   "id": "19c298f4-e48f-44da-bb83-884086ae57b9",
   "metadata": {
    "id": "19c298f4-e48f-44da-bb83-884086ae57b9"
   },
   "source": [
    "# Definice cesty k složkám "
   ]
  },
  {
   "cell_type": "code",
   "execution_count": 16,
   "id": "TofI2Qjmo3kd",
   "metadata": {
    "id": "TofI2Qjmo3kd"
   },
   "outputs": [],
   "source": [
    "path = r\"C:\\Users\\zitao\\Documents\\PETR\\DATA_SCIENCE\\EMOCE\""
   ]
  },
  {
   "cell_type": "code",
   "execution_count": 17,
   "id": "xNJhbA3TxCGC",
   "metadata": {
    "colab": {
     "base_uri": "https://localhost:8080/",
     "height": 158
    },
    "id": "xNJhbA3TxCGC",
    "outputId": "e1761377-b16f-4430-e7a1-c1b456f23f93"
   },
   "outputs": [
    {
     "data": {
      "text/plain": [
       "['angry', 'disgust', 'fear', 'happy', 'neutral', 'sad', 'surprise']"
      ]
     },
     "execution_count": 17,
     "metadata": {},
     "output_type": "execute_result"
    }
   ],
   "source": [
    "## Seznam složek v adresářích\n",
    "fotky_emoce = os.listdir(f\"{path}/train\")\n",
    "fotky_emoce\n",
    "\n",
    "## seznam_souboru = os.listdir(f\"{path}/train/{nazev_slozky}\")"
   ]
  },
  {
   "cell_type": "markdown",
   "id": "6c434c8d-40bc-45b2-b513-78bd3a559d78",
   "metadata": {
    "id": "6c434c8d-40bc-45b2-b513-78bd3a559d78"
   },
   "source": [
    "## Analýza obrázku"
   ]
  },
  {
   "cell_type": "code",
   "execution_count": 18,
   "id": "93ed9d5b-edf4-479e-a10b-be064955b16c",
   "metadata": {},
   "outputs": [],
   "source": [
    "seznam_fotek_NOK = []\n",
    "seznam_fotek_OK = []\n",
    "chybny_soubor = []"
   ]
  },
  {
   "cell_type": "code",
   "execution_count": 19,
   "id": "ad0195f4-ef8e-4657-a0fe-fb3de5cae7b1",
   "metadata": {},
   "outputs": [
    {
     "ename": "KeyboardInterrupt",
     "evalue": "",
     "output_type": "error",
     "traceback": [
      "\u001b[1;31m---------------------------------------------------------------------------\u001b[0m",
      "\u001b[1;31mKeyboardInterrupt\u001b[0m                         Traceback (most recent call last)",
      "Cell \u001b[1;32mIn[19], line 30\u001b[0m\n\u001b[0;32m     28\u001b[0m \u001b[38;5;66;03m# # Kopírování souborů pomocí os.system (závislé na OS)\u001b[39;00m\n\u001b[0;32m     29\u001b[0m     cilova_cesta \u001b[38;5;241m=\u001b[39m os\u001b[38;5;241m.\u001b[39mpath\u001b[38;5;241m.\u001b[39mjoin(cilova_slozka, obrazek1)\n\u001b[1;32m---> 30\u001b[0m     os\u001b[38;5;241m.\u001b[39msystem(\u001b[38;5;124mf\u001b[39m\u001b[38;5;124m'\u001b[39m\u001b[38;5;124mcopy \u001b[39m\u001b[38;5;124m\"\u001b[39m\u001b[38;5;132;01m{\u001b[39;00mcesta_obrazku\u001b[38;5;132;01m}\u001b[39;00m\u001b[38;5;124m\"\u001b[39m\u001b[38;5;124m \u001b[39m\u001b[38;5;124m\"\u001b[39m\u001b[38;5;132;01m{\u001b[39;00mcilova_cesta\u001b[38;5;132;01m}\u001b[39;00m\u001b[38;5;124m\"\u001b[39m\u001b[38;5;124m'\u001b[39m)\n\u001b[0;32m     32\u001b[0m         \u001b[38;5;66;03m# if os.path.isfile(plna_cesta):  # Ověření, že jde o soubor\u001b[39;00m\n\u001b[0;32m     33\u001b[0m         \u001b[38;5;66;03m#      if os.name == \"nt\":  # Windows\u001b[39;00m\n\u001b[0;32m     34\u001b[0m         \u001b[38;5;66;03m#         os.system(f'copy \"{plna_cesta}\" \"{cilova_cesta}\"')\u001b[39;00m\n\u001b[1;32m   (...)\u001b[0m\n\u001b[0;32m     38\u001b[0m \n\u001b[0;32m     39\u001b[0m \u001b[38;5;28;01melse\u001b[39;00m:\n\u001b[0;32m     40\u001b[0m     seznam_fotek_NOK\u001b[38;5;241m.\u001b[39mappend(cesta_obrazku)\n",
      "\u001b[1;31mKeyboardInterrupt\u001b[0m: "
     ]
    }
   ],
   "source": [
    "for i in range (0,len(fotky_emoce)): \n",
    "    nazev_slozky = fotky_emoce [i]\n",
    "    cesta_k_emocim = (f\"{path}/train/{nazev_slozky}\")\n",
    "\n",
    "    zdrojova_slozka = cesta_k_emocim \n",
    "    cilova_slozka =  (f\"{path}/train_OK/{nazev_slozky}\")\n",
    "    \n",
    "    # Vytvoření cílové složky, pokud neexistuje\n",
    "    os.makedirs(cilova_slozka, exist_ok=True)\n",
    "    \n",
    "     \n",
    "    for obrazek1 in os.listdir(cesta_k_emocim):  \n",
    "        cesta_obrazku = os.path.join(cesta_k_emocim, obrazek1)  \n",
    "        obrazek2 = cv2.imread(cesta_obrazku)  \n",
    "    \n",
    "        if obrazek2 is None:\n",
    "            ## print(f\"Chyba: Obrázek {obrazek1} se nepodařilo načíst.\")\n",
    "            chybny_soubor.append(obrazek1)  # Uložit název souboru, ne None\n",
    "            continue  \n",
    "    \n",
    "        try:\n",
    "            prediction = DeepFace.analyze(obrazek2, actions=['emotion'], enforce_detection=True)  ## TRUE pokud není na obrázku detekován žádný obličej, vyvolá se chyba\n",
    "            emoce = prediction[0]['dominant_emotion']\n",
    "    \n",
    "            if emoce == (nazev_slozky):\n",
    "                seznam_fotek_OK.append(cesta_obrazku)\n",
    "\n",
    "            # # Kopírování souborů pomocí os.system (závislé na OS)\n",
    "                cilova_cesta = os.path.join(cilova_slozka, obrazek1)\n",
    "                os.system(f'copy \"{cesta_obrazku}\" \"{cilova_cesta}\"')\n",
    "                    \n",
    "                    # if os.path.isfile(plna_cesta):  # Ověření, že jde o soubor\n",
    "                    #      if os.name == \"nt\":  # Windows\n",
    "                    #         os.system(f'copy \"{plna_cesta}\" \"{cilova_cesta}\"')\n",
    "                    #      else:  # Linux/macOS\n",
    "                    #         os.system(f'cp \"{plna_cesta}\" \"{cilova_cesta}\"')\n",
    "                    #      print(f\"Zkopírován: {soubor}\")\n",
    "            \n",
    "            else:\n",
    "                seznam_fotek_NOK.append(cesta_obrazku)\n",
    "    \n",
    "        except ValueError as e:\n",
    "            ## print(f\"Chyba: DeepFace nemohl analyzovat {cesta_obrazku} – {e}\")\n",
    "            chybny_soubor.append(cesta_obrazku)  # Uložit problematický soubor\n",
    "        except Exception as e:\n",
    "           ## print(f\"Neočekávaná chyba u {cesta_obrazku}: {e}\")\n",
    "            chybny_soubor.append(cesta_obrazku)  # Uložit problematický soubor"
   ]
  },
  {
   "cell_type": "code",
   "execution_count": 8,
   "id": "c923c379-4cdc-4c1a-adad-73f223cd9a40",
   "metadata": {},
   "outputs": [
    {
     "data": {
      "text/plain": [
       "11302"
      ]
     },
     "execution_count": 8,
     "metadata": {},
     "output_type": "execute_result"
    }
   ],
   "source": [
    "len(seznam_fotek_OK)   "
   ]
  },
  {
   "cell_type": "code",
   "execution_count": 20,
   "id": "f79447d5-5b24-4bda-b288-b805acfeed60",
   "metadata": {},
   "outputs": [
    {
     "data": {
      "text/plain": [
       "4916"
      ]
     },
     "execution_count": 20,
     "metadata": {},
     "output_type": "execute_result"
    }
   ],
   "source": [
    "len(seznam_fotek_NOK)"
   ]
  },
  {
   "cell_type": "code",
   "execution_count": 21,
   "id": "5959cd82-db0a-4561-a170-961eadbc3802",
   "metadata": {},
   "outputs": [
    {
     "data": {
      "text/plain": [
       "10642"
      ]
     },
     "execution_count": 21,
     "metadata": {},
     "output_type": "execute_result"
    }
   ],
   "source": [
    "len(chybny_soubor)"
   ]
  },
  {
   "cell_type": "code",
   "execution_count": 22,
   "id": "149cf370-74fb-44c2-8571-67403a0688ba",
   "metadata": {},
   "outputs": [],
   "source": [
    "## seznam_fotek_NOK"
   ]
  },
  {
   "cell_type": "code",
   "execution_count": 12,
   "id": "ea43c124-98e8-41fa-a750-9854e0dc4800",
   "metadata": {},
   "outputs": [],
   "source": [
    "## chybny_soubor"
   ]
  },
  {
   "cell_type": "code",
   "execution_count": 13,
   "id": "230f820e-af26-4563-881e-8548b24a7f04",
   "metadata": {},
   "outputs": [],
   "source": [
    "##seznam_fotek_OK"
   ]
  },
  {
   "cell_type": "code",
   "execution_count": null,
   "id": "09620ad2-fb57-4573-b4df-34544ca93e4a",
   "metadata": {},
   "outputs": [],
   "source": []
  },
  {
   "cell_type": "code",
   "execution_count": null,
   "id": "410b5963-780d-43ee-8a86-6bf06ff837d2",
   "metadata": {},
   "outputs": [],
   "source": [
    "import os\n",
    "import cv2\n",
    "import shutil\n",
    "from deepface import DeepFace\n",
    "\n",
    "for nazev_slozky in fotky_emoce:\n",
    "    cesta_k_emocim = f\"{path}/train/{nazev_slozky}\"\n",
    "    cilova_slozka = f\"{path}/train_OK_2/{nazev_slozky}\"\n",
    "    \n",
    "    os.makedirs(cilova_slozka, exist_ok=True)  # Vytvoření cílové složky, pokud neexistuje\n",
    "    \n",
    "    for obrazek in os.listdir(cesta_k_emocim):  \n",
    "        cesta_obrazku = os.path.join(cesta_k_emocim, obrazek)\n",
    "        obrazek_data = cv2.imread(cesta_obrazku)\n",
    "    \n",
    "        if obrazek_data is None:\n",
    "            chybny_soubor.append(cesta_obrazku)\n",
    "            continue  \n",
    "    \n",
    "        try:\n",
    "            prediction = DeepFace.analyze(obrazek_data, actions=['emotion'], enforce_detection=True)\n",
    "            emoce = prediction[0]['dominant_emotion']\n",
    "    \n",
    "            if emoce == nazev_slozky:\n",
    "                seznam_fotek_OK.append(cesta_obrazku)\n",
    "                shutil.copy(cesta_obrazku, os.path.join(cilova_slozka, obrazek))  # Kopírování souboru\n",
    "            \n",
    "            else:\n",
    "                seznam_fotek_NOK.append(cesta_obrazku)\n",
    "    \n",
    "        except Exception as e:\n",
    "            chybny_soubor.append(cesta_obrazku)\n",
    "            print(f\"Chyba u {cesta_obrazku}: {e}\")  # Logování chyby"
   ]
  }
 ],
 "metadata": {
  "colab": {
   "provenance": []
  },
  "kernelspec": {
   "display_name": "Python 3 (ipykernel)",
   "language": "python",
   "name": "python3"
  },
  "language_info": {
   "codemirror_mode": {
    "name": "ipython",
    "version": 3
   },
   "file_extension": ".py",
   "mimetype": "text/x-python",
   "name": "python",
   "nbconvert_exporter": "python",
   "pygments_lexer": "ipython3",
   "version": "3.12.7"
  }
 },
 "nbformat": 4,
 "nbformat_minor": 5
}
