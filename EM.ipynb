{
  "cells": [
    {
      "cell_type": "code",
      "execution_count": null,
      "id": "ac6a4ef3-45ae-4425-96e9-f5d1ca3e682c",
      "metadata": {
        "id": "ac6a4ef3-45ae-4425-96e9-f5d1ca3e682c"
      },
      "outputs": [],
      "source": []
    },
    {
      "cell_type": "code",
      "execution_count": 1,
      "id": "a79a2ded-6d7c-439a-bcf1-54d965053321",
      "metadata": {
        "id": "a79a2ded-6d7c-439a-bcf1-54d965053321"
      },
      "outputs": [],
      "source": [
        "import kagglehub\n",
        "import os\n",
        "from PIL import Image\n",
        "import numpy as np\n",
        "from matplotlib import pyplot as plt\n",
        "\n",
        "from sklearn.model_selection import train_test_split\n",
        "from keras.utils import to_categorical\n",
        "\n",
        "from tensorflow.keras.models import Sequential\n",
        "from tensorflow.keras.layers import (\n",
        "    Conv2D,\n",
        "    MaxPooling2D,\n",
        "    Flatten,\n",
        "    Dense,\n",
        "    Input,\n",
        "    Dropout\n",
        ")\n",
        "\n",
        "from keras.callbacks import EarlyStopping, ModelCheckpoint\n",
        "\n",
        "from keras.applications import MobileNetV3Large\n",
        "from keras.layers import GlobalAveragePooling2D\n",
        "from keras.models import Model"
      ]
    },
    {
      "cell_type": "code",
      "execution_count": 2,
      "id": "afb601cd-ab68-4397-8e03-02989a16591c",
      "metadata": {
        "id": "afb601cd-ab68-4397-8e03-02989a16591c"
      },
      "outputs": [],
      "source": [
        "def plot_history(history):\n",
        "  \"\"\"\n",
        "  Funkce na vykreslení dat z objectu history -> vrací ho metoda fit keras modelu\n",
        "  \"\"\"\n",
        "  # plot the Loss curve(s)\n",
        "  plt.figure(figsize=[8,6])\n",
        "\n",
        "  plt.plot(history.history['loss'],'r',linewidth=3.0)\n",
        "  plt.plot(history.history['val_loss'],'b',linewidth=3.0)\n",
        "\n",
        "  plt.legend(['Training loss', 'Validation Loss'],fontsize=18)\n",
        "  plt.xlabel('Epochs ',fontsize=16)\n",
        "  plt.ylabel('Loss',fontsize=16)\n",
        "  plt.title('Loss Curves',fontsize=16)\n",
        "  plt.show()\n",
        "\n",
        "  # plot the Accuracy curve(s)\n",
        "  plt.figure(figsize=[8,6])\n",
        "\n",
        "  plt.plot(history.history['accuracy'], 'r', linewidth=3.0)\n",
        "  plt.plot(history.history['val_accuracy'], 'b',linewidth=3.0)\n",
        "\n",
        "  plt.legend(['Training Accuracy', 'Validation Accuracy'],fontsize=18)\n",
        "  plt.xlabel('Epochs ',fontsize=16)\n",
        "  plt.ylabel('Accuracy',fontsize=16)\n",
        "  plt.title('Accuracy Curves',fontsize=16)\n",
        "  plt.show()"
      ]
    },
    {
      "cell_type": "code",
      "execution_count": 2,
      "id": "dbdd813b-d420-4e1d-9a82-f88db5ddf5a3",
      "metadata": {
        "id": "dbdd813b-d420-4e1d-9a82-f88db5ddf5a3"
      },
      "outputs": [],
      "source": []
    },
    {
      "cell_type": "code",
      "execution_count": 3,
      "id": "e9ddac40-f142-4440-9151-ad35d1d43e85",
      "metadata": {
        "id": "e9ddac40-f142-4440-9151-ad35d1d43e85"
      },
      "outputs": [],
      "source": [
        "# The data consists of 48x48 pixel grayscale images of faces. The faces have been automatically registered so that the face is more or less centred and occupies about the same amount of space in each image.\n",
        "\n",
        "# The task is to categorize each face based on the emotion shown in the facial expression into one of seven categories\n",
        "\n",
        "#(0=Angry, 1=Disgust, 2=Fear, 3=Happy, 4=Sad, 5=Surprise, 6=Neutral).\n",
        "\n",
        "#The training set consists of 28,709 examples and the public test set consists of 3,589 examples."
      ]
    },
    {
      "cell_type": "code",
      "execution_count": 3,
      "id": "d10eb6c0-2aa1-4639-a56f-8a0d492e6130",
      "metadata": {
        "id": "d10eb6c0-2aa1-4639-a56f-8a0d492e6130"
      },
      "outputs": [],
      "source": []
    },
    {
      "cell_type": "markdown",
      "id": "9588e6d8-76da-4b70-b060-dcd8b8d87457",
      "metadata": {
        "id": "9588e6d8-76da-4b70-b060-dcd8b8d87457"
      },
      "source": [
        "## Načtení a preprocessing dat"
      ]
    },
    {
      "cell_type": "code",
      "execution_count": 4,
      "id": "314d4cbf-2f32-41ff-a792-04b61202e18e",
      "metadata": {
        "colab": {
          "base_uri": "https://localhost:8080/"
        },
        "id": "314d4cbf-2f32-41ff-a792-04b61202e18e",
        "outputId": "d115e12a-0c08-4802-8fb4-8d516c8eb2bf"
      },
      "outputs": [
        {
          "output_type": "stream",
          "name": "stdout",
          "text": [
            "Downloading from https://www.kaggle.com/api/v1/datasets/download/msambare/fer2013?dataset_version_number=1...\n"
          ]
        },
        {
          "output_type": "stream",
          "name": "stderr",
          "text": [
            "100%|██████████| 60.3M/60.3M [00:00<00:00, 190MB/s]"
          ]
        },
        {
          "output_type": "stream",
          "name": "stdout",
          "text": [
            "Extracting files...\n"
          ]
        },
        {
          "output_type": "stream",
          "name": "stderr",
          "text": [
            "\n"
          ]
        },
        {
          "output_type": "stream",
          "name": "stdout",
          "text": [
            "Path to dataset files: /root/.cache/kagglehub/datasets/msambare/fer2013/versions/1\n"
          ]
        }
      ],
      "source": [
        "# Stáhnout aktuální verzi datasetu\n",
        "# Pozor -> musíte vytvořit složku .kaggle a do ní vložit svůj kaggle.json soubor s přístupy\n",
        "# návod https://www.kaggle.com/docs/api#authentication\n",
        "\n",
        "path = kagglehub.dataset_download(\"msambare/fer2013\")\n",
        "print(\"Path to dataset files:\", path)"
      ]
    },
    {
      "cell_type": "code",
      "execution_count": 5,
      "id": "127e45c8-9d00-4558-b4dc-91f59b80a304",
      "metadata": {
        "colab": {
          "base_uri": "https://localhost:8080/"
        },
        "id": "127e45c8-9d00-4558-b4dc-91f59b80a304",
        "outputId": "ed040a68-1e20-4231-cb9c-e74132fe4403"
      },
      "outputs": [
        {
          "output_type": "execute_result",
          "data": {
            "text/plain": [
              "['neutral', 'happy', 'sad', 'surprise', 'disgust', 'angry', 'fear']"
            ]
          },
          "metadata": {},
          "execution_count": 5
        }
      ],
      "source": [
        "# data se stáhly sem -> ručně jsem hledal, od jaké úrovně složek už jsou data\n",
        "fotky_emoce = os.listdir(f\"{path}/train\")\n",
        "fotky_emoce"
      ]
    },
    {
      "cell_type": "code",
      "execution_count": 6,
      "id": "fbab1075-d8b5-4d3f-87c5-85bd5d15baf2",
      "metadata": {
        "id": "fbab1075-d8b5-4d3f-87c5-85bd5d15baf2"
      },
      "outputs": [],
      "source": [
        "# potřebuji načíst fotky, k fotkám labely a uložit si, jaký label patří k jaké figurce\n",
        "X = []\n",
        "y = []\n",
        "encoding = {}\n",
        "# pro každou složku s figurkami\n",
        "for index, emoce in enumerate(fotky_emoce):\n",
        "  # uložíme si přiřazení číel k labelům y\n",
        "  encoding[index] = emoce\n",
        "  # složka s fotkami kontrétních emoci\n",
        "  folder_path = os.path.join(f\"{path}/train\", emoce)\n",
        "\n",
        "  # sem načteme fotky konkrétních emoci\n",
        "  image_list = []\n",
        "  # pro každý soubor ze složky\n",
        "  for filename in os.listdir(folder_path):\n",
        "    # pokud se jedná o .jpg\n",
        "    if filename.endswith(\".jpg\"):\n",
        "        # cesta ke kokrétnímu souboru\n",
        "        img_path = os.path.join(folder_path, filename)\n",
        "        # načti obrázek ze souboru\n",
        "        img = Image.open(img_path)\n",
        "        # Změň rozlišení na 224x224 -> všechny budou mít stejný rozměr\n",
        "        img_resized = img.resize((48, 48))\n",
        "        # převeď na numpy array\n",
        "        img_array = np.array(img_resized)\n",
        "        # přidat do listu k ostatním\n",
        "        image_list.append(img_array)\n",
        "  # do X přidej obrázky z další složky (respektive emoce)\n",
        "  X += image_list\n",
        "  # vytvoříme list s labely (rovnou jako čísla, ať nemusíme pozdějí dělat encoding)\n",
        "  # přiřazení čísel k labelům máme v proměnné 'encoding'\n",
        "  y += [index] * len(image_list)"
      ]
    },
    {
      "cell_type": "code",
      "execution_count": 7,
      "id": "9e3054b0-3e0f-4a1b-b6f4-a2384a1293c0",
      "metadata": {
        "id": "9e3054b0-3e0f-4a1b-b6f4-a2384a1293c0"
      },
      "outputs": [],
      "source": [
        "# převést list s numpy arrayi pro každou emoci na numpy array (tenzor)\n",
        "X = np.stack(X)\n",
        "# převést list y na numpy array\n",
        "y = np.array(y)"
      ]
    },
    {
      "cell_type": "code",
      "execution_count": 8,
      "id": "27cb672c-cbaa-4c32-99be-5da55c932cb1",
      "metadata": {
        "id": "27cb672c-cbaa-4c32-99be-5da55c932cb1"
      },
      "outputs": [],
      "source": [
        "# transfer learning viz. níže -> zvolili jsme Mobilnetv3 jako základ\n",
        "# ten vyžaduje hodnoty pixelů v rozmezí od 0-255 -> neškálovat!\n",
        "X_not_scaled = X.copy()"
      ]
    },
    {
      "cell_type": "code",
      "execution_count": 9,
      "id": "df676443-6413-4635-8f57-c866835d6431",
      "metadata": {
        "id": "df676443-6413-4635-8f57-c866835d6431"
      },
      "outputs": [],
      "source": [
        "# škálujeme pro náš vlastní model\n",
        "X = X / 255"
      ]
    },
    {
      "cell_type": "code",
      "execution_count": 10,
      "id": "83648390-e57e-420c-92ae-ed2cfaa66486",
      "metadata": {
        "id": "83648390-e57e-420c-92ae-ed2cfaa66486"
      },
      "outputs": [],
      "source": [
        "# rozdělení, trénink test\n",
        "X_train, X_test, y_train, y_test = train_test_split(\n",
        "    X, y, test_size=0.2, stratify=y, random_state=42)\n",
        "# one hot encoding y -> musí sedět rozměr s výstupem softmax vrstvy\n",
        "y_train = to_categorical(y_train)\n",
        "y_test = to_categorical(y_test)"
      ]
    },
    {
      "cell_type": "code",
      "execution_count": 11,
      "id": "4a48ac51-9555-438d-8636-424551ce2254",
      "metadata": {
        "id": "4a48ac51-9555-438d-8636-424551ce2254"
      },
      "outputs": [],
      "source": [
        "early = EarlyStopping(\n",
        "    # sleduj přesnost u validačních dat\n",
        "    monitor=\"val_accuracy\",\n",
        "    # pokud se nezlepší alespoň o 0.3%\n",
        "    min_delta=0.003,\n",
        "    # za posledních 10 epoch\n",
        "    patience=10,\n",
        "    # tak to vypni, a načti váhy z epochy, kdy byla nejvyšší přesnost na validačních datech\n",
        "    restore_best_weights=True,\n",
        "    start_from_epoch = 50\n",
        ")\n",
        "\n",
        "save = ModelCheckpoint(\n",
        "    # kam uložit model\n",
        "    filepath=\"best_model.keras\",\n",
        "    # sleduj přesnost u validačních dat\n",
        "    monitor=\"val_accuracy\",\n",
        "    # ulož vždy jen jeden soubor s nejlepší hodnotou metriky\n",
        "    save_best_only=True,\n",
        "    # ulož do jednoho souboru architekturu i váhy\n",
        "    save_weights_only=False,\n",
        "    # po každé epoše\n",
        "    save_freq=\"epoch\"\n",
        ")"
      ]
    },
    {
      "cell_type": "code",
      "execution_count": 11,
      "id": "8360902b-5092-4e1c-bb43-0ee1d5ee7b54",
      "metadata": {
        "id": "8360902b-5092-4e1c-bb43-0ee1d5ee7b54"
      },
      "outputs": [],
      "source": []
    },
    {
      "cell_type": "markdown",
      "id": "fc9a7162-5329-4d97-b5bb-4a70d803c02b",
      "metadata": {
        "id": "fc9a7162-5329-4d97-b5bb-4a70d803c02b"
      },
      "source": [
        "## Vlastní neuronka"
      ]
    },
    {
      "cell_type": "code",
      "execution_count": 17,
      "id": "49e8e684-d16f-4969-931f-23edebc995d3",
      "metadata": {
        "colab": {
          "base_uri": "https://localhost:8080/",
          "height": 497
        },
        "id": "49e8e684-d16f-4969-931f-23edebc995d3",
        "outputId": "c5fa50cc-473f-421a-9c02-af57d8f5338d"
      },
      "outputs": [
        {
          "output_type": "stream",
          "name": "stderr",
          "text": [
            "/usr/local/lib/python3.11/dist-packages/keras/src/layers/convolutional/base_conv.py:107: UserWarning: Do not pass an `input_shape`/`input_dim` argument to a layer. When using Sequential models, prefer using an `Input(shape)` object as the first layer in the model instead.\n",
            "  super().__init__(activity_regularizer=activity_regularizer, **kwargs)\n"
          ]
        },
        {
          "output_type": "display_data",
          "data": {
            "text/plain": [
              "\u001b[1mModel: \"sequential_1\"\u001b[0m\n"
            ],
            "text/html": [
              "<pre style=\"white-space:pre;overflow-x:auto;line-height:normal;font-family:Menlo,'DejaVu Sans Mono',consolas,'Courier New',monospace\"><span style=\"font-weight: bold\">Model: \"sequential_1\"</span>\n",
              "</pre>\n"
            ]
          },
          "metadata": {}
        },
        {
          "output_type": "display_data",
          "data": {
            "text/plain": [
              "┏━━━━━━━━━━━━━━━━━━━━━━━━━━━━━━━━━━━━━━┳━━━━━━━━━━━━━━━━━━━━━━━━━━━━━┳━━━━━━━━━━━━━━━━━┓\n",
              "┃\u001b[1m \u001b[0m\u001b[1mLayer (type)                        \u001b[0m\u001b[1m \u001b[0m┃\u001b[1m \u001b[0m\u001b[1mOutput Shape               \u001b[0m\u001b[1m \u001b[0m┃\u001b[1m \u001b[0m\u001b[1m        Param #\u001b[0m\u001b[1m \u001b[0m┃\n",
              "┡━━━━━━━━━━━━━━━━━━━━━━━━━━━━━━━━━━━━━━╇━━━━━━━━━━━━━━━━━━━━━━━━━━━━━╇━━━━━━━━━━━━━━━━━┩\n",
              "│ conv2d_2 (\u001b[38;5;33mConv2D\u001b[0m)                    │ (\u001b[38;5;45mNone\u001b[0m, \u001b[38;5;34m46\u001b[0m, \u001b[38;5;34m46\u001b[0m, \u001b[38;5;34m16\u001b[0m)          │             \u001b[38;5;34m160\u001b[0m │\n",
              "├──────────────────────────────────────┼─────────────────────────────┼─────────────────┤\n",
              "│ max_pooling2d_2 (\u001b[38;5;33mMaxPooling2D\u001b[0m)       │ (\u001b[38;5;45mNone\u001b[0m, \u001b[38;5;34m23\u001b[0m, \u001b[38;5;34m23\u001b[0m, \u001b[38;5;34m16\u001b[0m)          │               \u001b[38;5;34m0\u001b[0m │\n",
              "├──────────────────────────────────────┼─────────────────────────────┼─────────────────┤\n",
              "│ conv2d_3 (\u001b[38;5;33mConv2D\u001b[0m)                    │ (\u001b[38;5;45mNone\u001b[0m, \u001b[38;5;34m21\u001b[0m, \u001b[38;5;34m21\u001b[0m, \u001b[38;5;34m32\u001b[0m)          │           \u001b[38;5;34m4,640\u001b[0m │\n",
              "├──────────────────────────────────────┼─────────────────────────────┼─────────────────┤\n",
              "│ max_pooling2d_3 (\u001b[38;5;33mMaxPooling2D\u001b[0m)       │ (\u001b[38;5;45mNone\u001b[0m, \u001b[38;5;34m10\u001b[0m, \u001b[38;5;34m10\u001b[0m, \u001b[38;5;34m32\u001b[0m)          │               \u001b[38;5;34m0\u001b[0m │\n",
              "├──────────────────────────────────────┼─────────────────────────────┼─────────────────┤\n",
              "│ conv2d_4 (\u001b[38;5;33mConv2D\u001b[0m)                    │ (\u001b[38;5;45mNone\u001b[0m, \u001b[38;5;34m8\u001b[0m, \u001b[38;5;34m8\u001b[0m, \u001b[38;5;34m64\u001b[0m)            │          \u001b[38;5;34m18,496\u001b[0m │\n",
              "├──────────────────────────────────────┼─────────────────────────────┼─────────────────┤\n",
              "│ max_pooling2d_4 (\u001b[38;5;33mMaxPooling2D\u001b[0m)       │ (\u001b[38;5;45mNone\u001b[0m, \u001b[38;5;34m4\u001b[0m, \u001b[38;5;34m4\u001b[0m, \u001b[38;5;34m64\u001b[0m)            │               \u001b[38;5;34m0\u001b[0m │\n",
              "├──────────────────────────────────────┼─────────────────────────────┼─────────────────┤\n",
              "│ flatten_1 (\u001b[38;5;33mFlatten\u001b[0m)                  │ (\u001b[38;5;45mNone\u001b[0m, \u001b[38;5;34m1024\u001b[0m)                │               \u001b[38;5;34m0\u001b[0m │\n",
              "├──────────────────────────────────────┼─────────────────────────────┼─────────────────┤\n",
              "│ dropout_1 (\u001b[38;5;33mDropout\u001b[0m)                  │ (\u001b[38;5;45mNone\u001b[0m, \u001b[38;5;34m1024\u001b[0m)                │               \u001b[38;5;34m0\u001b[0m │\n",
              "├──────────────────────────────────────┼─────────────────────────────┼─────────────────┤\n",
              "│ dense_1 (\u001b[38;5;33mDense\u001b[0m)                      │ (\u001b[38;5;45mNone\u001b[0m, \u001b[38;5;34m7\u001b[0m)                   │           \u001b[38;5;34m7,175\u001b[0m │\n",
              "└──────────────────────────────────────┴─────────────────────────────┴─────────────────┘\n"
            ],
            "text/html": [
              "<pre style=\"white-space:pre;overflow-x:auto;line-height:normal;font-family:Menlo,'DejaVu Sans Mono',consolas,'Courier New',monospace\">┏━━━━━━━━━━━━━━━━━━━━━━━━━━━━━━━━━━━━━━┳━━━━━━━━━━━━━━━━━━━━━━━━━━━━━┳━━━━━━━━━━━━━━━━━┓\n",
              "┃<span style=\"font-weight: bold\"> Layer (type)                         </span>┃<span style=\"font-weight: bold\"> Output Shape                </span>┃<span style=\"font-weight: bold\">         Param # </span>┃\n",
              "┡━━━━━━━━━━━━━━━━━━━━━━━━━━━━━━━━━━━━━━╇━━━━━━━━━━━━━━━━━━━━━━━━━━━━━╇━━━━━━━━━━━━━━━━━┩\n",
              "│ conv2d_2 (<span style=\"color: #0087ff; text-decoration-color: #0087ff\">Conv2D</span>)                    │ (<span style=\"color: #00d7ff; text-decoration-color: #00d7ff\">None</span>, <span style=\"color: #00af00; text-decoration-color: #00af00\">46</span>, <span style=\"color: #00af00; text-decoration-color: #00af00\">46</span>, <span style=\"color: #00af00; text-decoration-color: #00af00\">16</span>)          │             <span style=\"color: #00af00; text-decoration-color: #00af00\">160</span> │\n",
              "├──────────────────────────────────────┼─────────────────────────────┼─────────────────┤\n",
              "│ max_pooling2d_2 (<span style=\"color: #0087ff; text-decoration-color: #0087ff\">MaxPooling2D</span>)       │ (<span style=\"color: #00d7ff; text-decoration-color: #00d7ff\">None</span>, <span style=\"color: #00af00; text-decoration-color: #00af00\">23</span>, <span style=\"color: #00af00; text-decoration-color: #00af00\">23</span>, <span style=\"color: #00af00; text-decoration-color: #00af00\">16</span>)          │               <span style=\"color: #00af00; text-decoration-color: #00af00\">0</span> │\n",
              "├──────────────────────────────────────┼─────────────────────────────┼─────────────────┤\n",
              "│ conv2d_3 (<span style=\"color: #0087ff; text-decoration-color: #0087ff\">Conv2D</span>)                    │ (<span style=\"color: #00d7ff; text-decoration-color: #00d7ff\">None</span>, <span style=\"color: #00af00; text-decoration-color: #00af00\">21</span>, <span style=\"color: #00af00; text-decoration-color: #00af00\">21</span>, <span style=\"color: #00af00; text-decoration-color: #00af00\">32</span>)          │           <span style=\"color: #00af00; text-decoration-color: #00af00\">4,640</span> │\n",
              "├──────────────────────────────────────┼─────────────────────────────┼─────────────────┤\n",
              "│ max_pooling2d_3 (<span style=\"color: #0087ff; text-decoration-color: #0087ff\">MaxPooling2D</span>)       │ (<span style=\"color: #00d7ff; text-decoration-color: #00d7ff\">None</span>, <span style=\"color: #00af00; text-decoration-color: #00af00\">10</span>, <span style=\"color: #00af00; text-decoration-color: #00af00\">10</span>, <span style=\"color: #00af00; text-decoration-color: #00af00\">32</span>)          │               <span style=\"color: #00af00; text-decoration-color: #00af00\">0</span> │\n",
              "├──────────────────────────────────────┼─────────────────────────────┼─────────────────┤\n",
              "│ conv2d_4 (<span style=\"color: #0087ff; text-decoration-color: #0087ff\">Conv2D</span>)                    │ (<span style=\"color: #00d7ff; text-decoration-color: #00d7ff\">None</span>, <span style=\"color: #00af00; text-decoration-color: #00af00\">8</span>, <span style=\"color: #00af00; text-decoration-color: #00af00\">8</span>, <span style=\"color: #00af00; text-decoration-color: #00af00\">64</span>)            │          <span style=\"color: #00af00; text-decoration-color: #00af00\">18,496</span> │\n",
              "├──────────────────────────────────────┼─────────────────────────────┼─────────────────┤\n",
              "│ max_pooling2d_4 (<span style=\"color: #0087ff; text-decoration-color: #0087ff\">MaxPooling2D</span>)       │ (<span style=\"color: #00d7ff; text-decoration-color: #00d7ff\">None</span>, <span style=\"color: #00af00; text-decoration-color: #00af00\">4</span>, <span style=\"color: #00af00; text-decoration-color: #00af00\">4</span>, <span style=\"color: #00af00; text-decoration-color: #00af00\">64</span>)            │               <span style=\"color: #00af00; text-decoration-color: #00af00\">0</span> │\n",
              "├──────────────────────────────────────┼─────────────────────────────┼─────────────────┤\n",
              "│ flatten_1 (<span style=\"color: #0087ff; text-decoration-color: #0087ff\">Flatten</span>)                  │ (<span style=\"color: #00d7ff; text-decoration-color: #00d7ff\">None</span>, <span style=\"color: #00af00; text-decoration-color: #00af00\">1024</span>)                │               <span style=\"color: #00af00; text-decoration-color: #00af00\">0</span> │\n",
              "├──────────────────────────────────────┼─────────────────────────────┼─────────────────┤\n",
              "│ dropout_1 (<span style=\"color: #0087ff; text-decoration-color: #0087ff\">Dropout</span>)                  │ (<span style=\"color: #00d7ff; text-decoration-color: #00d7ff\">None</span>, <span style=\"color: #00af00; text-decoration-color: #00af00\">1024</span>)                │               <span style=\"color: #00af00; text-decoration-color: #00af00\">0</span> │\n",
              "├──────────────────────────────────────┼─────────────────────────────┼─────────────────┤\n",
              "│ dense_1 (<span style=\"color: #0087ff; text-decoration-color: #0087ff\">Dense</span>)                      │ (<span style=\"color: #00d7ff; text-decoration-color: #00d7ff\">None</span>, <span style=\"color: #00af00; text-decoration-color: #00af00\">7</span>)                   │           <span style=\"color: #00af00; text-decoration-color: #00af00\">7,175</span> │\n",
              "└──────────────────────────────────────┴─────────────────────────────┴─────────────────┘\n",
              "</pre>\n"
            ]
          },
          "metadata": {}
        },
        {
          "output_type": "display_data",
          "data": {
            "text/plain": [
              "\u001b[1m Total params: \u001b[0m\u001b[38;5;34m30,471\u001b[0m (119.03 KB)\n"
            ],
            "text/html": [
              "<pre style=\"white-space:pre;overflow-x:auto;line-height:normal;font-family:Menlo,'DejaVu Sans Mono',consolas,'Courier New',monospace\"><span style=\"font-weight: bold\"> Total params: </span><span style=\"color: #00af00; text-decoration-color: #00af00\">30,471</span> (119.03 KB)\n",
              "</pre>\n"
            ]
          },
          "metadata": {}
        },
        {
          "output_type": "display_data",
          "data": {
            "text/plain": [
              "\u001b[1m Trainable params: \u001b[0m\u001b[38;5;34m30,471\u001b[0m (119.03 KB)\n"
            ],
            "text/html": [
              "<pre style=\"white-space:pre;overflow-x:auto;line-height:normal;font-family:Menlo,'DejaVu Sans Mono',consolas,'Courier New',monospace\"><span style=\"font-weight: bold\"> Trainable params: </span><span style=\"color: #00af00; text-decoration-color: #00af00\">30,471</span> (119.03 KB)\n",
              "</pre>\n"
            ]
          },
          "metadata": {}
        },
        {
          "output_type": "display_data",
          "data": {
            "text/plain": [
              "\u001b[1m Non-trainable params: \u001b[0m\u001b[38;5;34m0\u001b[0m (0.00 B)\n"
            ],
            "text/html": [
              "<pre style=\"white-space:pre;overflow-x:auto;line-height:normal;font-family:Menlo,'DejaVu Sans Mono',consolas,'Courier New',monospace\"><span style=\"font-weight: bold\"> Non-trainable params: </span><span style=\"color: #00af00; text-decoration-color: #00af00\">0</span> (0.00 B)\n",
              "</pre>\n"
            ]
          },
          "metadata": {}
        }
      ],
      "source": [
        "# vytvoříme vlastní model - inspirace VGG16 architektura\n",
        "model = Sequential()\n",
        "# vstup musí sedět na X\n",
        "model.add(Input(shape=(48, 48, 1)))\n",
        "## model.add(Input(shape=X_train.shape[1:]))\n",
        "# blok konvoluce s poolingem\n",
        "model.add(Conv2D(16, (3, 3),input_shape=(48, 48, 1)))\n",
        "model.add(MaxPooling2D())\n",
        "model.add(Conv2D(32, (3, 3)))\n",
        "model.add(MaxPooling2D())\n",
        "model.add(Conv2D(64, (3, 3)))\n",
        "model.add(MaxPooling2D())\n",
        "# převést na vektor\n",
        "model.add(Flatten())\n",
        "# regularizace proti overfittingu\n",
        "model.add(Dropout(0.2))\n",
        "# výstupní vrstva -> multiclass single label -> softmax\n",
        "model.add(Dense(len(fotky_emoce), activation=\"softmax\"))\n",
        "\n",
        "# kompilace\n",
        "model.compile(loss=\"categorical_crossentropy\", metrics=[\"accuracy\"])\n",
        "model.summary()"
      ]
    },
    {
      "cell_type": "code",
      "execution_count": 18,
      "id": "0ecedd6b-92fd-4b12-b945-224469485175",
      "metadata": {
        "colab": {
          "base_uri": "https://localhost:8080/"
        },
        "id": "0ecedd6b-92fd-4b12-b945-224469485175",
        "outputId": "6cb9038f-827b-4e23-e7e4-9405d2276245"
      },
      "outputs": [
        {
          "output_type": "stream",
          "name": "stdout",
          "text": [
            "Epoch 1/1000\n",
            "\u001b[1m718/718\u001b[0m \u001b[32m━━━━━━━━━━━━━━━━━━━━\u001b[0m\u001b[37m\u001b[0m \u001b[1m8s\u001b[0m 8ms/step - accuracy: 0.2611 - loss: 9.2403 - val_accuracy: 0.3494 - val_loss: 1.7130\n",
            "Epoch 2/1000\n",
            "\u001b[1m718/718\u001b[0m \u001b[32m━━━━━━━━━━━━━━━━━━━━\u001b[0m\u001b[37m\u001b[0m \u001b[1m2s\u001b[0m 3ms/step - accuracy: 0.4111 - loss: 1.5762 - val_accuracy: 0.4211 - val_loss: 1.5396\n",
            "Epoch 3/1000\n",
            "\u001b[1m718/718\u001b[0m \u001b[32m━━━━━━━━━━━━━━━━━━━━\u001b[0m\u001b[37m\u001b[0m \u001b[1m3s\u001b[0m 4ms/step - accuracy: 0.4625 - loss: 1.4292 - val_accuracy: 0.3997 - val_loss: 1.5620\n",
            "Epoch 4/1000\n",
            "\u001b[1m718/718\u001b[0m \u001b[32m━━━━━━━━━━━━━━━━━━━━\u001b[0m\u001b[37m\u001b[0m \u001b[1m6s\u001b[0m 5ms/step - accuracy: 0.4899 - loss: 1.3691 - val_accuracy: 0.4427 - val_loss: 1.5284\n",
            "Epoch 5/1000\n",
            "\u001b[1m718/718\u001b[0m \u001b[32m━━━━━━━━━━━━━━━━━━━━\u001b[0m\u001b[37m\u001b[0m \u001b[1m4s\u001b[0m 4ms/step - accuracy: 0.5112 - loss: 1.3139 - val_accuracy: 0.4556 - val_loss: 1.4865\n",
            "Epoch 6/1000\n",
            "\u001b[1m718/718\u001b[0m \u001b[32m━━━━━━━━━━━━━━━━━━━━\u001b[0m\u001b[37m\u001b[0m \u001b[1m3s\u001b[0m 4ms/step - accuracy: 0.5331 - loss: 1.2572 - val_accuracy: 0.4495 - val_loss: 1.5208\n",
            "Epoch 7/1000\n",
            "\u001b[1m718/718\u001b[0m \u001b[32m━━━━━━━━━━━━━━━━━━━━\u001b[0m\u001b[37m\u001b[0m \u001b[1m5s\u001b[0m 4ms/step - accuracy: 0.5562 - loss: 1.2093 - val_accuracy: 0.4523 - val_loss: 1.4788\n",
            "Epoch 8/1000\n",
            "\u001b[1m718/718\u001b[0m \u001b[32m━━━━━━━━━━━━━━━━━━━━\u001b[0m\u001b[37m\u001b[0m \u001b[1m5s\u001b[0m 4ms/step - accuracy: 0.5566 - loss: 1.1948 - val_accuracy: 0.4469 - val_loss: 1.5439\n",
            "Epoch 9/1000\n",
            "\u001b[1m718/718\u001b[0m \u001b[32m━━━━━━━━━━━━━━━━━━━━\u001b[0m\u001b[37m\u001b[0m \u001b[1m3s\u001b[0m 4ms/step - accuracy: 0.5707 - loss: 1.1572 - val_accuracy: 0.4634 - val_loss: 1.5177\n",
            "Epoch 10/1000\n",
            "\u001b[1m718/718\u001b[0m \u001b[32m━━━━━━━━━━━━━━━━━━━━\u001b[0m\u001b[37m\u001b[0m \u001b[1m5s\u001b[0m 4ms/step - accuracy: 0.5749 - loss: 1.1488 - val_accuracy: 0.4413 - val_loss: 1.5888\n",
            "Epoch 11/1000\n",
            "\u001b[1m718/718\u001b[0m \u001b[32m━━━━━━━━━━━━━━━━━━━━\u001b[0m\u001b[37m\u001b[0m \u001b[1m5s\u001b[0m 4ms/step - accuracy: 0.5817 - loss: 1.1267 - val_accuracy: 0.4178 - val_loss: 1.7738\n",
            "Epoch 12/1000\n",
            "\u001b[1m718/718\u001b[0m \u001b[32m━━━━━━━━━━━━━━━━━━━━\u001b[0m\u001b[37m\u001b[0m \u001b[1m6s\u001b[0m 4ms/step - accuracy: 0.5851 - loss: 1.1082 - val_accuracy: 0.4324 - val_loss: 1.6606\n",
            "Epoch 13/1000\n",
            "\u001b[1m718/718\u001b[0m \u001b[32m━━━━━━━━━━━━━━━━━━━━\u001b[0m\u001b[37m\u001b[0m \u001b[1m5s\u001b[0m 4ms/step - accuracy: 0.6051 - loss: 1.0831 - val_accuracy: 0.4276 - val_loss: 1.7824\n",
            "Epoch 14/1000\n",
            "\u001b[1m718/718\u001b[0m \u001b[32m━━━━━━━━━━━━━━━━━━━━\u001b[0m\u001b[37m\u001b[0m \u001b[1m6s\u001b[0m 4ms/step - accuracy: 0.6057 - loss: 1.0746 - val_accuracy: 0.4542 - val_loss: 1.5820\n",
            "Epoch 15/1000\n",
            "\u001b[1m718/718\u001b[0m \u001b[32m━━━━━━━━━━━━━━━━━━━━\u001b[0m\u001b[37m\u001b[0m \u001b[1m5s\u001b[0m 4ms/step - accuracy: 0.6156 - loss: 1.0502 - val_accuracy: 0.4371 - val_loss: 1.7100\n",
            "Epoch 16/1000\n",
            "\u001b[1m718/718\u001b[0m \u001b[32m━━━━━━━━━━━━━━━━━━━━\u001b[0m\u001b[37m\u001b[0m \u001b[1m5s\u001b[0m 4ms/step - accuracy: 0.6158 - loss: 1.0393 - val_accuracy: 0.4591 - val_loss: 1.5829\n",
            "Epoch 17/1000\n",
            "\u001b[1m718/718\u001b[0m \u001b[32m━━━━━━━━━━━━━━━━━━━━\u001b[0m\u001b[37m\u001b[0m \u001b[1m5s\u001b[0m 4ms/step - accuracy: 0.6164 - loss: 1.0334 - val_accuracy: 0.4633 - val_loss: 1.6128\n",
            "Epoch 18/1000\n",
            "\u001b[1m718/718\u001b[0m \u001b[32m━━━━━━━━━━━━━━━━━━━━\u001b[0m\u001b[37m\u001b[0m \u001b[1m5s\u001b[0m 4ms/step - accuracy: 0.6259 - loss: 1.0251 - val_accuracy: 0.4502 - val_loss: 1.6216\n",
            "Epoch 19/1000\n",
            "\u001b[1m718/718\u001b[0m \u001b[32m━━━━━━━━━━━━━━━━━━━━\u001b[0m\u001b[37m\u001b[0m \u001b[1m3s\u001b[0m 4ms/step - accuracy: 0.6244 - loss: 1.0243 - val_accuracy: 0.4671 - val_loss: 1.6222\n",
            "Epoch 20/1000\n",
            "\u001b[1m718/718\u001b[0m \u001b[32m━━━━━━━━━━━━━━━━━━━━\u001b[0m\u001b[37m\u001b[0m \u001b[1m5s\u001b[0m 4ms/step - accuracy: 0.6223 - loss: 1.0130 - val_accuracy: 0.4213 - val_loss: 1.7854\n",
            "Epoch 21/1000\n",
            "\u001b[1m718/718\u001b[0m \u001b[32m━━━━━━━━━━━━━━━━━━━━\u001b[0m\u001b[37m\u001b[0m \u001b[1m3s\u001b[0m 4ms/step - accuracy: 0.6299 - loss: 0.9973 - val_accuracy: 0.4612 - val_loss: 1.7143\n",
            "Epoch 22/1000\n",
            "\u001b[1m718/718\u001b[0m \u001b[32m━━━━━━━━━━━━━━━━━━━━\u001b[0m\u001b[37m\u001b[0m \u001b[1m5s\u001b[0m 4ms/step - accuracy: 0.6359 - loss: 0.9916 - val_accuracy: 0.4683 - val_loss: 1.6355\n",
            "Epoch 23/1000\n",
            "\u001b[1m718/718\u001b[0m \u001b[32m━━━━━━━━━━━━━━━━━━━━\u001b[0m\u001b[37m\u001b[0m \u001b[1m3s\u001b[0m 4ms/step - accuracy: 0.6361 - loss: 0.9936 - val_accuracy: 0.4577 - val_loss: 1.6432\n",
            "Epoch 24/1000\n",
            "\u001b[1m718/718\u001b[0m \u001b[32m━━━━━━━━━━━━━━━━━━━━\u001b[0m\u001b[37m\u001b[0m \u001b[1m5s\u001b[0m 4ms/step - accuracy: 0.6364 - loss: 0.9941 - val_accuracy: 0.4511 - val_loss: 1.7412\n",
            "Epoch 25/1000\n",
            "\u001b[1m718/718\u001b[0m \u001b[32m━━━━━━━━━━━━━━━━━━━━\u001b[0m\u001b[37m\u001b[0m \u001b[1m3s\u001b[0m 4ms/step - accuracy: 0.6424 - loss: 0.9772 - val_accuracy: 0.4613 - val_loss: 1.6493\n",
            "Epoch 26/1000\n",
            "\u001b[1m718/718\u001b[0m \u001b[32m━━━━━━━━━━━━━━━━━━━━\u001b[0m\u001b[37m\u001b[0m \u001b[1m3s\u001b[0m 4ms/step - accuracy: 0.6434 - loss: 0.9676 - val_accuracy: 0.4730 - val_loss: 1.6866\n",
            "Epoch 27/1000\n",
            "\u001b[1m718/718\u001b[0m \u001b[32m━━━━━━━━━━━━━━━━━━━━\u001b[0m\u001b[37m\u001b[0m \u001b[1m3s\u001b[0m 4ms/step - accuracy: 0.6444 - loss: 0.9773 - val_accuracy: 0.4568 - val_loss: 1.7357\n",
            "Epoch 28/1000\n",
            "\u001b[1m718/718\u001b[0m \u001b[32m━━━━━━━━━━━━━━━━━━━━\u001b[0m\u001b[37m\u001b[0m \u001b[1m5s\u001b[0m 4ms/step - accuracy: 0.6478 - loss: 0.9672 - val_accuracy: 0.4495 - val_loss: 1.7091\n",
            "Epoch 29/1000\n",
            "\u001b[1m718/718\u001b[0m \u001b[32m━━━━━━━━━━━━━━━━━━━━\u001b[0m\u001b[37m\u001b[0m \u001b[1m5s\u001b[0m 4ms/step - accuracy: 0.6488 - loss: 0.9559 - val_accuracy: 0.4535 - val_loss: 1.8330\n",
            "Epoch 30/1000\n",
            "\u001b[1m718/718\u001b[0m \u001b[32m━━━━━━━━━━━━━━━━━━━━\u001b[0m\u001b[37m\u001b[0m \u001b[1m5s\u001b[0m 4ms/step - accuracy: 0.6617 - loss: 0.9443 - val_accuracy: 0.4634 - val_loss: 1.7072\n",
            "Epoch 31/1000\n",
            "\u001b[1m718/718\u001b[0m \u001b[32m━━━━━━━━━━━━━━━━━━━━\u001b[0m\u001b[37m\u001b[0m \u001b[1m5s\u001b[0m 4ms/step - accuracy: 0.6497 - loss: 0.9633 - val_accuracy: 0.4439 - val_loss: 1.8530\n",
            "Epoch 32/1000\n",
            "\u001b[1m718/718\u001b[0m \u001b[32m━━━━━━━━━━━━━━━━━━━━\u001b[0m\u001b[37m\u001b[0m \u001b[1m5s\u001b[0m 4ms/step - accuracy: 0.6567 - loss: 0.9401 - val_accuracy: 0.4523 - val_loss: 1.7803\n",
            "Epoch 33/1000\n",
            "\u001b[1m718/718\u001b[0m \u001b[32m━━━━━━━━━━━━━━━━━━━━\u001b[0m\u001b[37m\u001b[0m \u001b[1m3s\u001b[0m 4ms/step - accuracy: 0.6547 - loss: 0.9478 - val_accuracy: 0.4582 - val_loss: 1.7448\n",
            "Epoch 34/1000\n",
            "\u001b[1m718/718\u001b[0m \u001b[32m━━━━━━━━━━━━━━━━━━━━\u001b[0m\u001b[37m\u001b[0m \u001b[1m3s\u001b[0m 4ms/step - accuracy: 0.6590 - loss: 0.9342 - val_accuracy: 0.4486 - val_loss: 1.7628\n",
            "Epoch 35/1000\n",
            "\u001b[1m718/718\u001b[0m \u001b[32m━━━━━━━━━━━━━━━━━━━━\u001b[0m\u001b[37m\u001b[0m \u001b[1m5s\u001b[0m 4ms/step - accuracy: 0.6602 - loss: 0.9339 - val_accuracy: 0.4631 - val_loss: 1.7197\n",
            "Epoch 36/1000\n",
            "\u001b[1m718/718\u001b[0m \u001b[32m━━━━━━━━━━━━━━━━━━━━\u001b[0m\u001b[37m\u001b[0m \u001b[1m6s\u001b[0m 4ms/step - accuracy: 0.6596 - loss: 0.9299 - val_accuracy: 0.4620 - val_loss: 1.7691\n",
            "Epoch 37/1000\n",
            "\u001b[1m718/718\u001b[0m \u001b[32m━━━━━━━━━━━━━━━━━━━━\u001b[0m\u001b[37m\u001b[0m \u001b[1m5s\u001b[0m 4ms/step - accuracy: 0.6595 - loss: 0.9337 - val_accuracy: 0.4626 - val_loss: 1.7979\n",
            "Epoch 38/1000\n",
            "\u001b[1m718/718\u001b[0m \u001b[32m━━━━━━━━━━━━━━━━━━━━\u001b[0m\u001b[37m\u001b[0m \u001b[1m5s\u001b[0m 4ms/step - accuracy: 0.6537 - loss: 0.9388 - val_accuracy: 0.4584 - val_loss: 1.7661\n",
            "Epoch 39/1000\n",
            "\u001b[1m718/718\u001b[0m \u001b[32m━━━━━━━━━━━━━━━━━━━━\u001b[0m\u001b[37m\u001b[0m \u001b[1m3s\u001b[0m 5ms/step - accuracy: 0.6617 - loss: 0.9177 - val_accuracy: 0.4624 - val_loss: 1.7543\n",
            "Epoch 40/1000\n",
            "\u001b[1m718/718\u001b[0m \u001b[32m━━━━━━━━━━━━━━━━━━━━\u001b[0m\u001b[37m\u001b[0m \u001b[1m4s\u001b[0m 4ms/step - accuracy: 0.6661 - loss: 0.9142 - val_accuracy: 0.4385 - val_loss: 1.9611\n",
            "Epoch 41/1000\n",
            "\u001b[1m718/718\u001b[0m \u001b[32m━━━━━━━━━━━━━━━━━━━━\u001b[0m\u001b[37m\u001b[0m \u001b[1m3s\u001b[0m 4ms/step - accuracy: 0.6669 - loss: 0.9224 - val_accuracy: 0.4552 - val_loss: 1.8173\n",
            "Epoch 42/1000\n",
            "\u001b[1m718/718\u001b[0m \u001b[32m━━━━━━━━━━━━━━━━━━━━\u001b[0m\u001b[37m\u001b[0m \u001b[1m3s\u001b[0m 4ms/step - accuracy: 0.6695 - loss: 0.9005 - val_accuracy: 0.4554 - val_loss: 1.8652\n",
            "Epoch 43/1000\n",
            "\u001b[1m718/718\u001b[0m \u001b[32m━━━━━━━━━━━━━━━━━━━━\u001b[0m\u001b[37m\u001b[0m \u001b[1m5s\u001b[0m 4ms/step - accuracy: 0.6697 - loss: 0.9020 - val_accuracy: 0.4591 - val_loss: 1.7939\n",
            "Epoch 44/1000\n",
            "\u001b[1m718/718\u001b[0m \u001b[32m━━━━━━━━━━━━━━━━━━━━\u001b[0m\u001b[37m\u001b[0m \u001b[1m5s\u001b[0m 4ms/step - accuracy: 0.6671 - loss: 0.9054 - val_accuracy: 0.4382 - val_loss: 1.8232\n",
            "Epoch 45/1000\n",
            "\u001b[1m718/718\u001b[0m \u001b[32m━━━━━━━━━━━━━━━━━━━━\u001b[0m\u001b[37m\u001b[0m \u001b[1m3s\u001b[0m 4ms/step - accuracy: 0.6709 - loss: 0.9055 - val_accuracy: 0.4596 - val_loss: 1.8686\n",
            "Epoch 46/1000\n",
            "\u001b[1m718/718\u001b[0m \u001b[32m━━━━━━━━━━━━━━━━━━━━\u001b[0m\u001b[37m\u001b[0m \u001b[1m5s\u001b[0m 4ms/step - accuracy: 0.6635 - loss: 0.9176 - val_accuracy: 0.4549 - val_loss: 1.8379\n",
            "Epoch 47/1000\n",
            "\u001b[1m718/718\u001b[0m \u001b[32m━━━━━━━━━━━━━━━━━━━━\u001b[0m\u001b[37m\u001b[0m \u001b[1m3s\u001b[0m 4ms/step - accuracy: 0.6686 - loss: 0.9106 - val_accuracy: 0.4375 - val_loss: 1.8543\n",
            "Epoch 48/1000\n",
            "\u001b[1m718/718\u001b[0m \u001b[32m━━━━━━━━━━━━━━━━━━━━\u001b[0m\u001b[37m\u001b[0m \u001b[1m3s\u001b[0m 4ms/step - accuracy: 0.6723 - loss: 0.9093 - val_accuracy: 0.4342 - val_loss: 1.8458\n",
            "Epoch 49/1000\n",
            "\u001b[1m718/718\u001b[0m \u001b[32m━━━━━━━━━━━━━━━━━━━━\u001b[0m\u001b[37m\u001b[0m \u001b[1m5s\u001b[0m 4ms/step - accuracy: 0.6750 - loss: 0.8942 - val_accuracy: 0.4453 - val_loss: 1.8517\n",
            "Epoch 50/1000\n",
            "\u001b[1m718/718\u001b[0m \u001b[32m━━━━━━━━━━━━━━━━━━━━\u001b[0m\u001b[37m\u001b[0m \u001b[1m5s\u001b[0m 4ms/step - accuracy: 0.6721 - loss: 0.8932 - val_accuracy: 0.4598 - val_loss: 1.8348\n",
            "Epoch 51/1000\n",
            "\u001b[1m718/718\u001b[0m \u001b[32m━━━━━━━━━━━━━━━━━━━━\u001b[0m\u001b[37m\u001b[0m \u001b[1m3s\u001b[0m 4ms/step - accuracy: 0.6796 - loss: 0.8883 - val_accuracy: 0.4518 - val_loss: 1.8175\n",
            "Epoch 52/1000\n",
            "\u001b[1m718/718\u001b[0m \u001b[32m━━━━━━━━━━━━━━━━━━━━\u001b[0m\u001b[37m\u001b[0m \u001b[1m5s\u001b[0m 4ms/step - accuracy: 0.6727 - loss: 0.8933 - val_accuracy: 0.4408 - val_loss: 1.8580\n",
            "Epoch 53/1000\n",
            "\u001b[1m718/718\u001b[0m \u001b[32m━━━━━━━━━━━━━━━━━━━━\u001b[0m\u001b[37m\u001b[0m \u001b[1m5s\u001b[0m 4ms/step - accuracy: 0.6740 - loss: 0.8928 - val_accuracy: 0.4444 - val_loss: 1.8569\n",
            "Epoch 54/1000\n",
            "\u001b[1m718/718\u001b[0m \u001b[32m━━━━━━━━━━━━━━━━━━━━\u001b[0m\u001b[37m\u001b[0m \u001b[1m5s\u001b[0m 4ms/step - accuracy: 0.6783 - loss: 0.8765 - val_accuracy: 0.4460 - val_loss: 1.9075\n",
            "Epoch 55/1000\n",
            "\u001b[1m718/718\u001b[0m \u001b[32m━━━━━━━━━━━━━━━━━━━━\u001b[0m\u001b[37m\u001b[0m \u001b[1m3s\u001b[0m 4ms/step - accuracy: 0.6824 - loss: 0.8756 - val_accuracy: 0.4458 - val_loss: 1.8754\n",
            "Epoch 56/1000\n",
            "\u001b[1m718/718\u001b[0m \u001b[32m━━━━━━━━━━━━━━━━━━━━\u001b[0m\u001b[37m\u001b[0m \u001b[1m6s\u001b[0m 4ms/step - accuracy: 0.6789 - loss: 0.8903 - val_accuracy: 0.4375 - val_loss: 1.9258\n",
            "Epoch 57/1000\n",
            "\u001b[1m718/718\u001b[0m \u001b[32m━━━━━━━━━━━━━━━━━━━━\u001b[0m\u001b[37m\u001b[0m \u001b[1m3s\u001b[0m 4ms/step - accuracy: 0.6804 - loss: 0.8847 - val_accuracy: 0.4441 - val_loss: 1.9286\n",
            "Epoch 58/1000\n",
            "\u001b[1m718/718\u001b[0m \u001b[32m━━━━━━━━━━━━━━━━━━━━\u001b[0m\u001b[37m\u001b[0m \u001b[1m3s\u001b[0m 4ms/step - accuracy: 0.6803 - loss: 0.8763 - val_accuracy: 0.4530 - val_loss: 1.8819\n",
            "Epoch 59/1000\n",
            "\u001b[1m718/718\u001b[0m \u001b[32m━━━━━━━━━━━━━━━━━━━━\u001b[0m\u001b[37m\u001b[0m \u001b[1m5s\u001b[0m 4ms/step - accuracy: 0.6800 - loss: 0.8775 - val_accuracy: 0.4542 - val_loss: 1.8976\n",
            "Epoch 60/1000\n",
            "\u001b[1m718/718\u001b[0m \u001b[32m━━━━━━━━━━━━━━━━━━━━\u001b[0m\u001b[37m\u001b[0m \u001b[1m5s\u001b[0m 4ms/step - accuracy: 0.6826 - loss: 0.8768 - val_accuracy: 0.4410 - val_loss: 1.8976\n",
            "Epoch 61/1000\n",
            "\u001b[1m718/718\u001b[0m \u001b[32m━━━━━━━━━━━━━━━━━━━━\u001b[0m\u001b[37m\u001b[0m \u001b[1m3s\u001b[0m 4ms/step - accuracy: 0.6829 - loss: 0.8798 - val_accuracy: 0.4383 - val_loss: 1.9884\n"
          ]
        }
      ],
      "source": [
        "history = model.fit(X_train, y_train, epochs=1000, validation_data=(X_test, y_test), batch_size=32, callbacks=[early, save])"
      ]
    },
    {
      "cell_type": "code",
      "execution_count": 14,
      "id": "3e84c5b0-b369-4955-9080-1e72aa8feba4",
      "metadata": {
        "colab": {
          "base_uri": "https://localhost:8080/",
          "height": 1000
        },
        "id": "3e84c5b0-b369-4955-9080-1e72aa8feba4",
        "outputId": "e9107e05-d7e7-48e2-b41b-1f1c037e473d"
      },
      "outputs": [
        {
          "output_type": "display_data",
          "data": {
            "text/plain": [
              "<Figure size 800x600 with 1 Axes>"
            ],
            "image/png": "[encoded data removed]"
          },
          "metadata": {}
        },
        {
          "output_type": "display_data",
          "data": {
            "text/plain": [
              "<Figure size 800x600 with 1 Axes>"
            ],
            "image/png": "[encoded data removed]"
          },
          "metadata": {}
        }
      ],
      "source": [
        "plot_history(history)"
      ]
    },
    {
      "cell_type": "markdown",
      "id": "6db9fb9e-fb30-4f11-8864-352990243fbc",
      "metadata": {
        "id": "6db9fb9e-fb30-4f11-8864-352990243fbc"
      },
      "source": [
        "## Transfer learning"
      ]
    },
    {
      "cell_type": "code",
      "execution_count": 15,
      "id": "cad87394-d663-461c-a82b-7798242b225a",
      "metadata": {
        "id": "cad87394-d663-461c-a82b-7798242b225a"
      },
      "outputs": [],
      "source": [
        "# vytvořit trénovací sadu z nenaškálovaných dat\n",
        "X_train, X_test, y_train, y_test = train_test_split(\n",
        "    X_not_scaled, y, test_size=0.2, stratify=y, random_state=42)\n",
        "\n",
        "y_train = to_categorical(y_train)\n",
        "y_test = to_categorical(y_test)"
      ]
    },
    {
      "cell_type": "code",
      "execution_count": 16,
      "id": "567a4003-6a2e-4329-ad81-286cbd719390",
      "metadata": {
        "colab": {
          "base_uri": "https://localhost:8080/",
          "height": 480
        },
        "id": "567a4003-6a2e-4329-ad81-286cbd719390",
        "outputId": "ec8fd819-2df8-4f74-8b00-695902676622"
      },
      "outputs": [
        {
          "output_type": "stream",
          "name": "stderr",
          "text": [
            "/usr/local/lib/python3.11/dist-packages/keras/src/applications/mobilenet_v3.py:517: UserWarning: `input_shape` is undefined or non-square, or `rows` is not 224. Weights for input shape (224, 224) will be loaded as the default.\n",
            "  return MobileNetV3(\n"
          ]
        },
        {
          "output_type": "stream",
          "name": "stdout",
          "text": [
            "Downloading data from https://storage.googleapis.com/tensorflow/keras-applications/mobilenet_v3/weights_mobilenet_v3_large_224_1.0_float_no_top_v2.h5\n",
            "\u001b[1m12683000/12683000\u001b[0m \u001b[32m━━━━━━━━━━━━━━━━━━━━\u001b[0m\u001b[37m\u001b[0m \u001b[1m0s\u001b[0m 0us/step\n"
          ]
        },
        {
          "output_type": "error",
          "ename": "ValueError",
          "evalue": "Shape mismatch in layer #0 (named conv)for weight conv/kernel. Weight expects shape (3, 3, 1, 16). Received saved weight with shape (3, 3, 3, 16)",
          "traceback": [
            "\u001b[0;31m---------------------------------------------------------------------------\u001b[0m",
            "\u001b[0;31mValueError\u001b[0m                                Traceback (most recent call last)",
            "\u001b[0;32m<ipython-input-16-a17769c82708>\u001b[0m in \u001b[0;36m<cell line: 0>\u001b[0;34m()\u001b[0m\n\u001b[1;32m      1\u001b[0m \u001b[0;31m# načtení konvoluční featur extraction části MobilnetV3\u001b[0m\u001b[0;34m\u001b[0m\u001b[0;34m\u001b[0m\u001b[0m\n\u001b[0;32m----> 2\u001b[0;31m base_model = MobileNetV3Large(\n\u001b[0m\u001b[1;32m      3\u001b[0m     \u001b[0minput_shape\u001b[0m\u001b[0;34m=\u001b[0m\u001b[0;34m(\u001b[0m\u001b[0;36m48\u001b[0m\u001b[0;34m,\u001b[0m \u001b[0;36m48\u001b[0m\u001b[0;34m,\u001b[0m \u001b[0;36m1\u001b[0m\u001b[0;34m)\u001b[0m\u001b[0;34m,\u001b[0m\u001b[0;34m\u001b[0m\u001b[0;34m\u001b[0m\u001b[0m\n\u001b[1;32m      4\u001b[0m     \u001b[0minclude_top\u001b[0m\u001b[0;34m=\u001b[0m\u001b[0;32mFalse\u001b[0m\u001b[0;34m,\u001b[0m\u001b[0;34m\u001b[0m\u001b[0;34m\u001b[0m\u001b[0m\n\u001b[1;32m      5\u001b[0m     \u001b[0mweights\u001b[0m\u001b[0;34m=\u001b[0m\u001b[0;34m\"imagenet\"\u001b[0m\u001b[0;34m,\u001b[0m\u001b[0;34m\u001b[0m\u001b[0;34m\u001b[0m\u001b[0m\n",
            "\u001b[0;32m/usr/local/lib/python3.11/dist-packages/keras/src/applications/mobilenet_v3.py\u001b[0m in \u001b[0;36mMobileNetV3Large\u001b[0;34m(input_shape, alpha, minimalistic, include_top, weights, input_tensor, classes, pooling, dropout_rate, classifier_activation, include_preprocessing, name)\u001b[0m\n\u001b[1;32m    515\u001b[0m         \u001b[0;32mreturn\u001b[0m \u001b[0mx\u001b[0m\u001b[0;34m\u001b[0m\u001b[0;34m\u001b[0m\u001b[0m\n\u001b[1;32m    516\u001b[0m \u001b[0;34m\u001b[0m\u001b[0m\n\u001b[0;32m--> 517\u001b[0;31m     return MobileNetV3(\n\u001b[0m\u001b[1;32m    518\u001b[0m         \u001b[0mstack_fn\u001b[0m\u001b[0;34m,\u001b[0m\u001b[0;34m\u001b[0m\u001b[0;34m\u001b[0m\u001b[0m\n\u001b[1;32m    519\u001b[0m         \u001b[0;36m1280\u001b[0m\u001b[0;34m,\u001b[0m\u001b[0;34m\u001b[0m\u001b[0;34m\u001b[0m\u001b[0m\n",
            "\u001b[0;32m/usr/local/lib/python3.11/dist-packages/keras/src/applications/mobilenet_v3.py\u001b[0m in \u001b[0;36mMobileNetV3\u001b[0;34m(stack_fn, last_point_ch, input_shape, alpha, model_type, minimalistic, include_top, weights, input_tensor, classes, pooling, dropout_rate, classifier_activation, include_preprocessing, name)\u001b[0m\n\u001b[1;32m    395\u001b[0m             \u001b[0mfile_hash\u001b[0m\u001b[0;34m=\u001b[0m\u001b[0mfile_hash\u001b[0m\u001b[0;34m,\u001b[0m\u001b[0;34m\u001b[0m\u001b[0;34m\u001b[0m\u001b[0m\n\u001b[1;32m    396\u001b[0m         )\n\u001b[0;32m--> 397\u001b[0;31m         \u001b[0mmodel\u001b[0m\u001b[0;34m.\u001b[0m\u001b[0mload_weights\u001b[0m\u001b[0;34m(\u001b[0m\u001b[0mweights_path\u001b[0m\u001b[0;34m)\u001b[0m\u001b[0;34m\u001b[0m\u001b[0;34m\u001b[0m\u001b[0m\n\u001b[0m\u001b[1;32m    398\u001b[0m     \u001b[0;32melif\u001b[0m \u001b[0mweights\u001b[0m \u001b[0;32mis\u001b[0m \u001b[0;32mnot\u001b[0m \u001b[0;32mNone\u001b[0m\u001b[0;34m:\u001b[0m\u001b[0;34m\u001b[0m\u001b[0;34m\u001b[0m\u001b[0m\n\u001b[1;32m    399\u001b[0m         \u001b[0mmodel\u001b[0m\u001b[0;34m.\u001b[0m\u001b[0mload_weights\u001b[0m\u001b[0;34m(\u001b[0m\u001b[0mweights\u001b[0m\u001b[0;34m)\u001b[0m\u001b[0;34m\u001b[0m\u001b[0;34m\u001b[0m\u001b[0m\n",
            "\u001b[0;32m/usr/local/lib/python3.11/dist-packages/keras/src/utils/traceback_utils.py\u001b[0m in \u001b[0;36merror_handler\u001b[0;34m(*args, **kwargs)\u001b[0m\n\u001b[1;32m    120\u001b[0m             \u001b[0;31m# To get the full stack trace, call:\u001b[0m\u001b[0;34m\u001b[0m\u001b[0;34m\u001b[0m\u001b[0m\n\u001b[1;32m    121\u001b[0m             \u001b[0;31m# `keras.config.disable_traceback_filtering()`\u001b[0m\u001b[0;34m\u001b[0m\u001b[0;34m\u001b[0m\u001b[0m\n\u001b[0;32m--> 122\u001b[0;31m             \u001b[0;32mraise\u001b[0m \u001b[0me\u001b[0m\u001b[0;34m.\u001b[0m\u001b[0mwith_traceback\u001b[0m\u001b[0;34m(\u001b[0m\u001b[0mfiltered_tb\u001b[0m\u001b[0;34m)\u001b[0m \u001b[0;32mfrom\u001b[0m \u001b[0;32mNone\u001b[0m\u001b[0;34m\u001b[0m\u001b[0;34m\u001b[0m\u001b[0m\n\u001b[0m\u001b[1;32m    123\u001b[0m         \u001b[0;32mfinally\u001b[0m\u001b[0;34m:\u001b[0m\u001b[0;34m\u001b[0m\u001b[0;34m\u001b[0m\u001b[0m\n\u001b[1;32m    124\u001b[0m             \u001b[0;32mdel\u001b[0m \u001b[0mfiltered_tb\u001b[0m\u001b[0;34m\u001b[0m\u001b[0;34m\u001b[0m\u001b[0m\n",
            "\u001b[0;32m/usr/local/lib/python3.11/dist-packages/keras/src/legacy/saving/legacy_h5_format.py\u001b[0m in \u001b[0;36m_set_weights\u001b[0;34m(instance, symbolic_weights, weight_values, name, skip_mismatch)\u001b[0m\n\u001b[1;32m    438\u001b[0m                 )\n\u001b[1;32m    439\u001b[0m                 \u001b[0;32mcontinue\u001b[0m\u001b[0;34m\u001b[0m\u001b[0;34m\u001b[0m\u001b[0m\n\u001b[0;32m--> 440\u001b[0;31m             raise ValueError(\n\u001b[0m\u001b[1;32m    441\u001b[0m                 \u001b[0;34mf\"Shape mismatch in {name}\"\u001b[0m\u001b[0;34m\u001b[0m\u001b[0;34m\u001b[0m\u001b[0m\n\u001b[1;32m    442\u001b[0m                 \u001b[0;34mf\"for weight {symbolic_weights[i].path}. \"\u001b[0m\u001b[0;34m\u001b[0m\u001b[0;34m\u001b[0m\u001b[0m\n",
            "\u001b[0;31mValueError\u001b[0m: Shape mismatch in layer #0 (named conv)for weight conv/kernel. Weight expects shape (3, 3, 1, 16). Received saved weight with shape (3, 3, 3, 16)"
          ]
        }
      ],
      "source": [
        "# načtení konvoluční featur extraction části MobilnetV3\n",
        "base_model = MobileNetV3Large(\n",
        "    input_shape=(48, 48, 1),\n",
        "    include_top=False,\n",
        "    weights=\"imagenet\",\n",
        ")"
      ]
    },
    {
      "cell_type": "code",
      "execution_count": null,
      "id": "10d1e181-d263-4d76-bddd-8114f40c24f5",
      "metadata": {
        "id": "10d1e181-d263-4d76-bddd-8114f40c24f5"
      },
      "outputs": [],
      "source": [
        "# první MobilnetV3 konvoluční část\n",
        "x = base_model.output\n",
        "# převod na vektor s redukcí dat pomocí poolingu\n",
        "x = GlobalAveragePooling2D()(x)\n",
        "# stejná klasifikační vrstva jako u vlastní neuronky\n",
        "# regularizace\n",
        "x = Dropout(0.2)(x)\n",
        "# softmax vrstva podle úlohy\n",
        "predictions = Dense(len(fotky_emoce), activation=\"softmax\")(x)\n",
        "\n",
        "# spojíme do kupy\n",
        "model = Model(inputs=base_model.input, outputs=predictions)\n",
        "\n",
        "# nepřetrénovávat MobilnetV3 vrstvy -> učíme pouze klasifikátor\n",
        "for layer in base_model.layers:\n",
        "    layer.trainable = False\n",
        "\n",
        "# kompilace stejná jako u vlastní neuronky\n",
        "model.compile(loss=\"categorical_crossentropy\", metrics=[\"accuracy\"])\n",
        "\n",
        "model.summary()"
      ]
    },
    {
      "cell_type": "code",
      "execution_count": null,
      "id": "06f31286-c147-41eb-a588-fa4d682a4d17",
      "metadata": {
        "id": "06f31286-c147-41eb-a588-fa4d682a4d17"
      },
      "outputs": [],
      "source": [
        "history = model.fit(X_train, y_train, epochs=1000, validation_data=(X_test, y_test), batch_size=32, callbacks=[early, save])"
      ]
    },
    {
      "cell_type": "code",
      "execution_count": null,
      "id": "535e7c5b-1129-45d9-a2ee-a640b2147146",
      "metadata": {
        "id": "535e7c5b-1129-45d9-a2ee-a640b2147146"
      },
      "outputs": [],
      "source": [
        "plot_history(history)"
      ]
    },
    {
      "cell_type": "code",
      "execution_count": null,
      "id": "30f53a4a-2089-4c62-b6a3-fc77f2e8232a",
      "metadata": {
        "id": "30f53a4a-2089-4c62-b6a3-fc77f2e8232a"
      },
      "outputs": [],
      "source": []
    }
  ],
  "metadata": {
    "kernelspec": {
      "display_name": "Python 3",
      "name": "python3"
    },
    "language_info": {
      "codemirror_mode": {
        "name": "ipython",
        "version": 3
      },
      "file_extension": ".py",
      "mimetype": "text/x-python",
      "name": "python",
      "nbconvert_exporter": "python",
      "pygments_lexer": "ipython3",
      "version": "3.12.7"
    },
    "colab": {
      "provenance": [],
      "gpuType": "T4"
    },
    "accelerator": "GPU"
  },
  "nbformat": 4,
  "nbformat_minor": 5
}